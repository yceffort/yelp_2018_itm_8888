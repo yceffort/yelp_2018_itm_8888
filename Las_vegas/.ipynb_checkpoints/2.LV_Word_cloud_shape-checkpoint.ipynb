{
 "cells": [
  {
   "cell_type": "code",
   "execution_count": 1,
   "metadata": {
    "collapsed": true
   },
   "outputs": [],
   "source": [
    "import graphlab as gl\n",
    "import numpy as np\n",
    "import pandas as pd\n",
    "import matplotlib.pyplot as plt\n",
    "from PIL import Image\n",
    "from wordcloud import WordCloud, STOPWORDS, ImageColorGenerator"
   ]
  },
  {
   "cell_type": "code",
   "execution_count": 2,
   "metadata": {
    "collapsed": false
   },
   "outputs": [
    {
     "name": "stderr",
     "output_type": "stream",
     "text": [
      "[INFO] graphlab.cython.cy_server: GraphLab Create v2.1 started. Logging: C:\\Users\\USER\\AppData\\Local\\Temp\\graphlab_server_1543858347.log.0\n"
     ]
    },
    {
     "name": "stdout",
     "output_type": "stream",
     "text": [
      "This non-commercial license of GraphLab Create for academic use is assigned to lchlch88@kaist.ac.kr and will expire on September 07, 2019.\n"
     ]
    },
    {
     "data": {
      "text/plain": [
       "<wordcloud.wordcloud.WordCloud at 0x292fa668>"
      ]
     },
     "execution_count": 2,
     "metadata": {},
     "output_type": "execute_result"
    }
   ],
   "source": [
    "#데이터 불러오기\n",
    "data = gl.SFrame('./Las_Vegas/reviews')\n",
    "\n",
    "#텍스트 데이터 불러오기 및 str 전환\n",
    "text_data = data['text'][0:]\n",
    "str_text = str((text_data))\n",
    "\n",
    "#stopword 적용 및 stopword 추가 \n",
    "stopwords = set(STOPWORDS)\n",
    "stopwords.update([\"Name\", \":\", \"text\", \"dtype\", \"object\"])\n",
    "\n",
    "#햄버거 이미지 적용\n",
    "shape = np.array(Image.open('burger.png'))\n",
    "image_colors = ImageColorGenerator(shape)\n",
    "\n",
    "#wordcloud 생성\n",
    "wordcloud = WordCloud(width = 500, height = 400,stopwords = stopwords, mask=shape, background_color=\"black\").generate(str_text)\n",
    "\n",
    "#추가 디테일 적용\n",
    "plt.figure(figsize=(50,40), facecolor='k')\n",
    "plt.imshow(wordcloud.recolor(color_func=image_colors), interpolation='bilinear')\n",
    "plt.axis(\"off\")\n",
    "plt.tight_layout(pad=0)\n",
    "plt.show()\n",
    "\n",
    "#파일 저장\n",
    "wordcloud.to_file(\"wordcloud_burger.jpg\")"
   ]
  },
  {
   "cell_type": "code",
   "execution_count": null,
   "metadata": {
    "collapsed": true
   },
   "outputs": [],
   "source": []
  }
 ],
 "metadata": {
  "kernelspec": {
   "display_name": "Python 2",
   "language": "python",
   "name": "python2"
  },
  "language_info": {
   "codemirror_mode": {
    "name": "ipython",
    "version": 2
   },
   "file_extension": ".py",
   "mimetype": "text/x-python",
   "name": "python",
   "nbconvert_exporter": "python",
   "pygments_lexer": "ipython2",
   "version": "2.7.13"
  }
 },
 "nbformat": 4,
 "nbformat_minor": 0
}
