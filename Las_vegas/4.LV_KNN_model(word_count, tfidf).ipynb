{
 "cells": [
  {
   "cell_type": "code",
   "execution_count": 1,
   "metadata": {
    "collapsed": false
   },
   "outputs": [
    {
     "name": "stdout",
     "output_type": "stream",
     "text": [
      "This non-commercial license of GraphLab Create for academic use is assigned to lchlch88@kaist.ac.kr and will expire on September 07, 2019.\n"
     ]
    },
    {
     "name": "stderr",
     "output_type": "stream",
     "text": [
      "[INFO] graphlab.cython.cy_server: GraphLab Create v2.1 started. Logging: C:\\Users\\USER\\AppData\\Local\\Temp\\graphlab_server_1543859865.log.0\n"
     ]
    },
    {
     "data": {
      "text/html": [
       "<div style=\"max-height:1000px;max-width:1500px;overflow:auto;\"><table frame=\"box\" rules=\"cols\">\n",
       "    <tr>\n",
       "        <th style=\"padding-left: 1em; padding-right: 1em; text-align: center\">business_id</th>\n",
       "        <th style=\"padding-left: 1em; padding-right: 1em; text-align: center\">cool</th>\n",
       "        <th style=\"padding-left: 1em; padding-right: 1em; text-align: center\">date</th>\n",
       "        <th style=\"padding-left: 1em; padding-right: 1em; text-align: center\">funny</th>\n",
       "        <th style=\"padding-left: 1em; padding-right: 1em; text-align: center\">review_id</th>\n",
       "        <th style=\"padding-left: 1em; padding-right: 1em; text-align: center\">stars</th>\n",
       "        <th style=\"padding-left: 1em; padding-right: 1em; text-align: center\">text</th>\n",
       "        <th style=\"padding-left: 1em; padding-right: 1em; text-align: center\">useful</th>\n",
       "    </tr>\n",
       "    <tr>\n",
       "        <td style=\"padding-left: 1em; padding-right: 1em; text-align: center; vertical-align: top\">iCQpiavjjPzJ5_3gPD5Ebg</td>\n",
       "        <td style=\"padding-left: 1em; padding-right: 1em; text-align: center; vertical-align: top\">0</td>\n",
       "        <td style=\"padding-left: 1em; padding-right: 1em; text-align: center; vertical-align: top\">2011-02-25</td>\n",
       "        <td style=\"padding-left: 1em; padding-right: 1em; text-align: center; vertical-align: top\">0</td>\n",
       "        <td style=\"padding-left: 1em; padding-right: 1em; text-align: center; vertical-align: top\">x7mDIiDB3jEiPGPHOmDzyw</td>\n",
       "        <td style=\"padding-left: 1em; padding-right: 1em; text-align: center; vertical-align: top\">2</td>\n",
       "        <td style=\"padding-left: 1em; padding-right: 1em; text-align: center; vertical-align: top\">The pizza was okay. Not<br>the best I've had. I ...</td>\n",
       "        <td style=\"padding-left: 1em; padding-right: 1em; text-align: center; vertical-align: top\">0</td>\n",
       "    </tr>\n",
       "    <tr>\n",
       "        <td style=\"padding-left: 1em; padding-right: 1em; text-align: center; vertical-align: top\">pomGBqfbxcqPv14c3XH-ZQ</td>\n",
       "        <td style=\"padding-left: 1em; padding-right: 1em; text-align: center; vertical-align: top\">0</td>\n",
       "        <td style=\"padding-left: 1em; padding-right: 1em; text-align: center; vertical-align: top\">2012-11-13</td>\n",
       "        <td style=\"padding-left: 1em; padding-right: 1em; text-align: center; vertical-align: top\">0</td>\n",
       "        <td style=\"padding-left: 1em; padding-right: 1em; text-align: center; vertical-align: top\">dDl8zu1vWPdKGihJrwQbpw</td>\n",
       "        <td style=\"padding-left: 1em; padding-right: 1em; text-align: center; vertical-align: top\">5</td>\n",
       "        <td style=\"padding-left: 1em; padding-right: 1em; text-align: center; vertical-align: top\">I love this place! My<br>fiance And I go here ...</td>\n",
       "        <td style=\"padding-left: 1em; padding-right: 1em; text-align: center; vertical-align: top\">0</td>\n",
       "    </tr>\n",
       "    <tr>\n",
       "        <td style=\"padding-left: 1em; padding-right: 1em; text-align: center; vertical-align: top\">jtQARsP6P-LbkyjbO1qNGg</td>\n",
       "        <td style=\"padding-left: 1em; padding-right: 1em; text-align: center; vertical-align: top\">1</td>\n",
       "        <td style=\"padding-left: 1em; padding-right: 1em; text-align: center; vertical-align: top\">2014-10-23</td>\n",
       "        <td style=\"padding-left: 1em; padding-right: 1em; text-align: center; vertical-align: top\">1</td>\n",
       "        <td style=\"padding-left: 1em; padding-right: 1em; text-align: center; vertical-align: top\">LZp4UX5zK3e-c5ZGSeo3kA</td>\n",
       "        <td style=\"padding-left: 1em; padding-right: 1em; text-align: center; vertical-align: top\">1</td>\n",
       "        <td style=\"padding-left: 1em; padding-right: 1em; text-align: center; vertical-align: top\">Terrible. Dry corn bread.<br>Rib tips were all fat ...</td>\n",
       "        <td style=\"padding-left: 1em; padding-right: 1em; text-align: center; vertical-align: top\">3</td>\n",
       "    </tr>\n",
       "    <tr>\n",
       "        <td style=\"padding-left: 1em; padding-right: 1em; text-align: center; vertical-align: top\">elqbBhBfElMNSrjFqW3now</td>\n",
       "        <td style=\"padding-left: 1em; padding-right: 1em; text-align: center; vertical-align: top\">0</td>\n",
       "        <td style=\"padding-left: 1em; padding-right: 1em; text-align: center; vertical-align: top\">2011-02-25</td>\n",
       "        <td style=\"padding-left: 1em; padding-right: 1em; text-align: center; vertical-align: top\">0</td>\n",
       "        <td style=\"padding-left: 1em; padding-right: 1em; text-align: center; vertical-align: top\">Er4NBWCmCD4nM8_p1GRdow</td>\n",
       "        <td style=\"padding-left: 1em; padding-right: 1em; text-align: center; vertical-align: top\">2</td>\n",
       "        <td style=\"padding-left: 1em; padding-right: 1em; text-align: center; vertical-align: top\">Back in 2005-2007 this<br>place was my FAVORITE ...</td>\n",
       "        <td style=\"padding-left: 1em; padding-right: 1em; text-align: center; vertical-align: top\">2</td>\n",
       "    </tr>\n",
       "    <tr>\n",
       "        <td style=\"padding-left: 1em; padding-right: 1em; text-align: center; vertical-align: top\">zdE82PiD6wquvjYLyhOJNA</td>\n",
       "        <td style=\"padding-left: 1em; padding-right: 1em; text-align: center; vertical-align: top\">0</td>\n",
       "        <td style=\"padding-left: 1em; padding-right: 1em; text-align: center; vertical-align: top\">2012-04-18</td>\n",
       "        <td style=\"padding-left: 1em; padding-right: 1em; text-align: center; vertical-align: top\">1</td>\n",
       "        <td style=\"padding-left: 1em; padding-right: 1em; text-align: center; vertical-align: top\">kUZWBVZvhWuC8TWUg5AYyA</td>\n",
       "        <td style=\"padding-left: 1em; padding-right: 1em; text-align: center; vertical-align: top\">5</td>\n",
       "        <td style=\"padding-left: 1em; padding-right: 1em; text-align: center; vertical-align: top\">AMAZING!!!\\n\\n I was<br>referred here by a fr ...</td>\n",
       "        <td style=\"padding-left: 1em; padding-right: 1em; text-align: center; vertical-align: top\">0</td>\n",
       "    </tr>\n",
       "    <tr>\n",
       "        <td style=\"padding-left: 1em; padding-right: 1em; text-align: center; vertical-align: top\">EAwh1OmG6t6p3nRaZOW_AA</td>\n",
       "        <td style=\"padding-left: 1em; padding-right: 1em; text-align: center; vertical-align: top\">0</td>\n",
       "        <td style=\"padding-left: 1em; padding-right: 1em; text-align: center; vertical-align: top\">2011-02-25</td>\n",
       "        <td style=\"padding-left: 1em; padding-right: 1em; text-align: center; vertical-align: top\">0</td>\n",
       "        <td style=\"padding-left: 1em; padding-right: 1em; text-align: center; vertical-align: top\">wcqt0III88LEcm19IxFFyA</td>\n",
       "        <td style=\"padding-left: 1em; padding-right: 1em; text-align: center; vertical-align: top\">4</td>\n",
       "        <td style=\"padding-left: 1em; padding-right: 1em; text-align: center; vertical-align: top\">Ribs = amazing\\n2 hour<br>wait time= not so ...</td>\n",
       "        <td style=\"padding-left: 1em; padding-right: 1em; text-align: center; vertical-align: top\">0</td>\n",
       "    </tr>\n",
       "    <tr>\n",
       "        <td style=\"padding-left: 1em; padding-right: 1em; text-align: center; vertical-align: top\">atVh8viqTj-sqDJ35tAYVg</td>\n",
       "        <td style=\"padding-left: 1em; padding-right: 1em; text-align: center; vertical-align: top\">1</td>\n",
       "        <td style=\"padding-left: 1em; padding-right: 1em; text-align: center; vertical-align: top\">2012-11-09</td>\n",
       "        <td style=\"padding-left: 1em; padding-right: 1em; text-align: center; vertical-align: top\">2</td>\n",
       "        <td style=\"padding-left: 1em; padding-right: 1em; text-align: center; vertical-align: top\">LWUtqzNthMM3vpWZIFBlPw</td>\n",
       "        <td style=\"padding-left: 1em; padding-right: 1em; text-align: center; vertical-align: top\">2</td>\n",
       "        <td style=\"padding-left: 1em; padding-right: 1em; text-align: center; vertical-align: top\">Food is pretty good, not<br>gonna lie. BUT you have ...</td>\n",
       "        <td style=\"padding-left: 1em; padding-right: 1em; text-align: center; vertical-align: top\">1</td>\n",
       "    </tr>\n",
       "    <tr>\n",
       "        <td style=\"padding-left: 1em; padding-right: 1em; text-align: center; vertical-align: top\">faPVqws-x-5k2CQKDNtHxw</td>\n",
       "        <td style=\"padding-left: 1em; padding-right: 1em; text-align: center; vertical-align: top\">0</td>\n",
       "        <td style=\"padding-left: 1em; padding-right: 1em; text-align: center; vertical-align: top\">2015-03-25</td>\n",
       "        <td style=\"padding-left: 1em; padding-right: 1em; text-align: center; vertical-align: top\">2</td>\n",
       "        <td style=\"padding-left: 1em; padding-right: 1em; text-align: center; vertical-align: top\">QHueaxKHuBpbDOkWb0Cyfw</td>\n",
       "        <td style=\"padding-left: 1em; padding-right: 1em; text-align: center; vertical-align: top\">1</td>\n",
       "        <td style=\"padding-left: 1em; padding-right: 1em; text-align: center; vertical-align: top\">People please...the only<br>good thing about this ...</td>\n",
       "        <td style=\"padding-left: 1em; padding-right: 1em; text-align: center; vertical-align: top\">2</td>\n",
       "    </tr>\n",
       "    <tr>\n",
       "        <td style=\"padding-left: 1em; padding-right: 1em; text-align: center; vertical-align: top\">ruWTngdiC68O9la27hvvHw</td>\n",
       "        <td style=\"padding-left: 1em; padding-right: 1em; text-align: center; vertical-align: top\">0</td>\n",
       "        <td style=\"padding-left: 1em; padding-right: 1em; text-align: center; vertical-align: top\">2016-02-24</td>\n",
       "        <td style=\"padding-left: 1em; padding-right: 1em; text-align: center; vertical-align: top\">0</td>\n",
       "        <td style=\"padding-left: 1em; padding-right: 1em; text-align: center; vertical-align: top\">Tifm4ETlt4FXiuGwhq__lg</td>\n",
       "        <td style=\"padding-left: 1em; padding-right: 1em; text-align: center; vertical-align: top\">4</td>\n",
       "        <td style=\"padding-left: 1em; padding-right: 1em; text-align: center; vertical-align: top\">This place is not just a<br>restaurant has a great ...</td>\n",
       "        <td style=\"padding-left: 1em; padding-right: 1em; text-align: center; vertical-align: top\">1</td>\n",
       "    </tr>\n",
       "    <tr>\n",
       "        <td style=\"padding-left: 1em; padding-right: 1em; text-align: center; vertical-align: top\">7KkgMcbVaetryW1wwpzvvA</td>\n",
       "        <td style=\"padding-left: 1em; padding-right: 1em; text-align: center; vertical-align: top\">0</td>\n",
       "        <td style=\"padding-left: 1em; padding-right: 1em; text-align: center; vertical-align: top\">2016-02-29</td>\n",
       "        <td style=\"padding-left: 1em; padding-right: 1em; text-align: center; vertical-align: top\">0</td>\n",
       "        <td style=\"padding-left: 1em; padding-right: 1em; text-align: center; vertical-align: top\">htV6dNmUqaXwCIRt7vfO5A</td>\n",
       "        <td style=\"padding-left: 1em; padding-right: 1em; text-align: center; vertical-align: top\">4</td>\n",
       "        <td style=\"padding-left: 1em; padding-right: 1em; text-align: center; vertical-align: top\">It great fast food and<br>get large portions. It ...</td>\n",
       "        <td style=\"padding-left: 1em; padding-right: 1em; text-align: center; vertical-align: top\">0</td>\n",
       "    </tr>\n",
       "</table>\n",
       "<table frame=\"box\" rules=\"cols\">\n",
       "    <tr>\n",
       "        <th style=\"padding-left: 1em; padding-right: 1em; text-align: center\">user_id</th>\n",
       "    </tr>\n",
       "    <tr>\n",
       "        <td style=\"padding-left: 1em; padding-right: 1em; text-align: center; vertical-align: top\">msQe1u7Z_XuqjGoqhB0J5g</td>\n",
       "    </tr>\n",
       "    <tr>\n",
       "        <td style=\"padding-left: 1em; padding-right: 1em; text-align: center; vertical-align: top\">msQe1u7Z_XuqjGoqhB0J5g</td>\n",
       "    </tr>\n",
       "    <tr>\n",
       "        <td style=\"padding-left: 1em; padding-right: 1em; text-align: center; vertical-align: top\">msQe1u7Z_XuqjGoqhB0J5g</td>\n",
       "    </tr>\n",
       "    <tr>\n",
       "        <td style=\"padding-left: 1em; padding-right: 1em; text-align: center; vertical-align: top\">msQe1u7Z_XuqjGoqhB0J5g</td>\n",
       "    </tr>\n",
       "    <tr>\n",
       "        <td style=\"padding-left: 1em; padding-right: 1em; text-align: center; vertical-align: top\">msQe1u7Z_XuqjGoqhB0J5g</td>\n",
       "    </tr>\n",
       "    <tr>\n",
       "        <td style=\"padding-left: 1em; padding-right: 1em; text-align: center; vertical-align: top\">msQe1u7Z_XuqjGoqhB0J5g</td>\n",
       "    </tr>\n",
       "    <tr>\n",
       "        <td style=\"padding-left: 1em; padding-right: 1em; text-align: center; vertical-align: top\">msQe1u7Z_XuqjGoqhB0J5g</td>\n",
       "    </tr>\n",
       "    <tr>\n",
       "        <td style=\"padding-left: 1em; padding-right: 1em; text-align: center; vertical-align: top\">0AIj432MvowwghnpurtP-Q</td>\n",
       "    </tr>\n",
       "    <tr>\n",
       "        <td style=\"padding-left: 1em; padding-right: 1em; text-align: center; vertical-align: top\">dQzQ4bN0Rnb8M-0LqTl3-g</td>\n",
       "    </tr>\n",
       "    <tr>\n",
       "        <td style=\"padding-left: 1em; padding-right: 1em; text-align: center; vertical-align: top\">dQzQ4bN0Rnb8M-0LqTl3-g</td>\n",
       "    </tr>\n",
       "</table>\n",
       "[889957 rows x 9 columns]<br/>Note: Only the head of the SFrame is printed.<br/>You can use print_rows(num_rows=m, num_columns=n) to print more rows and columns.\n",
       "</div>"
      ],
      "text/plain": [
       "Columns:\n",
       "\tbusiness_id\tstr\n",
       "\tcool\tint\n",
       "\tdate\tstr\n",
       "\tfunny\tint\n",
       "\treview_id\tstr\n",
       "\tstars\tint\n",
       "\ttext\tstr\n",
       "\tuseful\tint\n",
       "\tuser_id\tstr\n",
       "\n",
       "Rows: 889957\n",
       "\n",
       "Data:\n",
       "+------------------------+------+------------+-------+------------------------+\n",
       "|      business_id       | cool |    date    | funny |       review_id        |\n",
       "+------------------------+------+------------+-------+------------------------+\n",
       "| iCQpiavjjPzJ5_3gPD5Ebg |  0   | 2011-02-25 |   0   | x7mDIiDB3jEiPGPHOmDzyw |\n",
       "| pomGBqfbxcqPv14c3XH-ZQ |  0   | 2012-11-13 |   0   | dDl8zu1vWPdKGihJrwQbpw |\n",
       "| jtQARsP6P-LbkyjbO1qNGg |  1   | 2014-10-23 |   1   | LZp4UX5zK3e-c5ZGSeo3kA |\n",
       "| elqbBhBfElMNSrjFqW3now |  0   | 2011-02-25 |   0   | Er4NBWCmCD4nM8_p1GRdow |\n",
       "| zdE82PiD6wquvjYLyhOJNA |  0   | 2012-04-18 |   1   | kUZWBVZvhWuC8TWUg5AYyA |\n",
       "| EAwh1OmG6t6p3nRaZOW_AA |  0   | 2011-02-25 |   0   | wcqt0III88LEcm19IxFFyA |\n",
       "| atVh8viqTj-sqDJ35tAYVg |  1   | 2012-11-09 |   2   | LWUtqzNthMM3vpWZIFBlPw |\n",
       "| faPVqws-x-5k2CQKDNtHxw |  0   | 2015-03-25 |   2   | QHueaxKHuBpbDOkWb0Cyfw |\n",
       "| ruWTngdiC68O9la27hvvHw |  0   | 2016-02-24 |   0   | Tifm4ETlt4FXiuGwhq__lg |\n",
       "| 7KkgMcbVaetryW1wwpzvvA |  0   | 2016-02-29 |   0   | htV6dNmUqaXwCIRt7vfO5A |\n",
       "+------------------------+------+------------+-------+------------------------+\n",
       "+-------+-------------------------------+--------+------------------------+\n",
       "| stars |              text             | useful |        user_id         |\n",
       "+-------+-------------------------------+--------+------------------------+\n",
       "|   2   | The pizza was okay. Not th... |   0    | msQe1u7Z_XuqjGoqhB0J5g |\n",
       "|   5   | I love this place! My fian... |   0    | msQe1u7Z_XuqjGoqhB0J5g |\n",
       "|   1   | Terrible. Dry corn bread. ... |   3    | msQe1u7Z_XuqjGoqhB0J5g |\n",
       "|   2   | Back in 2005-2007 this pla... |   2    | msQe1u7Z_XuqjGoqhB0J5g |\n",
       "|   5   | AMAZING!!!\\n\\n I was refer... |   0    | msQe1u7Z_XuqjGoqhB0J5g |\n",
       "|   4   | Ribs = amazing\\n2 hour wai... |   0    | msQe1u7Z_XuqjGoqhB0J5g |\n",
       "|   2   | Food is pretty good, not g... |   1    | msQe1u7Z_XuqjGoqhB0J5g |\n",
       "|   1   | People please...the only g... |   2    | 0AIj432MvowwghnpurtP-Q |\n",
       "|   4   | This place is not just a r... |   1    | dQzQ4bN0Rnb8M-0LqTl3-g |\n",
       "|   4   | It great fast food and get... |   0    | dQzQ4bN0Rnb8M-0LqTl3-g |\n",
       "+-------+-------------------------------+--------+------------------------+\n",
       "[889957 rows x 9 columns]\n",
       "Note: Only the head of the SFrame is printed.\n",
       "You can use print_rows(num_rows=m, num_columns=n) to print more rows and columns."
      ]
     },
     "execution_count": 1,
     "metadata": {},
     "output_type": "execute_result"
    }
   ],
   "source": [
    "import graphlab as gl\n",
    "\n",
    "#데이터 불러오기\n",
    "data = gl.SFrame('./Las_Vegas/reviews')\n",
    "data"
   ]
  },
  {
   "cell_type": "markdown",
   "metadata": {},
   "source": [
    "# 워드 카운트 정리"
   ]
  },
  {
   "cell_type": "code",
   "execution_count": 2,
   "metadata": {
    "collapsed": false
   },
   "outputs": [
    {
     "data": {
      "text/plain": [
       "dtype: dict\n",
       "Rows: 889957\n",
       "[{'and': 1L, 'say...': 1L, 'dont': 2L, 'family': 1L, 'people': 1L, 'there': 1L, 'over': 1L, 'lack': 1L, 'prefer': 1L, 'chef': 1L, 'at': 1L, 'in': 2L, 'home': 1L, 'quality': 1L, 'best': 1L, 'if': 2L, 'what': 1L, 'recipes,': 1L, \"biaggio's\": 2L, 'for': 2L, 'their': 1L, 'casino.': 1L, 'much': 2L, 'make': 1L, 'that': 2L, '-': 1L, '/': 1L, 'actually': 1L, 'better': 2L, 'ny': 1L, 'youre': 1L, 'going': 1L, 'you': 3L, 'care': 2L, 'was': 2L, 'is': 1L, 'pizza': 1L, 'cosmo': 1L, '@': 1L, 'get': 1L, 'owned,': 1L, 'style': 1L, 'priced': 1L, \"i've\": 1L, 'made': 1L, 'not': 1L, 'food.': 2L, 'pizzeria': 2L, 'fort': 1L, 'a': 4L, 'on': 1L, 'flamingo': 1L, 'like': 1L, 'had.': 1L, 'i': 2L, 'of': 1L, 'okay.': 1L, 'apache.': 1L, 'can': 1L, 'pizza.': 1L, 'pick': 1L, 'the': 6L, 'personality': 1L, 'italian': 1L}, {'and': 3L, 'cheese': 1L, 'love': 2L, 'what': 1L, 'is': 3L, 'huge!': 1L, 'specials...': 1L, 'carne': 1L, 'are': 1L, 'have': 2L, 'go': 1L, 'restaurant.': 1L, 'her': 1L, 'cares': 1L, 'enchiladas': 1L, 'their': 2L, 'leticia': 1L, 'place!': 1L, 'too': 1L, 'you': 2L, 'sauce': 1L, 'fiance': 1L, 'asada.': 1L, 'to': 1L, 'food': 1L, 'great': 1L, 'here': 1L, 'lunch': 1L, 'they': 1L, 'super': 1L, 'amazing!!!': 1L, 'a': 1L, 'about': 1L, 'portions': 1L, 'week.': 1L, 'this': 1L, 'of': 1L, 'different': 1L, 'try': 1L, 'i': 3L, 'atleast': 1L, 'amazing.': 1L, 'the': 2L, 'nice': 1L, 'my': 1L, 'think': 1L, 'once': 1L}, {'and': 2L, 'all': 1L, 'grill.': 1L, 'me.': 1L, 'want': 1L, 'in': 1L, 'go': 1L, 'neighborhood': 1L, 'trust': 1L, 'rib': 1L, 'if': 1L, 'bread.': 1L, 'no': 1L, 'had': 1L, 'mulls': 1L, 'to': 1L, 'tips': 1L, 'john': 1L, 'roadkill': 1L, 'terrible.': 1L, 'corn': 1L, 'fat': 1L, 'you': 1L, 'dry': 1L, 'this': 1L, 'mushy': 1L, 'bbq': 1L, 'were': 1L, 'flavor.': 1L}, {'ever.': 1L, 'less': 1L, 'over': 1L, 'known': 1L, 'manager': 1L, 'go': 1L, 'still': 3L, 'busy,': 1L, 'cut': 1L, 'had': 4L, 'melissa,': 1L, 'to': 6L, 'sorry': 1L, 'worth': 1L, 'plate': 1L, 'get': 1L, 'food': 1L, 'know': 2L, 'they': 1L, 'new': 1L, 'not': 2L, 'now': 1L, 'sizes': 2L, 'she': 4L, 'also,': 1L, 'went': 1L, 'pork': 1L, 'because': 1L, 'me.': 1L, 'back': 2L, 'see': 1L, 'are': 1L, 'year': 1L, 'ew': 1L, 'what': 2L, 'for': 3L, 'hungry.': 1L, 'pinkaow,': 1L, 'paying': 1L, 'time.': 1L, 'got': 2L, 'good,': 1L, 'be': 1L, 'after.': 1L, 'alllll': 1L, 'presence.': 1L, 'never': 1L, 'here': 2L, 'days,': 1L, 'havent': 1L, 'great': 1L, '\"hello': 1L, 'her': 1L, 'favorite': 1L, 'dinner': 1L, \"i'd\": 1L, 'place': 2L, 'asked': 1L, 'money.': 1L, 'service': 1L, '&': 1L, 'would': 1L, 'there': 1L, 'been': 1L, 'their': 2L, 'way': 1L, 'was': 3L, 'more': 2L, 'knows': 1L, 'started': 2L, 'coke': 1L, 'but': 3L, 'finished': 1L, '$10-15': 1L, 'last': 1L, 'thai': 2L, 'with': 3L, 'be!!': 1L, 'me': 2L, 'this': 1L, 'up': 1L, 'problem': 1L, 'my': 3L, 'and': 7L, 'ew?\"': 1L, 'tasted': 1L, 'it': 1L, 'half.': 1L, 'have': 1L, 'in': 3L, 'any': 1L, 'huge': 1L, 'no': 1L, 'pay': 1L, 'pad': 3L, 'answer': 1L, 'you': 3L, 'nice': 1L, 'used': 2L, 'again,': 1L, 'diet': 1L, 'food.': 1L, 'complaints.': 1L, 'suck': 1L, 'a': 4L, 'refuse': 1L, '2005-2007': 1L, 'i': 10L, 'disregards': 1L, 'hungry': 1L, 'greet': 1L, 'or': 1L, 'portion': 2L, 'time': 1L, 'the': 6L, 'se': 2L, 'once': 1L}, {'all': 1L, 'anyway': 1L, 'hell': 1L, 'chicken': 1L, 'its': 1L, 'havent!)': 1L, 'drinks.': 1L, 'also': 2L, 'had': 2L, 'actually': 1L, 'to': 3L, 'only': 1L, 'serve.': 1L, 'has': 1L, 'plate': 1L, 'it,': 1L, 'food': 2L, 'fat': 1L, 'attentive-': 1L, 'mexican??': 1L, 'they': 3L, 'half': 1L, 'not': 1L, 'chips': 1L, 'great.': 2L, 'meat': 1L, 'did': 1L, 'all,': 1L, 'server': 1L, 'try': 1L, 'cheap,': 1L, 'she': 1L, '\"korean': 1L, 'husband': 2L, 'referred': 1L, 'absolutely': 1L, 'know\"...': 1L, 'us': 1L, 'girl': 1L, 'it...': 1L, 'even': 1L, 'that.': 1L, 'for': 2L, 'chimichanga': 2L, 'enough': 1L, 'ever': 1L, 'good.': 1L, 'owner.': 1L, 'be': 1L, 'we': 4L, 'full': 1L, 'burps': 1L, 'here': 1L, 'by': 1L, 'change': 1L, 'both': 1L, 'about': 1L, 'ate': 1L, 'beef': 4L, 'of': 4L, 'could': 1L, 'thing': 1L, \"i'd\": 2L, 'place': 1L, \"i'm\": 2L, 'whole': 1L, 'first': 1L, 'fantastic': 1L, 'dont': 1L, 'baskets': 1L, 'been': 1L, 'bland': 1L, 'thick': 1L, 'total': 1L, 'service': 2L, 'area': 1L, 'two': 1L, 'lol': 1L, 'their': 3L, 'too': 1L, 'lot': 1L, 'delicious.': 1L, 'delicious,': 1L, 'was': 9L, 'tell': 1L, 'friend': 2L, '1/2': 2L, 'that': 3L, 'great': 4L, 'but': 4L, 'lets': 2L, 'beat': 1L, 'with': 1L, 'burnt,': 1L, 'kind': 1L, 'place.': 1L, '$11': 1L, 'this': 1L, 'cant': 2L, 'amazing....': 1L, '(have': 1L, 'will': 1L, 'delicious)': 1L, 'were': 3L, 'amazing!!!': 1L, 'bahaha!': 1L, 'my': 4L, 'flavor.': 2L, 'and': 11L, 'half?': 1L, 'taste': 1L, 'is': 2L, 'share': 1L, 'it': 3L, '(and': 1L, 'say': 1L, 'at': 1L, 'in': 2L, 'huge': 1L, 'weird...': 1L, 'things': 1L, 'make': 1L, '-': 1L, 'prices,': 1L, 'which': 1L, 'bad.': 1L, 'you': 3L, 'nice': 1L, 'tried': 1L, 'after': 1L, 'taco': 1L, 'nothing': 1L, 'salsa': 1L, 'why': 1L, 'a': 7L, 'burrito': 1L, 'i': 5L, 'face': 1L, 'thought': 2L, 'so': 3L, 'not,': 1L, 'the': 8L, 'order': 1L}, {'and': 2L, 'because': 1L, 'sooo': 1L, 'it': 2L, 'an': 1L, 'isnt': 1L, 'are': 1L, 'if': 1L, 'time=': 1L, 'restaurant.': 1L, 'would': 1L, 'to': 1L, 'while': 1L, 'understandable.': 1L, 'their': 2L, 'amazing': 1L, 'much': 1L, '5': 1L, 'stars': 1L, 'so': 2L, 'you': 3L, '=': 1L, 'bbq': 1L, 'wait!': 1L, 'gives': 1L, 'get': 2L, 'food': 1L, 'price': 1L, 'drink': 1L, 'but': 1L, 'excuse': 1L, 'two': 1L, 'they': 1L, 'plus,': 1L, 'not': 1L, '2': 1L, 'wait': 2L, 'a': 1L, 'for': 1L, 'hour': 2L, 'this': 1L, 'always': 1L, 'ribs': 2L, 'expanded': 1L, 'tastes': 1L, 'thing': 1L, 'bad': 1L, 'place': 1L, 'gamble': 1L, 'amazing.': 1L, 'the': 2L, 'amazing,': 1L, 'good.': 1L}, {'area.': 1L, 'forget': 1L, 'just': 2L, 'ps-': 1L, 'over': 1L, 'imbeciles': 1L, 'cold': 1L, 'its': 2L, 'should': 1L, 'to': 10L, 'priced.': 1L, 'choose': 1L, 'pretty': 2L, 'then': 1L, 'them': 1L, 'around': 1L, 'get': 1L, 'food': 1L, '8am,': 1L, 'gonna': 1L, 'lunch': 1L, 'great!': 1L, 'every': 1L, 'they': 3L, 'half': 1L, 'not': 1L, 'sacrifices': 1L, 'because': 1L, 'are': 1L, 'witch.': 1L, 'what': 2L, 'for': 1L, 'literally': 1L, 'time,': 1L, 'time.': 1L, 'forever.': 1L, 'good,': 1L, 'piss': 1L, 'be': 3L, 'we': 1L, 'deliver': 1L, 'never': 2L, 'continuing': 1L, 'delivering': 1L, 'seriously.': 1L, 'by': 1L, 'owners': 1L, 'of': 1L, \"i've\": 1L, \"i'd\": 1L, \"i'm\": 1L, 'or': 3L, 'dont': 2L, 'extra': 1L, 'one': 1L, 'down': 1L, 'doesnt': 1L, 'for?!': 1L, 'bitch': 1L, 'owner': 1L, 'know,': 1L, 'total': 1L, 'your': 1L, 'caring': 1L, 'there.': 1L, 'takes': 2L, 'would': 1L, 'start': 1L, 'there': 1L, 'two': 1L, 'their': 1L, 'call': 1L, 'was': 1L, 'today': 1L, 'that': 2L, 'lie.': 1L, 'but': 2L, 'chocolate': 2L, 'delivery': 1L, 'ignorant': 1L, 'eat': 2L, 'off.': 1L, 'me': 1L, 'hour': 2L, 'work': 1L, 'matter': 1L, 'chocolate.': 1L, 'hot.': 1L, 'my': 2L, 'pack': 1L, 'and': 3L, 'gone': 1L, 'ordered': 1L, 'is': 2L, 'it': 2L, 'an': 2L, 'single': 1L, 'at': 1L, 'have': 2L, 'in': 2L, 'ready': 1L, 'breakfast': 1L, 'f-o-r-e-v-e-r.': 1L, 'fails,': 1L, 'end': 1L, 'cold.': 1L, 'rather': 1L, 'pay': 1L, 'make': 1L, 'frankly,': 1L, 'tip': 1L, 'dining': 1L, 'hot': 2L, 'take': 1L, 'wanting': 1L, 'you': 8L, 'if': 4L, 'nice': 1L, 'sure': 1L, 'tasteful': 1L, 'driver': 1L, 'food.': 2L, 'pps-': 1L, 'decently': 1L, 'a': 3L, '1pm.': 1L, 'i': 2L, 'ranch': 1L, 'upset': 1L, '10am': 1L, 'rant.': 1L, 'the': 5L, 'order': 1L, 'talk': 1L}, {'all': 2L, 'shot': 1L, 'stock.': 1L, 'people': 1L, 'being': 1L, 'of': 5L, 'is': 1L, \"didn't\": 1L, 'it': 2L, 'up': 1L, 'down': 1L, 'put': 1L, 'attempts': 1L, 'issue.': 1L, 'please...the': 1L, 'carry': 1L, 'stock,': 1L, 'thing': 1L, 'apparently': 1L, 'any': 2L, 'out': 1L, 'van': 1L, 'for': 1L, 'to': 1L, 'rather': 1L, \"don't\": 1L, 'winkle': 1L, 'next': 1L, 'amazing....problem': 1L, 'their': 1L, 'only': 1L, 'really?': 1L, '5': 1L, 'didnt': 1L, 'way': 1L, '6': 1L, 'bourbon....all': 1L, 'place': 1L, 'you': 1L, 'waste': 1L, 'ever': 1L, 'told': 2L, 'amazing....the': 1L, 'them': 1L, 'good': 1L, 'food': 1L, 'apologetic': 1L, 'pappy': 1L, 'here': 1L, 'if': 1L, 'list....after': 1L, 'they': 2L, 'front': 1L, 'bartender': 1L, 'here...for': 1L, 'come': 1L, 'bourbon': 4L, 'but': 2L, 'a': 1L, 'on': 3L, 'about': 1L, 'kept': 1L, 'like': 1L, 'staff.': 1L, 'this': 1L, 'was': 7L, 'actually': 1L, 'list': 3L, 'as': 1L, 'menu,': 1L, 'order': 1L, 'i': 3L, 'ongoing': 1L, 'profusely': 1L, 'time': 1L, 'the': 8L, 'my': 1L, 'apologizing': 1L, 'fact': 1L}, {'and': 5L, 'crowded.': 1L, 'deck': 1L, 'is': 5L, 'am': 1L, 'back': 1L, 'private': 1L, 'one': 1L, 'pm': 1L, 'are': 1L, 'best': 1L, 'just': 1L, 'would': 2L, 'space': 1L, 'vegas.': 1L, 'there': 1L, 'outside': 1L, 'going': 1L, 'limited.': 1L, 'expensive': 1L, 'recommend': 2L, 'has': 2L, 'crab.': 1L, '10': 1L, 'be': 1L, 'good': 1L, 'again.': 1L, 'views': 1L, 'food': 1L, 'drink': 1L, 'it': 2L, 'not': 1L, 'club.': 1L, 'with': 2L, 'las': 1L, 'a': 5L, 'on': 1L, 'great': 1L, 'bar': 1L, 'restaurant': 1L, 'this': 2L, 'of': 2L, 'selections': 1L, 'disco': 1L, 'i': 3L, 'place': 2L, 'can': 1L, 'night': 1L, 'small': 1L, 'the': 4L, 'steak': 1L, 'side': 1L, 'at': 2L}, {'and': 4L, 'gone': 1L, 'all': 1L, 'am': 1L, 'it': 5L, 'burritos': 1L, 'friends.': 1L, 'are': 1L, 'want': 1L, 'seem': 1L, 'any': 1L, 'what': 1L, 'fast': 1L, 'their': 1L, 'there': 1L, 'recommending': 1L, 'alway': 1L, 'only': 1L, 'rest.': 1L, 'you': 2L, 'save': 1L, 'good.': 1L, 'choose': 1L, 'be': 1L, 'to': 2L, 'get': 1L, 'food': 1L, 'big': 1L, 'time': 1L, 'usually': 1L, 'half': 1L, 'items': 1L, 'with': 1L, 'eat': 1L, 'on': 1L, 'great': 1L, 'portions.': 1L, 'like': 1L, 'i': 3L, 'many': 1L, 'menu.': 1L, 'server': 1L, 'large': 1L, 'so': 1L, 'can': 2L, 'of': 1L, 'friendly.': 1L, 'fresh': 1L, 'the': 4L, 'my': 1L}, {'and': 1L, 'it': 1L, 'half.': 1L, 'service': 1L, 'buco': 1L, 'i': 4L, 'would': 1L, 'there': 3L, 'had': 2L, 'by': 1L, 'osso': 1L, 'only': 1L, 'much': 1L, 'recommend': 1L, 'place': 1L, 'you': 1L, 'place.': 1L, 'was': 4L, 'good.': 1L, 'week': 1L, 'ago.': 1L, 'very': 1L, 'couple': 1L, 'glass': 1L, 'the': 2L, 'malbec.': 1L, 'a': 2L, 'great': 1L, 'meat': 1L, 'eat': 1L, 'this': 1L, 'seafood': 1L, 'try': 1L, 'soup': 1L, 'good': 2L, 'so': 1L, 'friend': 1L, 'small': 1L, 'went': 1L, 'my': 1L, 'could': 1L, 'wine': 1L}, {'and': 2L, 'bargains.': 1L, 'taste': 1L, 'is': 3L, 'service': 1L, 'chicken': 1L, 'familes': 1L, 'would': 1L, 'had': 2L, 'two': 1L, 'fast': 1L, 'clean.': 1L, 'enough': 1L, 'recommend': 1L, 'rice': 1L, 'teriyaki': 1L, 'good': 2L, 'vegetables.': 1L, 'food': 3L, 'with': 1L, 'meals': 1L, 'great': 2L, 'portions.': 1L, 'for': 2L, 'restaurant': 3L, 'this': 1L, 'hot': 1L, 'large': 1L, 'i': 1L, 'the': 4L, 'steam': 1L}, {'just': 1L, 'over': 1L, 'go': 1L, 'its': 2L, 'perfect': 1L, '$': 1L, 'located': 1L, 'had': 4L, 'to': 1L, 'sauce': 1L, 'real': 1L, 'good': 3L, '(shrimp,': 1L, 'very': 1L, 'lucky': 1L, 'every': 1L, 'know': 1L, 'they': 1L, 'not': 1L, 'lobster,': 1L, 'bread': 1L, 'did': 2L, 'large': 1L, 'night': 1L, 'steak': 1L, 'people': 1L, 'house': 1L, 'back': 1L, 'noodles': 1L, 'try': 2L, 'for': 1L, '5:15': 1L, 'got': 1L, 'saffron-tomato': 1L, 'across': 1L, 'body': 2L, 'sauce)': 1L, 'here': 1L, 'basil,': 1L, 'great': 2L, 'last': 1L, 'scallop,': 1L, 'restaurant': 2L, '30': 1L, 'dinner': 1L, 'delicious': 1L, 'from': 1L, 'would': 1L, 'there': 1L, 'next': 2L, 'few': 1L, 'recommend': 1L, 'was': 4L, 'but': 2L, 'hour.': 1L, 'finished': 1L, 'brunch': 1L, 'with': 2L, 'eat': 1L, 'bit.': 1L, 'portions.': 1L, 'this': 3L, 'up': 1L, 'this.': 1L, 'will': 3L, 'were': 1L, 'my': 1L, 'and': 3L, 'pappardelle': 1L, 'taste': 1L, 'it': 1L, 'as': 1L, 'salty': 1L, 'at': 2L, 'have': 1L, 'in': 1L, 'fill': 1L, 'also': 1L, 'again.': 1L, 'taste.': 1L, 'a': 1L, 'i': 3L, 'maybe': 1L, 'seafood': 1L, 'dog': 1L, 'steaks.': 1L, 'so': 2L, 'time': 2L, 'fresh': 1L, 'the': 7L}, {'????????????????????????????????????': 1L, '2????????????????????': 1L, '?????????????': 1L, '?????7:30???': 1L, '??????????????????!!': 1L, '?????????????????': 1L}, {'????????????????': 1L, '???link': 1L, '?????': 1L, '&': 1L, '????×4': 1L, 'hotel???????': 1L, '????????????????????': 1L, '?????????!!': 1L, '???×2': 1L}, {'????????????????????': 2L, '???????': 1L, '???????????????????????': 1L, '?????????????????????????': 1L}, {'????????????????????????????????????': 1L, '???1??????2?????????': 1L, 'vegas???????????????': 1L, '????????????????????????????????(*´`*)': 1L, '??????': 1L, '?????????????????????????????????': 1L, '_)': 1L, '????????(': 1L, '???????????????????????????????????': 1L, 'best': 1L, '???...?': 1L}, {\"don't\": 2L, 'not': 1L, 'brio': 1L, 'before': 1L, 'how': 2L, 'menu': 1L, 'up!': 1L, 'to': 2L, 'only': 1L, 'location': 1L, 'fool': 1L, 'good': 1L, 'food': 1L, 'they': 2L, 'judge': 1L, 'several': 1L, 'hour': 1L, 'always': 3L, 'best!': 1L, 'list': 1L, 'specific': 1L, 'cheap,': 1L, 'amazing.': 1L, 'hard': 1L, 'some': 1L, 'hour,': 1L, 'see': 1L, 'are': 1L, 'pass': 1L, 'drinks': 1L, 'even': 1L, 'necessary.': 1L, 'for': 3L, 'everything': 1L, 'sized.': 1L, 'be': 1L, 'we': 1L, 'let': 1L, 'everything,': 1L, 'things.': 1L, 'service': 1L, 'square.': 1L, 'items': 1L, 'could': 1L, 'times': 1L, 'one': 2L, 'refill': 1L, 'differ': 1L, 'from': 1L, 'would': 1L, 'decent': 1L, 'two': 1L, 'been': 1L, 'their': 5L, 'happy': 3L, 'us!!)': 1L, \"i've\": 1L, 'but': 1L, \"(don't\": 1L, 'must': 1L, 'town': 1L, 'portions': 1L, '$2.95.': 1L, 'this': 1L, 'of': 4L, 'and': 2L, 'experience.': 1L, 'is': 5L, 'it': 1L, 'at': 1L, 'have': 1L, 'check': 1L, 'make': 1L, 'dining': 1L, 'other': 1L, 'you': 2L, 'though?': 1L, 'sure': 1L, 'okay': 1L, 'price': 1L, 'location,': 1L, 'regular': 1L, 'a': 2L, 'i': 1L, 'maybe': 1L, 'order': 1L, 'so': 1L, 'the': 2L, 'though.': 1L}, {'just': 1L, '(i': 1L, '\"regular\"': 1L, '(which': 1L, 'generous': 1L, 'cut': 1L, 'had': 1L, 'to': 3L, 'pile': 1L, 'pretty': 1L, 'win': 1L, 'include': 1L, '\"little\"': 1L, 'them': 1L, 'get': 2L, 'big': 1L, 'fan': 1L, 'they': 3L, 'not': 2L, 'always': 1L, 'french': 1L, 'all.': 1L, 'grilled': 1L, 'bacon': 3L, 'cajun': 2L, 'ftw!!': 1L, 'are': 3L, 'die': 1L, 'fail': 1L, 'our': 1L, 'sport': 1L, 'that.': 1L, 'patties': 1L, 'for': 2L, 'since': 2L, 'does': 1L, 'probably': 1L, 'be': 2L, 'we': 1L, 'free': 1L, 'here': 1L, '(especially': 1L, 'on': 3L, 'oh': 1L, 'toppings': 1L, 'must!': 1L, 'usually': 1L, \"i'm\": 1L, 'feign.': 1L, \"can't\": 1L, 'cheese': 1L, 'love': 1L, 'extra': 2L, 'cheeseburger': 1L, 'for!': 1L, 'mushrooms': 2L, 'amaaaa-zing!': 1L, 'thick': 1L, 'would': 1L, 'two': 1L, 'their': 2L, 'much': 1L, 'addicting': 1L, 'too': 1L, 'delicious.': 1L, 'fry': 1L, 'awesome': 1L, 'burgers.': 1L, 'mushroom': 1L, 'me).': 1L, 'but': 1L, 'peppers.': 1L, 'with': 1L, 'has': 1L, 'places': 1L, 'onions.': 1L, 'this': 2L, 'wish': 1L, 'fries': 3L, 'and': 2L, 'is': 4L, 'am': 1L, 'mine': 1L, 'well,': 1L, 'as': 1L, 'have': 1L, 'gimp': 1L, 'grown': 1L, 'portions).': 1L, 'also': 3L, 'which': 2L, 'disappoint': 1L, 'you': 3L, 'kind),': 1L, 'most': 1L, 'such': 1L, 'guys': 1L, 'why': 1L, 'a': 3L, 'i': 4L, 'dog': 1L, 'go-to': 1L, 'place': 3L, 'five': 1L, 'the': 8L, 'order': 2L}, {'serving': 1L, '(it': 1L, 'tooth,': 1L, 'unfortunately,': 1L, 'hate': 1L, 'enjoyed': 2L, 'before': 1L, 'style': 1L, 'dipped': 1L, \"we've\": 1L, 'guaranteed': 1L, 'to': 4L, 'par.': 1L, \"haven't\": 1L, 'it.': 2L, 'gelato,': 1L, 'food': 4L, 'big': 1L, 'sweets': 1L, 'they': 5L, 'not': 3L, 'bit': 1L, 'now': 1L, 'like': 1L, 'think': 1L, 'apparently,': 1L, 'buffets.': 1L, 'fare.': 1L, 'try': 1L, 'either': 1L, 'found': 1L, 'pre-divided': 1L, \"isn't\": 1L, 'opened,': 1L, 'people': 1L, 'else.': 1L, 'macaroons': 1L, 'decided': 1L, 'our': 1L, 'out': 1L, 'that.': 1L, 'for': 2L, 'think).': 1L, 'since': 1L, 'desserts.': 1L, '\"go': 1L, 'everything': 1L, 'available': 1L, 'be': 2L, 'we': 3L, 'chose': 1L, 'french': 1L, 'served': 1L, \"aren't\": 1L, 'bar,': 1L, 'of': 2L, 'thing': 1L, 'however,': 1L, 'or': 1L, 'first': 1L, 'cheese': 2L, 'raised': 1L, 'love': 1L, 'sweet': 1L, 'whatever': 1L, 'quality': 1L, 'your': 1L, 'service': 1L, \"it's\": 1L, 'there': 1L, 'been': 1L, 'their': 1L, 'crab': 1L, 'white': 1L, 'was': 3L, 'way.)': 1L, 'fudge,': 1L, 'you,': 1L, 'that': 3L, 'chocolate': 1L, 'particular': 1L, 'prices': 1L, 'with': 1L, 'boyfriend': 1L, 'loved': 2L, 'portions.': 1L, '(mind': 1L, 'this': 2L, 'up': 1L, 'choices': 1L, 'apples': 1L, 'were': 2L, 'to\"': 1L, 'steep': 1L, 'and': 9L, '$29,': 1L, 'is': 1L, 'am': 1L, 'it': 2L, '$35,': 1L, 'heard': 1L, 'as': 1L, 'have': 4L, 'if': 1L, 'back.': 1L, 'variety': 2L, 'when': 1L, 'same': 1L, 'also': 3L, 'amazing': 1L, 'which': 2L, 'you': 2L, 'used': 2L, 'buffet': 2L, 'food.': 1L, 'most': 1L, 'mac': 2L, \"i'm\": 2L, 'a': 7L, 'i': 7L, 'feign.': 1L, 'traditional': 1L, 'person': 1L, 'definitely': 1L, 'so': 2L, 'the': 10L, 'cakes,': 1L, 'strawberries.': 1L, 'typical': 1L}, {'and': 2L, 'outdoor': 1L, 'waffle': 1L, 'have': 1L, 'in': 1L, 'chicken': 1L, 'best': 1L, 'decor,': 1L, 'vegas.': 1L, 'had': 1L, 'vibe.': 1L, 'was': 1L, 'drink,': 1L, 'sandwich': 1L, 'food,': 1L, 'experiences': 1L, 'one': 1L, 'great.': 1L, 'i': 1L, 'of': 1L, 'the': 2L, 'patio': 1L}, {'and': 1L, 'everyone': 1L, 'box': 2L, 'one.': 1L, 'one': 1L, 'four': 1L, 'are': 1L, 'have': 1L, 'if': 1L, 'sampled': 1L, 'lemon': 2L, 'i': 1L, 'for': 1L, 'no': 1L, 'disgusting': 1L, 'shared': 1L, 'gagged.': 1L, 'ever': 1L, 'across': 1L, 'a': 2L, 'we': 1L, 'sure': 1L, 'spit': 1L, 'room.': 1L, 'got': 1L, 'haunt': 1L, 'most': 1L, 'these': 1L, 'years!': 1L, 'from': 1L, 'the': 4L, 'me': 1L, 'had.': 1L, 'this': 1L, 'of': 2L, 'us': 2L, 'not...but': 1L, 'will': 1L, 'person': 1L, 'bad': 1L, 'meringue': 1L, 'each': 1L, 'mixed': 1L, \"i'm\": 1L, 'or': 1L, 'pastries': 1L}, {'and': 2L, 'would.': 1L, 'liked': 1L, \"don't\": 2L, 'give': 1L, 'being': 1L, 'is': 1L, 'dollar': 1L, 'it': 2L, 'yourself': 1L, 'at': 1L, 'go': 2L, 'your': 2L, 'if': 1L, 'for': 1L, 'their': 1L, 'that': 1L, 'when': 1L, 'negative': 1L, 'same': 1L, 'better': 1L, 'mess': 1L, 'time.': 1L, 'call': 1L, 'stars': 1L, '\"i': 1L, 'you': 2L, 'really': 1L, 'tell': 1L, 'pizza': 2L, 'order,': 1L, 'you,': 1L, 'unless': 1L, 'to': 2L, 'get': 2L, 'food': 1L, 'sweetheart.\"': 1L, 'taste.': 1L, 'shitty': 1L, 'five': 1L, 'they': 2L, 'not': 1L, 'with': 1L, 'great,': 1L, 'a': 1L, 'waste': 1L, 'like': 1L, 'i': 2L, 'could': 1L, 'up': 1L, 'insulted': 1L, 'time': 1L, 'the': 1L, 'fixed': 1L, 'care': 1L}, {':/': 1L, 'looked': 1L, 'front': 1L, 'attitude': 1L, 'down,': 1L, 'go': 1L, 'had': 2L, 'to': 5L, 'only': 1L, 'other': 1L, 'employee': 1L, 'full.': 2L, 'then': 2L, 'woman': 1L, 'customers.\"': 1L, 'seat...right': 1L, 'five': 1L, 'they': 1L, 'not': 1L, 'during': 1L, 'one': 1L, 'bigger': 1L, 'entire': 1L, \"we'll\": 1L, 'like': 1L, 'always': 1L, 'okay,': 1L, 'woman,': 1L, 'found': 1L, 'where': 2L, 'table,': 1L, 'because': 1L, '\"taken\".': 1L, 'fucking': 1L, 'response?': 1L, 'hour,': 1L, 'kicked': 1L, '\"we': 1L, 'uncomfortable': 1L, 'out': 2L, 'said': 1L, 'for': 2L, 'rolls': 1L, '\"oh': 1L, 'told': 1L, 'we': 4L, 'who': 1L, 'eating': 1L, 'however': 1L, 'here': 1L, '2.75,': 1L, 'reason': 1L, 'wanted': 2L, 'received': 1L, 'of': 3L, \"wouldn't\": 1L, 'parties.\"': 1L, 'place': 1L, \"weren't\": 1L, '...but': 1L, 'or': 1L, 'waitress': 1L, 'there': 1L, 'welcome': 1L, 'walk': 2L, 'right': 1L, 'table': 3L, 'cups': 1L, 'your': 1L, 'there.': 1L, 'say,': 1L, 'from': 1L, 'her': 2L, '\"you': 1L, 'decent': 2L, 'give': 1L, 'three': 1L, 'been': 1L, 'next': 1L, 'anyone': 1L, 'their': 3L, 'low': 1L, 'stars': 1L, \"didn't.\": 1L, 'place.': 1L, 'was': 2L, 'servers.': 1L, 'happy': 1L, 'that': 3L, 'unoccupied': 1L, 'took': 1L, 'prices': 1L, 'myself': 1L, 'made': 1L, \"wasn't\": 1L, 'us.': 1L, 'us': 4L, 'were': 2L, 'go,': 1L, 'my': 2L, 'could': 1L, 'table.\"': 1L, 'something': 1L, 'and': 12L, 'remained': 1L, 'almost': 1L, 'is': 2L, 'sushi': 2L, 'moved': 1L, 'it': 1L, 'an': 1L, 'as': 3L, 'at': 2L, 'have': 2L, 'in': 2L, 'need': 1L, 'said,': 1L, 'any': 1L, 'if': 1L, 'cheep': 1L, 'sit': 4L, 'prices.': 1L, 'bad.': 1L, 'nice': 1L, 'sure': 1L, 'star': 1L, 'felt': 2L, 'taste,': 1L, 'in,': 1L, 'extremely': 2L, 'man': 1L, 'a': 2L, 'seated': 1L, 'subtracted': 1L, 'i': 9L, 'back.': 1L, 'back,': 1L, 'time': 1L, 'the': 12L, 'came': 1L}, {'nope,': 1L, 'nails.': 1L, 'would.': 1L, 'wreaks': 1L, 'still': 1L, 'then,': 1L, 'smoke.': 1L, 'thinking': 1L, \"don't\": 1L, '$5.00,': 1L, 'to': 3L, 'charge': 1L, 'it.': 1L, 'me': 2L, 'good': 1L, 'get': 2L, 'food': 1L, 'one': 1L, 'exact': 1L, 'leather': 1L, 'all,': 1L, 'ridiculous.': 1L, 'try': 1L, 'stars,': 1L, 'steak': 2L, 'side': 1L, 'smaller': 2L, 'rare,': 1L, 'tex': 2L, 'bare': 1L, 'are': 1L, 'out': 2L, 'even': 1L, 'what': 1L, 'for': 5L, 'literally': 1L, 'enough': 1L, 'drink,': 1L, 'be': 1L, 'steakhouse?': 1L, 'street,': 1L, 'mex': 2L, 'of': 5L, 'place': 3L, 'here,': 1L, 'glass.': 1L, 'asked': 1L, 'first': 1L, 'tough': 1L, 'price.': 1L, 'extra': 1L, 'vodka': 1L, 'walk': 1L, 'down': 1L, 'your': 2L, 'area': 1L, 'there': 1L, 'negative': 1L, 'was': 1L, 'medium': 1L, 'option': 1L, 'tasteless': 1L, 'you?': 1L, '$10.00': 1L, 'ranch,': 1L, 'this': 3L, 'double': 1L, 'sucks': 1L, 'up': 1L, 'will': 1L, 'my': 1L, 'and': 3L, 'seven': 1L, 'ordered': 3L, 'give': 1L, 'is': 1L, 'in': 3L, 'an': 1L, 'as': 1L, 'smell.': 1L, 'at': 1L, 'gorden': 1L, 'mouth.': 1L, 'if': 1L, 'that': 1L, 'aside': 1L, 'same': 1L, 'dining': 1L, 'you': 2L, 'drink': 1L, 'a': 5L, 'i': 4L, 'ranch': 1L, 'portion': 1L, 'so': 2L, 'push': 1L, 'the': 6L, 'ramsy': 1L, 'charged': 1L}, {'all': 4L, \"she'll\": 1L, 'help': 1L, 'just': 3L, \"don't\": 3L, 'being': 1L, 'no.': 1L, 'wow.': 1L, 'attitude': 1L, ':/': 1L, 'looks': 1L, 'shake': 1L, 'go': 1L, 'cold': 1L, 'thai': 1L, 'scooper': 1L, 'him.': 1L, 'head': 1L, 'peanut': 8L, 'duty\"': 1L, 'had': 1L, 'actually': 1L, 'to': 11L, 'add': 2L, 'going': 2L, 'helps': 1L, 'service...i': 1L, 'it.': 1L, 'then': 2L, 'his': 1L, '....she': 1L, 'get': 1L, 'far': 1L, 'butter?\"': 1L, 'bad.\"': 1L, 'nicer,': 1L, 'every': 1L, 'they': 2L, 'not': 3L, 'bit': 1L, 'stone,': 1L, 'career.': 1L, 'like': 1L, '\"did': 1L, 'refresh': 1L, 'worried': 1L, 'try': 3L, 'she': 1L, 'each': 1L, 'served': 1L, 'went': 1L, 'butter.\"': 1L, 'because': 2L, 'says': 1L, 'cost': 1L, 'are': 1L, 'proper': 1L, 'our': 3L, 'girl': 2L, 'shake,': 2L, 'sammy': 3L, 'shake.': 1L, 'out': 1L, 'what': 2L, 'butter.': 1L, 'again,': 1L, 'for': 3L, 'behold...no': 1L, 'please': 1L, 'ice': 6L, '\"oh': 1L, 'seriously': 1L, 'goes': 4L, 'line...who': 1L, 'reading': 1L, 'leader': 1L, 'cream...how': 1L, 'bitches,': 1L, 'be': 2L, 'we': 5L, 'who': 2L, 'eating': 1L, 'anyway,': 1L, 'here': 1L, 'job': 1L, 'told,': 1L, \"aren't\": 1L, 'come': 1L, 'by': 2L, '\"can': 1L, 'on': 3L, 'about': 3L, 'her': 2L, 'anything': 1L, 'restaurant': 1L, 'fiance': 3L, 'of': 4L, \"wouldn't\": 1L, 'ask': 1L, 'here.': 1L, \"i'm\": 3L, \"fiance's\": 1L, 'done.\"': 1L, 'first': 2L, 'rudely': 1L, 'ladies': 1L, 'acted': 1L, 'manage': 1L, 'walk': 1L, 'feet': 1L, 'put': 1L, 'simply': 1L, 'knew?': 1L, 'know,': 1L, '\"my': 1L, 'your': 3L, 'there,': 1L, 'serviced,': 1L, 'little': 2L, 'wanted': 2L, 'wants,': 1L, 'working': 1L, \"it's\": 2L, 'three': 1L, 'throw': 1L, 'cared': 1L, 'few': 1L, \"duty's\": 1L, 'too': 1L, 'memory': 1L, 'bitter': 1L, 'tell': 1L, 'friend': 3L, 'low': 1L, 'a': 8L, 'brat.': 1L, 'that': 2L, 'interrupts': 1L, 'formed': 1L, 'serve': 1L, 'took': 2L, 'but': 4L, 'chocolate': 1L, 'line': 1L, 'with': 3L, 'lie?': 1L, 'he': 4L, 'customer': 1L, 'girl?': 1L, 'kind': 2L, '\"well': 1L, 'cream,': 1L, 'cream.': 1L, 'this': 2L, 'was': 2L, 'malt': 1L, 'means,': 1L, 'this,': 1L, 'us': 1L, 'will': 1L, 'stated,': 1L, 'can': 2L, 'were': 2L, 'more': 1L, 'my': 8L, 'want?\"': 1L, 'and': 13L, 'ordered': 1L, 'have': 1L, 'do': 2L, 'is': 2L, 'walks': 1L, 'it': 1L, '\"we': 1L, 'really': 1L, 'as': 3L, \"know...that's\": 1L, 'want': 1L, 'in': 5L, 'apparently': 1L, 'any': 1L, 'cream': 3L, 'looked': 1L, 'says,': 1L, 'discussion': 1L, 'when': 1L, 'shocked': 1L, 'how': 1L, 'other': 2L, 'instead': 1L, 'you': 8L, 'if': 4L, '\"leader': 1L, 'explaining': 1L, 'order,': 2L, 'sure': 1L, 'apology.': 1L, 'rude': 2L, 'away.': 1L, 'after': 2L, 'basis,': 1L, 'asks,': 2L, 'in,': 1L, 'coming': 1L, 'order...sammy': 1L, 'such': 1L, 'being.': 1L, 'aka': 1L, 'butter': 5L, 'remember': 1L, 'i': 7L, 'maybe': 1L, 'register': 1L, 'well': 1L, 'walked': 1L, 'having': 1L, 'thought': 2L, 'person': 2L, 'so': 3L, 'out.': 1L, 'at': 5L, \"she's\": 1L, 'the': 9L, 'order': 2L, 'shake?\"': 1L}, {'and': 1L, 'dine': 1L, 'love': 1L, 'is': 4L, 'one': 1L, 'top.': 1L, 'miss': 1L, 'before': 1L, 'orleans': 1L, 'i': 2L, 'for': 1L, 'their': 1L, 'cherry': 1L, 'tgif': 1L, 'since': 1L, 'review.': 1L, 'to': 4L, 'going': 1L, 'place': 1L, 'drinks': 1L, 'ever': 1L, 'gamble': 1L, 'happy': 1L, 'after': 1L, 'food': 1L, 'dessert': 1L, 'never': 1L, 'but': 1L, 'not': 1L, 'a': 1L, 'on': 2L, 'great': 1L, 'hour': 1L, 'this': 1L, 'good,': 1L, 'inside': 1L, 'movies': 1L, '(or': 1L, 'gamblers).': 1L, 'bowling': 1L, 'the': 5L, 'or': 2L, 'wrote': 1L}, {'and': 4L, 'this': 1L, 'love': 1L, 'unwind': 1L, 'fan!!': 1L, 'is': 3L, 'am': 1L, 'it': 1L, 'one': 1L, 'in': 1L, 'my': 1L, 'dream': 1L, 'tables': 1L, 'true.': 1L, 'service': 1L, 'since': 1L, 'due': 1L, 'to': 2L, 'big': 1L, 'yogurtland': 1L, 'friendly': 1L, 'a': 2L, 'ambiance': 1L, 'cozy': 1L, 'relaxing': 1L, 'overall': 1L, 'fave': 1L, 'plenty': 1L, 'come': 1L, 'town': 1L, 'square.': 1L, 'unlike': 1L, 'chairs': 1L, 'of': 1L, 'venue': 1L, 'warm.': 1L, 'i': 2L, 'definitely': 1L, 'froyo': 1L, 'the': 2L, 'makes': 1L, '~': 1L}, {'irresistible.': 1L, 'just': 1L, 'food': 2L, 'is': 3L, 'ambiance': 1L, 'it': 1L, 'are': 1L, 'delicious': 1L, 'mellow': 1L, '(almost': 1L, 'for': 1L, '&': 1L, 'yet': 1L, 'bbq).': 1L, 'be': 1L, 'good': 1L, 'very': 2L, 'overall': 1L, 'but': 1L, 'back': 1L, 'warm': 1L, 'more!': 1L, 'coming': 1L, 'prices': 1L, 'thai': 3L, 'with': 1L, 'portions.': 1L, 'like': 1L, 'scrumptious': 1L, 'panna': 1L, 'will': 1L, 'reasonable': 1L, 'friendly.': 1L, 'private,': 1L, 'makes': 1L, '~': 1L}, {'coconut': 1L, 'steamed': 1L, 'pork': 1L, 'is': 2L, 'favorite.': 1L, 'cakes': 1L, 'mocha': 1L, 'are': 1L, 'balls.': 1L, 'their': 1L, 'yummy': 1L, 'also': 1L, '-': 1L, 'buns': 1L, 'must-have!': 1L, 'only': 1L, 'green': 1L, 'red': 1L, 'get': 1L, 'bean': 1L, 'birthday': 1L, 'with': 1L, 'a': 1L, 'this': 1L, 'my': 1L, 'order': 1L, 'sesame': 1L, 'i': 2L, 'filling': 1L, 'place': 1L, 'cake': 1L, 'the': 1L, 'where': 2L, 'or': 1L}, {'and': 1L, 'a': 1L, 'kind': 1L, 'shakes.': 1L, 'would': 1L, 'i': 1L, 'of': 1L, 'this': 1L, 'person,': 1L, 'burgers': 1L, 'have': 1L, 'delicious': 1L, 'recommend': 1L, 'not': 1L, 'islands': 1L, 'thick': 1L, 'place.': 1L, 'however,': 1L, \"i'm\": 1L, 'burger-fries-shake': 1L}, {'even': 1L, 'guacamole': 1L, 'especially': 1L, \"it's\": 1L, 'inside': 1L, 'delish': 1L, 'tacos': 1L, 'venetian.': 1L, 'their': 1L, 'pricey': 1L, 'so': 1L, 'are': 1L, 'not': 1L, 'chicken': 1L, 'if': 1L, 'the': 1L, '~': 1L}, {'and': 4L, 'they': 2L, 'deliver.': 1L, 'is': 2L, 'minutes.': 1L, 'most.': 1L, 'in': 1L, 'our': 1L, 'enjoyed': 1L, 'packed': 1L, 'service': 1L, 'to': 1L, \"it's\": 1L, 'friends': 1L, 'food': 2L, '5': 1L, 'wait': 1L, 'was': 2L, 'friendly': 1L, 'affordable': 1L, 'good': 1L, 'that': 2L, 'very': 1L, 'dessert': 1L, 'price': 1L, 'time': 1L, 'june': 1L, 'but': 1L, 'here': 1L, 'see!': 1L, 'table': 1L, 'must': 1L, 'for': 1L, 'i': 2L, 'server': 1L, 'knowledgable,': 1L, 'range': 1L, 'place': 1L, 'were': 2L, 'the': 4L, 'my': 1L, '~': 1L}, {'and': 2L, 'all': 1L, 'love': 1L, 'downfall': 1L, 'is': 2L, 'lemonade': 1L, 'xd': 1L, 'quiet': 1L, 'not': 1L, 'are': 1L, 'strip': 1L, 'chicken': 1L, 'yet': 1L, 'scale': 1L, 'end': 1L, 'their': 2L, 'lux': 1L, \"it's\": 1L, 'topped': 1L, 'menus': 1L, 'only': 1L, 'creme': 1L, 'grand': 1L, 'off.': 1L, 'higher': 1L, 'that': 1L, 'food': 1L, 'cheesecake': 1L, 'dessert.': 1L, \"brulee'\": 1L, 'fan': 1L, 'resort': 1L, 'factory.': 1L, 'with': 1L, \"i'm\": 1L, 'especially': 1L, 'a': 1L, 'on': 1L, 'different.': 1L, 'i': 1L, 'of': 2L, 'inside': 1L, 'days': 1L, 'flautas': 1L, 'venetian': 1L, 'strawberry': 1L, 'very': 1L, 'the': 5L, 'similar': 1L, 'my': 1L}, {'and': 1L, 'is': 4L, 'better.': 1L, 'prefer': 1L, 'enjoyed': 1L, 'for': 1L, 'fair.': 1L, \"archi's\": 2L, 'place,': 1L, 'pretty,': 1L, 'bbq': 1L, 'good': 1L, 'food': 1L, 'ambiance': 1L, 'overall': 1L, 'sister': 1L, 'but': 1L, 'however': 1L, 'most': 1L, 'delicious.': 1L, 'not': 1L, 'thai': 1L, 'suggested': 1L, 'younger': 1L, 'service': 1L, 'lunch': 1L, 'i': 2L, 'experience': 1L, 'the': 2L, 'my': 1L}, {'and': 2L, 'selection': 1L, 'vegas!': 1L, 'quaint': 1L, 'my': 1L, 'never': 1L, 'fave': 1L, 'wrong.': 1L, 'one': 1L, 'asian': 1L, 'friendly,': 1L, 'bakery': 1L, 'of': 1L, 'can': 1L, 'in': 1L, 'go': 1L, 'good': 1L, 'breads,': 1L, 'cakes.': 1L, 'pastries': 1L}, {'and': 3L, 'yummy!': 1L, 'bananas': 1L, 'fluffy': 1L, 'it': 1L, 'go': 1L, 'milk': 1L, 'for': 1L, 'snow': 1L, 'next': 1L, 'their': 1L, 'time.': 1L, 'tea.': 1L, 'new': 2L, 'was': 1L, 'red': 1L, 'discovery': 1L, 'condensed': 1L, 'tried': 1L, 'but': 1L, 'boba': 1L, 'with': 2L, 'i': 2L, 'will': 1L, 'mango': 2L, 'toppings': 1L, 'place': 1L, 'mocha,': 1L, 'my': 1L, '~': 1L}, {'an': 1L, 'uplifting': 1L, 'service': 1L, '&': 1L, 'mood.': 1L, 'is': 3L, 'ambiance': 1L, 'breakfast': 1L, 'for': 1L, 'high': 1L, 'food': 1L, 'place': 1L, 'but': 1L, 'kinda': 1L, 'excellent': 1L, 'the': 2L, 'delicious,': 1L, 'price': 1L, 'gives': 1L}, {'and': 4L, 'is': 3L, 'one': 1L, 'say': 1L, 'are': 1L, 'staff': 1L, 'would': 2L, 'weekends': 1L, '-': 1L, 'been': 1L, 'to': 1L, 'only': 1L, \"there's\": 1L, 'location': 1L, 'recommend': 1L, 'courteous,': 1L, 'friendly': 1L, '10': 1L, 'it.': 1L, 'good': 1L, \"i've\": 1L, 'food': 1L, 'but': 1L, 'reasonable.': 1L, 'prices': 1L, 'come': 1L, 'minute': 1L, 'wait': 1L, 'on': 1L, 'about': 1L, '15': 1L, 'for': 1L, 'i': 3L, 'this': 1L, 'dinner': 1L, 'usually': 1L, 'the': 3L}, {'and': 2L, 'selection': 1L, 'beer)': 1L, 'vegas!!': 1L, 'burger': 1L, 'as': 1L, 'well.': 1L, 'are': 1L, 'have': 1L, 'in': 1L, 'their': 1L, 'best': 1L, 'if': 1L, 'blue': 1L, '(totally': 1L, 'for': 1L, 'must-try': 1L, 'appetizers': 1L, 'definite': 1L, 'moon': 1L, 'sliders': 1L, 'chicken,': 1L, 'delicious)': 1L, 'pint': 1L, 'empanadas': 1L, 'around': 1L, 'jerk': 1L, '$5': 2L, 'never': 1L, \"you've\": 1L, 'they': 1L, 'been!': 1L, '(and': 1L, '$3': 1L, 'a': 3L, 'like': 1L, 'hour': 1L, 'of': 2L, 'jamaican': 1L, 'happy': 1L, 'martini': 1L}, {'and': 2L, 'scrumptious.': 1L, 'tea': 1L, 'is': 4L, 'some': 1L, 'one': 1L, 'casual': 1L, 'staff': 1L, 'lunch!': 1L, 'for': 2L, 'iced': 1L, 'quaint': 1L, 'chicken.': 1L, 'recommended': 1L, 'size': 1L, 'bbq': 1L, 'food': 1L, 'price': 1L, 'spot': 1L, 'but': 1L, 'friendly,': 1L, 'lunch': 1L, 'thai': 2L, 'highly': 1L, 'craving': 1L, 'restaurant': 1L, 'whenever': 1L, 'of': 1L, 'favorite': 1L, 'cheap,': 1L, \"i'm\": 1L, 'my': 1L}, {'a': 1L, 'this': 2L, 'great': 1L, 'selection': 1L, 'love': 1L, 'and': 1L, 'unlike': 1L, 'i': 1L, 'is': 2L, 'buffet': 1L, 'choice': 1L, 'buffet.': 1L, 'good': 1L, 'other': 1L, 'place!': 1L, 'food': 1L, 'such': 1L, 'the': 1L, 'my': 1L, 'off-strip.': 1L, 'first': 1L}, {'tea-flavored': 1L, 'and': 2L, 'pork': 1L, 'taro': 1L, 'love': 1L, 'i': 2L, 'spiced': 1L, 'girls': 1L, 'snow': 2L, 'ice': 1L, 'chop': 1L, 'this': 1L, 'are': 2L, 'always': 1L, 'balls,': 1L, 'favorites.': 1L, 'white': 1L, 'place.': 1L, 'my': 2L, 'here.': 1L}, {'filipino': 1L, 'food': 1L, 'of': 1L, 'vegas.': 1L, 'fave': 1L, 'fast': 1L, 'one': 1L, 'here': 1L, 'in': 1L, 'my': 1L, 'restaurants': 1L}, {'and': 2L, 'love': 1L, 'specially': 1L, 'chinese': 2L, 'is': 3L, 'cheap': 1L, 'delicious': 1L, 'girlfriend': 1L, 'cafe': 1L, 'any': 1L, 'best': 1L, 'restaurant,': 1L, 'little': 1L, 'service': 1L, 'other': 1L, 'customer': 1L, 'food': 2L, 'price': 1L, 'but': 1L, 'specials.': 2L, 'lunch': 2L, 'off.': 1L, 'a': 1L, 'noodle': 1L, 'like': 1L, 'i': 1L, 'does': 1L, 'have': 1L, 'the': 1L, 'my': 1L}, {'and': 4L, 'atmosphere': 1L, 'is': 4L, 'one': 1L, \"lucille's.\": 1L, 'are': 1L, 'in': 1L, 'staff': 1L, 'would': 1L, 'vegas,': 1L, 'next': 1L, 'to': 1L, 'recommend': 1L, 'casual,': 1L, 'place.': 1L, 'available,': 1L, 'bbq': 2L, 'good': 1L, 'food': 1L, 'relaxed': 1L, 'famous': 1L, 'prices': 1L, \"dave's\": 1L, 'memphis': 1L, 'reasonable.': 1L, 'this': 1L, 'of': 1L, 'delish': 1L, 'friendly': 1L, 'i': 1L, 'the': 3L, 'restaurants': 1L}, {'and': 3L, 'ohh': 1L, 'price.': 1L, 'family': 1L, 'over': 1L, 'house.': 1L, 'highly': 1L, 'as': 1L, 'decided': 1L, 'at': 2L, 'delicious': 1L, 'from': 1L, 'her': 1L, 'oprah': 1L, \"it's\": 2L, 'for': 1L, 'lv': 1L, 'to': 2L, 'cafe.': 1L, 'ambience': 1L, 'place': 1L, 'was': 1L, 'is': 3L, 'we': 1L, 'recommended!': 1L, \"i've\": 1L, 'food': 1L, 'excellent,': 1L, 'however': 1L, 'quite': 1L, 'downtown': 1L, 'job': 1L, 'such': 1L, 'wanted': 1L, 'celebrate': 1L, 'a': 3L, 'on': 1L, 'sister': 1L, 'angel,': 1L, 'service': 1L, 'this': 1L, 'always': 1L, 'florida': 1L, 'drive': 1L, 'try': 1L, 'dinner': 1L, 'fabulous': 1L, 'so': 1L, 'reasonable': 1L, 'friendly.': 1L, 'everything': 1L, 'the': 3L, 'my': 2L, 'wine': 1L}, {'all': 1L, 'kinda': 1L, 'chinese': 1L, 'is': 2L, 'convenient.': 1L, 'deep': 1L, 'an': 1L, 'good': 1L, 'have': 1L, 'open': 1L, 'service': 1L, 'their': 1L, \"it's\": 1L, 'better': 1L, 'to': 1L, 'delicious.': 1L, 'you': 1L, 'until': 1L, 'be': 1L, 'used': 1L, 'food': 1L, 'tofu': 1L, 'however': 1L, 'but': 2L, 'they': 1L, 'pricey,': 1L, 'the': 3L, 'must': 1L, 'a': 1L, \"lil'\": 1L, 'restaurant': 1L, 'attitude.': 1L, '2am;': 1L, 'try': 1L, 'so': 1L, 'can': 1L, \"that's\": 1L, 'very': 1L, \"i'm\": 1L, 'fried': 1L, 'restaurants,': 1L, '~': 1L}, {'and': 3L, 'all': 1L, 'selection': 1L, 'course': 1L, 'almost': 1L, 'is': 2L, 'back': 1L, 'ordering': 1L, 'all-time': 1L, 'because': 1L, 'are': 1L, 'another': 1L, 'in': 1L, '^_^': 1L, 'chicken': 1L, 'shrimp': 1L, 'drinks.': 1L, 'end': 1L, 'their': 1L, 'tremendous': 1L, 'come': 1L, 'appetizers': 1L, 'definite': 1L, 'same': 1L, 'to': 1L, 'delicious.': 1L, 'carbonara': 1L, 'happy': 1L, 'food': 1L, 'cheesecake': 1L, 'each': 1L, 'fave': 1L, 'different': 1L, 'here': 1L, 'reason': 1L, 'vegas': 1L, 'every': 1L, 'they': 1L, 'half': 1L, 'pasta': 1L, 'dine': 1L, 'with': 1L, 'a': 2L, 'off': 1L, 'hour': 1L, 'restaurant': 1L, 'i': 3L, 'of': 1L, 'up': 1L, 'order': 1L, 'thing': 1L, 'time': 2L, 'the': 2L, 'or': 1L, '~': 3L}, {'and': 1L, 'selection': 1L, 'they': 1L, 'people': 1L, 'house': 1L, 'is': 3L, 'one': 1L, 'cocktails': 1L, 'have': 2L, 'in': 1L, 'if': 1L, 'blue': 1L, 'drinks.': 1L, 'for': 1L, 'vegas.': 1L, '-': 1L, 'to': 2L, 'watch.': 1L, 'music': 1L, 'new': 1L, 'wants': 1L, 'libacious': 1L, 'good': 1L, 'blaring': 1L, 'food': 1L, 'spot': 2L, 'hang-out': 1L, 'besides': 1L, 'vast': 1L, 'las': 1L, 'a': 4L, 'yard': 1L, 'always': 1L, 'martini': 1L, 'conversation': 1L, 'so': 1L, 'of': 1L, 'the': 1L, 'or': 1L, 'patio': 1L}, {'right': 1L, 'is': 2L, 'from': 1L, 'tiramisu': 1L, 'good,': 1L, 'across': 1L, 'red': 1L, 'food': 1L, 'dessert': 1L, 'resort.': 1L, 'but': 1L, 'location,': 1L, 'coming': 1L, 'olive': 1L, 'why': 1L, 'summerlin': 1L, 'i': 1L, 'favorite': 1L, 'reason': 1L, 'keep': 1L, 'back.': 1L, \"garden's\": 1L, 'rock': 1L, 'the': 2L, 'my': 1L}, {'and': 2L, 'house': 1L, 'is': 4L, 'year': 1L, 'ambiance': 1L, 'it': 1L, 'at': 1L, 'in': 1L, 'breakfast': 1L, 'list!': 1L, 'yet': 1L, 'best': 1L, 'staff': 1L, 'bite.': 1L, 'missed': 1L, 'been': 1L, 'to': 1L, 'upbeat': 1L, 'excellent.': 1L, 'younger': 1L, 'hash': 1L, 'food': 1L, 'price': 1L, 'sister': 1L, 'here': 1L, 'all-day': 1L, 'me': 1L, 'comfy,': 1L, 'reasonable,': 1L, 'in-love': 1L, 'a': 1L, 'on': 1L, 'about': 1L, 'restaurant': 1L, 'i': 3L, 'alot!': 1L, 'fell': 1L, \"haven't\": 1L, 'friendly,': 1L, 'introduced': 1L, 'my': 2L, 'first': 1L}, {'and': 2L, 'relaxed,': 1L, 'managed': 1L, 'is': 3L, 'ambiance': 1L, 'back': 1L, 'guests': 1L, 'water.': 1L, 'our': 1L, 'refill': 1L, 'check': 1L, 'really': 1L, '$119.00': 1L, 'again': 1L, 'little': 1L, 'busy': 1L, 'service': 1L, 'to': 2L, 'come': 1L, '(which': 1L, '=)': 1L, 'good!': 1L, 'other': 1L, 'oriental': 1L, 'delicious!': 1L, 'love!).': 1L, 'party': 1L, 'out': 1L, 'was': 1L, 'friendly': 1L, 'be': 1L, 'food': 2L, 'price': 1L, '7,': 1L, 'overall': 1L, 'food,': 1L, 'however': 1L, 'reasonable.': 1L, 'with': 1L, 'a': 2L, 'for': 1L, 'i': 1L, 'of': 1L, 'server': 1L, 'will': 1L, 'she': 1L, 'ambiance,': 1L, 'very': 2L, 'my': 1L, 'came': 1L, '~': 2L}, {\"i'll\": 1L, 'crazy': 1L, 'palate': 1L, 'chinese': 1L, 'better,': 1L, 'is': 5L, 'ambiance': 1L, 'one': 1L, 'nothing': 1L, 'asian': 1L, 'go': 1L, 'yet': 1L, 'what': 1L, 'service': 1L, 'since': 1L, 'does': 1L, '8': 1L, 'friendly': 1L, 'red': 1L, 'nice': 1L, 'encore.': 1L, 'food': 1L, 'price': 1L, 'however': 1L, 'but': 1L, 'food.': 1L, 'ridiculous': 1L, 'gorgeous,': 1L, 'authentic': 1L, 'improve': 1L, 'a': 1L, 'about': 1L, 'for': 1L, 'restaurant': 1L, 'inside': 2L, 'okay.': 1L, 'can': 1L, 'loves': 1L, 'the': 2L, 'my': 1L, 'encore': 1L, 'expect': 1L}, {'and': 2L, 'xd': 1L, 'an': 1L, 'have': 1L, 'girl': 1L, 'cardio': 1L, 'girls': 1L, 'long': 1L, 'their': 1L, 'between': 1L, 'after': 1L, 'chocolate': 1L, 'vesuvious': 1L, 'indulge': 1L, 'workouts.': 1L, 'weekend': 1L, 'cake.': 1L, 'a': 3L, 'hour': 1L, 'i': 1L, 'of': 1L, 'favorite': 1L, 'mango': 1L, 'can': 1L, 'my': 1L, 'martini': 1L, '~': 1L}, {'beautiful': 1L, 'love': 1L, 'delicious': 1L, 'just': 1L, 'town!': 1L, '-': 1L, 'is': 5L, 'sushi': 3L, 'ambiance': 1L, 'japanese': 1L, 'private': 1L, 'highly': 1L, 'have': 1L, 'in': 2L, 'service': 1L, 'to': 2L, 'at.': 1L, 'when': 1L, 'their': 1L, 'new': 1L, 'lovely': 1L, 'biased': 1L, 'oyshi': 1L, 'food': 1L, 'big': 1L, 'price': 1L, 'fave': 1L, 'it': 1L, 'reasonable.': 1L, 'mural': 1L, 'they': 1L, 'excellent': 1L, 'however,': 1L, 'look': 1L, 'a': 1L, 'room': 1L, 'i': 1L, 'my': 1L, 'recommended!!': 1L, 'so': 2L, \"i'm\": 1L, 'restaurants,': 1L, 'comes': 1L, '~': 3L}, {'palatable': 1L, 'ate': 1L, 'like': 1L, 'food': 1L, 'come': 1L, 'is': 1L, 'better.': 1L, 'but': 2L, 'back.': 1L, 'i': 2L, 'here': 1L, 'the': 1L, 'might': 1L, 'thai': 1L, 'bbq': 1L, 'once': 1L}, {'and': 1L, 'cookies': 1L, 'ice': 1L, 'homemade': 1L, 'just': 1L, 'variety': 1L, 'i': 1L, 'dessert.': 1L, 'but': 1L, 'thrifty': 1L, 'cream;': 1L, 'so': 1L, 'are': 2L, 'want': 1L, 'in': 1L, 'the': 2L, 'delicious,': 1L, 'more': 1L}, {'and': 2L, 'all': 1L, 'have': 4L, \"don't\": 1L, 'southwest!': 1L, 'service!': 1L, 'lack': 1L, 'xd': 1L, 'are': 2L, '(if': 1L, 'in': 1L, 'any': 1L, 'best': 1L, 'service.': 1L, 'even': 1L, 'taro': 1L, 'for': 1L, '(for': 1L, 'point': 1L, '-': 1L, 'drinks!': 1L, 'than': 1L, 'their': 1L, 'delicious': 1L, '5': 1L, 'want).': 1L, 'pretty': 1L, 'tea': 1L, 'place': 1L, 'you': 2L, 'order': 1L, 'is': 2L, 'location': 1L, 'topping': 1L, 'fyi': 1L, '10': 2L, 'that': 1L, 'me)!': 1L, 'drink': 1L, 'overall': 1L, 'boba': 1L, 'minutes.': 1L, 'if': 1L, 'fast.': 1L, 'they': 2L, 'long,': 1L, 'yummy': 1L, 'line': 1L, 'on': 2L, 'boba!': 1L, 'bar.': 1L, \"they're\": 1L, 'great': 3L, 'compliments': 1L, 'longer': 1L, 'i': 3L, 'always': 2L, 'drinks': 2L, 'never': 1L, 'lightning': 1L, 'so': 1L, 'can': 1L, 'amazing!': 1L, 'brew': 1L, 'fresh': 1L, 'the': 3L, 'more': 1L, 'minutes': 1L, 'or': 1L, 'waited': 1L, '(yummy!)': 1L}, {'and': 3L, 'office': 1L, 'is': 1L, 'durango': 1L, 'delicious': 1L, 'chicken': 1L, 'little': 1L, 'busy': 1L, 'beef': 1L, 'iced': 1L, 'noon': 1L, 'when': 1L, 'to': 1L, 'tea.': 1L, 'gets': 1L, 'teriyaki': 1L, 'around': 1L, 'serve': 1L, 'here': 1L, 'it': 1L, 'lunch': 1L, 'but': 1L, 'they': 1L, 'thai': 1L, '2pm': 1L, 'a': 1L, 'on': 1L, 'ate': 1L, 'i': 1L, 'was': 1L, 'the': 1L, 'my': 1L}, {'yum!': 1L, 'town': 1L, 'taro': 1L, 'square.': 1L, 'on': 1L, 'flick': 1L, 'stop': 1L, 'catching': 1L, 'our': 1L, 'the': 1L, 'latest': 1L, 'pit': 1L, 'is': 1L, 'before': 1L}, {'and': 2L, 'because': 1L, 'just': 2L, 'then': 1L, 'experience.': 1L, 'is': 1L, 'minutes': 1L, 'people': 1L, 'it': 3L, 'an': 1L, 'in': 1L, 'medium/large': 1L, 'now,': 1L, 'again': 1L, 'maybe': 1L, '20': 1L, 'for': 2L, 'with': 1L, 'there': 2L, 'had': 1L, 'three': 1L, 'better': 1L, 'machine': 1L, \"we're\": 1L, 'stars': 1L, 'hopefully': 1L, 'got': 1L, 'many': 1L, 'cause': 1L, 'stopped.': 1L, 'be': 1L, 'we': 1L, 'that': 2L, 'room,': 1L, 'after': 1L, 'however': 1L, 'back': 1L, 'were': 1L, 'too': 1L, 'coming': 1L, 'saturday.': 1L, 'friends': 1L, 'wait': 1L, 'a': 3L, 'night': 1L, 'great': 1L, 'room': 2L, 'hour': 1L, 'this': 1L, 'was': 3L, 'later': 1L, 'will': 1L, 'i': 1L, 'supposed': 1L, 'time': 3L, 'the': 3L, 'first': 1L, 'my': 1L, '~': 1L}, {'and': 1L, 'reviews.': 1L, 'delicious': 1L, 'is': 1L, 'are': 1L, 'another': 1L, 'in': 2L, 'bikini-beach': 1L, 'irresistible': 1L, 'up.': 1L, 'for': 3L, 'few': 1L, 'since': 1L, 'vacation': 1L, 'been': 1L, 'their': 1L, 'so': 2L, 'weeks': 1L, \"haven't\": 1L, 'more': 1L, 'watch': 1L, 'fave': 1L, 'diet': 1L, 'vegas': 1L, 'coming': 1L, 'las': 1L, 'a': 3L, 'on': 1L, 'must-try!': 1L, 'oh': 1L, 'this': 1L, 'i': 1L, 'bakery': 1L, 'place': 1L, \"i'm\": 1L, 'pastries': 1L, 'my': 1L, '~': 2L}, {'and': 1L, 'venu': 1L, 'food': 1L, 'mediterranean': 1L, 'strip.': 1L, 'quick.': 1L, 'little': 1L, 'from': 2L, 'service': 1L, 'to': 2L, 'quaint': 1L, 'had': 1L, 'far': 1L, 'too': 1L, 'several': 1L, 'was': 2L, 'friendly': 1L, 'good.': 1L, 'very': 1L, 'italian.': 1L, 'not': 1L, 'the': 1L, 'a': 1L, 'menu.': 1L, 'choices': 1L, 'large': 1L, 'greek': 1L, 'moraccan': 1L, 'spicy.': 1L}, {'and': 6L, 'ever.': 1L, 'delicious': 2L, 'agreed': 1L, 'it': 2L, 'cocktails': 1L, 'service': 1L, 'have': 1L, 'chicken': 3L, 'waffles': 1L, 'saved': 1L, 'best': 2L, 'for': 2L, 'had': 3L, 'was': 3L, 'next': 1L, 'chicken.': 1L, 'mimosas.': 1L, 'ambience.': 1L, 'green': 1L, 'ever': 1L, 'plain': 1L, 'we': 3L, 'loved': 1L, 'started': 1L, 'desert!': 1L, 'blt.': 1L, 'excellent': 1L, 'brunch': 1L, 'with': 1L, 'the': 7L, 'tomato': 1L, 'both': 1L, 'room': 1L, 'had.': 1L, 'i': 4L, 'wish': 1L, 'so': 2L, 'husband': 1L, 'were': 2L, 'went': 1L, 'fried': 4L, 'my': 1L, 'unique.': 1L}, {'and': 3L, '$24),': 1L, 'vegas': 1L, 'selection': 2L, 'is': 1L, 'hanging': 1L, 'it': 2L, 'rest': 1L, 'desserts': 1L, 'dinner-type': 1L, 'tasty': 1L, 'complete': 1L, 'in': 1L, 'food,': 1L, 'mary/champagne.': 1L, 'brunch': 2L, 'out': 1L, 'decor': 1L, 'for': 2L, '&': 1L, 'much': 1L, '(around': 1L, 'mimosa/bloody': 1L, 'better': 1L, 'gelato,': 1L, 'definitely': 1L, 'macaroni': 1L, 'pretty': 1L, 'expected': 1L, 'covered': 1L, 'was': 1L, 'food!': 1L, 'be': 1L, 'we': 1L, 'cosmopolitan': 1L, 'to': 1L, 'installations': 1L, 'both': 1L, 'with': 2L, 'price': 1L, 'hotel': 1L, 'theme.': 1L, 'here': 1L, 'chocolate': 1L, 'glass': 1L, 'strawberries!)': 1L, 'buffet': 1L, 'included': 1L, 'line': 1L, 'food.': 1L, '(especially': 1L, 'than': 1L, 'a': 3L, 'on': 1L, 'great': 3L, 'i': 1L, 'of': 3L, 'well': 1L, 'as': 2L, 'try': 1L, 'regular': 1L, 'free': 1L, 'monday.': 1L, 'the': 8L, 'amazing,': 1L, 'cheese.': 1L, 'came': 1L}, {'satisfied': 1L, 'cold': 1L, 'seemed': 1L, '(steak': 1L, 'paris': 1L, 'menu': 1L, 'had': 2L, 'should': 1L, 'to': 4L, 'only': 2L, 'butter),': 1L, 'worth': 1L, 'ami': 1L, 'around': 1L, 'lunch': 1L, 'fan': 1L, 'mon': 1L, 'not': 2L, 'rice!': 1L, 'bread': 1L, 'like': 1L, 'did': 1L, 'night': 1L, 'served': 2L, 'steak': 3L, 'meal': 1L, 'tartare...': 1L, 'enjoy': 1L, 'partying.': 1L, 'lorraine.': 1L, 'bites;': 1L, 'quiche': 2L, 'what': 1L, 'for': 2L, 'vegas.': 1L, 'since': 1L, 'looking': 1L, 'lorraine': 1L, 'got': 1L, 'ever': 1L, 'full': 1L, 'eating': 1L, 'french': 1L, 'by': 1L, 'good!!!': 1L, 'here': 2L, 'wanted': 1L, 'craving': 1L, 'on': 2L, 'classique': 1L, 'eat': 2L, 'restaurant': 1L, 'of': 2L, 'craving!': 1L, 'side': 1L, '16-course': 1L, \"would've\": 1L, \"i'm\": 1L, 'whole': 1L, 'myself,': 1L, 'jg),': 1L, 'highly': 1L, 'butter!': 1L, 'been': 2L, 'balanced.': 1L, 'requested.': 1L, \"you're\": 1L, 'be.': 1L, 'tasting': 1L, 'long': 1L, 'next': 1L, 'few': 1L, 'too': 1L, 'way': 1L, 'rare,': 1L, 'ph': 1L, 'perfectly': 2L, 'was': 6L, 'friend': 1L, 'note,': 1L, 'you,': 1L, 'that': 5L, 'lie...': 1L, 'but': 3L, 'warm': 1L, 'with': 1L, 'white': 1L, 'delicious,': 1L, 'wish': 1L, 'crusty,': 1L, 'well.': 1L, 'my': 2L, 'at': 3L, 'and': 5L, 'is': 2L, 'it': 3L, 'disappointing': 1L, 'as': 2L, 'medium': 1L, \"(i'm\": 1L, 'in': 1L, 'saw': 1L, 'orders': 1L, 'baguette': 1L, 'when': 1L, 'split': 1L, 'nice': 1L, 'huge': 1L, 'gabi': 1L, 'after': 1L, 'food,': 1L, 'arrived': 1L, 'coming': 1L, 'nice,': 1L, 'friends': 1L, 'a': 5L, 'i': 9L, 'door.': 1L, 'their': 1L, 'cooked': 1L, 'definitely': 3L, 'so': 2L, 'time': 1L, 'the': 11L, 'came': 1L}, {'rating': 1L, 'appease': 1L, 'just': 2L, 'less': 1L, 'food': 6L, 'agreed': 1L, 'only,': 1L, 'edamame,': 1L, '15),': 1L, 'classic': 1L, 'still': 1L, '(which': 1L, 'before': 1L, 'tdf),': 1L, 'with,': 1L, 'with.': 1L, 'group': 3L, 'moist': 1L, 'menu': 2L, 'unwillingness': 1L, 'had': 3L, 'fair,': 1L, 'to': 17L, 'only': 1L, 'going': 1L, 'black': 1L, 'pretty': 1L, 'sampler': 1L, 'grilled': 1L, 'sauce': 1L, 'worth': 1L, 'it.': 1L, 'eventually': 1L, 'it,': 1L, 'sitting': 1L, 'far': 1L, 'overdone': 1L, 'appetizer': 1L, 'menus': 1L, 'made': 1L, 'they': 1L, '(while': 1L, 'not': 3L, 'great,': 1L, 'fine,': 1L, 'like': 2L, 'did': 1L, 'delicious,': 1L, 'server': 1L, 'large': 3L, 'stars.': 1L, 'continue': 1L, 'rock': 1L, 'small': 1L, 'give-me-milk-to-guzzle-now': 1L, 'sushisamba': 1L, 'soft': 1L, 'whomever': 1L, 'pork': 1L, 'because': 1L, 'served,': 1L, 'people': 2L, 'group,': 1L, 'hard': 1L, 'some': 4L, 'somehow': 1L, 'flaky,': 1L, 'see': 1L, 'are': 1L, 'sea': 1L, 'perfect': 1L, 'our': 7L, 'best': 1L, 'out': 3L, 'even': 1L, 'what': 1L, 'for': 2L, 'time.': 1L, 'start.': 1L, 'goes': 1L, 'truffle': 1L, 'fall': 1L, 'shooters': 1L, 'available': 1L, 'be': 3L, 'we': 6L, 'bass': 1L, 'tempura': 1L, 'got': 3L, 'were': 5L, 'here': 1L, 'honestly,': 2L, 'thanks,': 1L, 'let': 1L, 'members': 1L, 'others': 1L, 'alone': 1L, 'carte,': 1L, 'come': 2L, 'by': 1L, 'care': 1L, '(about': 1L, 'sending': 1L, 'about': 1L, 'would': 2L, 'eat': 1L, 'restaurant': 3L, 'many': 1L, 'could': 4L, 'la': 1L, 'times': 1L, 'amount': 1L, 'place': 1L, 'way.': 1L, 'amazingly': 1L, 'however,': 1L, 'or': 2L, 'comes': 1L, 'fish.': 1L, 'fish,': 1L, 'for.': 1L, 'point': 1L, 'feel': 1L, 'seems': 1L, 'into': 1L, 'one': 1L, 'accommodate': 1L, 'ask': 1L, 'talked': 1L, 'anywhere.': 1L, 'short,': 1L, 'impossible': 1L, 'horrible.': 2L, '(the': 1L, \"you're\": 1L, '\"fighting\".': 1L, 'wants,': 1L, 'service': 2L, 'tasting': 2L, \"it's\": 1L, 'give': 1L, 'two': 1L, 'been': 1L, 'their': 1L, 'tastes,': 1L, 'upbeat': 1L, 'perfectly': 1L, '\"incorporate': 1L, 'more': 1L, 'sort': 1L, 'dry,': 1L, 'down);': 1L, 'delicious': 1L, 'that': 9L, 'understandably': 1L, 'skewers': 1L, \"'tasting\": 1L, 'much.': 1L, 'spring;': 1L, 'beans': 2L, 'peppers,': 1L, 'line': 1L, 'trying': 1L, 'with': 5L, 'than': 1L, 'sub-standard.': 1L, '15': 1L, '14': 2L, 'salad': 1L, 'raw': 2L, 'this': 5L, 'was': 11L, 'work': 1L, 'up': 1L, 'us': 3L, 'strange)': 1L, 'will': 1L, 'of': 8L, 'spicy,': 1L, 'fried': 2L, 'my': 1L, 'shrimp': 1L, 'and': 11L, 'over.': 1L, 'have': 1L, 'basically': 1L, 'look': 1L, 'almost': 1L, 'fine--she': 1L, 'is': 5L, 'sushi': 1L, \"didn't\": 1L, 'it': 5L, 'an': 1L, 'beefs': 1L, 'pushed': 1L, 'tastes': 1L, 'spicy': 2L, 'group.': 2L, 'at': 4L, 'want': 1L, 'in': 8L, 'chewiness': 1L, 'rolls..': 1L, 'haggled': 1L, 'as': 3L, 'if': 3L, 'decor': 1L, 'do.': 1L, 'varied': 1L, 'get': 3L, 'same': 2L, 'trip': 1L, 'also': 1L, 'amazing': 1L, 'interested': 1L, '5': 1L, 'so': 1L, 'you': 1L, 'really': 2L, 'here.': 1L, 'begin': 1L, 'sure': 2L, 'tried': 2L, 'dishes\"--sounds': 1L, 'any': 1L, 'price': 1L, 'who': 1L, 'but': 6L, 'such': 1L, 'tuna': 1L, \"i'm\": 2L, 'types': 1L, 'a': 8L, \"menu'\": 1L, 'i': 7L, 'well': 2L, 'meat': 1L, 'cooked': 1L, 'green': 2L, 'time': 1L, 'very': 1L, 'the': 22L, 'platter': 1L, 'came': 1L, 'shishito': 1L}, {'me': 1L, 'and': 1L, 'you,': 1L, 'ordered': 1L, 'thank': 1L, 'my': 1L, 'make': 1L, 'it': 1L, 'beautiful!': 1L, 'to': 1L, 'birthday': 1L, 'they': 1L, \"freed's:).\": 1L, 'cake': 1L, 'last': 1L, 'worked': 1L, 'with': 1L, 'minute': 1L, \"wife's\": 1L}, {'manager': 1L, 'ok,': 1L, 'drinks.': 1L, 'bill,': 1L, 'casino.': 1L, 'employer': 1L, 'late': 1L, 'to': 3L, 'questioned': 1L, 'someone': 1L, 'food': 1L, 'not': 1L, 'cool': 1L, 'like': 1L, 'reasonably': 1L, 'server': 1L, 'item': 1L, 'bad': 1L, 'lose': 1L, 'went': 2L, 'restaurants': 1L, 'cost': 1L, 'are': 1L, 'our': 2L, 'that,': 1L, 'venetian': 1L, 'matt': 1L, 'for': 2L, 'lux': 1L, 'pleasant,': 1L, 'learned': 1L, 'we': 1L, 'timms': 1L, 'never': 2L, 'come': 1L, 'on': 1L, 'about': 1L, 'of': 1L, 'timms,': 1L, 'dinner': 1L, 'options': 1L, 'beware!': 1L, 'into': 1L, 'within': 1L, \"girlfriend's\": 1L, 'better': 1L, 'her': 1L, 'there': 1L, 'charts': 1L, 'their': 1L, 'call': 1L, 'threaten': 1L, 'was': 3L, \"i've\": 1L, 'but': 1L, 'manager.': 1L, 'he': 1L, 'look': 1L, 'this': 1L, 'will': 1L, 'were': 1L, 'my': 3L, 'and': 3L, 'an': 1L, 'as': 1L, 'at': 1L, 'seen': 1L, 'cafe': 1L, 'night': 1L, 'make': 1L, 'when': 2L, 'far': 1L, 'mr.': 1L, 'grand': 1L, 'many': 1L, 'even': 1L, 'friends': 2L, 'a': 2L, 'locals.': 1L, 'off': 1L, 'especially': 1L, 'i': 2L, 'rude-': 1L, 'so': 2L, 'the': 5L, 'back!': 1L}, {'selection': 1L, 'into': 1L, 'some': 1L, 'presentation': 1L, 'flavors.': 1L, 'considering': 1L, 'selections.': 1L, 'service': 1L, 'everything': 1L, 'was': 3L, 'tried': 1L, 'very': 1L, 'they': 1L, 'put': 1L, 'tasty.': 1L, 'great': 1L, 'i': 1L, 'of': 3L, 'work': 1L, 'amount': 1L, 'quick': 1L, 'the': 3L, 'beautiful.': 1L}, {'and': 2L, 'saying': 2L, 'mexican': 1L, 'just': 1L, 'in': 3L, '\"i': 1L, 'drive': 1L, 'kitchen': 1L, 'need': 1L, 'las': 1L, 'replied': 1L, 'spanish': 1L, 'ready': 1L, 'seen': 1L, 'appetite': 1L, 'go': 1L, 'customer.': 1L, 'what': 1L, 'said': 1L, 'from': 1L, 'working': 1L, 'few': 1L, 'ordering': 1L, 'totally': 1L, 'vegas.': 1L, 'there': 1L, 'when': 1L, 'ish.': 1L, 'the': 2L, 'late': 1L, 'to': 1L, '5': 1L, 'about': 1L, 'coworkers': 1L, 'horrible': 1L, 'before': 1L, 'man': 1L, 'was': 3L, 'start': 1L, 'today': 1L, 'nicely': 1L, 'a': 3L, 'his': 1L, 'around': 1L, 'rude': 1L, 'spot': 1L, 'never': 1L, 'southern': 1L, 'pastor': 1L, 'but': 1L, 'back': 1L, 'offend,': 1L, 'let': 1L, 'they': 1L, 'not': 1L, \"i'm\": 1L, 'wanted': 1L, 'with': 1L, 'by': 2L, 'minutes\".': 1L, 'he': 1L, 'me': 2L, 'remark': 1L, 'highlands': 1L, 'off': 1L, 'for': 2L, 'i': 8L, 'employees': 1L, 'favorite': 1L, 'anything.': 1L, 'experience': 1L, 'ruined': 1L, 'yet.': 1L, 'this': 2L, 'loyal': 1L, 'without': 1L, 'so': 2L, 'greeted': 1L, 'night': 1L, 'usually': 1L, 'tacos!': 1L, 'went': 1L, 'my': 2L, 'asked': 1L, 'left': 1L}, {'and': 4L, 'roaster': 1L, 'area.': 1L, 'tasted': 1L, 'few': 1L, 'house': 1L, 'yummy.': 1L, 'am': 1L, 'it': 5L, 'as': 1L, 'ago.': 1L, 'are': 1L, 'in': 1L, 'find': 2L, 'if': 1L, 'use': 1L, '(equator)': 1L, 'would': 1L, 'area': 1L, 'giving': 1L, 'since': 1L, 'actually': 1L, 'to': 1L, 'only': 1L, '4': 1L, 'stars': 1L, 'enough,': 1L, 'neighborhood,': 1L, 'out': 1L, 'was': 3L, 'tell': 1L, 'relief!': 1L, 'be': 1L, 'we': 1L, 'sure': 1L, 'very': 1L, 'spoiled': 1L, 'quite': 1L, 'three.': 1L, 'coffee': 1L, 'a': 3L, 'they': 1L, 'the': 3L, 'dry': 1L, 'great': 1L, 'made': 1L, 'for': 1L, 'coffee,': 1L, 'i': 3L, 'croissant': 1L, 'could': 1L, 'cup': 1L, 'days': 1L, 'bay': 2L, 'good': 1L, 'of': 2L, 'however,': 1L, 'difficult': 1L, 'my': 2L, 'otherwise': 1L}, {'and': 1L, 'great-grandmothers': 1L, 'had': 2L, 'am': 1L, 'it': 1L, '$45ish.': 1L, 'lobster': 2L, 'have': 2L, 'dish': 1L, 'best': 1L, 'cooking.': 1L, 'for': 1L, 'la': 1L, '-': 2L, 'been': 1L, 'rivals': 1L, 'years.': 1L, 'was': 1L, 'carte': 1L, 'eating': 1L, 'homemade': 1L, 'period.': 1L, 'pasta': 3L, 'with': 1L, 'a': 1L, 'this': 1L, 'ever': 1L, 'i': 2L, 'the': 2L, 'my': 1L, 'italian': 1L}, {'and': 2L, 'give': 1L, 'it': 1L, 'cold': 1L, 'cream': 1L, 'would': 1L, \"it's\": 1L, 'had': 1L, 'due': 1L, 'ice': 1L, 'to': 1L, 'only': 1L, '5': 1L, '#makeitsweet': 1L, 'if': 1L, 'was': 1L, 'more': 1L, 'stars': 1L, 'that': 1L, 'very': 1L, 'here': 1L, 'they': 1L, 'excellent': 1L, 'by': 1L, 'made': 1L, 'liquid': 1L, 'i': 1L, 'seating.': 1L, 'time': 1L, 'the': 1L, 'nitrogen.': 1L, 'first': 1L}, {'a': 1L, 'and': 1L, 'coffee': 1L, 'here.': 1L, 'vietnamese': 1L, \"it's\": 1L, 'is': 1L, 'drink': 1L, 'first': 2L, 'good!': 1L, 'great!': 1L, 'place': 1L, 'boba': 2L, 'time': 1L, 'new': 1L, 'trying': 1L, 'my': 1L, 'milk': 1L, 'tea...super': 1L, 'out': 1L}, {'and': 1L, 'on': 1L, 'great': 1L, 'menu!': 1L, ':)': 1L, 'for': 1L, 'again': 1L, 'food': 2L, 'of': 1L, 'service!': 1L, 'variety': 1L, 'here': 1L, 'large': 1L, 'will': 1L, 'occasion.': 1L, 'a': 1L, 'came': 1L, 'the': 1L, 'come': 1L, 'special': 1L}, {'and': 1L, 'this': 2L, ':)': 1L, 'pastries...': 1L, 'of': 4L, 'it': 1L, 'highly': 1L, 'staying': 1L, 'as': 2L, 'good': 1L, 'tasty': 1L, 'at': 2L, 'have': 2L, 'in': 2L, 'our': 1L, 'seen': 1L, 'quality': 1L, 'if': 1L, \"you're\": 1L, 'widest': 1L, 'feed.': 1L, 'top': 1L, 'buffet': 1L, 'restaurant!': 1L, 'few': 1L, 'only': 1L, 'going': 1L, 'lot': 1L, 'recommend': 1L, 'place': 1L, 'was': 2L, 'gave': 1L, 'oh.': 1L, 'we': 1L, 'sure': 1L, 'to': 2L, 'read': 1L, 'after': 1L, 'but': 1L, 'quite': 1L, 'ever': 1L, 'god.': 1L, 'here': 1L, 'plenty': 1L, 'my.': 1L, 'not': 1L, 'choice': 1L, 'day': 1L, 'those': 1L, 'must': 1L, 'a': 5L, 'on': 1L, 'about': 1L, 'made': 1L, 'last': 1L, 'like': 1L, 'healthy': 1L, 'presentation': 1L, 'drop': 1L, 'well': 1L, 'choices': 1L, 'reviews': 1L, 'i': 5L, 'admit': 1L, 'buffet,': 1L, 'so': 1L, 'were': 1L, 'awesome!': 1L, 'did': 1L, 'the': 3L, 'options': 1L, 'bellagio.': 1L}, {'and': 1L, 'tasted': 1L, 'positioned': 1L, 'lifts..': 1L, 'walk': 1L, 'something': 1L, 'our': 1L, 'cafe': 1L, 'if': 1L, \"you're\": 1L, 'from': 2L, 'for': 1L, 'had': 1L, 'to': 1L, 'only': 1L, 'treat': 1L, 'which': 1L, 'was': 2L, 'staying': 1L, 'that': 1L, 'some': 1L, 'spot': 1L, 'back': 1L, ';)': 1L, 'pool': 1L, 'a': 2L, 'on': 1L, 'great': 1L, 'like': 1L, 'we': 1L, 'of': 1L, 'straight': 1L, 'bakery.': 1L, 'quick': 1L, 'fresh': 1L, 'the': 6L, 'pastries': 1L, 'at': 1L, 'bellagio.': 1L, 'downside': 1L}, {'and': 3L, 'sooo': 1L, 'highly': 1L, 'as': 1L, 'well.': 1L, 'something': 1L, 'in': 1L, 'our': 1L, 'looking': 1L, 'different': 1L, 'for': 2L, 'make': 1L, 'had': 1L, 'only': 1L, 'anyone': 1L, 'to': 2L, 'finish': 1L, 'recommend': 1L, 'was': 1L, 'atmosphere.': 1L, 'we': 2L, 'sure': 1L, 'dessert': 1L, 'were': 1L, 'but': 1L, 'vegas': 1L, 'not': 1L, 'off': 1L, 'bit': 1L, 'wanted': 1L, 'with': 1L, 'meals': 1L, 'a': 3L, 'great': 3L, 'last': 1L, 'this': 1L, 'bouchon': 1L, 'good': 1L, 'delivered!': 1L, 'place': 1L, 'night': 1L, 'the': 2L, 'meal': 1L}, {'and': 4L, 'all': 1L, 'executed': 1L, 'wynn': 1L, \"couldn't\": 1L, 'just': 1L, 'staff': 1L, 'when': 1L, 'it': 1L, 'one': 2L, 'resist': 1L, 'really': 2L, 'as': 1L, 'another': 1L, 'in': 1L, 'our': 2L, 'find': 2L, 'out': 4L, 'sauce': 1L, 'decor': 1L, 'for': 3L, 'to': 1L, 'had': 1L, 'casino.': 2L, 'food': 1L, 'which': 1L, 'got': 1L, 'white': 1L, 'quick.': 1L, 'was': 2L, 'perfectly!': 1L, 'tomato': 1L, 'we': 4L, 'love': 1L, 'very': 1L, 'apologetic': 1L, 'of': 2L, 'serve': 1L, 'but': 1L, 'checking': 2L, 'wrong': 1L, 'were': 2L, 'they': 1L, 'instead': 1L, 'such': 1L, 'with': 1L, 'meals': 2L, 'a': 4L, 'great': 3L, 'so': 1L, 'this': 1L, 'us.': 1L, 'inside': 2L, 'up': 1L, 'us': 1L, 'asked': 1L, 'i': 1L, 'place': 1L, 'always': 1L, 'quick': 2L, 'the': 5L, 'meal': 1L, 'came': 2L, 'italian': 1L}, {'and': 3L, 'pizza,': 1L, 'is': 3L, 'better.': 1L, \"didn't\": 1L, 'back': 1L, 'one': 1L, 'bring': 1L, 'as': 1L, 'well.': 1L, 'ordered': 1L, 'best': 1L, 'before': 1L, 'again': 1L, 'beef': 2L, 'blt': 1L, 'vegas.': 1L, 'that': 2L, 'had': 1L, 'also': 1L, 'amazing': 1L, 'was': 2L, 'pizza': 1L, 'me': 1L, 'sandwich': 4L, 'around': 1L, \"i've\": 2L, 'drink': 1L, 'but': 1L, 'veggie': 1L, '$20.': 1L, 'will': 1L, '$8': 1L, 'alone': 1L, 'chips': 1L, 'great.': 1L, 'care': 1L, 'a': 1L, 'easily': 1L, 'about': 1L, 'for': 2L, 'had.': 1L, 'i': 3L, 'of': 1L, 'leave': 1L, 'good': 1L, 'roast': 2L, 'the': 5L}, {'and': 2L, 'cosmo': 1L, 'is': 4L, 'hard': 1L, 'it': 2L, 'have': 1L, 'go': 1L, 'its': 1L, 'out': 1L, 'find.': 1L, 'munchies': 1L, 'tasty.': 1L, 'no': 3L, 'crust': 1L, 'find': 1L, 'line.': 1L, 'clubbing': 1L, 'way': 1L, 'if': 1L, 'was': 1L, 'sign.': 1L, 'good.': 1L, 'it.': 1L, '@': 1L, 'good,': 1L, 'to': 3L, 'that': 1L, 'very': 1L, 'price': 1L, 'use': 1L, 'here': 1L, 'toppings,': 1L, 'reasonable,': 1L, 'but': 2L, 'they': 1L, 'not': 1L, 'trying': 1L, 'on': 1L, 'place.': 1L, 'your': 4L, 'this': 1L, 'of': 2L, 'monday,': 1L, 'thin': 1L, 'fun': 1L, 'fresh': 1L, 'the': 3L, 'name,': 1L, 'came': 1L}, {'and': 2L, 'deal': 1L, 'people': 1L, \"didn't\": 1L, 'saturday.': 1L, 'again': 1L, 'breakfast.': 1L, 'for': 1L, 'next': 1L, 'location': 1L, 'hollywood': 1L, 'room,': 1L, 'hope': 1L, 'flat': 1L, 'good': 1L, 'door': 1L, 'on': 1L, 'price': 1L, 'free': 1L, '(unlike': 1L, 'water': 1L, 'everything)': 1L, 'hear': 3L, 'they': 1L, 'not': 1L, 'you': 1L, 'king': 1L, 'great': 1L, 'coffee,': 1L, 'did': 1L, 'us.': 1L, 't.v.,kureg': 1L, 'pressure,': 1L, 'planet': 1L, 'plus': 1L, '$50': 1L, 'the': 2L, 'where': 1L}, {'and': 2L, 'almost': 1L, 'is': 2L, 'cant': 1L, 'good': 1L, 'in': 1L, 'go': 1L, 'its': 2L, 'there.': 1L, 'mikes': 1L, 'mood': 1L, 'for': 1L, 'toasty,': 1L, 'filling.': 1L, 'worth': 1L, 'it.': 2L, 'sandwich': 1L, 'very': 1L, 'price': 1L, 'but': 1L, 'wrong': 1L, 'not': 1L, 'this': 1L, 'as': 2L, 'healthy': 1L, 'here,': 1L, 'the': 1L, 'baked': 1L, 'jersey': 1L}, {'and': 1L, 'old': 1L, 'feel': 1L, 'is': 1L, 'lounge.': 1L, 'fireside': 1L, 'drinks': 1L, 'for': 1L, 'start': 1L, 'appetizers': 1L, 'to': 2L, 'has': 1L, 'it.': 1L, 'finish': 1L, 'night': 1L, 'it': 2L, 'vegas': 1L, 'off': 1L, 'great.': 1L, 'las': 1L, 'a': 1L, 'also': 1L, 'great': 1L, 'portions': 1L, 'this': 1L, 'well': 1L, 'large': 1L, 'place': 1L, 'were': 2L, 'the': 4L, 'or': 1L}, {'all': 1L, ':)': 1L, 'over': 1L, 'still': 1L, 'overwhelmed': 1L, 'seemed': 1L, 'tables': 1L, 'certainly': 1L, 'slow': 1L, 'to': 3L, 'location': 1L, 'occasion,': 1L, '(buffalo': 1L, 'it.': 1L, 'premium': 1L, 'olives.': 1L, 'came,': 1L, 'food': 2L, 'stop': 1L, 'lunch': 2L, 'vegas': 2L, 'every': 1L, 'not': 2L, 'during': 1L, 'bit': 2L, 'day': 1L, 'gem': 1L, 'cromwell': 1L, 'mozzarella),': 1L, 'list': 1L, 'server': 2L, 'these': 1L, 'delay.': 1L, 'found': 1L, 'spent': 1L, 'steal': 1L, 'table,': 1L, 'view': 2L, '(but': 1L, 'seating': 1L, 'corking': 2L, 'second': 1L, 'our': 7L, 'left.': 1L, 'situated': 1L, 'special': 1L, 'out': 1L, 'even': 2L, 'for': 3L, 'palace,': 1L, 'day,': 1L, 'fountain': 1L, 'bellagio': 1L, 'across': 1L, 'bought': 1L, 'we': 11L, 'were': 2L, 'days,': 1L, 'pasta': 1L, 'by': 1L, 'on': 6L, 'show.': 1L, 'rare': 1L, 'service': 1L, 'many': 1L, 'exceptionally': 1L, 'experience': 1L, 'fulfilled': 1L, \"giada's\": 1L, 'wine': 1L, \"weren't\": 1L, 'or': 1L, 'cheese': 1L, 'own': 1L, 'sweet': 1L, 'number': 1L, 'highly': 2L, 'brought': 1L, \"caesar's\": 1L, 'simply': 1L, 'total': 1L, 'your': 1L, 'homemade,': 1L, 'considering': 1L, 'fee': 2L, 'from': 1L, 'would': 1L, 'there': 2L, 'due': 1L, 'been': 1L, 'anyone': 1L, 'their': 1L, 'recommend': 2L, 'peppers': 1L, 'was': 6L, '1/2': 1L, 'that': 3L, 'hotel': 1L, 'but': 3L, 'understand': 1L, 'somewhat': 1L, 'baby': 1L, 'an': 1L, '$35,': 1L, '15': 1L, 'this': 3L, 'ordered,': 1L, 'can': 1L, 'of': 6L, 'ultra': 1L, 'minutes': 1L, 'and': 5L, 'almost': 1L, 'is': 4L, 'it': 1L, 'lasted': 1L, 'high': 1L, 'as': 1L, 'at': 1L, 'have': 2L, 'in': 2L, 'blvd': 1L, 'check': 1L, 'strip.': 2L, 'marinated': 1L, 'dishes': 1L, 'floor': 1L, 'complaining': 1L, 'when': 1L, 'end,': 1L, '1': 1L, 'dining': 1L, 'prices)': 1L, 'take': 1L, 'which': 1L, 'before': 1L, 'you': 1L, 'excellent.': 1L, 'may': 2L, 'fast.': 1L, 'forgot,': 1L, 'lunch!': 1L, 'buratta': 1L, 'las': 1L, 'a': 7L, 'wine.': 2L, 'i': 1L, 'maybe': 1L, 'depending': 1L, 'hrs.': 1L, 'so': 3L, 'fact': 1L, 'bottle': 1L, 'time': 2L, 'fresh': 1L, 'the': 18L, 'roughly': 1L, 'baked': 1L, 'came': 2L, 'once': 1L}, {'and': 2L, 'people': 1L, 'had..the': 1L, 'veggies': 1L, 'saw': 1L, 'if': 1L, 'quick..': 1L, 'i': 1L, 'no': 1L, 'to': 1L, 'so': 1L, 'wonder': 1L, 'ever': 2L, 'we': 1L, 'good': 1L, 'food': 2L, 'but': 1L, 'worst': 1L, 'they': 1L, 'thai': 2L, 'stale': 1L, 'ate': 1L, 'meat': 1L, 'this': 2L, 'was': 1L, 'reviews': 1L, 'these': 1L, 'place': 1L, 'idk': 1L, 'were': 2L, 'the': 2L, 'came': 1L}, {'and': 2L, 'all': 1L, 'because': 1L, 'family': 1L, 'is': 1L, 'it': 1L, 'licensed': 1L, 'tonight': 1L, 'go': 1L, 'atmosphere': 1L, 'something': 1L, 'have': 1L, 'in': 2L, '21.': 1L, 'few': 1L, 'previous': 1L, 'again': 1L, 'use': 1L, 'wanted': 1L, 'since': 1L, 'her': 1L, 'consistently': 1L, 'with': 1L, 'decision': 1L, 'there': 4L, 'due': 1L, '(which': 1L, 'how': 1L, 'other': 1L, 'visits).': 1L, 'which': 1L, 'under': 1L, 'stieners': 1L, 'wait': 1L, 'was': 1L, 'friendly': 1L, 'nv': 1L, 'explaining': 1L, 'we': 2L, \"didn't).\": 1L, 'to': 3L, 'both': 1L, 'food': 1L, 'could': 1L, 'offered': 1L, 'of': 1L, 'foyer': 1L, 'but': 1L, 'business.': 1L, 'mention': 1L, 'vegas': 1L, 'if': 1L, 'they': 1L, 'excellent': 1L, 'not': 1L, 'law': 1L, 'true': 1L, 'the': 4L, 'gracious': 1L, 'a': 2L, 'on': 1L, 'daughter': 1L, 'for': 1L, '(on': 1L, 'fault': 1L, 'age': 1L, 'us': 1L, 'reviews': 1L, 'were': 1L, 'very': 1L, 'employees': 1L, 'went': 1L, 'my': 2L, 'smoky': 1L, 'refused': 1L, \"that's\": 1L}, {'and': 3L, 'go...': 1L, 'love': 1L, 'help': 1L, 'is': 2L, 'some': 1L, 'want': 1L, 'guac': 1L, 'really': 1L, 'needs': 1L, 'to': 1L, 'with': 1L, 'their': 1L, 'live': 1L, 'other': 1L, 'you': 3L, 'if': 2L, 'good': 2L, 'food': 1L, 'but': 1L, \"margarita's\": 1L, 'salsa': 1L, 'too....i': 1L, 'chips': 1L, 'margarita': 1L, 'a': 1L, 'like': 1L, 'this': 2L, 'will': 1L, 'place': 2L, 'the': 3L, 'agree': 1L}, {'bother...save': 1L, 'and': 1L, 'what': 1L, 'had....runny,': 1L, 'your': 1L, 'overpriced': 1L, 'for': 1L, \"don't\": 1L, 'smoothie': 1L, 'money!!!!': 1L, 'no': 1L, 'this': 1L, 'was': 1L, 'the': 1L, 'get...': 1L, 'i': 1L, 'worst': 1L, 'have': 1L, 'you': 1L, 'ever': 1L, 'flavor': 1L}, {'and': 4L, 'pre-occupied': 1L, 'house': 1L, 'experience,': 1L, 'years': 1L, 'something': 1L, 'have': 2L, 'in': 1L, 'enjoyed': 1L, 'staff': 1L, 'desired.': 1L, 'for': 2L, 'dining': 1L, 'with': 1L, 'had': 1L, 'been': 2L, 'lately': 1L, 'to': 3L, 'going': 2L, 'draft': 1L, 'new': 1L, 'many': 1L, 'gave': 1L, 'be': 1L, 'good': 2L, 'that': 1L, 'food': 2L, 'drink': 1L, 'but': 1L, 'else': 1L, 'wrong': 1L, 'experience...very': 1L, 'they': 1L, 'disappointed': 1L, 'on...not': 1L, 'a': 2L, 'check,': 1L, 'has': 1L, 'room': 1L, 'i': 1L, 'always': 1L, 'unattentive,': 1L, \"hasn't\": 1L, 'us': 1L, 'beg': 1L, 'alot': 1L, 'were': 2L, 'the': 7L, 'refill,': 1L}, {'enjoy': 1L, 'bacon': 1L, 'lettuce': 1L, 'sandwich': 1L, 'in': 1L, 'beyond': 1L, 'open': 1L, 'best': 1L, 'if': 1L, \"you're\": 1L, 'make': 1L, 'there': 2L, 'to': 2L, 'going': 1L, 'out': 1L, 'ever': 1L, 'today': 1L, 'be': 1L, 'we': 1L, 'sure': 1L, 'sitting': 1L, 'lunch': 1L, 'really': 1L, 'services': 1L, 'great.': 1L, 'tomato': 1L, 'on': 1L, 'great': 1L, 'was': 1L, 'reservations.': 1L, 'air.': 1L, 'dinner': 1L, 'the': 2L, 'patio': 1L}, {'be': 1L, 'great': 1L, 'love': 1L, 'service': 1L, 'food': 1L, 'excellent': 1L, 'back.': 1L, 'will': 1L, 'definitely': 1L, 'coming': 2L, 'hereand': 1L, 'was': 2L}, {'and': 3L, 'the': 2L, 'btw': 1L, 'back.': 1L, 'parking': 1L, 'are': 1L, 'fees': 1L, 'go': 1L, 'fun.': 1L, 'locals': 1L, 'even': 1L, 'anyone': 1L, 'thank': 1L, 'for': 2L, 'no': 1L, 'there': 1L, 'karaoke': 1L, 'better': 1L, 'other': 1L, 'you': 1L, 'was': 1L, 'more': 1L, 'we': 1L, 'food': 1L, 'friday': 1L, 'most': 1L, 'excellent': 1L, 'than': 1L, 'made': 1L, 'service': 1L, 'mc': 1L, 'presented': 1L, 'evening.': 1L, 'will': 1L, 'place': 1L, 'went': 1L, 'celebrity': 1L, 'restaurants.': 1L}, {'all': 1L, \"don't\": 1L, 'being': 1L, 'over': 1L, 'through': 1L, 'go': 1L, 'before': 3L, 'had': 2L, 'to': 5L, 'going': 1L, 'location': 1L, 'pretty': 1L, 'worth': 1L, 'watching': 1L, 'food': 3L, 'couple': 1L, 'they': 1L, 'not': 1L, 'turns': 1L, 'dirty.': 1L, 'people': 2L, 'taiwanese': 1L, 'wrong.': 1L, 'us': 2L, 'ourselves.': 1L, 'our': 2L, 'even': 1L, 'for': 2L, 'since': 1L, 'waiting': 2L, 'got': 2L, 'ever': 1L, 'we': 4L, 'after': 3L, 'run': 1L, 'completely': 1L, 'put': 1L, 'service': 1L, 'of': 2L, 'in.': 1L, 'place': 2L, 'happen.': 1L, 'waited': 2L, 'table': 2L, 'speak': 1L, 'would': 1L, 'been': 1L, 'their': 2L, 'was': 1L, 'more': 1L, 'that': 1L, 'crap.': 1L, 'cashier': 1L, 'trying': 1L, '10': 1L, 'showed': 1L, 'us.': 1L, 'us,': 1L, 'up': 2L, 'seated': 1L, 'while': 1L, 'minutes': 1L, \"(i'm\": 1L, 'and': 2L, 'claim': 1L, 'is': 3L, \"didn't\": 1L, 'it': 1L, 'terrible': 1L, 'at': 1L, 'have': 1L, 'lifetime': 1L, 'check': 1L, 'if': 1L, 'order),': 1L, 'get': 1L, 'so': 1L, 'sure': 1L, 'period,': 1L, 'who': 1L, 'food.': 1L, 'wrong': 1L, 'arrived': 1L, 'a': 2L, 'forever': 1L, 'longer': 1L, 'yelp': 1L, 'acknowledged': 1L, 'u': 1L, 'the': 9L, 'order': 1L}, {'and': 4L, 'bees': 1L, 'is': 4L, 'hard': 1L, ';)))': 1L, 'beyond': 1L, 'knees': 1L, 'needs': 1L, 'yummy': 1L, 'raise': 1L, 'super': 1L, 'asap!': 1L, 'to': 1L, 'amazing': 1L, 'cats': 1L, 'pajamas!': 1L, 'angela?!': 1L, 'happy': 1L, 'good': 1L, 'beat': 1L, 'here': 1L, 'yogurts': 1L, 'with': 1L, 'a': 1L, 'hubba': 2L, 'bartender': 1L, 'hour': 1L, 'this': 1L, 'soju': 1L, 'portions!': 1L, 'specials': 1L, 'place': 1L, 'marlon': 1L, 'the': 4L}, {'and': 2L, 'cheese': 1L, 'mac': 1L, 'love': 1L, 'is': 1L, 'bacon': 1L, 'atmosphere!': 1L, 'cocktails': 1L, 'amazing': 2L, 'truffle': 1L, 'the': 2L, 'mushrooms': 1L}, {'and': 7L, 'delicately': 1L, 'since': 1L, 'food': 1L, 'sweet': 1L, 'proportions': 1L, 'ilys': 1L, 'are': 1L, 'delicious': 1L, 'my': 1L, 'bisque': 1L, 'busy.': 1L, 'if': 1L, 'perfect': 1L, 'try': 2L, 'little': 1L, 'oliver': 1L, 'thank': 1L, 'awkward': 1L, 'their': 2L, 'god': 1L, 'away': 1L, 'get': 1L, 'only': 1L, 'for': 2L, 'to': 2L, 'prepared.': 1L, 'come': 1L, 'rich': 1L, 'i': 1L, 'is': 8L, 'roast!': 1L, 'offices.': 1L, 'coffee': 1L, 'eggplant': 1L, 'tucked': 1L, 'that': 1L, 'very': 1L, 'time': 1L, 'creamy.': 1L, 'here': 2L, 'lunch': 1L, 'host': 1L, 'slow': 1L, 'every': 1L, 'but': 1L, 'pesto,': 1L, 'bit': 1L, 'lunch!': 1L, 'super': 1L, 'service': 1L, 'monkey': 1L, 'a': 4L, 'on': 2L, 'pretty': 1L, 'your': 1L, 'respectful': 1L, 'anything': 1L, 'this': 1L, 'of': 1L, 'seafood': 1L, 'with': 1L, 'friendly': 1L, 'freeway': 1L, 'peeve': 1L, 'definitely': 1L, 'place': 1L, 'latte.': 1L, \"it's\": 2L, 'friendly.': 1L, 'fresh': 1L, 'the': 7L, 'feeling': 1L, 'corporate': 1L, 'side': 2L, 'italian': 1L}, {'and': 2L, '$11.25': 1L, 'concept': 1L, 'kale': 1L, 'people': 1L, 'food': 2L, 'sweet': 1L, 'is': 4L, 'me.': 1L, '(non': 1L, 'produce': 1L, 'delish-': 1L, 'four': 1L, 'sources': 1L, 'as': 1L, 'his': 1L, 'are': 1L, 'wrap': 1L, 'star': 1L, 'chicken': 1L, 'my': 1L, 'little': 1L, 'position': 1L, 'for': 5L, '&': 1L, 'juice': 2L, 'much': 1L, 'enough': 1L, 'also': 1L, 'charge': 1L, 'noting': 1L, 'health': 1L, 'stars': 1L, 'you': 1L, 'include': 1L, 'issue': 1L, 'worth': 1L, 'smart': 1L, 'can': 1L, 'afford': 1L, 'who': 1L, 'conventional': 1L, 'to': 2L, 'that': 3L, 'organic)': 1L, 'from.': 1L, 'clientele.': 1L, 'catering': 1L, 'restaurant': 1L, 'juices...': 1L, 'either,': 1L, 'fresh': 1L, 'not': 1L, 'organic': 1L, 'favs': 1L, 'one': 1L, 'with': 2L, 'guy': 1L, 'care': 1L, 'a': 4L, 'drinks.': 1L, 'made': 1L, 'off': 1L, 'meat': 1L, '$12': 1L, 'conscious': 1L, 'this': 1L, 'pesticides.': 1L, 'potato': 1L, 'bbq': 1L, 'yourself': 1L, 'where': 1L, 'cannot': 1L, 'so': 1L, 'pressed': 1L, 'here,': 1L, 'ingredients': 1L, 'the': 8L, 'whole': 1L, 'wrap.': 1L}, ... ]"
      ]
     },
     "execution_count": 2,
     "metadata": {},
     "output_type": "execute_result"
    }
   ],
   "source": [
    "#Review 데이터 워드 카운트 하기\n",
    "data['word_count'] = gl.text_analytics.count_words(data['text'])\n",
    "data['word_count']"
   ]
  },
  {
   "cell_type": "code",
   "execution_count": 3,
   "metadata": {
    "collapsed": false
   },
   "outputs": [
    {
     "data": {
      "text/plain": [
       "dtype: dict\n",
       "Rows: 889957\n",
       "[{'say...': 1L, 'dont': 2L, 'family': 1L, 'people': 1L, 'lack': 1L, 'prefer': 1L, 'chef': 1L, 'casino.': 1L, 'home': 1L, 'quality': 1L, 'style': 1L, 'recipes,': 1L, \"biaggio's\": 2L, 'make': 1L, '-': 1L, '/': 1L, 'ny': 1L, 'apache.': 1L, 'pizzeria': 2L, 'care': 2L, 'pizza': 1L, 'cosmo': 1L, '@': 1L, \"i've\": 1L, 'owned,': 1L, 'youre': 1L, 'priced': 1L, 'flamingo': 1L, 'food.': 2L, 'fort': 1L, 'made': 1L, 'had.': 1L, 'okay.': 1L, 'pizza.': 1L, 'pick': 1L, 'personality': 1L, 'italian': 1L}, {'cheese': 1L, 'love': 2L, 'huge!': 1L, 'carne': 1L, 'restaurant.': 1L, 'cares': 1L, 'enchiladas': 1L, 'leticia': 1L, 'place!': 1L, 'sauce': 1L, 'nice': 1L, 'asada.': 1L, 'food': 1L, 'specials...': 1L, 'lunch': 1L, 'super': 1L, 'great': 1L, 'portions': 1L, 'week.': 1L, 'fiance': 1L, 'atleast': 1L, 'amazing.': 1L, 'amazing!!!': 1L}, {'dry': 1L, 'trust': 1L, 'grill.': 1L, 'bread.': 1L, 'terrible.': 1L, 'mushy': 1L, 'corn': 1L, 'me.': 1L, 'fat': 1L, 'mulls': 1L, 'bbq': 1L, 'neighborhood': 1L, 'tips': 1L, 'john': 1L, 'rib': 1L, 'flavor.': 1L, 'roadkill': 1L}, {'pork': 1L, 'ew?\"': 1L, 'tasted': 1L, 'problem': 1L, 'me.': 1L, 'money.': 1L, 'back': 2L, 'half.': 1L, 'ever.': 1L, 'year': 1L, 'ew': 1L, 'busy,': 1L, 'thai': 2L, 'huge': 1L, 'cut': 1L, 'service': 1L, '&': 1L, 'hungry.': 1L, 'pay': 1L, 'dinner': 1L, 'food': 1L, 'time.': 1L, 'pad': 3L, 'answer': 1L, 'good,': 1L, 'manager': 1L, 'nice': 1L, 'plate': 1L, 'after.': 1L, 'again,': 1L, 'started': 2L, 'alllll': 1L, 'coke': 1L, 'time': 1L, 'refuse': 1L, 'diet': 1L, 'food.': 1L, 'finished': 1L, 'complaints.': 1L, 'melissa,': 1L, '$10-15': 1L, '\"hello': 1L, 'suck': 1L, 'be!!': 1L, 'paying': 1L, 'great': 1L, '2005-2007': 1L, 'sizes': 2L, 'presence.': 1L, 'disregards': 1L, 'favorite': 1L, 'hungry': 1L, 'greet': 1L, 'worth': 1L, 'portion': 2L, \"i'd\": 1L, 'place': 2L, 'also,': 1L, 'pinkaow,': 1L, 'days,': 1L, 'havent': 1L, 'asked': 1L, 'se': 2L}, {'fantastic': 1L, 'half?': 1L, 'dont': 1L, 'delicious)': 1L, 'taste': 1L, 'half': 1L, 'share': 1L, 'know\"...': 1L, 'baskets': 1L, '(and': 1L, 'area': 1L, 'drinks.': 1L, '\"korean': 1L, 'bland': 1L, 'hell': 1L, 'thick': 1L, 'total': 1L, 'chicken': 1L, 'it...': 1L, '1/2': 2L, 'huge': 1L, 'that.': 1L, 'all,': 1L, 'service': 2L, 'cheap,': 1L, 'things': 1L, 'absolutely': 1L, '-': 1L, 'lol': 1L, 'prices,': 1L, 'lets': 2L, 'serve.': 1L, 'havent!)': 1L, 'lot': 1L, 'delicious.': 1L, 'delicious,': 1L, 'friend': 2L, 'owner.': 1L, 'plate': 1L, 'it,': 1L, 'full': 1L, 'burps': 1L, 'food': 2L, 'bahaha!': 1L, 'great': 4L, 'fat': 1L, 'attentive-': 1L, 'weird...': 1L, 'mexican??': 1L, 'taco': 1L, 'beat': 1L, 'salsa': 1L, '(have': 1L, 'chips': 1L, 'great.': 2L, 'change': 1L, 'meat': 1L, 'burnt,': 1L, 'kind': 1L, 'ate': 1L, 'burrito': 1L, '$11': 1L, 'girl': 1L, 'server': 1L, 'place.': 1L, 'chimichanga': 2L, \"i'm\": 2L, 'make': 1L, 'amazing....': 1L, 'face': 1L, 'thought': 2L, 'thing': 1L, \"i'd\": 2L, 'place': 1L, 'good.': 1L, 'beef': 4L, 'flavor.': 2L, 'bad.': 1L, 'not,': 1L, 'amazing!!!': 1L, 'nice': 1L, 'order': 1L, 'husband': 2L, 'referred': 1L}, {'sooo': 1L, 'isnt': 1L, 'time=': 1L, 'restaurant.': 1L, 'understandable.': 1L, 'amazing': 1L, '2': 1L, '5': 1L, 'stars': 1L, '=': 1L, 'bbq': 1L, 'wait!': 1L, 'food': 1L, 'price': 1L, 'drink': 1L, 'excuse': 1L, 'plus,': 1L, 'wait': 2L, 'hour': 2L, 'ribs': 2L, 'expanded': 1L, 'tastes': 1L, 'thing': 1L, 'bad': 1L, 'place': 1L, 'gamble': 1L, 'amazing.': 1L, 'amazing,': 1L, 'good.': 1L}, {'area.': 1L, 'priced.': 1L, 'ordered': 1L, 'dont': 2L, 'ps-': 1L, 'delivering': 1L, 'owner': 1L, 'single': 1L, 'doesnt': 1L, 'for?!': 1L, 'cold': 1L, 'ready': 1L, 'know,': 1L, 'total': 1L, 'forget': 1L, 'f-o-r-e-v-e-r.': 1L, 'pack': 1L, 'fails,': 1L, 'caring': 1L, 'dining': 1L, 'there.': 1L, 'witch.': 1L, 'end': 1L, 'takes': 2L, 'ranch': 1L, 'matter': 1L, 'literally': 1L, 'make': 1L, \"i've\": 1L, 'tip': 1L, 'time.': 1L, 'extra': 1L, 'time,': 1L, 'start': 1L, 'hot': 2L, 'call': 1L, 'choose': 1L, 'pretty': 2L, 'forever.': 1L, 'wanting': 1L, 'good,': 1L, 'today': 1L, 'nice': 1L, 'tasteful': 1L, 'frankly,': 1L, 'food': 1L, 'lie.': 1L, '8am,': 1L, 'continuing': 1L, 'gonna': 1L, 'chocolate': 2L, 'delivery': 1L, 'lunch': 1L, 'great!': 1L, 'cold.': 1L, 'ignorant': 1L, 'seriously.': 1L, 'imbeciles': 1L, 'half': 1L, 'food.': 2L, 'driver': 1L, 'eat': 2L, 'off.': 1L, 'pps-': 1L, 'owners': 1L, 'hour': 2L, '1pm.': 1L, 'work': 1L, 'upset': 1L, 'decently': 1L, 'breakfast': 1L, 'sacrifices': 1L, '10am': 1L, 'rant.': 1L, \"i'd\": 1L, 'chocolate.': 1L, 'pay': 1L, 'hot.': 1L, \"i'm\": 1L, 'piss': 1L, 'deliver': 1L, 'order': 1L, 'talk': 1L, 'bitch': 1L}, {'shot': 1L, 'stock.': 1L, 'people': 1L, \"didn't\": 1L, 'put': 1L, 'attempts': 1L, 'issue.': 1L, 'please...the': 1L, 'carry': 1L, 'stock,': 1L, 'apparently': 1L, 'van': 1L, \"don't\": 1L, 'amazing....problem': 1L, 'really?': 1L, '5': 1L, '6': 1L, 'bourbon....all': 1L, 'ongoing': 1L, 'bourbon': 4L, 'waste': 1L, 'told': 2L, 'amazing....the': 1L, 'good': 1L, 'food': 1L, 'apologetic': 1L, 'pappy': 1L, 'front': 1L, 'apologizing': 1L, 'here...for': 1L, 'bartender': 1L, 'staff.': 1L, 'list....after': 1L, 'list': 3L, 'menu,': 1L, 'thing': 1L, 'place': 1L, 'profusely': 1L, 'time': 1L, 'winkle': 1L, 'didnt': 1L, 'order': 1L, 'fact': 1L}, {'crowded.': 1L, 'deck': 1L, 'back': 1L, 'private': 1L, 'expensive': 1L, 'space': 1L, 'vegas.': 1L, 'limited.': 1L, 'recommend': 2L, 'crab.': 1L, 'pm': 1L, 'good': 1L, 'again.': 1L, 'views': 1L, 'food': 1L, 'drink': 1L, 'club.': 1L, 'las': 1L, '10': 1L, 'great': 1L, 'bar': 1L, 'restaurant': 1L, 'selections': 1L, 'disco': 1L, 'place': 2L, 'night': 1L, 'small': 1L, 'steak': 1L, 'side': 1L}, {'burritos': 1L, 'recommending': 1L, 'fast': 1L, 'alway': 1L, 'rest.': 1L, 'save': 1L, 'good.': 1L, 'choose': 1L, 'food': 1L, 'big': 1L, 'friends.': 1L, 'half': 1L, 'eat': 1L, 'great': 1L, 'portions.': 1L, 'items': 1L, 'menu.': 1L, 'server': 1L, 'large': 1L, 'time': 1L, 'friendly.': 1L, 'fresh': 1L}, {'half.': 1L, 'good': 2L, 'malbec.': 1L, 'service': 1L, 'osso': 1L, 'recommend': 1L, 'place.': 1L, 'good.': 1L, 'week': 1L, 'ago.': 1L, 'couple': 1L, 'glass': 1L, 'eat': 1L, 'buco': 1L, 'great': 1L, 'meat': 1L, 'seafood': 1L, 'soup': 1L, 'place': 1L, 'friend': 1L, 'small': 1L, 'wine': 1L}, {'familes': 1L, 'bargains.': 1L, 'great': 2L, 'good': 2L, 'vegetables.': 1L, 'service': 1L, 'restaurant': 3L, 'food': 3L, 'fast': 1L, 'steam': 1L, 'large': 1L, 'taste': 1L, 'hot': 1L, 'portions.': 1L, 'recommend': 1L, 'clean.': 1L, 'chicken': 1L, 'rice': 1L, 'teriyaki': 1L, 'meals': 1L}, {'pappardelle': 1L, 'people': 1L, 'taste': 1L, 'house': 1L, 'back': 1L, 'hour.': 1L, 'salty': 1L, 'delicious': 1L, 'again.': 1L, 'noodles': 1L, 'lobster,': 1L, 'fill': 1L, 'perfect': 1L, '$': 1L, '5:15': 1L, 'dinner': 1L, 'basil,': 1L, 'located': 1L, 'recommend': 1L, 'saffron-tomato': 1L, 'sauce': 1L, 'body': 2L, 'good': 3L, 'sauce)': 1L, '(shrimp,': 1L, 'night': 1L, 'lucky': 1L, 'taste.': 1L, 'finished': 1L, 'brunch': 1L, 'eat': 1L, 'bread': 1L, 'bit.': 1L, 'great': 2L, 'portions.': 1L, 'scallop,': 1L, 'restaurant': 2L, 'seafood': 1L, '30': 1L, 'dog': 1L, 'this.': 1L, 'large': 1L, 'steaks.': 1L, 'time': 2L, 'real': 1L, 'fresh': 1L, 'steak': 1L}, {'????????????????????????????????????': 1L, '2????????????????????': 1L, '?????????????': 1L, '?????7:30???': 1L, '??????????????????!!': 1L, '?????????????????': 1L}, {'????????????????': 1L, '???link': 1L, '?????': 1L, '&': 1L, '????×4': 1L, 'hotel???????': 1L, '????????????????????': 1L, '?????????!!': 1L, '???×2': 1L}, {'????????????????????': 2L, '???????': 1L, '???????????????????????': 1L, '?????????????????????????': 1L}, {'????????????????????????????????????': 1L, '???1??????2?????????': 1L, 'vegas???????????????': 1L, '????????????????????????????????(*´`*)': 1L, '??????': 1L, '_)': 1L, '????????(': 1L, '???????????????????????????????????': 1L, '?????????????????????????????????': 1L, '???...?': 1L}, {'hour': 1L, \"don't\": 2L, 'experience.': 1L, 'hard': 1L, 'hour,': 1L, 'order': 1L, 'brio': 1L, 'pass': 1L, 'refill': 1L, 'check': 1L, 'drinks': 1L, 'differ': 1L, 'necessary.': 1L, 'service': 1L, 'decent': 1L, 'make': 1L, 'up!': 1L, 'dining': 1L, 'location': 1L, 'sized.': 1L, 'though?': 1L, 'happy': 3L, 'fool': 1L, 'good': 1L, 'us!!)': 1L, \"i've\": 1L, 'food': 1L, 'price': 1L, 'location,': 1L, 'regular': 1L, 'everything,': 1L, 'judge': 1L, 'portions': 1L, \"(don't\": 1L, 'town': 1L, 'things.': 1L, 'square.': 1L, '$2.95.': 1L, 'items': 1L, 'best!': 1L, 'list': 1L, 'times': 1L, 'specific': 1L, 'cheap,': 1L, 'menu': 1L, 'amazing.': 1L, 'though.': 1L}, {'cheese': 1L, 'love': 1L, 'extra': 2L, 'win': 1L, 'awesome': 1L, 'bacon': 3L, 'mine': 1L, 'ftw!!': 1L, 'mushrooms': 2L, 'well,': 1L, 'amaaaa-zing!': 1L, '(i': 1L, 'toppings': 1L, 'fail': 1L, '\"regular\"': 1L, 'thick': 1L, 'sport': 1L, '(which': 1L, 'gimp': 1L, 'grown': 1L, 'addicting': 1L, 'generous': 1L, 'portions).': 1L, 'patties': 1L, 'guys': 1L, 'cheeseburger': 1L, 'pile': 1L, 'pretty': 1L, 'disappoint': 1L, 'fry': 1L, 'order': 2L, 'for!': 1L, '\"little\"': 1L, 'cajun': 2L, 'burgers.': 1L, 'mushroom': 1L, 'me).': 1L, 'big': 1L, 'that.': 1L, 'free': 1L, 'cut': 1L, 'fan': 1L, 'french': 1L, 'delicious.': 1L, 'peppers.': 1L, '(especially': 1L, 'include': 1L, 'kind),': 1L, 'places': 1L, 'onions.': 1L, 'all.': 1L, 'fries': 3L, 'dog': 1L, 'go-to': 1L, 'place': 3L, 'must!': 1L, 'die': 1L, 'grilled': 1L, \"i'm\": 1L, 'feign.': 1L, \"can't\": 1L}, {'$29,': 1L, 'raised': 1L, 'serving': 1L, '(it': 1L, 'people': 1L, 'sweet': 1L, 'else.': 1L, 'opened,': 1L, 'macaroons': 1L, '$35,': 1L, 'heard': 1L, '(mind': 1L, 'decided': 1L, 'tooth,': 1L, 'love': 1L, 'unfortunately,': 1L, 'thing': 1L, 'hate': 1L, 'enjoyed': 2L, 'back.': 1L, 'style': 1L, \"aren't\": 1L, 'dipped': 1L, 'service': 1L, 'variety': 2L, \"it's\": 1L, 'think).': 1L, 'guaranteed': 1L, 'quality': 1L, '\"go': 1L, 'amazing': 1L, 'desserts.': 1L, 'crab': 1L, 'par.': 1L, 'white': 1L, \"haven't\": 1L, 'way.)': 1L, 'it.': 2L, 'fudge,': 1L, 'you,': 1L, 'chose': 1L, 'gelato,': 1L, 'food': 4L, 'big': 1L, 'that.': 1L, 'buffet': 2L, 'chocolate': 1L, 'sweets': 1L, 'mac': 2L, 'french': 1L, 'served': 1L, 'prices': 1L, \"i'm\": 2L, 'bit': 1L, 'food.': 1L, 'however,': 1L, 'boyfriend': 1L, 'loved': 2L, 'portions.': 1L, 'apparently,': 1L, 'buffets.': 1L, 'strawberries.': 1L, 'fare.': 1L, 'cheese': 2L, 'choices': 1L, 'traditional': 1L, 'person': 1L, 'apples': 1L, 'bar,': 1L, \"we've\": 1L, 'to\"': 1L, 'found': 1L, 'pre-divided': 1L, 'cakes,': 1L, 'steep': 1L, 'feign.': 1L, \"isn't\": 1L, 'typical': 1L}, {'drink,': 1L, 'outdoor': 1L, 'vegas.': 1L, 'food,': 1L, 'vibe.': 1L, 'sandwich': 1L, 'experiences': 1L, 'chicken': 1L, 'waffle': 1L, 'great.': 1L, 'patio': 1L, 'decor,': 1L}, {'box': 2L, 'sampled': 1L, 'lemon': 2L, 'spit': 1L, 'had.': 1L, 'room.': 1L, 'haunt': 1L, 'one.': 1L, 'not...but': 1L, 'person': 1L, 'bad': 1L, 'disgusting': 1L, 'meringue': 1L, 'shared': 1L, 'mixed': 1L, 'years!': 1L, 'gagged.': 1L, \"i'm\": 1L, 'pastries': 1L}, {'would.': 1L, 'give': 1L, 'dollar': 1L, '\"i': 1L, \"don't\": 2L, 'negative': 1L, 'mess': 1L, 'time.': 1L, 'call': 1L, 'stars': 1L, 'great,': 1L, 'waste': 1L, 'pizza': 2L, 'order,': 1L, 'you,': 1L, 'food': 1L, 'sweetheart.\"': 1L, 'taste.': 1L, 'shitty': 1L, 'care': 1L, 'insulted': 1L, 'time': 1L, 'fixed': 1L}, {'servers.': 1L, 'looked': 1L, '\"taken\".': 1L, 'fucking': 1L, 'response?': 1L, 'sushi': 2L, 'moved': 1L, 'walk': 2L, 'front': 1L, 'attitude': 1L, ':/': 1L, '\"we': 1L, 'uncomfortable': 1L, 'table': 3L, 'cups': 1L, 'seat...right': 1L, 'rolls': 1L, '\"oh': 1L, 'us.': 1L, 'go,': 1L, 'back.': 1L, 'there.': 1L, 'wanted': 2L, 'sit': 4L, 'decent': 2L, 'remained': 1L, 'happy': 1L, 'waitress': 1L, 'prices.': 1L, 'eating': 1L, 'low': 1L, 'stars': 1L, \"didn't.\": 1L, 'employee': 1L, 'bad.': 1L, 'place.': 1L, 'full.': 2L, 'told': 1L, 'unoccupied': 1L, 'customers.\"': 1L, 'received': 1L, 'felt': 2L, 'taste,': 1L, 'woman': 1L, 'in,': 1L, '2.75,': 1L, 'reason': 1L, 'table.\"': 1L, 'found': 1L, 'prices': 1L, 'hour,': 1L, 'extremely': 2L, 'bigger': 1L, 'man': 1L, 'entire': 1L, \"we'll\": 1L, 'made': 1L, 'give': 1L, 'subtracted': 1L, 'kicked': 1L, \"wasn't\": 1L, 'okay,': 1L, \"wouldn't\": 1L, '\"you': 1L, 'seated': 1L, 'cheep': 1L, 'parties.\"': 1L, 'back,': 1L, 'place': 1L, \"weren't\": 1L, 'say,': 1L, 'time': 1L, 'woman,': 1L, '...but': 1L, 'said,': 1L, 'nice': 1L, 'star': 1L, 'table,': 1L, 'down,': 1L}, {'nope,': 1L, 'vodka': 1L, 'smaller': 2L, 'tough': 1L, 'price.': 1L, 'give': 1L, 'rare,': 1L, 'wreaks': 1L, 'walk': 1L, 'tex': 2L, 'medium': 1L, 'bare': 1L, 'ramsy': 1L, 'gorden': 1L, 'ordered': 3L, 'mouth.': 1L, 'nails.': 1L, 'extra': 1L, 'dining': 1L, 'then,': 1L, 'area': 1L, 'thinking': 1L, 'literally': 1L, \"don't\": 1L, 'negative': 1L, 'smoke.': 1L, 'charge': 1L, 'would.': 1L, 'it.': 1L, 'smell.': 1L, 'option': 1L, 'tasteless': 1L, 'food': 1L, 'drink': 1L, 'drink,': 1L, 'steakhouse?': 1L, 'you?': 1L, 'street,': 1L, '$10.00': 1L, 'ranch': 1L, 'exact': 1L, 'mex': 2L, 'ranch,': 1L, 'portion': 1L, 'leather': 1L, 'double': 1L, 'all,': 1L, 'sucks': 1L, '$5.00,': 1L, 'ridiculous.': 1L, 'asked': 1L, 'good': 1L, 'stars,': 1L, 'place': 3L, 'here,': 1L, 'push': 1L, 'glass.': 1L, 'steak': 2L, 'side': 1L, 'charged': 1L}, {'no.': 1L, \"she'll\": 1L, \"don't\": 3L, 'wow.': 1L, 'attitude': 1L, ':/': 1L, 'shake': 1L, 'cold': 1L, 'line': 1L, 'scooper': 1L, 'him.': 1L, 'peanut': 8L, 'duty\"': 1L, 'add': 2L, 'helps': 1L, 'service...i': 1L, 'it.': 1L, 'girl?': 1L, 'butter?\"': 1L, 'bad.\"': 1L, 'nicer,': 1L, 'order...sammy': 1L, 'bit': 1L, 'stone,': 1L, 'career.': 1L, '\"did': 1L, 'refresh': 1L, 'worried': 1L, 'served': 1L, 'butter.\"': 1L, 'cost': 1L, '\"we': 1L, 'proper': 1L, 'girl': 2L, 'shake,': 2L, 'sammy': 3L, 'shake.': 1L, 'butter.': 1L, 'again,': 1L, 'behold...no': 1L, 'ice': 6L, '\"oh': 1L, 'line...who': 1L, 'reading': 1L, 'leader': 1L, 'bitches,': 1L, 'eating': 1L, 'anyway,': 1L, 'job': 1L, 'put': 1L, 'wanted': 2L, 'throw': 1L, '\"can': 1L, 'restaurant': 1L, 'fiance': 3L, \"wouldn't\": 1L, 'here.': 1L, \"i'm\": 3L, \"fiance's\": 1L, 'done.\"': 1L, 'rudely': 1L, 'ladies': 1L, 'acted': 1L, 'manage': 1L, 'walk': 1L, 'feet': 1L, 'told,': 1L, 'simply': 1L, 'thought': 2L, 'knew?': 1L, 'know,': 1L, '\"my': 1L, 'there,': 1L, 'serviced,': 1L, \"aren't\": 1L, 'wants,': 1L, 'working': 1L, \"it's\": 2L, 'cared': 1L, \"duty's\": 1L, 'low': 1L, 'memory': 1L, 'bitter': 1L, 'friend': 3L, 'brat.': 1L, 'interrupts': 1L, 'formed': 1L, 'serve': 1L, 'being.': 1L, 'thai': 1L, 'lie?': 1L, 'customer': 1L, 'kind': 2L, '\"well': 1L, 'cream,': 1L, 'cream.': 1L, 'malt': 1L, 'means,': 1L, 'this,': 1L, 'stated,': 1L, 'cream...how': 1L, 'want?\"': 1L, 'ordered': 1L, 'head': 1L, \"know...that's\": 1L, 'walks': 1L, 'apparently': 1L, 'cream': 3L, 'away.': 1L, 'says,': 1L, 'discussion': 1L, 'shocked': 1L, '\"leader': 1L, 'explaining': 1L, 'order,': 2L, '....she': 1L, 'apology.': 1L, 'rude': 2L, 'basis,': 1L, 'asks,': 2L, 'in,': 1L, 'coming': 1L, 'chocolate': 1L, 'aka': 1L, 'butter': 5L, 'remember': 1L, 'register': 1L, 'walked': 1L, 'looked': 1L, 'person': 2L, 'out.': 1L, \"she's\": 1L, 'order': 2L, 'shake?\"': 1L}, {'dine': 1L, 'love': 1L, 'top.': 1L, 'miss': 1L, 'drinks': 1L, 'orleans': 1L, 'cherry': 1L, 'tgif': 1L, 'review.': 1L, '(or': 1L, 'good,': 1L, 'gamble': 1L, 'happy': 1L, 'food': 1L, 'dessert': 1L, 'great': 1L, 'hour': 1L, 'inside': 1L, 'movies': 1L, 'place': 1L, 'gamblers).': 1L, 'bowling': 1L, 'wrote': 1L}, {'unwind': 1L, 'love': 1L, 'fan!!': 1L, 'ambiance': 1L, 'tables': 1L, 'true.': 1L, 'service': 1L, 'due': 1L, 'yogurtland': 1L, 'friendly': 1L, 'cozy': 1L, 'relaxing': 1L, 'big': 1L, 'fave': 1L, 'plenty': 1L, 'town': 1L, 'square.': 1L, 'unlike': 1L, 'chairs': 1L, 'dream': 1L, 'venue': 1L, 'warm.': 1L, 'froyo': 1L, 'makes': 1L, '~': 1L}, {'ambiance': 1L, 'back': 1L, 'delicious': 1L, 'mellow': 1L, 'thai': 3L, '(almost': 1L, '&': 1L, 'bbq).': 1L, 'good': 1L, 'food': 2L, 'warm': 1L, 'more!': 1L, 'coming': 1L, 'prices': 1L, 'irresistible.': 1L, 'portions.': 1L, 'scrumptious': 1L, 'panna': 1L, 'reasonable': 1L, 'friendly.': 1L, 'private,': 1L, 'makes': 1L, '~': 1L}, {'buns': 1L, 'coconut': 1L, 'yummy': 1L, 'pork': 1L, 'cakes': 1L, 'favorite.': 1L, '-': 1L, 'bean': 1L, 'steamed': 1L, 'mocha': 1L, 'sesame': 1L, 'must-have!': 1L, 'filling': 1L, 'birthday': 1L, 'place': 1L, 'cake': 1L, 'green': 1L, 'balls.': 1L, 'order': 1L, 'red': 1L}, {'kind': 1L, 'shakes.': 1L, 'person,': 1L, 'burgers': 1L, 'delicious': 1L, 'recommend': 1L, 'islands': 1L, 'thick': 1L, 'place.': 1L, 'however,': 1L, \"i'm\": 1L, 'burger-fries-shake': 1L}, {'guacamole': 1L, \"it's\": 1L, 'inside': 1L, 'delish': 1L, 'venetian.': 1L, 'pricey': 1L, 'chicken': 1L, 'tacos': 1L, '~': 1L}, {'deliver.': 1L, 'most.': 1L, 'minutes.': 1L, 'table': 1L, 'enjoyed': 1L, 'packed': 1L, 'service': 1L, \"it's\": 1L, '5': 1L, 'friendly': 1L, 'affordable': 1L, 'good': 1L, 'food': 2L, 'dessert': 1L, 'price': 1L, 'june': 1L, 'see!': 1L, 'friends': 1L, 'wait': 1L, 'knowledgable,': 1L, 'server': 1L, 'range': 1L, 'place': 1L, 'time': 1L, '~': 1L}, {'love': 1L, 'downfall': 1L, 'lemonade': 1L, 'xd': 1L, 'quiet': 1L, 'strip': 1L, 'chicken': 1L, 'scale': 1L, 'end': 1L, 'resort': 1L, 'lux': 1L, \"it's\": 1L, 'topped': 1L, 'menus': 1L, 'creme': 1L, 'grand': 1L, 'higher': 1L, 'food': 1L, 'cheesecake': 1L, 'dessert.': 1L, \"brulee'\": 1L, 'fan': 1L, 'factory.': 1L, 'off.': 1L, 'different.': 1L, 'inside': 1L, 'days': 1L, 'flautas': 1L, 'venetian': 1L, 'strawberry': 1L, \"i'm\": 1L, 'similar': 1L}, {'suggested': 1L, 'younger': 1L, 'sister': 1L, 'good': 1L, 'service': 1L, 'food': 1L, 'ambiance': 1L, 'better.': 1L, 'prefer': 1L, 'fair.': 1L, 'experience': 1L, 'lunch': 1L, 'place,': 1L, \"archi's\": 2L, 'delicious.': 1L, 'thai': 1L, 'pretty,': 1L, 'enjoyed': 1L, 'bbq': 1L}, {'selection': 1L, 'vegas!': 1L, 'quaint': 1L, 'fave': 1L, 'wrong.': 1L, 'bakery': 1L, 'good': 1L, 'asian': 1L, 'friendly,': 1L, 'breads,': 1L, 'cakes.': 1L, 'pastries': 1L}, {'condensed': 1L, 'yummy!': 1L, 'bananas': 1L, 'mocha,': 1L, 'fluffy': 1L, 'snow': 1L, 'boba': 1L, 'time.': 1L, 'mango': 2L, 'tea.': 1L, 'toppings': 1L, 'place': 1L, '~': 1L, 'milk': 1L, 'red': 1L, 'discovery': 1L}, {'uplifting': 1L, 'service': 1L, '&': 1L, 'mood.': 1L, 'price': 1L, 'ambiance': 1L, 'high': 1L, 'food': 1L, 'place': 1L, 'kinda': 1L, 'excellent': 1L, 'breakfast': 1L, 'delicious,': 1L}, {'it.': 1L, '10': 1L, 'good': 1L, '15': 1L, \"i've\": 1L, 'food': 1L, 'weekends': 1L, '-': 1L, 'reasonable.': 1L, 'dinner': 1L, \"there's\": 1L, 'location': 1L, 'recommend': 1L, 'prices': 1L, 'courteous,': 1L, 'wait': 1L, 'friendly': 1L, 'minute': 1L, 'staff': 1L}, {'selection': 1L, 'beer)': 1L, 'vegas!!': 1L, 'burger': 1L, 'well.': 1L, 'blue': 1L, '$5': 2L, '(and': 1L, 'must-try': 1L, 'appetizers': 1L, 'definite': 1L, 'moon': 1L, 'sliders': 1L, 'chicken,': 1L, 'delicious)': 1L, 'happy': 1L, 'empanadas': 1L, 'jerk': 1L, \"you've\": 1L, 'been!': 1L, '(totally': 1L, '$3': 1L, 'hour': 1L, 'jamaican': 1L, 'pint': 1L, 'martini': 1L}, {'scrumptious.': 1L, 'tea': 1L, 'highly': 1L, 'casual': 1L, 'size': 1L, 'iced': 1L, 'quaint': 1L, 'chicken.': 1L, 'recommended': 1L, 'staff': 1L, 'bbq': 1L, 'food': 1L, 'price': 1L, 'spot': 1L, 'lunch': 1L, 'thai': 2L, 'lunch!': 1L, 'craving': 1L, 'restaurant': 1L, 'favorite': 1L, 'friendly,': 1L, 'cheap,': 1L, \"i'm\": 1L}, {'great': 1L, 'selection': 1L, 'love': 1L, 'unlike': 1L, 'food': 1L, 'buffet': 1L, 'choice': 1L, 'buffet.': 1L, 'good': 1L, 'place!': 1L, 'off-strip.': 1L}, {'tea-flavored': 1L, 'pork': 1L, 'taro': 1L, 'love': 1L, 'spiced': 1L, 'girls': 1L, 'snow': 2L, 'ice': 1L, 'chop': 1L, 'here.': 1L, 'balls,': 1L, 'favorites.': 1L, 'white': 1L, 'place.': 1L}, {'filipino': 1L, 'food': 1L, 'vegas.': 1L, 'fave': 1L, 'fast': 1L, 'restaurants': 1L}, {'customer': 1L, 'restaurant,': 1L, 'noodle': 1L, 'love': 1L, 'service': 1L, 'chinese': 2L, 'food': 2L, 'cheap': 1L, 'price': 1L, 'specially': 1L, 'specials.': 2L, 'lunch': 2L, 'delicious': 1L, 'girlfriend': 1L, 'cafe': 1L, 'off.': 1L}, {'staff': 1L, 'atmosphere': 1L, 'good': 1L, 'vegas,': 1L, 'famous': 1L, 'food': 1L, 'relaxed': 1L, 'delish': 1L, 'friendly': 1L, 'casual,': 1L, \"lucille's.\": 1L, 'reasonable.': 1L, 'recommend': 1L, 'prices': 1L, \"dave's\": 1L, 'place.': 1L, 'memphis': 1L, 'available,': 1L, 'bbq': 2L, 'restaurants': 1L}, {'ohh': 1L, 'price.': 1L, 'family': 1L, 'house.': 1L, 'highly': 1L, 'decided': 1L, 'delicious': 1L, 'service': 1L, 'oprah': 1L, \"it's\": 2L, 'lv': 1L, 'cafe.': 1L, 'ambience': 1L, 'excellent,': 1L, 'recommended!': 1L, \"i've\": 1L, 'food': 1L, 'downtown': 1L, 'job': 1L, 'wanted': 1L, 'celebrate': 1L, 'sister': 1L, 'angel,': 1L, 'florida': 1L, 'drive': 1L, 'dinner': 1L, 'fabulous': 1L, 'place': 1L, 'reasonable': 1L, 'friendly.': 1L, 'wine': 1L}, {'open': 1L, \"lil'\": 1L, 'good': 1L, 'service': 1L, 'chinese': 1L, 'restaurant': 1L, 'food': 1L, \"it's\": 1L, 'pricey,': 1L, 'convenient.': 1L, 'deep': 1L, \"that's\": 1L, 'tofu': 1L, 'kinda': 1L, 'attitude.': 1L, 'delicious.': 1L, \"i'm\": 1L, 'fried': 1L, 'restaurants,': 1L, '2am;': 1L, '~': 1L}, {'dine': 1L, 'selection': 1L, 'back': 1L, 'ordering': 1L, 'all-time': 1L, 'chicken': 1L, 'drinks.': 1L, 'end': 1L, 'tremendous': 1L, 'appetizers': 1L, 'definite': 1L, 'delicious.': 1L, 'carbonara': 1L, 'happy': 1L, 'food': 1L, 'cheesecake': 1L, 'fave': 1L, 'reason': 1L, 'vegas': 1L, 'half': 1L, 'pasta': 1L, 'hour': 1L, 'restaurant': 1L, '^_^': 1L, 'shrimp': 1L, 'thing': 1L, 'time': 2L, 'order': 1L, '~': 3L}, {'selection': 1L, 'people': 1L, 'house': 1L, 'cocktails': 1L, 'blue': 1L, 'drinks.': 1L, 'vegas.': 1L, '-': 1L, 'watch.': 1L, 'music': 1L, 'good': 1L, 'blaring': 1L, 'food': 1L, 'spot': 2L, 'hang-out': 1L, 'vast': 1L, 'las': 1L, 'libacious': 1L, 'yard': 1L, 'conversation': 1L, 'martini': 1L, 'patio': 1L}, {'summerlin': 1L, 'food': 1L, 'favorite': 1L, 'coming': 1L, 'resort.': 1L, 'reason': 1L, 'back.': 1L, \"garden's\": 1L, 'location,': 1L, 'dessert': 1L, 'rock': 1L, 'olive': 1L, 'tiramisu': 1L, 'good,': 1L, 'red': 1L}, {'house': 1L, 'ambiance': 1L, 'year': 1L, 'breakfast': 1L, 'list!': 1L, 'staff': 1L, 'bite.': 1L, 'missed': 1L, 'upbeat': 1L, \"haven't\": 1L, 'hash': 1L, 'food': 1L, 'price': 1L, 'sister': 1L, 'comfy,': 1L, 'reasonable,': 1L, 'in-love': 1L, 'younger': 1L, 'restaurant': 1L, 'alot!': 1L, 'fell': 1L, 'excellent.': 1L, 'friendly,': 1L, 'introduced': 1L, 'all-day': 1L}, {'relaxed,': 1L, 'managed': 1L, 'ambiance': 1L, 'back': 1L, 'guests': 1L, 'water.': 1L, 'refill': 1L, 'check': 1L, '$119.00': 1L, 'busy': 1L, 'service': 1L, 'ambiance,': 1L, '(which': 1L, 'good!': 1L, 'oriental': 1L, 'delicious!': 1L, 'love!).': 1L, 'party': 1L, 'friendly': 1L, 'food': 2L, 'price': 1L, '7,': 1L, 'food,': 1L, 'reasonable.': 1L, '=)': 1L, 'server': 1L, '~': 2L}, {\"i'll\": 1L, 'crazy': 1L, 'palate': 1L, 'chinese': 1L, 'better,': 1L, 'ambiance': 1L, 'asian': 1L, 'service': 1L, '8': 1L, 'friendly': 1L, 'red': 1L, 'nice': 1L, 'encore.': 1L, 'food': 1L, 'price': 1L, 'food.': 1L, 'ridiculous': 1L, 'gorgeous,': 1L, 'authentic': 1L, 'improve': 1L, 'restaurant': 1L, 'inside': 2L, 'okay.': 1L, 'loves': 1L, 'encore': 1L, 'expect': 1L}, {'weekend': 1L, 'hour': 1L, 'favorite': 1L, 'girls': 1L, 'xd': 1L, 'chocolate': 1L, 'cake.': 1L, 'vesuvious': 1L, 'mango': 1L, 'long': 1L, 'indulge': 1L, 'girl': 1L, 'workouts.': 1L, 'cardio': 1L, 'martini': 1L, '~': 1L}, {'beautiful': 1L, 'love': 1L, 'town!': 1L, 'sushi': 3L, 'ambiance': 1L, 'japanese': 1L, 'private': 1L, 'highly': 1L, 'delicious': 1L, 'service': 1L, 'at.': 1L, '-': 1L, 'lovely': 1L, 'biased': 1L, 'oyshi': 1L, 'food': 1L, 'big': 1L, 'price': 1L, 'fave': 1L, 'reasonable.': 1L, 'mural': 1L, 'excellent': 1L, 'however,': 1L, 'room': 1L, 'recommended!!': 1L, \"i'm\": 1L, 'restaurants,': 1L, '~': 3L}, {'palatable': 1L, 'ate': 1L, 'food': 1L, 'better.': 1L, 'back.': 1L, 'thai': 1L, 'bbq': 1L}, {'cookies': 1L, 'variety': 1L, 'dessert.': 1L, 'ice': 1L, 'cream;': 1L, 'thrifty': 1L, 'homemade': 1L, 'delicious,': 1L}, {'service.': 1L, \"don't\": 1L, 'southwest!': 1L, 'service!': 1L, 'lack': 1L, 'xd': 1L, '(if': 1L, 'minutes.': 1L, 'drinks': 2L, 'taro': 1L, '(for': 1L, 'point': 1L, '-': 1L, 'drinks!': 1L, 'delicious': 1L, '5': 1L, 'want).': 1L, 'pretty': 1L, 'tea': 1L, 'location': 1L, 'topping': 1L, 'fyi': 1L, '10': 2L, 'me)!': 1L, 'drink': 1L, 'boba': 1L, 'fast.': 1L, 'long,': 1L, 'yummy': 1L, 'line': 1L, 'bar.': 1L, \"they're\": 1L, 'great': 3L, 'compliments': 1L, 'longer': 1L, 'lightning': 1L, 'place': 1L, 'amazing!': 1L, 'brew': 1L, 'fresh': 1L, 'boba!': 1L, 'minutes': 1L, 'order': 1L, 'waited': 1L, '(yummy!)': 1L}, {'busy': 1L, 'office': 1L, 'beef': 1L, 'iced': 1L, 'teriyaki': 1L, 'noon': 1L, 'serve': 1L, 'durango': 1L, 'lunch': 1L, 'ate': 1L, 'tea.': 1L, 'delicious': 1L, 'chicken': 1L, '2pm': 1L, 'thai': 1L}, {'yum!': 1L, 'flick': 1L, 'taro': 1L, 'square.': 1L, 'stop': 1L, 'town': 1L, 'catching': 1L, 'pit': 1L, 'latest': 1L}, {'people': 1L, 'experience.': 1L, 'back': 1L, 'medium/large': 1L, 'now,': 1L, '20': 1L, 'machine': 1L, \"we're\": 1L, 'stars': 1L, 'stopped.': 1L, 'room,': 1L, 'night': 1L, 'coming': 1L, 'saturday.': 1L, 'friends': 1L, 'wait': 1L, 'great': 1L, 'room': 2L, 'hour': 1L, 'supposed': 1L, 'time': 3L, 'minutes': 1L, '~': 1L}, {'up.': 1L, 'vegas': 1L, 'reviews.': 1L, 'must-try!': 1L, 'delicious': 1L, 'fave': 1L, 'watch': 1L, 'vacation': 1L, 'diet': 1L, 'bakery': 1L, '~': 2L, 'place': 1L, 'las': 1L, 'coming': 1L, 'bikini-beach': 1L, 'weeks': 1L, 'irresistible': 1L, \"i'm\": 1L, \"haven't\": 1L, 'pastries': 1L}, {'venu': 1L, 'service': 1L, 'quaint': 1L, 'menu.': 1L, 'food': 1L, 'mediterranean': 1L, 'italian.': 1L, 'choices': 1L, 'large': 1L, 'greek': 1L, 'good.': 1L, 'moraccan': 1L, 'spicy.': 1L, 'friendly': 1L, 'strip.': 1L, 'quick.': 1L}, {'ever.': 1L, 'agreed': 1L, 'cocktails': 1L, 'delicious': 2L, 'chicken': 3L, 'saved': 1L, 'service': 1L, 'waffles': 1L, 'chicken.': 1L, 'mimosas.': 1L, 'ambience.': 1L, 'started': 1L, 'blt.': 1L, 'excellent': 1L, 'brunch': 1L, 'tomato': 1L, 'loved': 1L, 'room': 1L, 'had.': 1L, 'plain': 1L, 'green': 1L, 'husband': 1L, 'desert!': 1L, 'fried': 4L, 'unique.': 1L}, {'$24),': 1L, 'vegas': 1L, 'selection': 2L, 'rest': 1L, 'desserts': 1L, 'dinner-type': 1L, 'tasty': 1L, 'hanging': 1L, 'food,': 1L, 'mary/champagne.': 1L, 'brunch': 2L, 'decor': 1L, '&': 1L, '(around': 1L, 'mimosa/bloody': 1L, 'macaroni': 1L, 'pretty': 1L, 'expected': 1L, 'covered': 1L, 'food!': 1L, 'cosmopolitan': 1L, 'complete': 1L, 'installations': 1L, 'price': 1L, 'hotel': 1L, 'theme.': 1L, 'buffet': 1L, 'chocolate': 1L, 'glass': 1L, 'strawberries!)': 1L, 'free': 1L, 'included': 1L, 'line': 1L, 'food.': 1L, '(especially': 1L, 'gelato,': 1L, 'great': 3L, 'monday.': 1L, 'regular': 1L, 'amazing,': 1L, 'cheese.': 1L}, {'enjoy': 1L, 'ami': 1L, 'partying.': 1L, 'eat': 2L, 'myself,': 1L, 'lorraine.': 1L, 'arrived': 1L, 'satisfied': 1L, 'jg),': 1L, 'highly': 1L, 'disappointing': 1L, 'medium': 1L, 'butter!': 1L, \"(i'm\": 1L, 'bites;': 1L, 'balanced.': 1L, 'quiche': 2L, 'cold': 1L, 'orders': 1L, '(steak': 1L, \"you're\": 1L, 'be.': 1L, 'tasting': 1L, 'paris': 1L, 'menu': 1L, 'vegas.': 1L, 'long': 1L, 'craving': 1L, 'lorraine': 1L, 'split': 1L, 'time': 1L, 'rare,': 1L, 'ph': 1L, 'perfectly': 2L, 'worth': 1L, 'friend': 1L, 'nice': 1L, 'craving!': 1L, 'note,': 1L, 'you,': 1L, 'eating': 1L, 'baguette': 1L, \"would've\": 1L, 'lie...': 1L, 'night': 1L, 'food,': 1L, 'french': 1L, 'huge': 1L, 'good!!!': 1L, 'warm': 1L, 'fan': 1L, 'mon': 1L, 'lunch': 1L, 'coming': 1L, 'nice,': 1L, 'rice!': 1L, 'wanted': 1L, 'friends': 1L, 'white': 1L, 'bread': 1L, 'butter),': 1L, 'delicious,': 1L, 'classique': 1L, 'full': 1L, 'restaurant': 1L, 'door.': 1L, 'crusty,': 1L, 'side': 1L, '16-course': 1L, 'cooked': 1L, 'well.': 1L, 'gabi': 1L, 'served': 2L, \"i'm\": 1L, 'steak': 3L, 'requested.': 1L, 'meal': 1L, 'tartare...': 1L}, {'rating': 1L, 'appease': 1L, 'agreed': 1L, 'only,': 1L, 'edamame,': 1L, '15),': 1L, '(which': 1L, 'tdf),': 1L, 'with,': 1L, 'with.': 1L, 'group': 3L, 'la': 1L, 'menu': 2L, 'fair,': 1L, 'black': 1L, 'pretty': 1L, 'sampler': 1L, 'grilled': 1L, 'sauce': 1L, 'worth': 1L, 'it.': 1L, 'eventually': 1L, 'it,': 1L, 'sitting': 1L, 'food': 6L, 'overdone': 1L, 'appetizer': 1L, 'menus': 1L, 'made': 1L, '(while': 1L, 'great,': 1L, 'fine,': 1L, 'meat': 1L, 'delicious': 1L, 'delicious,': 1L, 'server': 1L, 'large': 3L, 'stars.': 1L, 'continue': 1L, 'rock': 1L, 'small': 1L, 'give-me-milk-to-guzzle-now': 1L, 'sushisamba': 1L, 'soft': 1L, 'whomever': 1L, 'pork': 1L, 'talked': 1L, 'served,': 1L, 'people': 2L, 'group,': 1L, 'group.': 2L, 'flaky,': 1L, 'sea': 1L, 'time.': 1L, 'start.': 1L, 'truffle': 1L, 'fall': 1L, 'shooters': 1L, 'perfect': 1L, 'bass': 1L, 'tempura': 1L, 'honestly,': 2L, 'thanks,': 1L, 'members': 1L, 'carte,': 1L, 'care': 1L, 'sending': 1L, 'restaurant': 3L, '(about': 1L, 'times': 1L, 'amount': 1L, 'beans': 2L, 'way.': 1L, 'amazingly': 1L, 'however,': 1L, 'fish.': 1L, 'fish,': 1L, 'for.': 1L, 'point': 1L, 'feel': 1L, 'accommodate': 1L, 'anywhere.': 1L, 'short,': 1L, 'impossible': 1L, 'tuna': 1L, '(the': 1L, \"you're\": 1L, '\"fighting\".': 1L, 'wants,': 1L, 'service': 2L, 'tasting': 2L, \"it's\": 1L, 'classic': 1L, 'upbeat': 1L, 'perfectly': 1L, '\"incorporate': 1L, 'sort': 1L, 'dry,': 1L, 'down);': 1L, 'hard': 1L, 'understandably': 1L, 'skewers': 1L, \"'tasting\": 1L, 'much.': 1L, 'spring;': 1L, 'basically': 1L, 'peppers,': 1L, 'line': 1L, 'unwillingness': 1L, 'eat': 1L, 'sub-standard.': 1L, '15': 1L, '14': 2L, 'salad': 1L, 'raw': 2L, 'work': 1L, 'strange)': 1L, 'spicy,': 1L, 'fried': 2L, 'shrimp': 1L, 'over.': 1L, 'give': 1L, 'fine--she': 1L, 'sushi': 1L, \"didn't\": 1L, 'beefs': 1L, 'pushed': 1L, 'tastes': 1L, 'spicy': 2L, 'tastes,': 1L, 'chewiness': 1L, 'rolls..': 1L, 'trip': 1L, 'decor': 1L, 'do.': 1L, 'varied': 1L, 'haggled': 1L, 'moist': 1L, 'amazing': 1L, 'interested': 1L, '5': 1L, 'place': 1L, 'here.': 1L, 'begin': 1L, 'dishes\"--sounds': 1L, 'price': 1L, 'horrible.': 2L, \"i'm\": 2L, 'types': 1L, \"menu'\": 1L, 'cooked': 1L, 'green': 2L, 'time': 1L, 'platter': 1L, 'shishito': 1L}, {'you,': 1L, 'ordered': 1L, \"freed's:).\": 1L, 'make': 1L, 'beautiful!': 1L, 'birthday': 1L, 'cake': 1L, 'worked': 1L, 'minute': 1L, \"wife's\": 1L}, {'beware!': 1L, \"girlfriend's\": 1L, 'pleasant,': 1L, 'manager': 1L, 'cost': 1L, 'dinner': 1L, 'cafe': 1L, 'ok,': 1L, 'that,': 1L, 'matt': 1L, 'bill,': 1L, 'lux': 1L, 'make': 1L, 'timms': 1L, 'charts': 1L, 'casino.': 1L, 'employer': 1L, 'late': 1L, 'mr.': 1L, 'call': 1L, 'questioned': 1L, 'grand': 1L, 'threaten': 1L, 'learned': 1L, \"i've\": 1L, 'food': 1L, 'lose': 1L, 'drinks.': 1L, 'manager.': 1L, 'friends': 2L, 'cool': 1L, 'locals.': 1L, 'timms,': 1L, 'rude-': 1L, 'server': 1L, 'venetian': 1L, 'item': 1L, 'bad': 1L, 'night': 1L, 'restaurants': 1L, 'options': 1L, 'back!': 1L}, {'selections.': 1L, 'selection': 1L, 'service': 1L, 'work': 1L, 'great': 1L, 'quick': 1L, 'amount': 1L, 'flavors.': 1L, 'put': 1L, 'tasty.': 1L, 'presentation': 1L, 'beautiful.': 1L}, {'replied': 1L, 'mexican': 1L, '\"i': 1L, 'drive': 1L, 'spanish': 1L, 'ready': 1L, 'appetite': 1L, 'customer.': 1L, 'working': 1L, 'ordering': 1L, 'vegas.': 1L, 'late': 1L, 'start': 1L, '5': 1L, 'coworkers': 1L, 'horrible': 1L, 'las': 1L, 'today': 1L, 'rude': 1L, 'spot': 1L, 'southern': 1L, 'pastor': 1L, 'kitchen': 1L, 'back': 1L, 'offend,': 1L, 'wanted': 1L, 'totally': 1L, 'ish.': 1L, 'minutes\".': 1L, 'man': 1L, 'remark': 1L, 'highlands': 1L, 'nicely': 1L, 'employees': 1L, 'favorite': 1L, 'anything.': 1L, 'experience': 1L, 'ruined': 1L, 'yet.': 1L, 'loyal': 1L, 'greeted': 1L, 'night': 1L, 'tacos!': 1L, \"i'm\": 1L, 'asked': 1L, 'left': 1L}, {'roaster': 1L, 'area.': 1L, 'tasted': 1L, 'house': 1L, 'yummy.': 1L, 'good': 1L, 'find': 2L, '(equator)': 1L, 'area': 1L, 'giving': 1L, '4': 1L, 'stars': 1L, 'enough,': 1L, 'neighborhood,': 1L, 'difficult': 1L, 'coffee': 1L, 'ago.': 1L, 'three.': 1L, 'dry': 1L, 'great': 1L, 'made': 1L, 'coffee,': 1L, 'croissant': 1L, 'cup': 1L, 'days': 1L, 'bay': 2L, 'spoiled': 1L, 'however,': 1L, 'relief!': 1L}, {'cooking.': 1L, 'eating': 1L, 'homemade': 1L, 'la': 1L, 'great-grandmothers': 1L, 'dish': 1L, '-': 2L, '$45ish.': 1L, 'rivals': 1L, 'lobster': 2L, 'years.': 1L, 'pasta': 3L, 'period.': 1L, 'carte': 1L, 'italian': 1L}, {'made': 1L, '#makeitsweet': 1L, 'liquid': 1L, 'give': 1L, 'seating.': 1L, 'time': 1L, 'due': 1L, 'ice': 1L, 'nitrogen.': 1L, '5': 1L, 'stars': 1L, 'excellent': 1L, 'cold': 1L, \"it's\": 1L, 'cream': 1L}, {'coffee': 1L, 'vietnamese': 1L, \"it's\": 1L, 'drink': 1L, 'boba': 2L, 'good!': 1L, 'great!': 1L, 'place': 1L, 'here.': 1L, 'time': 1L, 'milk': 1L, 'tea...super': 1L}, {'great': 1L, 'menu!': 1L, ':)': 1L, 'variety': 1L, 'food': 2L, 'service!': 1L, 'large': 1L, 'occasion.': 1L, 'special': 1L}, {':)': 1L, 'pastries...': 1L, 'oh.': 1L, 'highly': 1L, 'tasty': 1L, 'quality': 1L, \"you're\": 1L, 'widest': 1L, 'feed.': 1L, 'top': 1L, 'restaurant!': 1L, 'lot': 1L, 'recommend': 1L, 'presentation': 1L, 'gave': 1L, 'staying': 1L, 'good': 1L, 'read': 1L, 'buffet': 1L, 'choice': 1L, 'god.': 1L, 'awesome!': 1L, 'plenty': 1L, 'my.': 1L, 'day': 1L, 'made': 1L, 'healthy': 1L, 'drop': 1L, 'choices': 1L, 'reviews': 1L, 'admit': 1L, 'buffet,': 1L, 'place': 1L, 'options': 1L, 'bellagio.': 1L}, {'back': 1L, 'bellagio.': 1L, 'staying': 1L, 'tasted': 1L, 'treat': 1L, \"you're\": 1L, 'positioned': 1L, 'straight': 1L, 'pastries': 1L, 'spot': 1L, 'lifts..': 1L, 'walk': 1L, 'great': 1L, 'bakery.': 1L, 'quick': 1L, 'fresh': 1L, ';)': 1L, 'cafe': 1L, 'pool': 1L, 'downside': 1L}, {'recommend': 1L, 'vegas': 1L, 'wanted': 1L, 'atmosphere.': 1L, 'dessert': 1L, 'make': 1L, 'bouchon': 1L, 'sooo': 1L, 'great': 3L, 'finish': 1L, 'meal': 1L, 'delivered!': 1L, 'good': 1L, 'well.': 1L, 'place': 1L, 'night': 1L, 'bit': 1L, 'highly': 1L, 'meals': 1L}, {'executed': 1L, 'wynn': 1L, 'resist': 1L, \"couldn't\": 1L, 'love': 1L, 'find': 2L, 'quick.': 1L, 'decor': 1L, 'casino.': 2L, 'checking': 2L, 'white': 1L, 'staff': 1L, 'sauce': 1L, 'perfectly!': 1L, 'food': 1L, 'apologetic': 1L, 'serve': 1L, 'wrong': 1L, 'meals': 2L, 'tomato': 1L, 'great': 3L, 'us.': 1L, 'inside': 2L, 'asked': 1L, 'place': 1L, 'quick': 2L, 'meal': 1L, 'italian': 1L}, {'pizza,': 1L, 'better.': 1L, \"didn't\": 1L, 'back': 1L, 'bring': 1L, 'well.': 1L, 'ordered': 1L, 'beef': 2L, 'blt': 1L, 'vegas.': 1L, 'amazing': 1L, 'pizza': 1L, 'sandwich': 4L, \"i've\": 2L, 'drink': 1L, 'veggie': 1L, '$20.': 1L, '$8': 1L, 'chips': 1L, 'great.': 1L, 'care': 1L, 'easily': 1L, 'had.': 1L, 'leave': 1L, 'good': 1L, 'roast': 2L}, {'cosmo': 1L, 'hard': 1L, 'find': 1L, 'find.': 1L, 'munchies': 1L, 'crust': 1L, 'line.': 1L, 'clubbing': 1L, 'place.': 1L, 'good,': 1L, 'price': 1L, 'good.': 1L, 'it.': 1L, '@': 1L, 'sign.': 1L, 'toppings,': 1L, 'reasonable,': 1L, 'tasty.': 1L, 'monday,': 1L, 'thin': 1L, 'fun': 1L, 'fresh': 1L, 'name,': 1L}, {'deal': 1L, 'people': 1L, \"didn't\": 1L, 'location': 1L, 'hollywood': 1L, 'room,': 1L, 'hope': 1L, 'flat': 1L, 'good': 1L, 'door': 1L, 'price': 1L, 'free': 1L, '(unlike': 1L, 'water': 1L, 'everything)': 1L, 'hear': 3L, 'saturday.': 1L, 'breakfast.': 1L, 'king': 1L, 'great': 1L, 'coffee,': 1L, 'us.': 1L, 'pressure,': 1L, 'planet': 1L, '$50': 1L, 't.v.,kureg': 1L}, {'it.': 2L, 'there.': 1L, 'sandwich': 1L, 'mikes': 1L, 'mood': 1L, 'healthy': 1L, 'toasty,': 1L, 'price': 1L, 'wrong': 1L, 'good': 1L, 'here,': 1L, 'filling.': 1L, 'baked': 1L, 'worth': 1L, 'jersey': 1L}, {'it.': 1L, 'great': 1L, 'lounge.': 1L, 'portions': 1L, 'feel': 1L, 'appetizers': 1L, 'fireside': 1L, 'finish': 1L, 'large': 1L, 'start': 1L, 'vegas': 1L, 'place': 1L, 'night': 1L, 'drinks': 1L, 'great.': 1L, 'las': 1L}, {':)': 1L, 'overwhelmed': 1L, 'tables': 1L, 'slow': 1L, 'location': 1L, 'occasion,': 1L, '(buffalo': 1L, 'it.': 1L, 'premium': 1L, 'olives.': 1L, 'came,': 1L, 'food': 2L, 'stop': 1L, 'lunch': 2L, 'vegas': 2L, 'bit': 2L, 'day': 1L, 'gem': 1L, 'bellagio': 1L, 'mozzarella),': 1L, 'list': 1L, 'server': 2L, 'delay.': 1L, 'found': 1L, 'spent': 1L, 'steal': 1L, 'table,': 1L, 'view': 2L, '(but': 1L, 'seating': 1L, 'left.': 1L, 'end,': 1L, 'special': 1L, 'palace,': 1L, 'day,': 1L, 'fountain': 1L, 'cromwell': 1L, 'bought': 1L, 'corking': 2L, 'days,': 1L, 'pasta': 1L, 'show.': 1L, 'rare': 1L, 'exceptionally': 1L, 'experience': 1L, 'fulfilled': 1L, \"giada's\": 1L, \"weren't\": 1L, 'cheese': 1L, 'sweet': 1L, 'number': 1L, 'highly': 2L, 'brought': 1L, \"caesar's\": 1L, 'simply': 1L, 'total': 1L, 'homemade,': 1L, 'fee': 2L, 'service': 1L, 'due': 1L, 'recommend': 2L, 'peppers': 1L, '1/2': 1L, 'hotel': 1L, 'understand': 1L, 'baby': 1L, '$35,': 1L, '15': 1L, 'ordered,': 1L, 'ultra': 1L, 'minutes': 1L, 'lasted': 1L, 'high': 1L, 'blvd': 1L, 'check': 1L, 'strip.': 2L, 'marinated': 1L, 'dishes': 1L, 'depending': 1L, 'complaining': 1L, 'situated': 1L, '1': 1L, 'dining': 1L, 'prices)': 1L, 'excellent.': 1L, 'fast.': 1L, 'forgot,': 1L, 'lunch!': 1L, 'buratta': 1L, 'las': 1L, 'wine.': 2L, 'floor': 1L, 'hrs.': 1L, 'bottle': 1L, 'time': 2L, 'fresh': 1L, 'roughly': 1L, 'baked': 1L, 'fact': 1L, 'wine': 1L}, {'quick..': 1L, 'good': 1L, 'meat': 1L, 'people': 1L, 'food': 2L, 'had..the': 1L, 'reviews': 1L, 'ate': 1L, 'place': 1L, 'idk': 1L, 'worst': 1L, 'stale': 1L, 'thai': 2L, 'veggies': 1L}, {'atmosphere': 1L, 'family': 1L, 'licensed': 1L, 'tonight': 1L, '21.': 1L, '(which': 1L, 'previous': 1L, 'wanted': 1L, 'decision': 1L, 'due': 1L, 'consistently': 1L, 'visits).': 1L, 'stieners': 1L, 'wait': 1L, 'friendly': 1L, 'nv': 1L, 'explaining': 1L, \"didn't).\": 1L, 'food': 1L, 'offered': 1L, 'business.': 1L, 'refused': 1L, 'mention': 1L, 'vegas': 1L, 'excellent': 1L, 'law': 1L, 'true': 1L, 'gracious': 1L, 'daughter': 1L, '(on': 1L, 'fault': 1L, 'age': 1L, 'reviews': 1L, 'employees': 1L, 'foyer': 1L, 'smoky': 1L, \"that's\": 1L}, {'go...': 1L, 'good': 2L, 'love': 1L, 'food': 1L, 'live': 1L, 'place': 2L, 'guac': 1L, \"margarita's\": 1L, 'salsa': 1L, 'too....i': 1L, 'chips': 1L, 'agree': 1L, 'margarita': 1L}, {'bother...save': 1L, 'overpriced': 1L, 'had....runny,': 1L, \"don't\": 1L, 'smoothie': 1L, 'money!!!!': 1L, 'get...': 1L, 'worst': 1L, 'flavor': 1L}, {'pre-occupied': 1L, 'house': 1L, 'experience,': 1L, 'years': 1L, 'enjoyed': 1L, 'staff': 1L, 'desired.': 1L, 'unattentive,': 1L, 'dining': 1L, 'draft': 1L, 'gave': 1L, 'good': 2L, 'food': 2L, 'drink': 1L, 'wrong': 1L, 'disappointed': 1L, 'on...not': 1L, 'check,': 1L, 'experience...very': 1L, 'room': 1L, \"hasn't\": 1L, 'beg': 1L, 'alot': 1L, 'refill,': 1L}, {'enjoy': 1L, \"you're\": 1L, 'great': 1L, 'sandwich': 1L, 'sitting': 1L, 'bacon': 1L, 'make': 1L, 'reservations.': 1L, 'air.': 1L, 'tomato': 1L, 'lettuce': 1L, 'dinner': 1L, 'today': 1L, 'lunch': 1L, 'services': 1L, 'open': 1L, 'great.': 1L, 'patio': 1L}, {'great': 1L, 'love': 1L, 'service': 1L, 'food': 1L, 'excellent': 1L, 'back.': 1L, 'coming': 2L, 'hereand': 1L}, {'back.': 1L, 'btw': 1L, 'friday': 1L, 'service': 1L, 'mc': 1L, 'presented': 1L, 'food': 1L, 'evening.': 1L, 'excellent': 1L, 'karaoke': 1L, 'fees': 1L, 'made': 1L, 'place': 1L, 'restaurants.': 1L, 'parking': 1L, 'fun.': 1L, 'celebrity': 1L, 'locals': 1L}, {'claim': 1L, \"don't\": 1L, \"didn't\": 1L, 'wrong.': 1L, \"(i'm\": 1L, 'table': 2L, 'ourselves.': 1L, 'lifetime': 1L, 'check': 1L, 'speak': 1L, 'in.': 1L, 'service': 1L, 'order),': 1L, 'people': 2L, 'period,': 1L, 'waiting': 2L, 'location': 1L, 'pretty': 1L, 'worth': 1L, 'run': 1L, 'watching': 1L, 'food': 3L, 'taiwanese': 1L, 'couple': 1L, 'crap.': 1L, 'cashier': 1L, 'food.': 1L, 'dirty.': 1L, 'wrong': 1L, 'arrived': 1L, 'put': 1L, '10': 1L, 'forever': 1L, 'longer': 1L, 'showed': 1L, 'us.': 1L, 'us,': 1L, 'acknowledged': 1L, 'terrible': 1L, 'seated': 1L, 'order': 1L, 'place': 2L, 'turns': 1L, 'completely': 1L, 'yelp': 1L, 'minutes': 1L, 'happen.': 1L, 'waited': 2L}, {'hard': 1L, ';)))': 1L, 'knees': 1L, 'yummy': 1L, 'raise': 1L, 'asap!': 1L, 'amazing': 1L, 'bees': 1L, 'pajamas!': 1L, 'angela?!': 1L, 'happy': 1L, 'good': 1L, 'beat': 1L, 'yogurts': 1L, 'super': 1L, 'hubba': 2L, 'bartender': 1L, 'hour': 1L, 'soju': 1L, 'portions!': 1L, 'specials': 1L, 'place': 1L, 'marlon': 1L, 'cats': 1L}, {'cheese': 1L, 'mac': 1L, 'love': 1L, 'bacon': 1L, 'atmosphere!': 1L, 'cocktails': 1L, 'amazing': 2L, 'truffle': 1L, 'mushrooms': 1L}, {'delicately': 1L, 'ilys': 1L, 'sweet': 1L, 'proportions': 1L, 'service': 1L, 'pretty': 1L, 'delicious': 1L, 'bisque': 1L, 'busy.': 1L, 'perfect': 1L, 'oliver': 1L, 'monkey': 1L, 'awkward': 1L, 'god': 1L, 'prepared.': 1L, 'rich': 1L, 'friendly': 1L, 'roast!': 1L, 'offices.': 1L, 'coffee': 1L, 'eggplant': 1L, 'tucked': 1L, 'food': 1L, 'time': 1L, 'creamy.': 1L, 'lunch': 1L, 'host': 1L, 'slow': 1L, 'pesto,': 1L, 'bit': 1L, 'lunch!': 1L, 'super': 1L, 'respectful': 1L, 'peeve': 1L, 'seafood': 1L, 'freeway': 1L, 'place': 1L, 'latte.': 1L, \"it's\": 2L, 'friendly.': 1L, 'fresh': 1L, 'feeling': 1L, 'corporate': 1L, 'side': 2L, 'italian': 1L}, {'$11.25': 1L, 'concept': 1L, 'kale': 1L, 'people': 1L, 'sweet': 1L, 'me.': 1L, '(non': 1L, 'delish-': 1L, 'sources': 1L, 'drinks.': 1L, 'ingredients': 1L, 'wrap': 1L, 'chicken': 1L, 'juice': 2L, 'conventional': 1L, '&': 1L, 'either,': 1L, 'food': 2L, 'charge': 1L, 'noting': 1L, 'health': 1L, 'stars': 1L, 'include': 1L, 'issue': 1L, 'worth': 1L, 'bbq': 1L, 'smart': 1L, 'afford': 1L, 'star': 1L, 'organic)': 1L, 'from.': 1L, 'clientele.': 1L, 'catering': 1L, 'restaurant': 1L, 'juices...': 1L, 'produce': 1L, 'position': 1L, 'favs': 1L, 'care': 1L, 'made': 1L, 'organic': 1L, 'meat': 1L, '$12': 1L, 'conscious': 1L, 'potato': 1L, 'pressed': 1L, 'here,': 1L, 'fresh': 1L, 'guy': 1L, 'pesticides.': 1L, 'wrap.': 1L}, ... ]"
      ]
     },
     "execution_count": 3,
     "metadata": {},
     "output_type": "execute_result"
    }
   ],
   "source": [
    "#Review 데이터 Stopword 제거하기\n",
    "data['trim_stop_WC'] = data['word_count'].dict_trim_by_keys(gl.text_analytics.stopwords(), True)\n",
    "data['trim_stop_WC']"
   ]
  },
  {
   "cell_type": "code",
   "execution_count": 4,
   "metadata": {
    "collapsed": true
   },
   "outputs": [],
   "source": [
    "#Review 데이터 Stopword 외에 추가 Word들 확인 후 제거하기\n",
    "data['adv_trim'] = data['trim_stop_WC'].dict_trim_by_keys([\"[][]\", \",\", \"(+)\", \"+\", \".\",\"-\",\"\\\\\",\"*\",\"/\",\"&\",\"da\",\"--\",\n",
    "                                                  \"rex\",\"|\",\"de\",\"thy\",\"~\",\"la\",\"!!\",\"limitword\",\"...\",\"..\",\"????,\",\n",
    "                                                   \"=\",\"pok챕\",\"you'll\",\"횪\",\"c:\",\"a:\",\"@\",\"//\",\"it's\",\"6,\",\"..\",\n",
    "                                                          \"12\",\"[\",\"(\",\"....\",\"le\",\"1\",\"2\",\"je\",\"!\",\"w/\",\"**\",\"10\",\"2\",\n",
    "                                                          \"5\",\"????.\",\"m.:\",\"g:\",\":::\",\"+[\",\"]\",\"???????.\",\"????????????.\",\n",
    "                                                           \"????????.\",\"(++)\",\"...du\",\"\",\"::\",\"6.5\",\"??????.\",\n",
    "                                                           \"===============\",\"-:::-\",\"~~\",\"-1\",\"k\",\"[+]\",\"rv\",\"----\",\n",
    "                                                           \"________________________________________\",\"_\",\"me:\",\n",
    "                                                           \"-------------------------------------------------\",\"xxx,\",\n",
    "                                                           \"jff\",\"():\",\"das\",\"dee\",\"~the\",\"#\",\"'n'\",\"????????,\",\"?\",\n",
    "                                                           \"+1:\",\".an\",\"???,\",\"(l)\",\"dr\",\"dr.\",\n",
    "                                                           \"-----------------------------------------------------------------------\",\n",
    "                                                           \"i've\", \"i'm\", \"don't\", \"say\" , \"i\",\"didn't\",\"wasn't\",\"didn't\",\"it.\",\n",
    "                                                           \"und\",\"der\"\n",
    "                                                           ], exclude=True)"
   ]
  },
  {
   "cell_type": "code",
   "execution_count": 5,
   "metadata": {
    "collapsed": false
   },
   "outputs": [
    {
     "data": {
      "text/html": [
       "<div style=\"max-height:1000px;max-width:1500px;overflow:auto;\"><table frame=\"box\" rules=\"cols\">\n",
       "    <tr>\n",
       "        <th style=\"padding-left: 1em; padding-right: 1em; text-align: center\">word</th>\n",
       "        <th style=\"padding-left: 1em; padding-right: 1em; text-align: center\">count</th>\n",
       "    </tr>\n",
       "    <tr>\n",
       "        <td style=\"padding-left: 1em; padding-right: 1em; text-align: center; vertical-align: top\">salty</td>\n",
       "        <td style=\"padding-left: 1em; padding-right: 1em; text-align: center; vertical-align: top\">120</td>\n",
       "    </tr>\n",
       "    <tr>\n",
       "        <td style=\"padding-left: 1em; padding-right: 1em; text-align: center; vertical-align: top\">thoughts</td>\n",
       "        <td style=\"padding-left: 1em; padding-right: 1em; text-align: center; vertical-align: top\">86</td>\n",
       "    </tr>\n",
       "    <tr>\n",
       "        <td style=\"padding-left: 1em; padding-right: 1em; text-align: center; vertical-align: top\">waited.</td>\n",
       "        <td style=\"padding-left: 1em; padding-right: 1em; text-align: center; vertical-align: top\">82</td>\n",
       "    </tr>\n",
       "    <tr>\n",
       "        <td style=\"padding-left: 1em; padding-right: 1em; text-align: center; vertical-align: top\">no.</td>\n",
       "        <td style=\"padding-left: 1em; padding-right: 1em; text-align: center; vertical-align: top\">80</td>\n",
       "    </tr>\n",
       "    <tr>\n",
       "        <td style=\"padding-left: 1em; padding-right: 1em; text-align: center; vertical-align: top\">david</td>\n",
       "        <td style=\"padding-left: 1em; padding-right: 1em; text-align: center; vertical-align: top\">53</td>\n",
       "    </tr>\n",
       "    <tr>\n",
       "        <td style=\"padding-left: 1em; padding-right: 1em; text-align: center; vertical-align: top\">oxtail</td>\n",
       "        <td style=\"padding-left: 1em; padding-right: 1em; text-align: center; vertical-align: top\">45</td>\n",
       "    </tr>\n",
       "    <tr>\n",
       "        <td style=\"padding-left: 1em; padding-right: 1em; text-align: center; vertical-align: top\">soup.</td>\n",
       "        <td style=\"padding-left: 1em; padding-right: 1em; text-align: center; vertical-align: top\">45</td>\n",
       "    </tr>\n",
       "    <tr>\n",
       "        <td style=\"padding-left: 1em; padding-right: 1em; text-align: center; vertical-align: top\">beef</td>\n",
       "        <td style=\"padding-left: 1em; padding-right: 1em; text-align: center; vertical-align: top\">38</td>\n",
       "    </tr>\n",
       "    <tr>\n",
       "        <td style=\"padding-left: 1em; padding-right: 1em; text-align: center; vertical-align: top\">ribs!!</td>\n",
       "        <td style=\"padding-left: 1em; padding-right: 1em; text-align: center; vertical-align: top\">37</td>\n",
       "    </tr>\n",
       "    <tr>\n",
       "        <td style=\"padding-left: 1em; padding-right: 1em; text-align: center; vertical-align: top\">ribs!</td>\n",
       "        <td style=\"padding-left: 1em; padding-right: 1em; text-align: center; vertical-align: top\">37</td>\n",
       "    </tr>\n",
       "</table>\n",
       "[37581865 rows x 2 columns]<br/>Note: Only the head of the SFrame is printed.<br/>You can use print_rows(num_rows=m, num_columns=n) to print more rows and columns.\n",
       "</div>"
      ],
      "text/plain": [
       "Columns:\n",
       "\tword\tstr\n",
       "\tcount\tint\n",
       "\n",
       "Rows: 37581865\n",
       "\n",
       "Data:\n",
       "+----------+-------+\n",
       "|   word   | count |\n",
       "+----------+-------+\n",
       "|  salty   |  120  |\n",
       "| thoughts |   86  |\n",
       "| waited.  |   82  |\n",
       "|   no.    |   80  |\n",
       "|  david   |   53  |\n",
       "|  oxtail  |   45  |\n",
       "|  soup.   |   45  |\n",
       "|   beef   |   38  |\n",
       "|  ribs!!  |   37  |\n",
       "|  ribs!   |   37  |\n",
       "+----------+-------+\n",
       "[37581865 rows x 2 columns]\n",
       "Note: Only the head of the SFrame is printed.\n",
       "You can use print_rows(num_rows=m, num_columns=n) to print more rows and columns."
      ]
     },
     "execution_count": 5,
     "metadata": {},
     "output_type": "execute_result"
    }
   ],
   "source": [
    "#Review 데이터 Stopword 제거 후 순서대로 보여주기\n",
    "d_wc = data[['adv_trim']].stack('adv_trim', new_column_name=['word','count']).sort('count', ascending=False)\n",
    "d_wc"
   ]
  },
  {
   "cell_type": "markdown",
   "metadata": {},
   "source": [
    "# TFIDF정리하기"
   ]
  },
  {
   "cell_type": "code",
   "execution_count": 6,
   "metadata": {
    "collapsed": false
   },
   "outputs": [
    {
     "data": {
      "text/plain": [
       "dtype: dict\n",
       "Rows: 889957\n",
       "[{'say...': 7.843856503731966, 'dont': 9.594306674652831, 'family': 3.3541261123964032, 'people': 2.453660208585244, 'lack': 4.7577755437738265, 'prefer': 4.621319766412168, 'chef': 3.8893670114304277, 'home': 3.4615075714313437, 'quality': 2.901109492878537, 'style': 3.848103525981571, 'recipes,': 8.945338234828029, \"biaggio's\": 18.536223254182158, 'make': 2.307391237699188, 'casino.': 5.295127921873246, 'ny': 5.085516376777613, 'apache.': 8.962729977539897, 'pizzeria': 14.347797536181861, 'care': 7.1782359996287965, 'pizza': 3.11921098671533, 'cosmo': 6.3471285568766165, 'owned,': 8.574964446531133, 'youre': 7.256388259466194, 'priced': 4.2994564052357065, 'flamingo': 6.1786938694597655, 'food.': 5.002468778562376, 'fort': 7.600854143768153, 'made': 2.25882099621357, 'had.': 3.681085929160862, 'okay.': 4.586641994433598, 'pizza.': 4.43466821196878, 'pick': 3.945856869181235, 'personality': 6.335014924528573, 'italian': 4.003880558347278}, {'cheese': 2.787957518141257, 'love': 4.097828306899936, 'huge!': 5.770522399753858, 'carne': 4.865465705214461, 'restaurant.': 3.4031961034609552, 'cares': 6.2879765503507565, 'enchiladas': 6.000899255661587, 'leticia': 10.115409487478283, 'place!': 4.032493204898723, 'sauce': 2.828438015982462, 'nice': 2.13608961827214, 'asada.': 7.478338255834654, 'food': 0.9507001084453822, 'specials...': 9.914738792016133, 'lunch': 2.900455497351446, 'super': 2.693617080468183, 'great': 1.3554357085031452, 'portions': 3.4743723819288506, 'week.': 5.102369679137415, 'fiance': 6.394412479474238, 'atleast': 7.305337671983761, 'amazing.': 3.320076637910433, 'amazing!!!': 5.965244855158492}, {'dry': 4.031732989467749, 'trust': 5.294903932623793, 'grill.': 6.135208757520027, 'bread.': 4.841128698758488, 'terrible.': 5.111276770869594, 'mushy': 6.177069173732764, 'corn': 4.2794622944122045, 'me.': 3.2696182686263664, 'fat': 4.7651323819995355, 'mulls': 9.892265936164073, 'bbq': 3.884764011358467, 'neighborhood': 5.343548530680759, 'tips': 6.135727833576322, 'john': 6.1819512013300715, 'rib': 3.995173120452013, 'flavor.': 3.8193750236938957, 'roadkill': 10.33163259594792}, {'pork': 3.367236278320611, 'ew?\"': 13.698928425934392, 'tasted': 3.0585160704924315, 'problem': 4.418316000972879, 'me.': 3.2696182686263664, 'money.': 4.836586462418046, 'back': 3.4442234487747756, 'half.': 6.492551134462141, 'ever.': 4.794162579251579, 'year': 4.225762357505296, 'ew': 7.0629818702477465, 'busy,': 5.142514521364874, 'thai': 7.892527526265696, 'huge': 3.159922805674956, 'cut': 3.9081057790557314, 'service': 1.3448582783208878, 'hungry.': 5.39542362706161, 'pay': 3.50782130289969, 'dinner': 2.7495615113823586, 'food': 0.9507001084453822, 'time.': 3.0599528523487947, 'pad': 14.50042680054231, 'answer': 5.547306778964643, 'good,': 2.9394523153324914, 'manager': 3.564964274717263, 'nice': 2.13608961827214, 'plate': 3.6626597621644463, 'after.': 6.387042261857228, 'again,': 4.100065666580358, 'started': 7.152530367290881, 'alllll': 9.673576735199244, 'coke': 5.922393397749152, 'time': 1.6699271436160457, 'refuse': 6.935043517371958, 'diet': 5.938461396720972, 'food.': 2.501234389281188, 'finished': 4.4422771510949595, 'complaints.': 6.335014924528573, 'melissa,': 10.115409487478283, '$10-15': 9.368195085648061, '\"hello': 9.786905420506248, 'suck': 6.654023308805022, 'be!!': 9.691595240701922, 'paying': 4.319773980522757, 'great': 1.3554357085031452, '2005-2007': 13.698928425934392, 'sizes': 10.919197996065195, 'presence.': 8.305300879582031, 'disregards': 11.907168956706338, 'favorite': 2.7166062123388297, 'hungry': 4.275575649843459, 'greet': 5.758344598830149, 'worth': 2.493561263420738, 'portion': 7.551864814020443, \"i'd\": 3.2953324744734793, 'place': 2.321098703162238, 'also,': 4.098642757508083, 'pinkaow,': 13.698928425934392, 'days,': 6.488109972462173, 'havent': 7.544070331917975, 'asked': 2.811211158515917, 'se': 14.788959247024824}, {'fantastic': 4.1251261933305035, 'half?': 10.563434210005243, 'dont': 4.7971533373264155, 'delicious)': 8.049954187773187, 'taste': 2.8130253791326667, 'half': 3.2726076305079967, 'share': 4.381888435299154, 'know\"...': 13.005781245374447, 'baskets': 7.405509147087911, '(and': 4.545475916165259, 'area': 3.4164566425396976, 'drinks.': 4.255019037160418, '\"korean': 10.33163259594792, 'bland': 4.541672425050665, 'hell': 5.420754134990656, 'thick': 4.638829717288753, 'total': 4.435805868519241, 'chicken': 2.239266616291161, 'it...': 6.159369596633362, '1/2': 10.264366911377815, 'huge': 3.159922805674956, 'that.': 3.8868984838870997, 'all,': 4.2062703440055795, 'service': 2.6897165566417756, 'cheap,': 5.808345891277856, 'things': 3.2186870695181677, 'absolutely': 3.322878021757606, 'lol': 4.861682782035923, 'prices,': 5.464098145492336, 'lets': 12.060734635836992, 'serve.': 6.4676414216067775, 'havent!)': 13.698928425934392, 'lot': 2.84239400139899, 'delicious.': 2.9847106771846033, 'delicious,': 4.158277619450806, 'friend': 6.627202631836744, 'owner.': 6.7961856887758, 'plate': 3.6626597621644463, 'it,': 3.4934491737663764, 'full': 3.1589434125556535, 'burps': 10.754489446767952, 'food': 1.9014002168907644, 'bahaha!': 13.698928425934392, 'great': 5.421742834012581, 'fat': 4.7651323819995355, 'attentive-': 10.520874595586447, 'weird...': 9.604583863712293, 'mexican??': 13.698928425934392, 'taco': 4.3567706293380235, 'beat': 4.93206660426459, 'salsa': 4.441895325966228, '(have': 9.093758239946302, 'chips': 3.9587248013150815, 'great.': 6.012513009282754, 'change': 4.418968712078153, 'meat': 2.992184470158289, 'burnt,': 7.589680843170028, 'kind': 3.241268445128908, 'ate': 3.3505627629332655, 'burrito': 4.670349767493651, '$11': 6.762585690100344, 'girl': 4.247683173065358, 'server': 2.7311267667774017, 'place.': 2.7622919778744612, 'chimichanga': 14.952704315726049, 'make': 2.307391237699188, 'amazing....': 9.064199437704756, 'face': 5.136188419562185, 'thought': 6.227973582858731, 'thing': 2.86489226977741, \"i'd\": 6.590664948946959, 'place': 1.160549351581119, 'good.': 2.2327906314630437, 'beef': 12.380974412903349, 'flavor.': 7.638750047387791, 'bad.': 4.294502630244014, 'not,': 5.820773089431069, 'amazing!!!': 5.965244855158492, 'nice': 2.13608961827214, 'order': 2.0842228473027133, 'husband': 6.648813051051046, 'referred': 7.047356552344666}, {'sooo': 5.255166512604038, 'isnt': 6.868054191288214, 'time=': 13.005781245374447, 'restaurant.': 3.4031961034609552, 'understandable.': 7.661057506012255, 'amazing': 2.7129579666600385, 'stars': 3.2140635936813293, 'bbq': 3.884764011358467, 'wait!': 6.246525974710754, 'food': 0.9507001084453822, 'price': 2.9204305744445254, 'drink': 3.060192516819684, 'excuse': 5.724739756648381, 'plus,': 5.686578786606598, 'wait': 4.834206163989661, 'hour': 6.5182459137426765, 'ribs': 9.357561010265467, 'expanded': 7.36033434773121, 'tastes': 4.255890289839189, 'thing': 2.86489226977741, 'bad': 2.887323452213271, 'place': 1.160549351581119, 'gamble': 6.598076516990343, 'amazing.': 3.320076637910433, 'amazing,': 4.582129798366574, 'good.': 2.2327906314630437}, {'area.': 4.21057760120316, 'priced.': 5.333023348731937, 'ordered': 1.8256468010229594, 'dont': 9.594306674652831, 'ps-': 9.408468984786001, 'delivering': 7.115519203775628, 'owner': 4.142094767626617, 'single': 4.44831020745964, 'doesnt': 6.797191219277819, 'for?!': 9.188068919417542, 'cold': 3.764669214731511, 'ready': 4.1220716959886206, 'know,': 5.3993938556017955, 'total': 4.435805868519241, 'forget': 4.483799537226413, 'f-o-r-e-v-e-r.': 13.698928425934392, 'pack': 5.897537105642907, 'fails,': 9.827727415026501, 'caring': 6.636736793647837, 'dining': 3.303370026115922, 'there.': 3.441514703880806, 'witch.': 11.133979068472856, 'end': 3.6007791045197055, 'takes': 8.859506536474635, 'ranch': 5.31275549695656, 'matter': 4.860956934577185, 'literally': 4.071392022974347, 'make': 2.307391237699188, 'extra': 3.4853492804333985, 'tip': 4.530347988206442, 'time.': 3.0599528523487947, 'time,': 3.980024987846478, 'start': 3.803120284742134, 'hot': 6.024631773440174, 'call': 3.9629132273420136, 'choose': 3.9059814490976335, 'pretty': 4.470911689367389, 'forever.': 6.447583442562179, 'wanting': 4.945399089417963, 'good,': 2.9394523153324914, 'today': 4.131753122818113, 'nice': 2.13608961827214, 'tasteful': 7.335900322393928, 'frankly,': 7.418532586974198, 'food': 0.9507001084453822, 'lie.': 7.462558835730689, '8am,': 9.638485415387974, 'continuing': 7.905914817550249, 'gonna': 5.10625677334225, 'chocolate': 7.232247651249218, 'delivery': 4.6983219183625025, 'lunch': 2.900455497351446, 'great!': 4.057130365575792, 'cold.': 5.032109060562343, 'ignorant': 8.138246794918865, 'seriously.': 6.531890549022172, 'imbeciles': 13.005781245374447, 'half': 3.2726076305079967, 'food.': 5.002468778562376, 'driver': 5.990517758677025, 'eat': 4.549318653139244, 'off.': 4.712606988308374, 'pps-': 13.005781245374447, 'owners': 5.175554375443074, 'hour': 6.5182459137426765, '1pm.': 8.511542620093637, 'work': 3.5662754897655606, 'upset': 5.489347942458815, 'decently': 6.3369178746746595, 'breakfast': 3.10469657745463, 'sacrifices': 10.607885972576076, '10am': 7.559043873708138, 'rant.': 9.394863332730223, \"i'd\": 3.2953324744734793, 'chocolate.': 6.492551134462141, 'pay': 3.50782130289969, 'hot.': 5.202754601742231, 'piss': 7.732781686810701, 'deliver': 5.585801321712612, 'order': 2.0842228473027133, 'talk': 4.484098148685358, 'bitch': 7.651556246888115}, {'shot': 5.180336213604448, 'stock.': 7.804525591669542, 'people': 2.453660208585244, 'put': 3.2429935749414547, 'attempts': 7.637471507006376, 'issue.': 6.216809502382278, 'please...the': 13.698928425934392, 'carry': 5.620860544118955, 'stock,': 8.63002422371416, 'apparently': 5.047029531665864, 'van': 8.205866982593845, 'amazing....problem': 13.698928425934392, 'really?': 6.216246597779741, '6': 4.122765081122489, 'bourbon....all': 13.698928425934392, 'ongoing': 8.722194683513818, 'bourbon': 26.136832188650143, 'waste': 4.688503479153213, 'told': 6.10239333542064, 'amazing....the': 11.396343332940347, 'good': 1.270124313985328, 'food': 0.9507001084453822, 'apologetic': 6.610519647258998, 'pappy': 10.607885972576076, 'front': 3.6190116423091476, 'apologizing': 7.447024542768504, 'here...for': 12.089490513500293, 'bartender': 4.325959130509991, 'staff.': 4.329876362803389, 'list....after': 13.698928425934392, 'list': 12.946930976930556, 'menu,': 4.227147292711656, 'thing': 2.86489226977741, 'place': 1.160549351581119, 'profusely': 8.34234215126238, 'time': 1.6699271436160457, 'winkle': 11.059871096319133, 'didnt': 5.15743294199519, 'order': 2.0842228473027133, 'fact': 4.081124943187373}, {'crowded.': 5.91904331086387, 'deck': 7.541949440348837, 'back': 1.7221117243873878, 'private': 5.4967199894979455, 'expensive': 3.95731295332481, 'space': 4.8100337565628, 'vegas.': 2.7376679405122273, 'limited.': 6.579292787916756, 'recommend': 5.0896174899189885, 'crab.': 6.270001231132121, 'pm': 5.228826842052006, 'good': 1.270124313985328, 'again.': 3.235482287082064, 'views': 6.042118334454014, 'food': 0.9507001084453822, 'drink': 3.060192516819684, 'club.': 5.965244855158492, 'las': 2.821560709474745, 'great': 1.3554357085031452, 'bar': 2.826197225071437, 'restaurant': 2.1956291443587967, 'selections': 5.150236567458784, 'disco': 8.617524060949929, 'place': 2.321098703162238, 'night': 2.8170019750091764, 'small': 2.795029605658816, 'steak': 2.9975058411211917, 'side': 2.850795948027582}, {'burritos': 5.9287052217756075, 'recommending': 6.434198248004526, 'fast': 3.4410936364687106, 'alway': 7.949535440026139, 'rest.': 6.782213405580784, 'save': 4.503701691768258, 'good.': 2.2327906314630437, 'choose': 3.9059814490976335, 'food': 0.9507001084453822, 'big': 2.857682234908869, 'friends.': 4.910182543996258, 'half': 3.2726076305079967, 'eat': 2.274659326569622, 'great': 1.3554357085031452, 'portions.': 5.187954534332072, 'items': 3.420675551539738, 'menu.': 3.5241931074099084, 'server': 2.7311267667774017, 'large': 3.183151315798474, 'time': 1.6699271436160457, 'friendly.': 3.679615307892674, 'fresh': 2.5909981794877335}, {'half.': 6.492551134462141, 'good': 2.540248627970656, 'malbec.': 9.985356359230085, 'service': 1.3448582783208878, 'osso': 7.275681462400873, 'recommend': 2.5448087449594943, 'place.': 2.7622919778744612, 'good.': 2.2327906314630437, 'week': 4.1970384699799395, 'ago.': 5.2558124379144715, 'couple': 3.3836292802312364, 'glass': 4.26416532114562, 'eat': 2.274659326569622, 'buco': 8.45718141087475, 'great': 1.3554357085031452, 'meat': 2.992184470158289, 'seafood': 3.8661316140210342, 'soup': 3.4608990702939995, 'place': 1.160549351581119, 'friend': 3.313601315918372, 'small': 2.795029605658816, 'wine': 3.7059201474598527}, {'familes': 12.600316137266283, 'bargains.': 10.44083188791291, 'great': 2.7108714170062904, 'good': 2.540248627970656, 'vegetables.': 6.352273262757854, 'service': 1.3448582783208878, 'restaurant': 6.58688743307639, 'food': 2.8521003253361465, 'fast': 3.4410936364687106, 'steam': 6.57606176733531, 'large': 3.183151315798474, 'taste': 2.8130253791326667, 'hot': 3.012315886720087, 'portions.': 5.187954534332072, 'recommend': 2.5448087449594943, 'clean.': 4.694628697372758, 'chicken': 2.239266616291161, 'rice': 3.217844845998422, 'teriyaki': 5.392950214967091, 'meals': 4.382787635071998}, {'pappardelle': 8.16949933842297, 'people': 2.453660208585244, 'taste': 2.8130253791326667, 'house': 3.616792721970619, 'back': 1.7221117243873878, 'hour.': 4.967107842972285, 'salty': 4.502686978337712, 'delicious': 2.638119521916142, 'again.': 3.235482287082064, 'noodles': 4.1936821364171095, 'lobster,': 6.016906915107518, 'fill': 4.831360092727951, 'perfect': 3.1953963111006436, '$': 6.740480032636738, '5:15': 9.177139848885352, 'dinner': 2.7495615113823586, 'basil,': 7.0319716335051865, 'located': 3.7275953265031974, 'recommend': 2.5448087449594943, 'saffron-tomato': 13.698928425934392, 'sauce': 2.828438015982462, 'body': 12.646092555438761, 'good': 3.810372941955984, 'sauce)': 7.068245040292021, '(shrimp,': 9.177139848885352, 'night': 2.8170019750091764, 'lucky': 5.109042549124715, 'taste.': 4.5268092667784074, 'finished': 4.4422771510949595, 'brunch': 4.202507262873403, 'eat': 2.274659326569622, 'bread': 3.20615533237241, 'bit.': 5.791644816508045, 'great': 2.7108714170062904, 'portions.': 5.187954534332072, 'scallop,': 7.740503732904611, 'restaurant': 4.3912582887175935, 'seafood': 3.8661316140210342, '30': 4.130843682061458, 'dog': 4.763814685142645, 'this.': 4.659376374938492, 'large': 3.183151315798474, 'steaks.': 6.521909660024493, 'time': 3.3398542872320913, 'real': 3.7596394609348818, 'fresh': 2.5909981794877335, 'steak': 2.9975058411211917}, {'????????????????????????????????????': 11.059871096319133, '2????????????????????': 13.698928425934392, '?????????????': 10.520874595586447, '?????7:30???': 13.698928425934392, '??????????????????!!': 13.698928425934392, '?????????????????': 10.480052601066191}, {'????????????????': 10.264941221449247, '???link': 13.698928425934392, '?????': 9.408468984786001, '????×4': 13.698928425934392, 'hotel???????': 13.698928425934392, '????????????????????': 10.607885972576076, '?????????!!': 13.698928425934392, '???×2': 13.698928425934392}, {'????????????????????': 21.215771945152152, '???????': 9.914738792016133, '???????????????????????': 10.403091559930063, '?????????????????????????': 11.214021776146392}, {'????????????????????????????????????': 11.059871096319133, '???1??????2?????????': 13.698928425934392, 'vegas???????????????': 13.005781245374447, '????????????????????????????????(*´`*)': 13.698928425934392, '??????': 9.767102793210068, '_)': 13.698928425934392, '????????(': 13.698928425934392, '???????????????????????????????????': 11.619486884254556, '?????????????????????????????????': 11.753018276879079, '???...?': 13.698928425934392}, {'hour': 3.2591229568713382, 'experience.': 3.4747714169948165, 'hard': 3.314559126005346, 'hour,': 5.784310716893714, 'order': 2.0842228473027133, 'brio': 7.450885551425964, 'pass': 4.856179509638293, 'refill': 5.138101197498094, 'check': 3.097828675879161, 'drinks': 2.92379192214723, 'differ': 8.7644544928037, 'necessary.': 7.3709916422051975, 'service': 1.3448582783208878, 'decent': 3.5682654609706845, 'make': 2.307391237699188, 'up!': 5.810218901752378, 'dining': 3.303370026115922, 'location': 3.0207828326590627, 'sized.': 7.902870675169021, 'though?': 8.63002422371416, 'happy': 8.876333805858987, 'fool': 6.486633957434052, 'good': 1.270124313985328, 'us!!)': 11.907168956706338, 'food': 0.9507001084453822, 'price': 2.9204305744445254, 'location,': 5.099602404979633, 'regular': 3.787175128981232, 'everything,': 6.089561887980181, 'judge': 6.1540673572759355, 'portions': 3.4743723819288506, \"(don't\": 6.9032226507608785, 'town': 3.747508219642962, 'things.': 5.343078384926918, 'square.': 7.257981885301472, '$2.95.': 10.088010513290168, 'items': 3.420675551539738, 'best!': 5.602110955362074, 'list': 4.315643658976852, 'times': 2.932002545428338, 'specific': 5.87889043647564, 'cheap,': 5.808345891277856, 'menu': 2.440662979496167, 'amazing.': 3.320076637910433, 'though.': 4.106459811214483}, {'cheese': 2.787957518141257, 'love': 2.048914153449968, 'extra': 6.970698560866797, 'win': 6.19288624741627, 'awesome': 3.232060750897385, 'bacon': 11.386472623944918, 'mine': 4.776937015397695, 'ftw!!': 11.619486884254556, 'mushrooms': 9.978926693742066, 'well,': 4.091692896533113, 'amaaaa-zing!': 13.698928425934392, '(i': 4.148764297103483, 'toppings': 4.733849410526039, 'fail': 6.640170273415729, '\"regular\"': 8.380808432090177, 'thick': 4.638829717288753, 'sport': 7.761392220851967, '(which': 4.436375182511276, 'gimp': 13.005781245374447, 'grown': 6.737632380024226, 'addicting': 7.578631006983443, 'generous': 4.677209412900693, 'portions).': 9.870287029445297, 'patties': 6.675169471195949, 'guys': 4.27921893606584, 'cheeseburger': 5.9376092449864055, 'pile': 6.3099823283159555, 'pretty': 2.2354558446836945, 'disappoint': 6.316181976195481, 'fry': 5.829909049435369, 'order': 4.168445694605427, 'for!': 5.577448051183642, '\"little\"': 9.914738792016133, 'cajun': 11.299641409215974, 'burgers.': 5.695565367304445, 'mushroom': 4.764868703685549, 'me).': 7.267597344000914, 'big': 2.857682234908869, 'that.': 3.8868984838870997, 'free': 3.3568311666977984, 'cut': 3.9081057790557314, 'fan': 3.7303556267423303, 'french': 3.7619577425817163, 'delicious.': 2.9847106771846033, 'peppers.': 6.539636521136828, '(especially': 6.34073467320136, 'include': 5.4284033308793225, 'kind),': 10.754489446767952, 'places': 3.135721218950838, 'onions.': 6.039757058268335, 'all.': 3.7174155839604976, 'fries': 9.303133420313662, 'dog': 4.763814685142645, 'go-to': 5.4327639893219, 'place': 3.481648054743357, 'must!': 6.4669180942696345, 'die': 4.288099193208806, 'grilled': 3.8933845177283914, 'feign.': 13.005781245374447, \"can't\": 2.653242414067234}, {'$29,': 10.520874595586447, 'raised': 6.171134438212949, 'serving': 4.323667011844423, '(it': 5.748425991125542, 'people': 2.453660208585244, 'sweet': 3.0620878881240152, 'else.': 4.582678977357806, 'opened,': 6.883288435860061, 'macaroons': 6.734792813516148, '$35,': 9.007580543705249, 'heard': 4.042749051711772, '(mind': 8.371052257144811, 'decided': 3.0380755355117546, 'tooth,': 8.018755816917325, 'love': 2.048914153449968, 'unfortunately,': 5.083157671157162, 'thing': 2.86489226977741, 'hate': 4.680354069580164, 'enjoyed': 6.273459740318894, 'back.': 3.143949368107152, 'style': 3.848103525981571, \"aren't\": 4.433910492667515, 'dipped': 6.025240296666663, 'service': 1.3448582783208878, 'variety': 7.480201556730201, \"we've\": 4.328426901834269, 'think).': 8.431070266871064, 'guaranteed': 7.2142931902991405, 'quality': 2.901109492878537, '\"go': 7.383570424412058, 'amazing': 2.7129579666600385, 'desserts.': 5.388021668765942, 'crab': 3.575181477263918, 'par.': 6.407953647791411, 'white': 3.746031853140722, \"haven't\": 4.150688265345812, 'way.)': 10.202420864467912, 'fudge,': 8.580934613517638, 'you,': 4.760659278895844, 'chose': 4.502788403359351, 'gelato,': 6.826800324595407, 'food': 3.802800433781529, 'big': 2.857682234908869, 'that.': 3.8868984838870997, 'buffet': 6.750239988116228, 'chocolate': 3.616123825624609, 'sweets': 6.324299410715448, 'mac': 8.094996869754233, 'french': 3.7619577425817163, 'served': 3.211216100062506, 'prices': 3.062640380961668, 'bit': 2.6820056558385166, 'food.': 2.501234389281188, 'however,': 3.5198946432910065, 'boyfriend': 4.102441690236446, 'loved': 6.007976008108392, 'portions.': 5.187954534332072, 'apparently,': 7.043488075566746, 'buffets.': 5.952627763702954, 'strawberries.': 7.229678109138621, 'fare.': 6.545876790996913, 'cheese': 5.575915036282514, 'choices': 4.395097710870871, 'traditional': 4.633613826008467, 'person': 3.7046865101298008, 'apples': 6.9304352142857635, 'bar,': 4.713984140325714, 'to\"': 7.720042661033271, 'found': 3.180120108302826, 'pre-divided': 13.698928425934392, 'cakes,': 6.280147543183599, 'steep': 6.528808882484765, 'feign.': 13.005781245374447, \"isn't\": 3.57433940571828, 'typical': 4.438085071785103}, {'drink,': 5.330931540880282, 'outdoor': 4.98616845097418, 'vegas.': 2.7376679405122273, 'food,': 2.9514413035388523, 'vibe.': 5.799774942591295, 'sandwich': 3.516597749613688, 'experiences': 5.315723874521472, 'chicken': 2.239266616291161, 'waffle': 4.995255667575537, 'great.': 3.006256504641377, 'patio': 4.573383705662926, 'decor,': 5.770162104307698}, {'box': 9.90601460982009, 'sampled': 6.154596317880705, 'lemon': 9.160968137325494, 'spit': 6.647938978866348, 'had.': 3.681085929160862, 'room.': 5.005431750049763, 'haunt': 8.980429554639299, 'one.': 4.208912951908346, 'disgusting': 5.8760831356546195, 'person': 3.7046865101298008, 'bad': 2.887323452213271, 'meringue': 7.858286768560995, 'shared': 4.2205476217617175, 'mixed': 4.4402741936796595, 'years!': 7.363874174436334, 'gagged.': 10.520874595586447, 'not...but': 11.619486884254556, 'pastries': 5.508851376215343}, {'would.': 6.015985256056101, 'give': 2.54685805815386, 'dollar': 5.310705615815116, '\"i': 5.749836926103876, 'negative': 5.094823862528859, 'mess': 5.300969322441854, 'time.': 3.0599528523487947, 'call': 3.9629132273420136, 'stars': 3.2140635936813293, 'great,': 3.711375498280597, 'waste': 4.688503479153213, 'pizza': 6.23842197343066, 'order,': 4.507668941771002, 'you,': 4.760659278895844, 'food': 0.9507001084453822, 'sweetheart.\"': 13.698928425934392, 'taste.': 4.5268092667784074, 'shitty': 6.835125034481439, 'care': 3.5891179998143983, 'insulted': 8.226657752262918, 'time': 1.6699271436160457, 'fixed': 6.2039421919838595}, {'servers.': 6.3490547211960555, 'looked': 3.294332307695655, '\"taken\".': 13.698928425934392, 'fucking': 6.745244215063856, 'response?': 9.807108127823767, 'sushi': 6.4239939158605655, 'moved': 4.6722705363915065, 'walk': 7.346181012241608, 'front': 3.6190116423091476, 'attitude': 4.951894161756225, ':/': 6.954869239623045, '\"we': 6.522673893917249, 'uncomfortable': 6.163631723490305, 'table': 8.27010734031175, 'cups': 5.497816781491634, 'seat...right': 13.698928425934392, 'rolls': 3.9238425882027888, '\"oh': 6.514299273217079, 'us.': 3.586233987822928, 'go,': 5.2210999580404325, 'back.': 3.143949368107152, 'there.': 3.441514703880806, 'wanted': 5.699182678565131, 'sit': 14.432692941290208, 'decent': 7.136530921941369, 'remained': 7.123852585334772, 'happy': 2.9587779352863293, 'waitress': 3.3358348625238463, 'prices.': 4.684724599785893, 'eating': 3.1356436725198735, 'low': 4.601308924022329, 'stars': 3.2140635936813293, \"didn't.\": 6.6189019260118025, 'employee': 5.008622616809511, 'bad.': 4.294502630244014, 'place.': 2.7622919778744612, 'full.': 10.346740636373056, 'told': 3.05119666771032, 'unoccupied': 9.747684707352965, 'customers.\"': 11.619486884254556, 'received': 4.2793000489344415, 'felt': 7.044273337784879, 'taste,': 5.501114393713191, 'woman': 5.2594805831430085, 'in,': 4.454476524329442, '2.75,': 13.005781245374447, 'reason': 3.752477173966149, 'table.\"': 9.509273683907967, 'found': 3.180120108302826, 'prices': 3.062640380961668, 'hour,': 5.784310716893714, 'extremely': 7.179782380970206, 'bigger': 4.9768371235452955, 'man': 4.417198057871537, 'entire': 3.9515100590481538, \"we'll\": 4.739231278975005, 'made': 2.25882099621357, 'give': 2.54685805815386, 'subtracted': 9.621390982028673, 'kicked': 6.681422282993137, 'okay,': 4.858927360091, \"wouldn't\": 3.6396772094153675, '\"you': 6.4161672463288, 'seated': 3.3821729532270797, 'cheep': 9.494235806543427, 'parties.\"': 13.005781245374447, 'back,': 4.680232938213049, 'place': 1.160549351581119, \"weren't\": 3.970389675862806, 'say,': 4.761709975078661, 'time': 1.6699271436160457, 'woman,': 8.291756654474273, '...but': 8.816126503348022, 'said,': 4.599743103324372, 'nice': 2.13608961827214, 'star': 3.4893173938078808, 'table,': 4.768434240642216, 'down,': 5.234925063032274}, {'nope,': 7.330741239583901, 'vodka': 5.806102899683275, 'smaller': 9.574257739489735, 'tough': 5.205208590703798, 'price.': 3.8858580435227275, 'give': 2.54685805815386, 'rare,': 6.2623111607001665, 'wreaks': 11.214021776146392, 'walk': 3.673090506120804, 'tex': 16.9143628217495, 'medium': 4.195172449658669, 'bare': 7.099057926721556, 'ramsy': 11.214021776146392, 'gorden': 10.36672391575919, 'ordered': 5.476940403068879, 'mouth.': 5.031936869429761, 'nails.': 9.709944379370118, 'dining': 3.303370026115922, 'then,': 5.586100947183019, 'area': 3.4164566425396976, 'thinking': 4.612112540243707, 'literally': 4.071392022974347, 'extra': 3.4853492804333985, 'negative': 5.094823862528859, 'smoke.': 7.104514966184614, 'charge': 4.32919400180796, 'would.': 6.015985256056101, 'drink,': 5.330931540880282, 'smell.': 7.290399634874895, 'option': 4.4131095927823045, 'tasteless': 6.0284999037437, 'food': 0.9507001084453822, 'drink': 3.060192516819684, 'steakhouse?': 10.14358036444498, 'you?': 7.510664302851803, 'street,': 6.776284534458505, '$10.00': 8.243607310576692, 'ranch': 5.31275549695656, 'exact': 5.876884417748774, 'mex': 16.14982183949411, 'ranch,': 7.462558835730689, 'portion': 3.7759324070102216, 'leather': 7.149277683700583, 'double': 4.765528029878089, 'all,': 4.2062703440055795, 'sucks': 5.84106086660259, '$5.00,': 10.703196152380402, 'ridiculous.': 5.835277160485741, 'asked': 2.811211158515917, 'good': 1.270124313985328, 'stars,': 5.32445153671975, 'place': 3.481648054743357, 'here,': 3.745651208895749, 'push': 6.4770926006459435, 'glass.': 6.236713486166204, 'steak': 5.995011682242383, 'side': 2.850795948027582, 'charged': 4.777871407776965}, {'no.': 5.661385240815696, \"she'll\": 7.583036300451359, 'wow.': 5.67308508178349, 'attitude': 4.951894161756225, ':/': 6.954869239623045, 'shake': 5.060757307965253, 'cold': 3.764669214731511, 'line': 3.333280421613555, 'scooper': 10.297731044272238, 'him.': 5.4073819160504835, 'peanut': 42.54227263185145, 'duty\"': 12.089490513500293, 'add': 7.791738256465516, 'helps': 6.229844541013159, 'service...i': 9.747684707352965, 'girl?': 10.990878224832183, 'butter?\"': 12.312634064814501, 'bad.\"': 10.480052601066191, 'nicer,': 8.793653647495963, 'order...sammy': 13.698928425934392, 'bit': 2.6820056558385166, 'stone,': 9.280087818137796, 'career.': 9.914738792016133, '\"did': 8.415724697196405, 'refresh': 8.778947500106268, 'worried': 6.172210864581687, 'served': 3.211216100062506, 'butter.\"': 11.214021776146392, 'cost': 4.456701865095888, '\"we': 6.522673893917249, 'proper': 6.099527092518578, 'girl': 8.495366346130716, 'shake,': 14.627468053873335, 'sammy': 23.74530973081397, 'shake.': 6.458995834613924, '\"my': 8.15375098145483, 'again,': 4.100065666580358, 'behold...no': 13.698928425934392, 'ice': 20.33185992033793, '\"oh': 6.514299273217079, 'line...who': 13.698928425934392, 'reading': 4.947612179160938, 'leader': 8.736083795674485, 'bitches,': 13.005781245374447, 'eating': 3.1356436725198735, 'anyway,': 5.232397149320383, 'job': 4.409592047731712, 'put': 3.2429935749414547, 'wanted': 5.699182678565131, 'throw': 5.374834664483989, '\"can': 7.978616649326981, 'restaurant': 2.1956291443587967, 'fiance': 19.183237438422715, \"wouldn't\": 3.6396772094153675, 'here.': 2.750932843723356, 'aka': 6.704078440101322, \"fiance's\": 8.808579297712638, 'done.\"': 10.44083188791291, 'rudely': 6.618060529243611, 'ladies': 5.288875110076059, 'acted': 6.344566095512916, 'manage': 6.496267229411155, 'walk': 3.673090506120804, 'feet': 5.99456725802408, 'told,': 7.7074638788264105, 'simply': 4.394096390865492, 'thought': 6.227973582858731, 'knew?': 9.342219599244801, 'know,': 5.3993938556017955, 'butter.': 5.664945691251173, 'there,': 4.35117669813525, 'serviced,': 10.520874595586447, \"aren't\": 4.433910492667515, 'wants,': 10.088010513290168, 'working': 4.093981689184922, 'cared': 6.504491574834058, \"duty's\": 12.600316137266283, 'low': 4.601308924022329, 'memory': 6.807302528882139, 'bitter': 6.250594565036917, 'friend': 9.940803947755116, 'brat.': 10.607885972576076, 'interrupts': 10.035366779804747, 'formed': 7.985195620425023, 'serve': 3.814317929167954, 'being.': 8.446654997887762, 'thai': 3.946263763132848, 'lie?': 10.990878224832183, 'customer': 3.031881828597954, 'kind': 6.482536890257816, '\"well': 7.108627377737707, 'cream,': 5.2244339890512705, 'cream.': 4.841128698758488, 'malt': 7.572059241820208, 'means,': 7.390829984424862, 'this,': 5.150042787785666, 'stated,': 7.826810636458977, 'cream...how': 12.600316137266283, 'want?\"': 8.998448060141977, 'ordered': 1.8256468010229594, 'head': 4.619950372155037, \"know...that's\": 12.600316137266283, 'walks': 6.381052227307897, 'apparently': 5.047029531665864, 'cream': 10.173729704571198, 'away.': 4.297224169180026, 'says,': 7.006844683427764, 'discussion': 8.008568971610332, 'shocked': 5.8748824150781, '\"leader': 13.698928425934392, 'explaining': 6.187403777543527, 'order,': 9.015337883542005, '....she': 12.089490513500293, 'apology.': 7.363874174436334, 'rude': 8.609868103860954, 'basis,': 8.528444430896242, 'asks,': 19.740574058890594, 'in,': 4.454476524329442, 'coming': 2.883379070854146, 'chocolate': 3.616123825624609, 'butter': 20.60308575138813, 'remember': 4.020899602669914, 'register': 5.356803162600802, 'walked': 3.560724545731439, 'looked': 3.294332307695655, 'person': 7.4093730202596015, 'out.': 3.340741255412402, \"she's\": 5.382872705569751, 'order': 4.168445694605427, 'shake?\"': 13.005781245374447}, {'dine': 4.687038992682048, 'love': 2.048914153449968, 'top.': 4.995255667575537, 'miss': 4.627275573732104, 'drinks': 2.92379192214723, 'orleans': 6.690423243852113, 'cherry': 5.734772707093455, 'tgif': 9.15563364366439, 'review.': 5.041277881822899, '(or': 5.369994383978863, 'good,': 2.9394523153324914, 'gamble': 6.598076516990343, 'happy': 2.9587779352863293, 'food': 0.9507001084453822, 'dessert': 3.357218201051928, 'great': 1.3554357085031452, 'hour': 3.2591229568713382, 'inside': 3.347331432237807, 'movies': 7.649194970702435, 'place': 1.160549351581119, 'gamblers).': 13.005781245374447, 'bowling': 7.478338255834654, 'wrote': 6.251760066334352}, {'unwind': 8.44143305390661, 'love': 2.048914153449968, 'fan!!': 9.509273683907967, 'ambiance': 4.18205969371007, 'tables': 3.5773902691500643, 'true.': 6.770390607769727, 'service': 1.3448582783208878, 'due': 4.256286564859234, 'yogurtland': 8.145968841012776, 'friendly': 2.4941734958432815, 'cozy': 5.5519297285444, 'relaxing': 5.848045761124541, 'big': 2.857682234908869, 'fave': 6.252926927610273, 'plenty': 3.9524456222084297, 'town': 3.747508219642962, 'square.': 7.257981885301472, 'unlike': 5.359905420189634, 'chairs': 5.546154373190319, 'dream': 6.226996347689271, 'venue': 5.885741158412976, 'warm.': 5.894269128878291, 'froyo': 8.218289502592402, 'makes': 3.508947006583293}, {'friendly.': 3.679615307892674, '(almost': 7.793566577879822, 'portions.': 5.187954534332072, 'irresistible.': 9.494235806543427, 'delicious': 2.638119521916142, 'food': 1.9014002168907644, 'scrumptious': 7.006844683427764, 'ambiance': 4.18205969371007, 'back': 1.7221117243873878, 'panna': 6.902104707659538, 'bbq).': 10.403091559930063, 'good': 1.270124313985328, 'warm': 4.012913037475243, 'more!': 5.737209609953028, 'reasonable': 4.130494117266064, 'coming': 2.883379070854146, 'prices': 3.062640380961668, 'thai': 11.838791289398545, 'makes': 3.508947006583293, 'mellow': 7.605358655889257, 'private,': 9.450433183885034}, {'buns': 5.5996778641374325, 'coconut': 4.979937901223544, 'yummy': 4.128190049219354, 'pork': 3.367236278320611, 'cakes': 5.194010265393768, 'favorite.': 4.940987549255588, 'bean': 4.8545920931854605, 'steamed': 5.186345847075839, 'mocha': 6.402515157160472, 'sesame': 5.663973401432234, 'must-have!': 10.926339703694612, 'filling': 4.773873001810269, 'birthday': 4.205139932038491, 'place': 1.160549351581119, 'cake': 3.950283459203934, 'green': 3.705097553500663, 'balls.': 7.1651395880010496, 'order': 2.0842228473027133, 'red': 3.562624257388368}, {'kind': 3.241268445128908, 'shakes.': 7.160788602166723, 'person,': 5.746313314283393, 'burgers': 4.078400779514716, 'delicious': 2.638119521916142, 'recommend': 2.5448087449594943, 'islands': 8.218289502592402, 'thick': 4.638829717288753, 'place.': 2.7622919778744612, 'however,': 3.5198946432910065, 'burger-fries-shake': 13.698928425934392}, {'guacamole': 5.287095750175982, 'inside': 3.347331432237807, 'delish': 6.159901370110398, 'tacos': 3.8623288189398965, 'pricey': 4.286545572552054, 'chicken': 2.239266616291161, 'venetian.': 6.479286385803658}, {'deliver.': 7.122458856886169, 'most.': 6.517336481322528, 'minutes.': 4.383147541500213, 'table': 2.7567024467705834, 'enjoyed': 3.136729870159447, 'packed': 4.33389466428173, 'service': 1.3448582783208878, 'friendly': 2.4941734958432815, 'affordable': 5.188155802321078, 'good': 1.270124313985328, 'food': 1.9014002168907644, 'dessert': 3.357218201051928, 'price': 2.9204305744445254, 'june': 7.043488075566746, 'see!': 8.505971575044182, 'friends': 3.213169389184256, 'wait': 2.4171030819948305, 'knowledgable,': 8.380808432090177, 'server': 2.7311267667774017, 'range': 5.674393554328697, 'place': 1.160549351581119, 'time': 1.6699271436160457}, {'love': 2.048914153449968, 'downfall': 6.994514070970286, 'lemonade': 5.812095426979336, 'xd': 8.371052257144811, 'quiet': 5.275386790599611, 'strip': 3.3046240981905965, 'chicken': 2.239266616291161, 'scale': 6.5704324802543566, 'end': 3.6007791045197055, 'resort': 5.995920743455157, 'lux': 6.792173647285839, 'topped': 4.578950494038601, 'menus': 5.29110377157352, 'creme': 5.065019434822195, 'grand': 4.948245391149801, 'higher': 4.941144769600225, 'food': 0.9507001084453822, 'cheesecake': 5.030044721277723, 'dessert.': 4.544946787627595, \"brulee'\": 12.089490513500293, 'fan': 3.7303556267423303, 'factory.': 7.205174586082706, 'off.': 4.712606988308374, 'different.': 5.517767567910983, 'inside': 3.347331432237807, 'days': 4.2194009641426735, 'flautas': 7.918184910142063, 'venetian': 5.576260402587986, 'strawberry': 4.650636505912609, 'similar': 4.8333344270316685}, {'suggested': 5.042321178735477, 'younger': 6.604693580009638, 'sister': 5.187954534332072, 'good': 1.270124313985328, 'service': 1.3448582783208878, 'food': 0.9507001084453822, 'ambiance': 4.18205969371007, 'better.': 3.8917865891849495, 'prefer': 4.621319766412168, 'fair.': 6.440516275339086, 'experience': 2.758633068977272, 'lunch': 2.900455497351446, 'place,': 3.916874313681796, \"archi's\": 15.512258101615384, 'delicious.': 2.9847106771846033, 'thai': 3.946263763132848, 'pretty,': 7.5919055381921385, 'enjoyed': 3.136729870159447, 'bbq': 3.884764011358467}, {'selection': 3.387911231241221, 'vegas!': 4.212093327147006, 'quaint': 6.458278731678926, 'fave': 6.252926927610273, 'wrong.': 4.955556294660425, 'bakery': 5.310705615815116, 'good': 1.270124313985328, 'asian': 4.180074471926496, 'friendly,': 4.201531176900348, 'breads,': 7.323903606106296, 'cakes.': 6.71606567446545, 'pastries': 5.508851376215343}, {'condensed': 7.03070017751699, 'yummy!': 5.261428003427404, 'bananas': 6.149319260779861, 'fluffy': 5.461449137320759, 'snow': 5.793486776874107, 'boba': 4.871313675096885, 'time.': 3.0599528523487947, 'mango': 9.859153436270843, 'tea.': 5.133135564682093, 'toppings': 4.733849410526039, 'place': 1.160549351581119, 'mocha,': 8.4056236012099, 'milk': 4.575017781956598, 'red': 3.562624257388368, 'discovery': 8.107941445423537}, {'uplifting': 9.571794040889301, 'service': 1.3448582783208878, 'mood.': 7.020586311280061, 'price': 2.9204305744445254, 'ambiance': 4.18205969371007, 'high': 3.4133808737364224, 'food': 0.9507001084453822, 'place': 1.160549351581119, 'kinda': 4.423924540632488, 'excellent': 3.1958354372466835, 'breakfast': 3.10469657745463, 'delicious,': 4.158277619450806}, {'good': 1.270124313985328, '15': 4.006532343688333, 'food': 0.9507001084453822, 'weekends': 6.1404116828887485, 'reasonable.': 5.283767960083307, 'dinner': 2.7495615113823586, \"there's\": 3.535502626255578, 'location': 3.0207828326590627, 'recommend': 2.5448087449594943, 'prices': 3.062640380961668, 'courteous,': 7.22195606304471, 'wait': 2.4171030819948305, 'friendly': 2.4941734958432815, 'minute': 4.410239087547233, 'staff': 2.3345609756053136}, {'selection': 3.387911231241221, 'beer)': 8.743101368333132, 'vegas!!': 6.412052014183693, 'burger': 3.2551826689485686, 'well.': 3.154324100932704, 'blue': 4.634539109442515, '$5': 10.184520456181104, '(and': 4.545475916165259, 'must-try': 8.296251044062114, 'appetizers': 4.395826573876899, 'definite': 6.133653144035462, 'moon': 7.239023971556858, 'sliders': 5.5409849188293565, 'chicken,': 4.3276603898519275, 'delicious)': 8.049954187773187, 'happy': 2.9587779352863293, 'empanadas': 6.885483826423497, 'jerk': 6.360690275868803, \"you've\": 4.928023681637527, 'been!': 9.15563364366439, '(totally': 9.083807909093133, '$3': 5.929972381396061, 'hour': 3.2591229568713382, 'jamaican': 7.454761525270657, 'pint': 7.14215006977635, 'martini': 5.884528792129906}, {'scrumptious.': 7.548325657488114, 'tea': 3.73317054767214, 'highly': 3.254192742821027, 'casual': 4.894603313371856, 'size': 3.8472079642201478, 'iced': 4.7605280194613835, 'quaint': 6.458278731678926, 'chicken.': 4.569147561816627, 'recommended': 4.177946577371519, 'staff': 2.3345609756053136, 'bbq': 3.884764011358467, 'food': 0.9507001084453822, 'price': 2.9204305744445254, 'spot': 3.311873400403138, 'lunch': 2.900455497351446, 'thai': 7.892527526265696, 'lunch!': 6.742382982782824, 'craving': 4.232628873702377, 'restaurant': 2.1956291443587967, 'favorite': 2.7166062123388297, 'cheap,': 5.808345891277856, 'friendly,': 4.201531176900348}, {'great': 1.3554357085031452, 'selection': 3.387911231241221, 'love': 2.048914153449968, 'unlike': 5.359905420189634, 'food': 0.9507001084453822, 'buffet': 3.375119994058114, 'choice': 4.1275625872822195, 'buffet.': 4.506650196776619, 'good': 1.270124313985328, 'place!': 4.032493204898723, 'off-strip.': 9.827727415026501}, {'tea-flavored': 11.501703848598174, 'pork': 3.367236278320611, 'taro': 6.074797840273103, 'love': 2.048914153449968, 'spiced': 6.363946547062579, 'girls': 4.75712130757123, 'snow': 11.586973553748214, 'ice': 3.3886433200563215, 'chop': 5.892232053413213, 'here.': 2.750932843723356, 'balls,': 7.211244407449782, 'favorites.': 5.961748348099762, 'white': 3.746031853140722, 'place.': 2.7622919778744612}, {'filipino': 5.9228129488356505, 'food': 0.9507001084453822, 'vegas.': 2.7376679405122273, 'fave': 6.252926927610273, 'fast': 3.4410936364687106, 'restaurants': 3.504264911692228}, {'customer': 3.031881828597954, 'restaurant,': 4.346481037333381, 'noodle': 4.505124022598309, 'love': 2.048914153449968, 'service': 1.3448582783208878, 'chinese': 8.173726530931537, 'food': 1.9014002168907644, 'cheap': 4.083856548203797, 'price': 2.9204305744445254, 'specially': 6.696772471530771, 'specials.': 11.747366269005237, 'lunch': 5.800910994702892, 'delicious': 2.638119521916142, 'girlfriend': 5.070193859785248, 'cafe': 4.556866894711504, 'off.': 4.712606988308374}, {'staff': 2.3345609756053136, 'atmosphere': 3.372856473482712, 'good': 1.270124313985328, 'vegas,': 3.6553311654136196, 'famous': 5.145403305270765, 'food': 0.9507001084453822, 'relaxed': 6.192336645863552, 'delish': 6.159901370110398, 'friendly': 2.4941734958432815, 'casual,': 6.91900651846214, \"lucille's.\": 10.33163259594792, 'reasonable.': 5.283767960083307, 'recommend': 2.5448087449594943, 'prices': 3.062640380961668, \"dave's\": 8.19359689000203, 'place.': 2.7622919778744612, 'memphis': 8.173475486802609, 'available,': 6.588232302955565, 'bbq': 7.769528022716934, 'restaurants': 3.504264911692228}, {'ohh': 8.431070266871064, 'price.': 3.8858580435227275, 'family': 3.3541261123964032, 'house.': 5.003087083090509, 'highly': 3.254192742821027, 'decided': 3.0380755355117546, 'delicious': 2.638119521916142, 'service': 1.3448582783208878, 'oprah': 10.33163259594792, 'lv': 5.5202896373436925, 'cafe.': 6.097026466059227, 'ambience': 5.156652454150692, 'excellent,': 5.102184955760146, 'recommended!': 6.563241078906249, 'food': 0.9507001084453822, 'downtown': 4.769625583691322, 'job': 4.409592047731712, 'wanted': 2.8495913392825654, 'celebrate': 5.542992087961999, 'sister': 5.187954534332072, 'angel,': 9.767102793210068, 'florida': 7.635143217246784, 'drive': 3.8177376083968753, 'dinner': 2.7495615113823586, 'fabulous': 5.273631249222692, 'place': 1.160549351581119, 'reasonable': 4.130494117266064, 'friendly.': 3.679615307892674, 'wine': 3.7059201474598527}, {'open': 3.3037980690490483, \"lil'\": 8.793653647495963, 'good': 1.270124313985328, 'service': 1.3448582783208878, 'chinese': 4.086863265465769, 'restaurant': 2.1956291443587967, 'food': 0.9507001084453822, 'attitude.': 5.880095982130988, '2am;': 12.312634064814501, 'convenient.': 6.521909660024493, 'deep': 4.837861882416632, 'tofu': 5.1232776649465865, 'kinda': 4.423924540632488, 'pricey,': 5.567986123702515, 'delicious.': 2.9847106771846033, 'fried': 2.904939855710413, 'restaurants,': 5.665594410054331, \"that's\": 2.9942692286443333}, {'dine': 4.687038992682048, 'selection': 3.387911231241221, 'back': 1.7221117243873878, 'ordering': 3.8059458580434122, 'all-time': 8.226657752262918, 'chicken': 2.239266616291161, 'drinks.': 4.255019037160418, 'end': 3.6007791045197055, 'tremendous': 7.480328306242663, 'appetizers': 4.395826573876899, 'definite': 6.133653144035462, 'delicious.': 2.9847106771846033, 'carbonara': 7.090927800638306, 'happy': 2.9587779352863293, 'food': 0.9507001084453822, 'cheesecake': 5.030044721277723, 'fave': 6.252926927610273, 'reason': 3.752477173966149, 'vegas': 2.1590105559005632, 'half': 3.2726076305079967, 'pasta': 4.132523296145172, 'hour': 3.2591229568713382, 'restaurant': 2.1956291443587967, '^_^': 8.750168535556224, 'shrimp': 3.3095023811402235, 'thing': 2.86489226977741, 'time': 3.3398542872320913, 'order': 2.0842228473027133}, {'blue': 4.634539109442515, 'libacious': 13.698928425934392, 'drinks.': 4.255019037160418, 'good': 1.270124313985328, 'yard': 6.299530342603039, 'blaring': 8.008568971610332, 'hang-out': 10.563434210005243, 'people': 2.453660208585244, 'food': 0.9507001084453822, 'house': 3.616792721970619, 'vegas.': 2.7376679405122273, 'spot': 6.623746800806276, 'cocktails': 4.923070111136867, 'conversation': 5.352760831570259, 'watch.': 6.921281832299276, 'music': 3.9849683304425487, 'vast': 6.775299797795966, 'selection': 3.387911231241221, 'martini': 5.884528792129906, 'patio': 4.573383705662926, 'las': 2.821560709474745}, {'summerlin': 5.709029050991454, 'food': 0.9507001084453822, 'favorite': 2.7166062123388297, 'coming': 2.883379070854146, 'resort.': 7.344558385137042, 'reason': 3.752477173966149, 'back.': 3.143949368107152, \"garden's\": 10.202420864467912, 'location,': 5.099602404979633, 'dessert': 3.357218201051928, 'rock': 4.839138931188982, 'olive': 5.293113822501545, 'tiramisu': 6.038342964231137, 'good,': 2.9394523153324914, 'red': 3.562624257388368}, {'house': 3.616792721970619, 'ambiance': 4.18205969371007, 'year': 4.225762357505296, 'breakfast': 3.10469657745463, 'list!': 7.637471507006376, 'staff': 2.3345609756053136, 'bite.': 5.120640135158345, 'missed': 5.439987962945933, 'upbeat': 6.717922685212663, \"haven't\": 4.150688265345812, 'hash': 4.591507107966051, 'food': 0.9507001084453822, 'price': 2.9204305744445254, 'sister': 5.187954534332072, 'comfy,': 8.528444430896242, 'reasonable,': 6.392397026994888, 'in-love': 12.089490513500293, 'younger': 6.604693580009638, 'restaurant': 2.1956291443587967, 'alot!': 10.115409487478283, 'fell': 5.170201998704482, 'excellent.': 4.002465042832592, 'friendly,': 4.201531176900348, 'introduced': 5.929972381396061, 'all-day': 9.188068919417542}, {'relaxed,': 8.039446210174772, 'managed': 5.686578786606598, 'ambiance': 4.18205969371007, 'back': 1.7221117243873878, 'guests': 5.078456885064654, 'water.': 4.966462577584515, 'refill': 5.138101197498094, 'check': 3.097828675879161, '$119.00': 12.600316137266283, 'busy': 3.429930080797133, 'service': 1.3448582783208878, 'ambiance,': 5.902870451618269, '(which': 4.436375182511276, 'good!': 3.828842550032295, 'oriental': 7.642144412705768, 'delicious!': 3.7926447860962633, 'love!).': 11.753018276879079, 'party': 3.5965490318863473, 'friendly': 2.4941734958432815, 'food': 1.9014002168907644, 'price': 2.9204305744445254, '7,': 7.796295092533026, 'food,': 2.9514413035388523, 'reasonable.': 5.283767960083307, '=)': 6.381052227307897, 'server': 2.7311267667774017}, {\"i'll\": 3.211494907882084, 'crazy': 4.5442064777212225, 'palate': 6.619744031324725, 'chinese': 4.086863265465769, 'better,': 5.463037700005898, 'ambiance': 4.18205969371007, 'asian': 4.180074471926496, 'service': 1.3448582783208878, '8': 4.506650196776619, 'friendly': 2.4941734958432815, 'red': 3.562624257388368, 'nice': 2.13608961827214, 'encore.': 8.380808432090177, 'food': 0.9507001084453822, 'price': 2.9204305744445254, 'food.': 2.501234389281188, 'ridiculous': 5.565047537985187, 'gorgeous,': 7.915103243604656, 'authentic': 4.143935085246803, 'improve': 6.371147887512762, 'restaurant': 2.1956291443587967, 'inside': 6.694662864475614, 'okay.': 4.586641994433598, 'loves': 4.95284820857688, 'encore': 6.984757896024921, 'expect': 3.682246125631922}, {'weekend': 4.509913840672962, 'hour': 3.2591229568713382, 'favorite': 2.7166062123388297, 'girls': 4.75712130757123, 'xd': 8.371052257144811, 'chocolate': 3.616123825624609, 'vesuvious': 13.698928425934392, 'mango': 4.929576718135421, 'long': 2.8039684602880586, 'indulge': 6.712361966527966, 'girl': 4.247683173065358, 'workouts.': 11.059871096319133, 'cardio': 9.450433183885034, 'martini': 5.884528792129906, 'cake.': 5.3494440789442645}, {'beautiful': 4.1290970787599965, 'love': 2.048914153449968, 'town!': 5.639336097046848, 'sushi': 9.635990873790849, 'ambiance': 4.18205969371007, 'japanese': 4.566225323685362, 'private': 5.4967199894979455, 'highly': 3.254192742821027, 'delicious': 2.638119521916142, 'service': 1.3448582783208878, 'at.': 5.612210505630488, 'lovely': 5.02473148570849, 'biased': 7.339354557262015, 'oyshi': 7.777350006290577, 'food': 0.9507001084453822, 'big': 2.857682234908869, 'price': 2.9204305744445254, 'fave': 6.252926927610273, 'reasonable.': 5.283767960083307, 'mural': 8.45718141087475, 'excellent': 3.1958354372466835, 'room': 3.5335382539339713, 'recommended!!': 8.436238237029507, 'however,': 3.5198946432910065, 'restaurants,': 5.665594410054331}, {'palatable': 8.599061998110194, 'ate': 3.3505627629332655, 'food': 0.9507001084453822, 'better.': 3.8917865891849495, 'back.': 3.143949368107152, 'thai': 3.946263763132848, 'bbq': 3.884764011358467}, {'cookies': 5.254090896710296, 'variety': 3.7401007783651004, 'dessert.': 4.544946787627595, 'ice': 3.3886433200563215, 'cream;': 9.728636512382272, 'thrifty': 8.074910919747055, 'homemade': 4.7890176992324935, 'delicious,': 4.158277619450806}, {'service.': 2.8668461470679456, 'point': 3.8170731735253787, 'southwest!': 9.786905420506248, 'service!': 4.515548235540993, 'lack': 4.7577755437738265, 'xd': 8.371052257144811, '(if': 5.989620092548524, 'minutes.': 4.383147541500213, 'drinks': 5.84758384429446, 'taro': 6.074797840273103, '(for': 5.8665174987464725, 'drinks!': 6.485896766099524, 'delicious': 2.638119521916142, 'want).': 9.914738792016133, 'pretty': 2.2354558446836945, 'tea': 3.73317054767214, 'location': 3.0207828326590627, 'topping': 5.695231086840025, 'fyi': 6.977502725143749, 'me)!': 11.059871096319133, 'drink': 3.060192516819684, 'boba': 4.871313675096885, 'fast.': 4.882668217199811, 'long,': 5.529308864210542, 'yummy': 4.128190049219354, 'line': 3.333280421613555, 'bar.': 4.162671331276513, \"they're\": 3.8036746783253683, 'great': 4.066307125509436, 'compliments': 6.694954289211712, 'longer': 4.568930806640749, 'lightning': 8.478572600856069, 'place': 1.160549351581119, 'amazing!': 3.905367352776869, 'brew': 6.176528194547268, 'fresh': 2.5909981794877335, 'boba!': 8.039446210174772, 'minutes': 2.91258283761251, 'order': 2.0842228473027133, 'waited': 3.615037822426941, '(yummy!)': 10.754489446767952}, {'busy': 3.429930080797133, 'office': 5.688568837014609, 'beef': 3.0952436032258372, 'iced': 4.7605280194613835, 'teriyaki': 5.392950214967091, 'noon': 6.4873716926205915, 'serve': 3.814317929167954, 'durango': 7.187183096289665, 'lunch': 2.900455497351446, 'ate': 3.3505627629332655, 'tea.': 5.133135564682093, 'delicious': 2.638119521916142, 'chicken': 2.239266616291161, '2pm': 7.1916507135493815, 'thai': 3.946263763132848}, {'yum!': 5.249371883233967, 'flick': 10.563434210005243, 'taro': 6.074797840273103, 'square.': 7.257981885301472, 'stop': 3.4462287068408988, 'town': 3.747508219642962, 'catching': 6.937355657130337, 'pit': 6.64620737670207, 'latest': 6.970299812849691}, {'people': 2.453660208585244, 'experience.': 3.4747714169948165, 'back': 1.7221117243873878, 'medium/large': 12.600316137266283, 'now,': 4.810309618633515, '20': 3.8931088305764234, 'machine': 5.521974557708612, \"we're\": 4.3088531730610224, 'stars': 3.2140635936813293, 'stopped.': 8.287282374079354, 'room,': 5.690562855621473, 'night': 2.8170019750091764, 'coming': 2.883379070854146, 'saturday.': 6.5915029518236885, 'friends': 3.213169389184256, 'wait': 2.4171030819948305, 'great': 1.3554357085031452, 'room': 7.0670765078679425, 'hour': 3.2591229568713382, 'supposed': 4.747229257625577, 'time': 5.009781430848137, 'minutes': 2.91258283761251}, {'up.': 3.970270564433924, 'reviews.': 5.098129650663359, 'must-try!': 9.55579369954286, 'fave': 6.252926927610273, 'watch': 4.369472573068048, 'vacation': 5.872884412415428, 'diet': 5.938461396720972, 'bakery': 5.310705615815116, 'vegas': 2.1590105559005632, 'place': 1.160549351581119, 'delicious': 2.638119521916142, 'coming': 2.883379070854146, 'bikini-beach': 13.698928425934392, 'las': 2.821560709474745, 'irresistible': 9.29220917867014, 'weeks': 5.073419091034697, \"haven't\": 4.150688265345812, 'pastries': 5.508851376215343}, {'venu': 11.619486884254556, 'service': 1.3448582783208878, 'quaint': 6.458278731678926, 'menu.': 3.5241931074099084, 'food': 0.9507001084453822, 'mediterranean': 5.698578930609709, 'italian.': 7.097698307205516, 'choices': 4.395097710870871, 'large': 3.183151315798474, 'greek': 5.414171832743958, 'good.': 2.2327906314630437, 'moraccan': 12.089490513500293, 'spicy.': 5.498365628925829, 'friendly': 2.4941734958432815, 'strip.': 3.894212035498285, 'quick.': 5.241272947234352}, {'ever.': 4.794162579251579, 'agreed': 5.641550937376401, 'cocktails': 4.923070111136867, 'delicious': 5.276239043832284, 'chicken': 6.717799848873483, 'saved': 5.7344250623828446, 'service': 1.3448582783208878, 'waffles': 4.884300870623696, 'chicken.': 4.569147561816627, 'mimosas.': 7.118289288649444, 'ambience.': 6.707751538813183, 'started': 3.5762651836454404, 'blt.': 8.314433363145303, 'excellent': 3.1958354372466835, 'brunch': 4.202507262873403, 'tomato': 4.44946349927416, 'loved': 3.003988004054196, 'room': 3.5335382539339713, 'had.': 3.681085929160862, 'plain': 4.835595592494806, 'green': 3.705097553500663, 'husband': 3.324406525525523, 'desert!': 8.130583922173296, 'fried': 11.619759422841652, 'unique.': 6.326182059530065}, {'$24),': 12.600316137266283, 'vegas': 2.1590105559005632, 'selection': 6.775822462482442, 'rest': 4.066987163940642, 'desserts': 4.263606193370361, 'dinner-type': 12.600316137266283, 'tasty': 3.461328562068676, 'hanging': 5.645995389136825, 'food,': 2.9514413035388523, 'mary/champagne.': 13.698928425934392, 'brunch': 8.405014525746806, 'decor': 3.914449659980467, '(around': 7.516843519217761, 'mimosa/bloody': 10.926339703694612, 'macaroni': 5.775942467223197, 'pretty': 2.2354558446836945, 'expected': 4.212093327147006, 'covered': 4.868239227173395, 'food!': 4.2612134661161845, 'cosmopolitan': 5.953492815660012, 'complete': 5.102739228291657, 'installations': 10.990878224832183, 'price': 2.9204305744445254, 'hotel': 3.887117661970169, 'theme.': 7.239023971556858, 'buffet': 3.375119994058114, 'chocolate': 3.616123825624609, 'glass': 4.26416532114562, 'strawberries!)': 12.600316137266283, 'free': 3.3568311666977984, 'included': 4.6746766973214084, 'line': 3.333280421613555, 'food.': 2.501234389281188, '(especially': 6.34073467320136, 'gelato,': 6.826800324595407, 'great': 4.066307125509436, 'monday.': 7.554742791808747, 'regular': 3.787175128981232, 'amazing,': 4.582129798366574, 'cheese.': 4.464676233911897}, {'enjoy': 3.3670407940076044, 'ami': 6.350984602785705, 'partying.': 8.32829039780673, 'eat': 4.549318653139244, 'myself,': 6.216809502382278, 'lorraine.': 9.870287029445297, 'arrived': 3.909225662704885, 'satisfied': 5.074676162224748, 'jg),': 13.698928425934392, 'highly': 3.254192742821027, 'disappointing': 5.022341182367906, 'medium': 4.195172449658669, 'butter!': 8.078527560217243, \"(i'm\": 6.179778468264569, 'bites;': 11.753018276879079, 'balanced.': 7.494370663365703, 'quiche': 13.740432708585418, 'cold': 3.764669214731511, 'orders': 4.073304636912708, '(steak': 8.743101368333132, \"you're\": 2.8670634803889627, 'be.': 4.788612649608377, 'tasting': 4.2638457812803034, 'paris': 5.600893669758322, 'menu': 2.440662979496167, 'vegas.': 2.7376679405122273, 'long': 2.8039684602880586, 'craving': 4.232628873702377, 'lorraine': 8.557264869431734, 'split': 4.425331604323195, 'time': 1.6699271436160457, 'rare,': 6.2623111607001665, 'ph': 7.510664302851803, 'perfectly': 7.461648460624585, 'worth': 2.493561263420738, 'friend': 3.313601315918372, 'nice': 2.13608961827214, 'craving!': 8.467819809079806, 'note,': 6.15301027472507, 'you,': 4.760659278895844, 'eating': 3.1356436725198735, 'baguette': 6.37443844658586, \"would've\": 5.15548286337409, 'lie...': 10.563434210005243, 'night': 2.8170019750091764, 'food,': 2.9514413035388523, 'french': 3.7619577425817163, 'huge': 3.159922805674956, 'good!!!': 6.563241078906249, 'warm': 4.012913037475243, 'fan': 3.7303556267423303, 'mon': 6.097026466059227, 'lunch': 2.900455497351446, 'coming': 2.883379070854146, 'nice,': 4.4246747282145575, 'rice!': 7.239023971556858, 'wanted': 2.8495913392825654, 'friends': 3.213169389184256, 'white': 3.746031853140722, 'bread': 3.20615533237241, 'butter),': 10.202420864467912, 'delicious,': 4.158277619450806, 'classique': 9.166328932781138, 'full': 3.1589434125556535, 'restaurant': 2.1956291443587967, 'door.': 5.270129385280751, 'crusty,': 9.166328932781138, 'side': 2.850795948027582, '16-course': 10.44083188791291, 'cooked': 3.065455623620374, 'well.': 3.154324100932704, 'gabi': 6.713286608295184, 'served': 6.422432200125012, 'steak': 8.992517523363574, 'requested.': 7.009329156755427, 'meal': 2.841160955620075, 'tartare...': 11.214021776146392}, {'rating': 4.975859924770465, 'appease': 9.007580543705249, 'agreed': 5.641550937376401, 'only,': 7.0815254479599155, 'edamame,': 7.2468794714971665, '15),': 11.619486884254556, '(which': 4.436375182511276, 'tdf),': 13.698928425934392, 'with,': 6.2789485022725575, 'with.': 5.280230481267255, 'group': 11.226126890020709, 'menus': 5.29110377157352, 'menu': 4.881325958992334, 'fair,': 6.653151849054881, 'black': 4.132383220504098, 'pretty': 2.2354558446836945, 'sampler': 6.0336437074630425, 'grilled': 3.8933845177283914, 'sauce': 2.828438015982462, 'worth': 2.493561263420738, 'eventually': 5.857828660512273, 'it,': 3.4934491737663764, 'sitting': 3.893770607471474, 'food': 5.704200650672293, 'overdone': 7.372778952779294, 'appetizer': 4.1330837950038175, 'made': 2.25882099621357, '(while': 8.462486463104444, 'great,': 3.711375498280597, 'fine,': 5.593017227947884, 'meat': 2.992184470158289, 'delicious': 2.638119521916142, 'delicious,': 4.158277619450806, 'server': 2.7311267667774017, 'large': 9.549453947395422, 'stars.': 4.261930683344204, 'continue': 5.227779173019562, 'rock': 4.839138931188982, 'small': 2.795029605658816, 'give-me-milk-to-guzzle-now': 13.698928425934392, 'sushisamba': 8.539873126719863, 'soft': 4.08292296584738, 'whomever': 8.361390346233074, 'pork': 3.367236278320611, 'talked': 5.485275722904394, 'served,': 6.94665804979265, 'people': 4.907320417170488, 'group,': 6.4888487977636045, 'group.': 11.640788459588062, 'flaky,': 7.552599168265496, 'sea': 4.701038975733677, 'time.': 3.0599528523487947, 'start.': 5.971393315458944, 'truffle': 4.622005167398561, 'fall': 5.623034795635536, 'shooters': 8.053481528291154, 'perfect': 3.1953963111006436, 'bass': 5.594829369790811, 'tempura': 5.20010289187634, 'honestly,': 10.836941478703665, 'thanks,': 7.307011312541791, 'members': 5.865724477293335, 'carte,': 7.852489650876668, 'care': 3.5891179998143983, 'sending': 6.8236963386578156, 'restaurant': 6.58688743307639, '(about': 6.877820953677928, 'times': 2.932002545428338, 'amount': 3.6471070788925712, 'beans': 9.085455000117717, 'way.': 4.619266377600327, 'however,': 3.5198946432910065, 'fish.': 5.536127072442319, 'fish,': 5.628647532540493, 'for.': 4.205968775848891, 'point': 3.8170731735253787, 'feel': 3.0685446527919455, 'accommodate': 5.63429195016017, 'anywhere.': 6.188497869556386, 'short,': 6.463309284867643, 'impossible': 6.1852191780946875, 'tuna': 4.2722677279921255, '(the': 4.8648827847665945, \"you're\": 2.8670634803889627, '\"fighting\".': 13.698928425934392, 'wants,': 10.088010513290168, 'service': 2.6897165566417756, 'tasting': 8.527691562560607, 'amazingly': 5.725084049989706, 'classic': 4.888617959576435, 'upbeat': 6.717922685212663, 'perfectly': 3.7308242303122925, '\"incorporate': 13.698928425934392, 'sort': 4.7990612147108065, 'dry,': 5.583407544387623, 'down);': 13.698928425934392, 'hard': 3.314559126005346, 'understandably': 8.701716152170277, 'skewers': 6.3075131912590345, \"'tasting\": 12.089490513500293, 'much.': 4.660919676722816, 'spring;': 13.698928425934392, 'basically': 4.479132895187455, 'peppers,': 5.994116503001798, 'line': 3.333280421613555, 'unwillingness': 10.233192523134667, 'eat': 2.274659326569622, 'sub-standard.': 10.808556668038229, '15': 4.006532343688333, '14': 12.731810823095824, 'salad': 2.9510758810956985, 'raw': 9.975299621607917, 'work': 3.5662754897655606, 'strange)': 11.619486884254556, 'spicy,': 5.6859163155654775, 'fried': 5.809879711420826, 'shrimp': 3.3095023811402235, 'over.': 5.449091940508691, 'give': 2.54685805815386, 'fine--she': 13.005781245374447, 'sushi': 3.2119969579302827, 'beefs': 9.166328932781138, 'pushed': 6.520382942170693, 'tastes': 4.255890289839189, 'spicy': 6.746106196188385, 'tastes,': 7.89681005055733, 'chewiness': 8.668490504541957, 'rolls..': 9.588054561761082, 'trip': 3.9128739702903603, 'decor': 3.914449659980467, 'do.': 5.259913015582179, 'varied': 6.990844342081323, 'haggled': 11.619486884254556, 'moist': 5.073778093013063, 'amazing': 2.7129579666600385, 'interested': 5.820394229794031, 'place': 1.160549351581119, 'here.': 2.750932843723356, 'begin': 5.762268270708966, 'dishes\"--sounds': 13.698928425934392, 'price': 2.9204305744445254, 'horrible.': 10.322297201819534, 'types': 4.985182095477477, \"menu'\": 10.44083188791291, 'cooked': 3.065455623620374, 'green': 7.410195107001326, 'time': 1.6699271436160457, 'platter': 5.3386229900553, 'shishito': 7.209723494609076}, {'you,': 4.760659278895844, 'ordered': 1.8256468010229594, \"freed's:).\": 13.698928425934392, 'make': 2.307391237699188, 'beautiful!': 7.5314119350460516, 'birthday': 4.205139932038491, 'cake': 3.950283459203934, 'worked': 4.867216508112815, 'minute': 4.410239087547233, \"wife's\": 5.970072602081849}, {'beware!': 8.089456630749433, \"girlfriend's\": 7.884797894109326, 'pleasant,': 6.74907197093362, 'manager': 3.564964274717263, 'cost': 4.456701865095888, 'dinner': 2.7495615113823586, 'cafe': 4.556866894711504, 'ok,': 4.378747588278678, 'that,': 4.2832012242332596, 'matt': 7.5655303829377445, 'bill,': 6.291610715464976, 'lux': 6.792173647285839, 'make': 2.307391237699188, 'charts': 8.16949933842297, 'casino.': 5.295127921873246, 'employer': 9.494235806543427, 'late': 3.7039105555526737, 'mr.': 5.982467625758038, 'call': 3.9629132273420136, 'questioned': 7.262778057564965, 'grand': 4.948245391149801, 'threaten': 9.436248548893078, 'learned': 5.965682779404597, 'timms': 12.600316137266283, 'food': 0.9507001084453822, 'lose': 6.069438509540398, 'drinks.': 4.255019037160418, 'manager.': 5.824569601204511, 'friends': 6.426338778368512, 'cool': 3.7661733757176967, 'locals.': 6.905462293354383, 'timms,': 13.005781245374447, 'rude-': 11.059871096319133, 'server': 2.7311267667774017, 'venetian': 5.576260402587986, 'item': 4.615285707004167, 'bad': 2.887323452213271, 'night': 2.8170019750091764, 'restaurants': 3.504264911692228, 'options': 3.7105943379881463, 'back!': 4.183975120846448}, {'selections.': 6.164700099660303, 'selection': 3.387911231241221, 'service': 1.3448582783208878, 'work': 3.5662754897655606, 'great': 1.3554357085031452, 'quick': 3.453057570176397, 'amount': 3.6471070788925712, 'flavors.': 5.0800815807916555, 'put': 3.2429935749414547, 'tasty.': 3.916422769959048, 'presentation': 4.674195001743694, 'beautiful.': 6.044959245455618}, {'replied': 6.551369154744939, 'mexican': 3.848314363005333, '\"i': 5.749836926103876, 'drive': 3.8177376083968753, 'spanish': 5.914039130279295, 'ready': 4.1220716959886206, 'appetite': 6.115680901631031, 'customer.': 5.882108460169841, 'working': 4.093981689184922, 'ordering': 3.8059458580434122, 'vegas.': 2.7376679405122273, 'late': 3.7039105555526737, 'start': 3.803120284742134, 'coworkers': 6.3471285568766165, 'horrible': 4.365751143999148, 'las': 2.821560709474745, 'today': 4.131753122818113, 'rude': 4.304934051930477, 'spot': 3.311873400403138, 'southern': 5.479871764873796, 'pastor': 5.981577153749064, 'kitchen': 4.154547342528412, 'back': 1.7221117243873878, 'offend,': 12.312634064814501, 'wanted': 2.8495913392825654, 'totally': 3.9799648537474197, 'minutes\".': 9.728636512382272, 'man': 4.417198057871537, 'remark': 8.649072418684856, 'highlands': 8.035967945798447, 'nicely': 4.8719003574252415, 'employees': 4.11833570160579, 'favorite': 2.7166062123388297, 'anything.': 5.087152592032208, 'experience': 2.758633068977272, 'ruined': 5.714806467231465, 'yet.': 5.678986738257028, 'loyal': 6.506746367221147, 'greeted': 4.1978606233204685, 'night': 2.8170019750091764, 'tacos!': 7.006844683427764, 'ish.': 9.103808575799803, 'asked': 2.811211158515917, 'left': 3.290070100315238}, {'roaster': 9.494235806543427, 'area.': 4.21057760120316, 'tasted': 3.0585160704924315, 'house': 3.616792721970619, 'yummy.': 4.941773898277786, 'good': 1.270124313985328, 'find': 5.865819264740944, '(equator)': 13.698928425934392, 'area': 3.4164566425396976, 'giving': 4.150474308207742, '4': 3.1584408534613204, 'stars': 3.2140635936813293, 'enough,': 5.769801938627594, 'neighborhood,': 7.47041742234321, 'difficult': 5.115947493980152, 'coffee': 3.475061724359776, 'ago.': 5.2558124379144715, 'three.': 6.984757896024921, 'dry': 4.031732989467749, 'great': 1.3554357085031452, 'made': 2.25882099621357, 'coffee,': 5.418470739351832, 'croissant': 5.977136649116857, 'cup': 4.416639554645626, 'days': 4.2194009641426735, 'bay': 10.840492525926974, 'spoiled': 6.322420299608173, 'however,': 3.5198946432910065, 'relief!': 10.808556668038229}, {'cooking.': 6.550582682034325, 'eating': 3.1356436725198735, 'homemade': 4.7890176992324935, 'great-grandmothers': 13.698928425934392, 'dish': 3.3245314045491314, '$45ish.': 13.005781245374447, 'rivals': 7.804525591669542, 'lobster': 7.6395695935755645, 'years.': 4.988308897992095, 'pasta': 12.397569888435516, 'period.': 6.668070949818272, 'carte': 6.187950673920297, 'italian': 4.003880558347278}, {'made': 2.25882099621357, '#makeitsweet': 12.600316137266283, 'liquid': 6.435598808457557, 'give': 2.54685805815386, 'seating.': 5.433278260354063, 'time': 1.6699271436160457, 'due': 4.256286564859234, 'ice': 3.3886433200563215, 'stars': 3.2140635936813293, 'excellent': 3.1958354372466835, 'cold': 3.764669214731511, 'nitrogen.': 10.035366779804747, 'cream': 3.3912432348570656}, {'coffee': 3.475061724359776, 'vietnamese': 5.514135771769315, 'drink': 3.060192516819684, 'boba': 9.74262735019377, 'good!': 3.828842550032295, 'great!': 4.057130365575792, 'place': 1.160549351581119, 'here.': 2.750932843723356, 'time': 1.6699271436160457, 'milk': 4.575017781956598, 'tea...super': 12.600316137266283}, {'great': 1.3554357085031452, 'menu!': 5.892232053413213, ':)': 3.868979776733135, 'variety': 3.7401007783651004, 'food': 1.9014002168907644, 'service!': 4.515548235540993, 'large': 3.183151315798474, 'occasion.': 6.647938978866348, 'special': 3.2694114158900014}, {':)': 3.868979776733135, 'pastries...': 10.233192523134667, 'oh.': 7.704966998627824, 'highly': 3.254192742821027, 'tasty': 3.461328562068676, 'quality': 2.901109492878537, \"you're\": 2.8670634803889627, 'widest': 10.035366779804747, 'feed.': 9.673576735199244, 'top': 3.030461522644208, 'restaurant!': 5.664945691251173, 'lot': 2.84239400139899, 'recommend': 2.5448087449594943, 'presentation': 4.674195001743694, 'gave': 3.1906605335084683, 'staying': 4.393641576649256, 'good': 1.270124313985328, 'read': 4.423174915409978, 'buffet': 3.375119994058114, 'choice': 4.1275625872822195, 'god.': 7.580831227893045, 'awesome!': 4.577965865109427, 'plenty': 3.9524456222084297, 'my.': 7.580831227893045, 'day': 3.0951691328960234, 'made': 2.25882099621357, 'healthy': 4.672150380188298, 'drop': 5.29110377157352, 'choices': 4.395097710870871, 'reviews': 3.699312846304044, 'admit': 5.594829369790811, 'buffet,': 5.213019524557922, 'place': 1.160549351581119, 'options': 3.7105943379881463, 'bellagio.': 6.343287322960139}, {'back': 1.7221117243873878, 'bellagio.': 6.343287322960139, 'staying': 4.393641576649256, 'tasted': 3.0585160704924315, 'treat': 4.819316815952357, \"you're\": 2.8670634803889627, 'positioned': 8.936754491136636, 'straight': 4.96662385490121, 'pastries': 5.508851376215343, 'spot': 3.311873400403138, 'lifts..': 13.698928425934392, 'walk': 3.673090506120804, 'great': 1.3554357085031452, 'bakery.': 6.840363391143027, 'quick': 3.453057570176397, 'fresh': 2.5909981794877335, ';)': 5.576854050572176, 'cafe': 4.556866894711504, 'pool': 5.115011602475247, 'downside': 5.7445561534025265}, {'recommend': 2.5448087449594943, 'vegas': 2.1590105559005632, 'wanted': 2.8495913392825654, 'atmosphere.': 4.509913840672962, 'dessert': 3.357218201051928, 'make': 2.307391237699188, 'bouchon': 6.187950673920297, 'sooo': 5.255166512604038, 'great': 4.066307125509436, 'finish': 4.208006127996736, 'meal': 2.841160955620075, 'delivered!': 8.750168535556224, 'good': 1.270124313985328, 'well.': 3.154324100932704, 'place': 1.160549351581119, 'night': 2.8170019750091764, 'bit': 2.6820056558385166, 'highly': 3.254192742821027, 'meals': 4.382787635071998}, {'executed': 6.776284534458505, 'wynn': 5.31275549695656, 'resist': 6.834080647963532, \"couldn't\": 3.3666825053208083, 'love': 2.048914153449968, 'find': 5.865819264740944, 'quick.': 5.241272947234352, 'decor': 3.914449659980467, 'casino.': 10.590255843746492, 'checking': 9.458518644281273, 'white': 3.746031853140722, 'staff': 2.3345609756053136, 'sauce': 2.828438015982462, 'perfectly!': 7.401819106000457, 'food': 0.9507001084453822, 'apologetic': 6.610519647258998, 'serve': 3.814317929167954, 'wrong': 3.845209015632386, 'meals': 8.765575270143996, 'tomato': 4.44946349927416, 'great': 4.066307125509436, 'us.': 3.586233987822928, 'inside': 6.694662864475614, 'asked': 2.811211158515917, 'place': 1.160549351581119, 'quick': 6.906115140352794, 'meal': 2.841160955620075, 'italian': 4.003880558347278}, {'pizza,': 4.749693111559538, 'better.': 3.8917865891849495, 'back': 1.7221117243873878, 'bring': 3.568185786044342, 'well.': 3.154324100932704, 'ordered': 1.8256468010229594, 'beef': 6.1904872064516745, 'blt': 6.330588739623011, 'vegas.': 2.7376679405122273, 'amazing': 2.7129579666600385, 'pizza': 3.11921098671533, 'sandwich': 14.066390998454752, 'drink': 3.060192516819684, 'veggie': 4.771879778108698, '$20.': 6.661900811248117, '$8': 6.011389659732764, 'chips': 3.9587248013150815, 'great.': 3.006256504641377, 'care': 3.5891179998143983, 'easily': 4.590731527626914, 'had.': 3.681085929160862, 'leave': 3.950458595664874, 'good': 1.270124313985328, 'roast': 10.183423463741134}, {'find.': 5.947023092855783, 'cosmo': 6.3471285568766165, 'munchies': 7.630502837690282, 'monday,': 7.804525591669542, 'sign.': 6.476362407112222, 'line.': 4.919678709705347, 'price': 2.9204305744445254, 'hard': 3.314559126005346, 'crust': 4.547064983717186, 'name,': 5.861768775932718, 'toppings,': 6.59560636340828, 'clubbing': 7.135072899402266, 'reasonable,': 6.392397026994888, 'thin': 4.516164821728444, 'tasty.': 3.916422769959048, 'fun': 3.6054405406773093, 'fresh': 2.5909981794877335, 'place.': 2.7622919778744612, 'good,': 2.9394523153324914, 'find': 2.932909632370472, 'good.': 2.2327906314630437}, {'deal': 4.169770752575718, 'people': 2.453660208585244, 'location': 3.0207828326590627, 'hollywood': 6.038342964231137, 'room,': 5.690562855621473, 'hope': 4.307433844916262, 'flat': 5.286429305632821, 'good': 1.270124313985328, 'door': 4.322819410505324, 'price': 2.9204305744445254, 'free': 3.3568311666977984, '(unlike': 8.260849117011198, 'water': 3.662178266893495, 'everything)': 9.244581129680885, 'hear': 14.15513594398264, 'saturday.': 6.5915029518236885, 'breakfast.': 4.745546953767151, 'king': 5.001916807942319, 'great': 1.3554357085031452, 'coffee,': 5.418470739351832, 'us.': 3.586233987822928, 'pressure,': 9.524541156038756, 'planet': 5.523380829913366, '$50': 5.591810955184003, 't.v.,kureg': 13.698928425934392}, {'there.': 3.441514703880806, 'sandwich': 3.516597749613688, 'mikes': 8.971540607222051, 'mood': 5.022000176396997, 'healthy': 4.672150380188298, 'toasty,': 9.316901791260511, 'price': 2.9204305744445254, 'wrong': 3.845209015632386, 'good': 1.270124313985328, 'here,': 3.745651208895749, 'filling.': 5.475033045755572, 'baked': 4.347262117867775, 'worth': 2.493561263420738, 'jersey': 7.107254693925735}, {'great': 1.3554357085031452, 'lounge.': 7.0815254479599155, 'portions': 3.4743723819288506, 'feel': 3.0685446527919455, 'appetizers': 4.395826573876899, 'fireside': 7.887787432957692, 'finish': 4.208006127996736, 'large': 3.183151315798474, 'start': 3.803120284742134, 'vegas': 2.1590105559005632, 'place': 1.160549351581119, 'night': 2.8170019750091764, 'drinks': 2.92379192214723, 'great.': 3.006256504641377, 'las': 2.821560709474745}, {':)': 3.868979776733135, 'overwhelmed': 6.254679776437687, 'tables': 3.5773902691500643, 'slow': 4.1304242189680584, 'location': 3.0207828326590627, 'occasion,': 7.312049106571748, '(buffalo': 9.93772831024083, 'premium': 5.997276063292167, 'olives.': 7.637471507006376, 'came,': 6.195087679235441, 'food': 1.9014002168907644, 'stop': 3.4462287068408988, 'lunch': 5.800910994702892, 'vegas': 4.3180211118011265, 'bit': 5.364011311677033, 'day': 3.0951691328960234, 'gem': 5.099786651870988, 'bellagio': 4.704011482257282, 'mozzarella),': 11.753018276879079, 'list': 4.315643658976852, 'server': 5.4622535335548035, 'delay.': 8.260849117011198, 'found': 3.180120108302826, 'spent': 4.594504279549759, 'steal': 6.649673584678556, 'table,': 4.768434240642216, 'view': 8.434833067266837, '(but': 5.825330636248853, 'seating': 3.9703301183749238, 'left.': 5.1198878311920755, 'end,': 5.979354436674812, 'special': 3.2694114158900014, 'palace,': 7.623582394845709, 'day,': 4.900775707827202, 'fountain': 5.516089715168367, 'cromwell': 8.801088625983482, 'bought': 4.856179509638293, 'corking': 19.383190481403844, 'days,': 6.488109972462173, 'pasta': 4.132523296145172, 'show.': 5.3838514186402895, 'rare': 4.6692709540836566, 'exceptionally': 6.527271603165878, 'experience': 2.758633068977272, 'fulfilled': 8.181475529469685, \"giada's\": 7.51477953499691, \"weren't\": 3.970389675862806, 'cheese': 2.787957518141257, 'sweet': 3.0620878881240152, 'number': 4.687648934756463, 'highly': 6.508385485642054, 'brought': 3.4166962659897107, \"caesar's\": 6.274763144892364, 'simply': 4.394096390865492, 'total': 4.435805868519241, 'homemade,': 7.8211926441547535, 'fee': 12.112808583402982, 'service': 1.3448582783208878, 'due': 4.256286564859234, 'recommend': 5.0896174899189885, 'peppers': 5.302096591189339, '1/2': 5.132183455688907, 'hotel': 3.887117661970169, 'understand': 4.2645648896169925, 'baby': 5.084064207344709, '$35,': 9.007580543705249, '15': 4.006532343688333, 'ordered,': 5.685254283101708, 'ultra': 7.2805634899981815, 'minutes': 2.91258283761251, 'lasted': 7.448953183674909, 'high': 3.4133808737364224, 'blvd': 6.961961467932538, 'check': 3.097828675879161, 'strip.': 7.78842407099657, 'marinated': 5.656550420761113, 'dishes': 3.329508018523011, 'depending': 5.567103640927197, 'complaining': 6.071871008915459, 'situated': 7.149277683700583, 'dining': 3.303370026115922, 'prices)': 9.381440312398082, 'excellent.': 4.002465042832592, 'fast.': 4.882668217199811, 'forgot,': 8.545636831436614, 'lunch!': 6.742382982782824, 'buratta': 9.604583863712293, 'las': 2.821560709474745, 'wine.': 11.049578165009846, 'floor': 4.59461545860374, 'hrs.': 8.278393426662108, 'bottle': 4.606133617813254, 'time': 3.3398542872320913, 'fresh': 2.5909981794877335, 'roughly': 6.835125034481439, 'baked': 4.347262117867775, 'fact': 4.081124943187373, 'wine': 3.7059201474598527}, {'quick..': 10.480052601066191, 'good': 1.270124313985328, 'meat': 2.992184470158289, 'people': 2.453660208585244, 'food': 1.9014002168907644, 'had..the': 12.600316137266283, 'reviews': 3.699312846304044, 'ate': 3.3505627629332655, 'place': 1.160549351581119, 'idk': 6.843519627324465, 'worst': 3.8789311838972904, 'stale': 6.01921478596802, 'thai': 7.892527526265696, 'veggies': 4.786051138265097}, {'atmosphere': 3.372856473482712, 'family': 3.3541261123964032, 'licensed': 10.035366779804747, 'tonight': 5.028499258619298, '21.': 8.649072418684856, '(which': 4.436375182511276, 'previous': 5.166452610986998, 'wanted': 2.8495913392825654, 'decision': 5.999086018537406, 'due': 4.256286564859234, 'consistently': 5.358711104987358, 'visits).': 10.808556668038229, 'stieners': 12.600316137266283, 'wait': 2.4171030819948305, 'friendly': 2.4941734958432815, 'nv': 7.804525591669542, 'explaining': 6.187403777543527, \"didn't).\": 10.115409487478283, 'food': 0.9507001084453822, 'offered': 4.088537578551545, 'business.': 5.346845754581755, 'refused': 6.038342964231137, 'mention': 4.4817117500187775, 'vegas': 2.1590105559005632, 'excellent': 3.1958354372466835, 'law': 6.604693580009638, 'true': 4.951417479455945, 'gracious': 6.843519627324465, 'daughter': 5.01995657895553, '(on': 6.8309540169641005, 'fault': 5.871687524181581, 'age': 6.55689185122759, 'reviews': 3.699312846304044, 'employees': 4.11833570160579, 'foyer': 9.494235806543427, 'smoky': 6.431402998106221, \"that's\": 2.9942692286443333}, {'go...': 7.998484852543706, 'good': 2.540248627970656, 'love': 2.048914153449968, 'food': 0.9507001084453822, 'live': 3.820861250745176, 'place': 2.321098703162238, 'guac': 6.502991199458823, \"margarita's\": 8.936754491136636, 'salsa': 4.441895325966228, 'too....i': 12.600316137266283, 'chips': 3.9587248013150815, 'agree': 5.6165261720081485, 'margarita': 5.176150856224255}, {'bother...save': 13.698928425934392, 'overpriced': 4.705004284522993, 'had....runny,': 13.698928425934392, 'smoothie': 5.608832642753433, 'money!!!!': 10.202420864467912, 'get...': 9.436248548893078, 'worst': 3.8789311838972904, 'flavor': 3.145514395292883}, {'pre-occupied': 11.301033153136022, 'house': 3.616792721970619, 'experience,': 4.9474539387934895, 'years': 3.7308242303122925, 'enjoyed': 3.136729870159447, 'staff': 2.3345609756053136, 'desired.': 6.502241855100043, 'unattentive,': 10.36672391575919, 'dining': 3.303370026115922, 'draft': 6.148267182829057, 'gave': 3.1906605335084683, 'good': 2.540248627970656, 'food': 1.9014002168907644, 'drink': 3.060192516819684, 'wrong': 3.845209015632386, 'disappointed': 3.7551150019266992, 'on...not': 12.600316137266283, 'check,': 6.466195289756778, 'experience...very': 13.698928425934392, 'room': 3.5335382539339713, \"hasn't\": 6.101532105721598, 'beg': 7.5874610864317145, 'alot': 5.92365257944753, 'refill,': 7.902870675169021}, {'enjoy': 3.3670407940076044, \"you're\": 2.8670634803889627, 'great': 1.3554357085031452, 'sandwich': 3.516597749613688, 'sitting': 3.893770607471474, 'bacon': 3.7954908746483063, 'make': 2.307391237699188, 'reservations.': 6.288581328113368, 'air.': 7.3003334913991855, 'tomato': 4.44946349927416, 'lettuce': 4.8835584249737325, 'dinner': 2.7495615113823586, 'today': 4.131753122818113, 'lunch': 2.900455497351446, 'services': 6.1409334674035865, 'open': 3.3037980690490483, 'great.': 3.006256504641377, 'patio': 4.573383705662926}, {'great': 1.3554357085031452, 'love': 2.048914153449968, 'service': 1.3448582783208878, 'food': 0.9507001084453822, 'excellent': 3.1958354372466835, 'back.': 3.143949368107152, 'coming': 5.766758141708292, 'hereand': 13.698928425934392}, {'back.': 3.143949368107152, 'btw': 6.74907197093362, 'friday': 4.530973770454648, 'service': 1.3448582783208878, 'mc': 7.855384008903033, 'presented': 5.4514464216487, 'food': 0.9507001084453822, 'evening.': 5.381162259215049, 'excellent': 3.1958354372466835, 'karaoke': 6.39778062007836, 'fees': 7.516843519217761, 'made': 2.25882099621357, 'place': 1.160549351581119, 'restaurants.': 5.032109060562343, 'parking': 4.129306510154528, 'fun.': 5.229246217189207, 'celebrity': 6.381052227307897, 'locals': 5.2173624121613065}, {'claim': 6.402515157160472, 'people': 4.907320417170488, 'taiwanese': 7.172433566363603, 'wrong.': 4.955556294660425, \"(i'm\": 6.179778468264569, 'table': 5.513404893541167, 'ourselves.': 6.661900811248117, 'lifetime': 7.858286768560995, 'check': 3.097828675879161, 'speak': 4.912777371064654, 'in.': 3.9870251974714046, 'service': 1.3448582783208878, 'order),': 9.064199437704756, 'period,': 8.846898162014776, 'waiting': 6.95201161153227, 'location': 3.0207828326590627, 'pretty': 2.2354558446836945, 'worth': 2.493561263420738, 'run': 4.375170086922654, 'watching': 4.751512475284264, 'food': 2.8521003253361465, 'couple': 3.3836292802312364, 'crap.': 6.721647084303646, 'cashier': 4.639410943692794, 'food.': 2.501234389281188, 'dirty.': 6.394412479474238, 'wrong': 3.845209015632386, 'arrived': 3.909225662704885, 'put': 3.2429935749414547, 'forever': 4.986497452457654, 'longer': 4.568930806640749, 'showed': 4.834888428898402, 'us.': 3.586233987822928, 'us,': 4.5614813794785345, 'acknowledged': 6.289791982014265, 'terrible': 4.5504634576762975, 'seated': 3.3821729532270797, 'order': 2.0842228473027133, 'place': 2.321098703162238, 'turns': 5.8241893007625825, 'completely': 4.173777314118176, 'yelp': 3.7305430418204217, 'minutes': 2.91258283761251, 'happen.': 6.572841152635268, 'waited': 7.230075644853882}, {'hard': 3.314559126005346, ';)))': 11.301033153136022, 'knees': 8.63002422371416, 'yummy': 4.128190049219354, 'raise': 6.9920660893316455, 'asap!': 8.431070266871064, 'amazing': 2.7129579666600385, 'bees': 8.617524060949929, 'pajamas!': 10.520874595586447, 'angela?!': 13.698928425934392, 'happy': 2.9587779352863293, 'good': 1.270124313985328, 'beat': 4.93206660426459, 'yogurts': 9.422262306918338, 'super': 2.693617080468183, 'hubba': 22.792686665880694, 'bartender': 4.325959130509991, 'hour': 3.2591229568713382, 'soju': 7.621286182585359, 'portions!': 7.111378411109596, 'specials': 4.700173656438691, 'place': 1.160549351581119, 'marlon': 10.520874595586447, 'cats': 7.621286182585359}, {'cheese': 2.787957518141257, 'mac': 4.047498434877117, 'love': 2.048914153449968, 'bacon': 3.7954908746483063, 'atmosphere!': 6.564834704741527, 'cocktails': 4.923070111136867, 'amazing': 5.425915933320077, 'truffle': 4.622005167398561, 'mushrooms': 4.989463346871033}, {'delicately': 7.8788454955820315, 'ilys': 13.698928425934392, 'sweet': 3.0620878881240152, 'proportions': 7.940026652057112, 'service': 1.3448582783208878, 'pretty': 2.2354558446836945, 'delicious': 2.638119521916142, 'bisque': 5.930395125008359, 'busy.': 4.727479962240559, 'perfect': 3.1953963111006436, 'oliver': 8.778947500106268, 'monkey': 6.755806003114964, 'awkward': 6.156184880565842, 'god': 5.5972506784798215, 'prepared.': 6.018290998373457, 'rich': 4.784033517027825, 'friendly': 2.4941734958432815, 'roast!': 9.355123004080708, 'offices.': 9.807108127823767, 'coffee': 3.475061724359776, 'eggplant': 5.545578667935501, 'tucked': 5.818124081259492, 'food': 0.9507001084453822, 'creamy.': 6.633315062336675, 'lunch': 2.900455497351446, 'host': 5.149655341054744, 'slow': 4.1304242189680584, 'pesto,': 7.7587571732139615, 'bit': 2.6820056558385166, 'lunch!': 6.742382982782824, 'super': 2.693617080468183, 'respectful': 7.799031072351902, 'peeve': 7.753507817327818, 'seafood': 3.8661316140210342, 'freeway': 7.8788454955820315, 'place': 1.160549351581119, 'latte.': 6.7812228160990875, 'time': 1.6699271436160457, 'friendly.': 3.679615307892674, 'fresh': 2.5909981794877335, 'feeling': 4.459320556277642, 'corporate': 6.116189937019982, 'side': 5.701591896055164, 'italian': 4.003880558347278}, {'$11.25': 11.059871096319133, 'concept': 5.4871740285591954, 'kale': 6.265853077035812, 'people': 2.453660208585244, 'sweet': 3.0620878881240152, 'me.': 3.2696182686263664, '(non': 9.368195085648061, 'delish-': 10.754489446767952, 'sources': 9.12421744743101, 'drinks.': 4.255019037160418, 'wrap': 5.419231292056765, 'chicken': 2.239266616291161, 'juice': 9.801551415654403, 'conventional': 8.953996297571143, 'ingredients': 4.4673159186826705, 'either,': 6.528808882484765, 'food': 1.9014002168907644, 'charge': 4.32919400180796, 'noting': 8.005196287131692, 'health': 5.590606135761153, 'stars': 3.2140635936813293, 'include': 5.4284033308793225, 'issue': 4.919832615053862, 'worth': 2.493561263420738, 'bbq': 3.884764011358467, 'smart': 6.529578409263793, 'afford': 6.555310823230271, 'star': 3.4893173938078808, 'organic)': 11.619486884254556, 'from.': 5.069121090149021, 'clientele.': 8.130583922173296, 'catering': 6.6013795753196005, 'restaurant': 2.1956291443587967, 'juices...': 11.501703848598174, 'produce': 6.136766794708741, 'position': 7.740503732904611, 'favs': 7.6925752663326605, 'care': 3.5891179998143983, 'made': 2.25882099621357, 'organic': 5.921554823276531, 'meat': 2.992184470158289, '$12': 5.979798585027661, 'conscious': 7.600854143768153, 'potato': 3.982192227271605, 'pressed': 6.464030005619561, 'here,': 3.745651208895749, 'fresh': 2.5909981794877335, 'guy': 3.83798309666394, 'pesticides.': 12.089490513500293, 'wrap.': 6.9043418450578935}, ... ]"
      ]
     },
     "execution_count": 6,
     "metadata": {},
     "output_type": "execute_result"
    }
   ],
   "source": [
    "#Review 데이터 Stopword 제거 후 tfidf 진행하기\n",
    "data['tfidf'] = gl.text_analytics.tf_idf(data['adv_trim'])\n",
    "data['tfidf']"
   ]
  },
  {
   "cell_type": "code",
   "execution_count": 7,
   "metadata": {
    "collapsed": false
   },
   "outputs": [
    {
     "data": {
      "text/html": [
       "<div style=\"max-height:1000px;max-width:1500px;overflow:auto;\"><table frame=\"box\" rules=\"cols\">\n",
       "    <tr>\n",
       "        <th style=\"padding-left: 1em; padding-right: 1em; text-align: center\">word</th>\n",
       "        <th style=\"padding-left: 1em; padding-right: 1em; text-align: center\">tfidf</th>\n",
       "    </tr>\n",
       "    <tr>\n",
       "        <td style=\"padding-left: 1em; padding-right: 1em; text-align: center; vertical-align: top\">thoughts</td>\n",
       "        <td style=\"padding-left: 1em; padding-right: 1em; text-align: center; vertical-align: top\">635.142712651</td>\n",
       "    </tr>\n",
       "    <tr>\n",
       "        <td style=\"padding-left: 1em; padding-right: 1em; text-align: center; vertical-align: top\">salty</td>\n",
       "        <td style=\"padding-left: 1em; padding-right: 1em; text-align: center; vertical-align: top\">540.322437401</td>\n",
       "    </tr>\n",
       "    <tr>\n",
       "        <td style=\"padding-left: 1em; padding-right: 1em; text-align: center; vertical-align: top\">waited.</td>\n",
       "        <td style=\"padding-left: 1em; padding-right: 1em; text-align: center; vertical-align: top\">532.450046461</td>\n",
       "    </tr>\n",
       "    <tr>\n",
       "        <td style=\"padding-left: 1em; padding-right: 1em; text-align: center; vertical-align: top\">no.</td>\n",
       "        <td style=\"padding-left: 1em; padding-right: 1em; text-align: center; vertical-align: top\">452.910819265</td>\n",
       "    </tr>\n",
       "    <tr>\n",
       "        <td style=\"padding-left: 1em; padding-right: 1em; text-align: center; vertical-align: top\">ribs!!</td>\n",
       "        <td style=\"padding-left: 1em; padding-right: 1em; text-align: center; vertical-align: top\">390.84706577</td>\n",
       "    </tr>\n",
       "    <tr>\n",
       "        <td style=\"padding-left: 1em; padding-right: 1em; text-align: center; vertical-align: top\">david</td>\n",
       "        <td style=\"padding-left: 1em; padding-right: 1em; text-align: center; vertical-align: top\">356.346268419</td>\n",
       "    </tr>\n",
       "    <tr>\n",
       "        <td style=\"padding-left: 1em; padding-right: 1em; text-align: center; vertical-align: top\">f*k*g</td>\n",
       "        <td style=\"padding-left: 1em; padding-right: 1em; text-align: center; vertical-align: top\">356.172139074</td>\n",
       "    </tr>\n",
       "    <tr>\n",
       "        <td style=\"padding-left: 1em; padding-right: 1em; text-align: center; vertical-align: top\">ribs!</td>\n",
       "        <td style=\"padding-left: 1em; padding-right: 1em; text-align: center; vertical-align: top\">315.342811654</td>\n",
       "    </tr>\n",
       "    <tr>\n",
       "        <td style=\"padding-left: 1em; padding-right: 1em; text-align: center; vertical-align: top\">ftr</td>\n",
       "        <td style=\"padding-left: 1em; padding-right: 1em; text-align: center; vertical-align: top\">290.147772324</td>\n",
       "    </tr>\n",
       "    <tr>\n",
       "        <td style=\"padding-left: 1em; padding-right: 1em; text-align: center; vertical-align: top\">ea</td>\n",
       "        <td style=\"padding-left: 1em; padding-right: 1em; text-align: center; vertical-align: top\">267.697947384</td>\n",
       "    </tr>\n",
       "</table>\n",
       "[37581865 rows x 2 columns]<br/>Note: Only the head of the SFrame is printed.<br/>You can use print_rows(num_rows=m, num_columns=n) to print more rows and columns.\n",
       "</div>"
      ],
      "text/plain": [
       "Columns:\n",
       "\tword\tstr\n",
       "\ttfidf\tfloat\n",
       "\n",
       "Rows: 37581865\n",
       "\n",
       "Data:\n",
       "+----------+---------------+\n",
       "|   word   |     tfidf     |\n",
       "+----------+---------------+\n",
       "| thoughts | 635.142712651 |\n",
       "|  salty   | 540.322437401 |\n",
       "| waited.  | 532.450046461 |\n",
       "|   no.    | 452.910819265 |\n",
       "|  ribs!!  |  390.84706577 |\n",
       "|  david   | 356.346268419 |\n",
       "|  f*k*g   | 356.172139074 |\n",
       "|  ribs!   | 315.342811654 |\n",
       "|   ftr    | 290.147772324 |\n",
       "|    ea    | 267.697947384 |\n",
       "+----------+---------------+\n",
       "[37581865 rows x 2 columns]\n",
       "Note: Only the head of the SFrame is printed.\n",
       "You can use print_rows(num_rows=m, num_columns=n) to print more rows and columns."
      ]
     },
     "execution_count": 7,
     "metadata": {},
     "output_type": "execute_result"
    }
   ],
   "source": [
    "#tfidf 진행 후 값이 높은 순서대로 보여주기\n",
    "df_tfidf = data[['tfidf']].stack('tfidf',new_column_name=['word','tfidf']).sort('tfidf',ascending=False)\n",
    "df_tfidf"
   ]
  },
  {
   "cell_type": "markdown",
   "metadata": {},
   "source": [
    "# KNN 모델 (Word Count, TFIDF 기반)"
   ]
  },
  {
   "cell_type": "code",
   "execution_count": 8,
   "metadata": {
    "collapsed": false
   },
   "outputs": [
    {
     "data": {
      "text/html": [
       "<pre>Starting brute force nearest neighbors model training.</pre>"
      ],
      "text/plain": [
       "Starting brute force nearest neighbors model training."
      ]
     },
     "metadata": {},
     "output_type": "display_data"
    }
   ],
   "source": [
    "#비슷한 레스토랑 찾아보기\n",
    "#Mexican Restaurant\n",
    "b1 = data[data['business_id'] == 'pomGBqfbxcqPv14c3XH-ZQ']\n",
    "\n",
    "#nearest neighbor model 만들기 ('word_count' 사용)\n",
    "knn_model_wc = gl.nearest_neighbors.create(data,features=['adv_trim'], label='business_id', distance='cosine')"
   ]
  },
  {
   "cell_type": "code",
   "execution_count": 9,
   "metadata": {
    "collapsed": false
   },
   "outputs": [
    {
     "data": {
      "text/html": [
       "<pre>Starting brute force nearest neighbors model training.</pre>"
      ],
      "text/plain": [
       "Starting brute force nearest neighbors model training."
      ]
     },
     "metadata": {},
     "output_type": "display_data"
    }
   ],
   "source": [
    "#nearest neighbor model 만들기 ('tfidf' 사용)\n",
    "knn_model_ti = gl.nearest_neighbors.create(data,features=['tfidf'], label='business_id', distance='cosine')"
   ]
  },
  {
   "cell_type": "code",
   "execution_count": 10,
   "metadata": {
    "collapsed": false
   },
   "outputs": [
    {
     "name": "stdout",
     "output_type": "stream",
     "text": [
      "Class                          : NearestNeighborsModel\n",
      "\n",
      "Attributes\n",
      "----------\n",
      "Method                         : brute_force\n",
      "Number of distance components  : 1\n",
      "Number of examples             : 889957\n",
      "Number of feature columns      : 1\n",
      "Number of unpacked features    : 867533\n",
      "Total training time (seconds)  : 11.4438\n",
      "\n"
     ]
    }
   ],
   "source": [
    "#word count 기반 거리 재보기\n",
    "knn_model_wc.summary()"
   ]
  },
  {
   "cell_type": "code",
   "execution_count": 11,
   "metadata": {
    "collapsed": false
   },
   "outputs": [
    {
     "name": "stdout",
     "output_type": "stream",
     "text": [
      "Class                          : NearestNeighborsModel\n",
      "\n",
      "Attributes\n",
      "----------\n",
      "Method                         : brute_force\n",
      "Number of distance components  : 1\n",
      "Number of examples             : 889957\n",
      "Number of feature columns      : 1\n",
      "Number of unpacked features    : 867533\n",
      "Total training time (seconds)  : 28.6383\n",
      "\n"
     ]
    }
   ],
   "source": [
    "#tfidf 기반 거리 재보기\n",
    "#knn_model_ti.summary()"
   ]
  },
  {
   "cell_type": "code",
   "execution_count": 16,
   "metadata": {
    "collapsed": false
   },
   "outputs": [
    {
     "data": {
      "text/html": [
       "<pre>Starting pairwise querying.</pre>"
      ],
      "text/plain": [
       "Starting pairwise querying."
      ]
     },
     "metadata": {},
     "output_type": "display_data"
    },
    {
     "data": {
      "text/html": [
       "<pre>+--------------+---------+-------------+--------------+</pre>"
      ],
      "text/plain": [
       "+--------------+---------+-------------+--------------+"
      ]
     },
     "metadata": {},
     "output_type": "display_data"
    },
    {
     "data": {
      "text/html": [
       "<pre>| Query points | # Pairs | % Complete. | Elapsed Time |</pre>"
      ],
      "text/plain": [
       "| Query points | # Pairs | % Complete. | Elapsed Time |"
      ]
     },
     "metadata": {},
     "output_type": "display_data"
    },
    {
     "data": {
      "text/html": [
       "<pre>+--------------+---------+-------------+--------------+</pre>"
      ],
      "text/plain": [
       "+--------------+---------+-------------+--------------+"
      ]
     },
     "metadata": {},
     "output_type": "display_data"
    },
    {
     "data": {
      "text/html": [
       "<pre>| 0            | 1047    | 0.000112365 | 18.05ms      |</pre>"
      ],
      "text/plain": [
       "| 0            | 1047    | 0.000112365 | 18.05ms      |"
      ]
     },
     "metadata": {},
     "output_type": "display_data"
    },
    {
     "data": {
      "text/html": [
       "<pre>| 7            | 6730116 | 0.722282    | 1.01s        |</pre>"
      ],
      "text/plain": [
       "| 7            | 6730116 | 0.722282    | 1.01s        |"
      ]
     },
     "metadata": {},
     "output_type": "display_data"
    },
    {
     "data": {
      "text/html": [
       "<pre>| 16           | 1e+007  | 1.58951     | 2.01s        |</pre>"
      ],
      "text/plain": [
       "| 16           | 1e+007  | 1.58951     | 2.01s        |"
      ]
     },
     "metadata": {},
     "output_type": "display_data"
    },
    {
     "data": {
      "text/html": [
       "<pre>| 25           | 2e+007  | 2.46911     | 3.01s        |</pre>"
      ],
      "text/plain": [
       "| 25           | 2e+007  | 2.46911     | 3.01s        |"
      ]
     },
     "metadata": {},
     "output_type": "display_data"
    },
    {
     "data": {
      "text/html": [
       "<pre>| 34           | 3e+007  | 3.32308     | 4.01s        |</pre>"
      ],
      "text/plain": [
       "| 34           | 3e+007  | 3.32308     | 4.01s        |"
      ]
     },
     "metadata": {},
     "output_type": "display_data"
    },
    {
     "data": {
      "text/html": [
       "<pre>| 43           | 4e+007  | 4.19694     | 5.01s        |</pre>"
      ],
      "text/plain": [
       "| 43           | 4e+007  | 4.19694     | 5.01s        |"
      ]
     },
     "metadata": {},
     "output_type": "display_data"
    },
    {
     "data": {
      "text/html": [
       "<pre>| 53           | 5e+007  | 5.07137     | 6.01s        |</pre>"
      ],
      "text/plain": [
       "| 53           | 5e+007  | 5.07137     | 6.01s        |"
      ]
     },
     "metadata": {},
     "output_type": "display_data"
    },
    {
     "data": {
      "text/html": [
       "<pre>| 61           | 5e+007  | 5.8813      | 7.01s        |</pre>"
      ],
      "text/plain": [
       "| 61           | 5e+007  | 5.8813      | 7.01s        |"
      ]
     },
     "metadata": {},
     "output_type": "display_data"
    },
    {
     "data": {
      "text/html": [
       "<pre>| 68           | 6e+007  | 6.53032     | 8.01s        |</pre>"
      ],
      "text/plain": [
       "| 68           | 6e+007  | 6.53032     | 8.01s        |"
      ]
     },
     "metadata": {},
     "output_type": "display_data"
    },
    {
     "data": {
      "text/html": [
       "<pre>| 76           | 7e+007  | 7.35384     | 9.01s        |</pre>"
      ],
      "text/plain": [
       "| 76           | 7e+007  | 7.35384     | 9.01s        |"
      ]
     },
     "metadata": {},
     "output_type": "display_data"
    },
    {
     "data": {
      "text/html": [
       "<pre>| 84           | 8e+007  | 8.05859     | 10.01s       |</pre>"
      ],
      "text/plain": [
       "| 84           | 8e+007  | 8.05859     | 10.01s       |"
      ]
     },
     "metadata": {},
     "output_type": "display_data"
    },
    {
     "data": {
      "text/html": [
       "<pre>| 93           | 8e+007  | 8.90391     | 11.01s       |</pre>"
      ],
      "text/plain": [
       "| 93           | 8e+007  | 8.90391     | 11.01s       |"
      ]
     },
     "metadata": {},
     "output_type": "display_data"
    },
    {
     "data": {
      "text/html": [
       "<pre>| 102          | 9e+007  | 9.7589      | 12.01s       |</pre>"
      ],
      "text/plain": [
       "| 102          | 9e+007  | 9.7589      | 12.01s       |"
      ]
     },
     "metadata": {},
     "output_type": "display_data"
    },
    {
     "data": {
      "text/html": [
       "<pre>| 110          | 1e+008  | 10.5952     | 13.01s       |</pre>"
      ],
      "text/plain": [
       "| 110          | 1e+008  | 10.5952     | 13.01s       |"
      ]
     },
     "metadata": {},
     "output_type": "display_data"
    },
    {
     "data": {
      "text/html": [
       "<pre>| 119          | 1e+008  | 11.3775     | 14.01s       |</pre>"
      ],
      "text/plain": [
       "| 119          | 1e+008  | 11.3775     | 14.01s       |"
      ]
     },
     "metadata": {},
     "output_type": "display_data"
    },
    {
     "data": {
      "text/html": [
       "<pre>| 128          | 1e+008  | 12.2349     | 15.01s       |</pre>"
      ],
      "text/plain": [
       "| 128          | 1e+008  | 12.2349     | 15.01s       |"
      ]
     },
     "metadata": {},
     "output_type": "display_data"
    },
    {
     "data": {
      "text/html": [
       "<pre>| 136          | 1e+008  | 13.0527     | 16.01s       |</pre>"
      ],
      "text/plain": [
       "| 136          | 1e+008  | 13.0527     | 16.01s       |"
      ]
     },
     "metadata": {},
     "output_type": "display_data"
    },
    {
     "data": {
      "text/html": [
       "<pre>| 144          | 1e+008  | 13.8415     | 17.01s       |</pre>"
      ],
      "text/plain": [
       "| 144          | 1e+008  | 13.8415     | 17.01s       |"
      ]
     },
     "metadata": {},
     "output_type": "display_data"
    },
    {
     "data": {
      "text/html": [
       "<pre>| 153          | 1e+008  | 14.6369     | 18.01s       |</pre>"
      ],
      "text/plain": [
       "| 153          | 1e+008  | 14.6369     | 18.01s       |"
      ]
     },
     "metadata": {},
     "output_type": "display_data"
    },
    {
     "data": {
      "text/html": [
       "<pre>| 161          | 1e+008  | 15.4306     | 19.01s       |</pre>"
      ],
      "text/plain": [
       "| 161          | 1e+008  | 15.4306     | 19.01s       |"
      ]
     },
     "metadata": {},
     "output_type": "display_data"
    },
    {
     "data": {
      "text/html": [
       "<pre>| 170          | 2e+008  | 16.2527     | 20.01s       |</pre>"
      ],
      "text/plain": [
       "| 170          | 2e+008  | 16.2527     | 20.01s       |"
      ]
     },
     "metadata": {},
     "output_type": "display_data"
    },
    {
     "data": {
      "text/html": [
       "<pre>| 178          | 2e+008  | 17.0425     | 21.01s       |</pre>"
      ],
      "text/plain": [
       "| 178          | 2e+008  | 17.0425     | 21.01s       |"
      ]
     },
     "metadata": {},
     "output_type": "display_data"
    },
    {
     "data": {
      "text/html": [
       "<pre>| 186          | 2e+008  | 17.8232     | 22.01s       |</pre>"
      ],
      "text/plain": [
       "| 186          | 2e+008  | 17.8232     | 22.01s       |"
      ]
     },
     "metadata": {},
     "output_type": "display_data"
    },
    {
     "data": {
      "text/html": [
       "<pre>| 195          | 2e+008  | 18.6293     | 23.01s       |</pre>"
      ],
      "text/plain": [
       "| 195          | 2e+008  | 18.6293     | 23.01s       |"
      ]
     },
     "metadata": {},
     "output_type": "display_data"
    },
    {
     "data": {
      "text/html": [
       "<pre>| 203          | 2e+008  | 19.4164     | 24.01s       |</pre>"
      ],
      "text/plain": [
       "| 203          | 2e+008  | 19.4164     | 24.01s       |"
      ]
     },
     "metadata": {},
     "output_type": "display_data"
    },
    {
     "data": {
      "text/html": [
       "<pre>| 211          | 2e+008  | 20.2176     | 25.01s       |</pre>"
      ],
      "text/plain": [
       "| 211          | 2e+008  | 20.2176     | 25.01s       |"
      ]
     },
     "metadata": {},
     "output_type": "display_data"
    },
    {
     "data": {
      "text/html": [
       "<pre>| 220          | 2e+008  | 21.0406     | 26.01s       |</pre>"
      ],
      "text/plain": [
       "| 220          | 2e+008  | 21.0406     | 26.01s       |"
      ]
     },
     "metadata": {},
     "output_type": "display_data"
    },
    {
     "data": {
      "text/html": [
       "<pre>| 226          | 2e+008  | 21.6677     | 27.01s       |</pre>"
      ],
      "text/plain": [
       "| 226          | 2e+008  | 21.6677     | 27.01s       |"
      ]
     },
     "metadata": {},
     "output_type": "display_data"
    },
    {
     "data": {
      "text/html": [
       "<pre>| 234          | 2e+008  | 22.3633     | 28.01s       |</pre>"
      ],
      "text/plain": [
       "| 234          | 2e+008  | 22.3633     | 28.01s       |"
      ]
     },
     "metadata": {},
     "output_type": "display_data"
    },
    {
     "data": {
      "text/html": [
       "<pre>| 240          | 2e+008  | 22.9777     | 29.02s       |</pre>"
      ],
      "text/plain": [
       "| 240          | 2e+008  | 22.9777     | 29.02s       |"
      ]
     },
     "metadata": {},
     "output_type": "display_data"
    },
    {
     "data": {
      "text/html": [
       "<pre>| 247          | 2e+008  | 23.6459     | 30.01s       |</pre>"
      ],
      "text/plain": [
       "| 247          | 2e+008  | 23.6459     | 30.01s       |"
      ]
     },
     "metadata": {},
     "output_type": "display_data"
    },
    {
     "data": {
      "text/html": [
       "<pre>| 254          | 2e+008  | 24.2751     | 31.01s       |</pre>"
      ],
      "text/plain": [
       "| 254          | 2e+008  | 24.2751     | 31.01s       |"
      ]
     },
     "metadata": {},
     "output_type": "display_data"
    },
    {
     "data": {
      "text/html": [
       "<pre>| 260          | 2e+008  | 24.8992     | 32.02s       |</pre>"
      ],
      "text/plain": [
       "| 260          | 2e+008  | 24.8992     | 32.02s       |"
      ]
     },
     "metadata": {},
     "output_type": "display_data"
    },
    {
     "data": {
      "text/html": [
       "<pre>| 267          | 2e+008  | 25.5594     | 33.01s       |</pre>"
      ],
      "text/plain": [
       "| 267          | 2e+008  | 25.5594     | 33.01s       |"
      ]
     },
     "metadata": {},
     "output_type": "display_data"
    },
    {
     "data": {
      "text/html": [
       "<pre>| 274          | 2e+008  | 26.1983     | 34.01s       |</pre>"
      ],
      "text/plain": [
       "| 274          | 2e+008  | 26.1983     | 34.01s       |"
      ]
     },
     "metadata": {},
     "output_type": "display_data"
    },
    {
     "data": {
      "text/html": [
       "<pre>| 280          | 2e+008  | 26.8074     | 35.02s       |</pre>"
      ],
      "text/plain": [
       "| 280          | 2e+008  | 26.8074     | 35.02s       |"
      ]
     },
     "metadata": {},
     "output_type": "display_data"
    },
    {
     "data": {
      "text/html": [
       "<pre>| 287          | 3e+008  | 27.4255     | 36.02s       |</pre>"
      ],
      "text/plain": [
       "| 287          | 3e+008  | 27.4255     | 36.02s       |"
      ]
     },
     "metadata": {},
     "output_type": "display_data"
    },
    {
     "data": {
      "text/html": [
       "<pre>| 292          | 3e+008  | 27.9556     | 37.02s       |</pre>"
      ],
      "text/plain": [
       "| 292          | 3e+008  | 27.9556     | 37.02s       |"
      ]
     },
     "metadata": {},
     "output_type": "display_data"
    },
    {
     "data": {
      "text/html": [
       "<pre>| 299          | 3e+008  | 28.578      | 38.02s       |</pre>"
      ],
      "text/plain": [
       "| 299          | 3e+008  | 28.578      | 38.02s       |"
      ]
     },
     "metadata": {},
     "output_type": "display_data"
    },
    {
     "data": {
      "text/html": [
       "<pre>| 305          | 3e+008  | 29.2108     | 39.02s       |</pre>"
      ],
      "text/plain": [
       "| 305          | 3e+008  | 29.2108     | 39.02s       |"
      ]
     },
     "metadata": {},
     "output_type": "display_data"
    },
    {
     "data": {
      "text/html": [
       "<pre>| 313          | 3e+008  | 29.9774     | 40.02s       |</pre>"
      ],
      "text/plain": [
       "| 313          | 3e+008  | 29.9774     | 40.02s       |"
      ]
     },
     "metadata": {},
     "output_type": "display_data"
    },
    {
     "data": {
      "text/html": [
       "<pre>| 322          | 3e+008  | 30.8091     | 41.02s       |</pre>"
      ],
      "text/plain": [
       "| 322          | 3e+008  | 30.8091     | 41.02s       |"
      ]
     },
     "metadata": {},
     "output_type": "display_data"
    },
    {
     "data": {
      "text/html": [
       "<pre>| 330          | 3e+008  | 31.6094     | 42.02s       |</pre>"
      ],
      "text/plain": [
       "| 330          | 3e+008  | 31.6094     | 42.02s       |"
      ]
     },
     "metadata": {},
     "output_type": "display_data"
    },
    {
     "data": {
      "text/html": [
       "<pre>| 338          | 3e+008  | 32.3604     | 43.02s       |</pre>"
      ],
      "text/plain": [
       "| 338          | 3e+008  | 32.3604     | 43.02s       |"
      ]
     },
     "metadata": {},
     "output_type": "display_data"
    },
    {
     "data": {
      "text/html": [
       "<pre>| 347          | 3e+008  | 33.1728     | 44.02s       |</pre>"
      ],
      "text/plain": [
       "| 347          | 3e+008  | 33.1728     | 44.02s       |"
      ]
     },
     "metadata": {},
     "output_type": "display_data"
    },
    {
     "data": {
      "text/html": [
       "<pre>| 354          | 3e+008  | 33.8151     | 45.02s       |</pre>"
      ],
      "text/plain": [
       "| 354          | 3e+008  | 33.8151     | 45.02s       |"
      ]
     },
     "metadata": {},
     "output_type": "display_data"
    },
    {
     "data": {
      "text/html": [
       "<pre>| 362          | 3e+008  | 34.5864     | 46.02s       |</pre>"
      ],
      "text/plain": [
       "| 362          | 3e+008  | 34.5864     | 46.02s       |"
      ]
     },
     "metadata": {},
     "output_type": "display_data"
    },
    {
     "data": {
      "text/html": [
       "<pre>| 370          | 3e+008  | 35.3458     | 47.02s       |</pre>"
      ],
      "text/plain": [
       "| 370          | 3e+008  | 35.3458     | 47.02s       |"
      ]
     },
     "metadata": {},
     "output_type": "display_data"
    },
    {
     "data": {
      "text/html": [
       "<pre>| 377          | 3e+008  | 36.0504     | 48.02s       |</pre>"
      ],
      "text/plain": [
       "| 377          | 3e+008  | 36.0504     | 48.02s       |"
      ]
     },
     "metadata": {},
     "output_type": "display_data"
    },
    {
     "data": {
      "text/html": [
       "<pre>| 384          | 3e+008  | 36.6946     | 49.02s       |</pre>"
      ],
      "text/plain": [
       "| 384          | 3e+008  | 36.6946     | 49.02s       |"
      ]
     },
     "metadata": {},
     "output_type": "display_data"
    },
    {
     "data": {
      "text/html": [
       "<pre>| 390          | 3e+008  | 37.3425     | 50.02s       |</pre>"
      ],
      "text/plain": [
       "| 390          | 3e+008  | 37.3425     | 50.02s       |"
      ]
     },
     "metadata": {},
     "output_type": "display_data"
    },
    {
     "data": {
      "text/html": [
       "<pre>| 397          | 4e+008  | 37.9768     | 51.02s       |</pre>"
      ],
      "text/plain": [
       "| 397          | 4e+008  | 37.9768     | 51.02s       |"
      ]
     },
     "metadata": {},
     "output_type": "display_data"
    },
    {
     "data": {
      "text/html": [
       "<pre>| 404          | 4e+008  | 38.6248     | 52.02s       |</pre>"
      ],
      "text/plain": [
       "| 404          | 4e+008  | 38.6248     | 52.02s       |"
      ]
     },
     "metadata": {},
     "output_type": "display_data"
    },
    {
     "data": {
      "text/html": [
       "<pre>| 411          | 4e+008  | 39.2594     | 53.02s       |</pre>"
      ],
      "text/plain": [
       "| 411          | 4e+008  | 39.2594     | 53.02s       |"
      ]
     },
     "metadata": {},
     "output_type": "display_data"
    },
    {
     "data": {
      "text/html": [
       "<pre>| 417          | 4e+008  | 39.9131     | 54.02s       |</pre>"
      ],
      "text/plain": [
       "| 417          | 4e+008  | 39.9131     | 54.02s       |"
      ]
     },
     "metadata": {},
     "output_type": "display_data"
    },
    {
     "data": {
      "text/html": [
       "<pre>| 424          | 4e+008  | 40.5531     | 55.02s       |</pre>"
      ],
      "text/plain": [
       "| 424          | 4e+008  | 40.5531     | 55.02s       |"
      ]
     },
     "metadata": {},
     "output_type": "display_data"
    },
    {
     "data": {
      "text/html": [
       "<pre>| 432          | 4e+008  | 41.3009     | 56.02s       |</pre>"
      ],
      "text/plain": [
       "| 432          | 4e+008  | 41.3009     | 56.02s       |"
      ]
     },
     "metadata": {},
     "output_type": "display_data"
    },
    {
     "data": {
      "text/html": [
       "<pre>| 440          | 4e+008  | 42.0908     | 57.02s       |</pre>"
      ],
      "text/plain": [
       "| 440          | 4e+008  | 42.0908     | 57.02s       |"
      ]
     },
     "metadata": {},
     "output_type": "display_data"
    },
    {
     "data": {
      "text/html": [
       "<pre>| 448          | 4e+008  | 42.8621     | 58.02s       |</pre>"
      ],
      "text/plain": [
       "| 448          | 4e+008  | 42.8621     | 58.02s       |"
      ]
     },
     "metadata": {},
     "output_type": "display_data"
    },
    {
     "data": {
      "text/html": [
       "<pre>| 457          | 4e+008  | 43.673      | 59.02s       |</pre>"
      ],
      "text/plain": [
       "| 457          | 4e+008  | 43.673      | 59.02s       |"
      ]
     },
     "metadata": {},
     "output_type": "display_data"
    },
    {
     "data": {
      "text/html": [
       "<pre>| 464          | 4e+008  | 44.3457     | 1m 0s        |</pre>"
      ],
      "text/plain": [
       "| 464          | 4e+008  | 44.3457     | 1m 0s        |"
      ]
     },
     "metadata": {},
     "output_type": "display_data"
    },
    {
     "data": {
      "text/html": [
       "<pre>| 469          | 4e+008  | 44.8685     | 1m 1s        |</pre>"
      ],
      "text/plain": [
       "| 469          | 4e+008  | 44.8685     | 1m 1s        |"
      ]
     },
     "metadata": {},
     "output_type": "display_data"
    },
    {
     "data": {
      "text/html": [
       "<pre>| 477          | 4e+008  | 45.611      | 1m 2s        |</pre>"
      ],
      "text/plain": [
       "| 477          | 4e+008  | 45.611      | 1m 2s        |"
      ]
     },
     "metadata": {},
     "output_type": "display_data"
    },
    {
     "data": {
      "text/html": [
       "<pre>| 486          | 4e+008  | 46.4237     | 1m 3s        |</pre>"
      ],
      "text/plain": [
       "| 486          | 4e+008  | 46.4237     | 1m 3s        |"
      ]
     },
     "metadata": {},
     "output_type": "display_data"
    },
    {
     "data": {
      "text/html": [
       "<pre>| 494          | 4e+008  | 47.2608     | 1m 4s        |</pre>"
      ],
      "text/plain": [
       "| 494          | 4e+008  | 47.2608     | 1m 4s        |"
      ]
     },
     "metadata": {},
     "output_type": "display_data"
    },
    {
     "data": {
      "text/html": [
       "<pre>| 503          | 4e+008  | 48.0985     | 1m 5s        |</pre>"
      ],
      "text/plain": [
       "| 503          | 4e+008  | 48.0985     | 1m 5s        |"
      ]
     },
     "metadata": {},
     "output_type": "display_data"
    },
    {
     "data": {
      "text/html": [
       "<pre>| 511          | 5e+008  | 48.8633     | 1m 6s        |</pre>"
      ],
      "text/plain": [
       "| 511          | 5e+008  | 48.8633     | 1m 6s        |"
      ]
     },
     "metadata": {},
     "output_type": "display_data"
    },
    {
     "data": {
      "text/html": [
       "<pre>| 517          | 5e+008  | 49.4463     | 1m 7s        |</pre>"
      ],
      "text/plain": [
       "| 517          | 5e+008  | 49.4463     | 1m 7s        |"
      ]
     },
     "metadata": {},
     "output_type": "display_data"
    },
    {
     "data": {
      "text/html": [
       "<pre>| 526          | 5e+008  | 50.2886     | 1m 8s        |</pre>"
      ],
      "text/plain": [
       "| 526          | 5e+008  | 50.2886     | 1m 8s        |"
      ]
     },
     "metadata": {},
     "output_type": "display_data"
    },
    {
     "data": {
      "text/html": [
       "<pre>| 535          | 5e+008  | 51.1492     | 1m 9s        |</pre>"
      ],
      "text/plain": [
       "| 535          | 5e+008  | 51.1492     | 1m 9s        |"
      ]
     },
     "metadata": {},
     "output_type": "display_data"
    },
    {
     "data": {
      "text/html": [
       "<pre>| 544          | 5e+008  | 51.9906     | 1m 10s       |</pre>"
      ],
      "text/plain": [
       "| 544          | 5e+008  | 51.9906     | 1m 10s       |"
      ]
     },
     "metadata": {},
     "output_type": "display_data"
    },
    {
     "data": {
      "text/html": [
       "<pre>| 552          | 5e+008  | 52.7404     | 1m 11s       |</pre>"
      ],
      "text/plain": [
       "| 552          | 5e+008  | 52.7404     | 1m 11s       |"
      ]
     },
     "metadata": {},
     "output_type": "display_data"
    },
    {
     "data": {
      "text/html": [
       "<pre>| 560          | 5e+008  | 53.5702     | 1m 12s       |</pre>"
      ],
      "text/plain": [
       "| 560          | 5e+008  | 53.5702     | 1m 12s       |"
      ]
     },
     "metadata": {},
     "output_type": "display_data"
    },
    {
     "data": {
      "text/html": [
       "<pre>| 567          | 5e+008  | 54.2255     | 1m 13s       |</pre>"
      ],
      "text/plain": [
       "| 567          | 5e+008  | 54.2255     | 1m 13s       |"
      ]
     },
     "metadata": {},
     "output_type": "display_data"
    },
    {
     "data": {
      "text/html": [
       "<pre>| 575          | 5e+008  | 54.9806     | 1m 14s       |</pre>"
      ],
      "text/plain": [
       "| 575          | 5e+008  | 54.9806     | 1m 14s       |"
      ]
     },
     "metadata": {},
     "output_type": "display_data"
    },
    {
     "data": {
      "text/html": [
       "<pre>| 582          | 5e+008  | 55.6656     | 1m 15s       |</pre>"
      ],
      "text/plain": [
       "| 582          | 5e+008  | 55.6656     | 1m 15s       |"
      ]
     },
     "metadata": {},
     "output_type": "display_data"
    },
    {
     "data": {
      "text/html": [
       "<pre>| 589          | 5e+008  | 56.3225     | 1m 16s       |</pre>"
      ],
      "text/plain": [
       "| 589          | 5e+008  | 56.3225     | 1m 16s       |"
      ]
     },
     "metadata": {},
     "output_type": "display_data"
    },
    {
     "data": {
      "text/html": [
       "<pre>| 596          | 5e+008  | 56.9807     | 1m 17s       |</pre>"
      ],
      "text/plain": [
       "| 596          | 5e+008  | 56.9807     | 1m 17s       |"
      ]
     },
     "metadata": {},
     "output_type": "display_data"
    },
    {
     "data": {
      "text/html": [
       "<pre>| 603          | 5e+008  | 57.6444     | 1m 18s       |</pre>"
      ],
      "text/plain": [
       "| 603          | 5e+008  | 57.6444     | 1m 18s       |"
      ]
     },
     "metadata": {},
     "output_type": "display_data"
    },
    {
     "data": {
      "text/html": [
       "<pre>| 610          | 5e+008  | 58.3096     | 1m 19s       |</pre>"
      ],
      "text/plain": [
       "| 610          | 5e+008  | 58.3096     | 1m 19s       |"
      ]
     },
     "metadata": {},
     "output_type": "display_data"
    },
    {
     "data": {
      "text/html": [
       "<pre>| 619          | 6e+008  | 59.1721     | 1m 20s       |</pre>"
      ],
      "text/plain": [
       "| 619          | 6e+008  | 59.1721     | 1m 20s       |"
      ]
     },
     "metadata": {},
     "output_type": "display_data"
    },
    {
     "data": {
      "text/html": [
       "<pre>| 627          | 6e+008  | 59.9047     | 1m 21s       |</pre>"
      ],
      "text/plain": [
       "| 627          | 6e+008  | 59.9047     | 1m 21s       |"
      ]
     },
     "metadata": {},
     "output_type": "display_data"
    },
    {
     "data": {
      "text/html": [
       "<pre>| 635          | 6e+008  | 60.6916     | 1m 22s       |</pre>"
      ],
      "text/plain": [
       "| 635          | 6e+008  | 60.6916     | 1m 22s       |"
      ]
     },
     "metadata": {},
     "output_type": "display_data"
    },
    {
     "data": {
      "text/html": [
       "<pre>| 643          | 6e+008  | 61.5043     | 1m 23s       |</pre>"
      ],
      "text/plain": [
       "| 643          | 6e+008  | 61.5043     | 1m 23s       |"
      ]
     },
     "metadata": {},
     "output_type": "display_data"
    },
    {
     "data": {
      "text/html": [
       "<pre>| 651          | 6e+008  | 62.2021     | 1m 24s       |</pre>"
      ],
      "text/plain": [
       "| 651          | 6e+008  | 62.2021     | 1m 24s       |"
      ]
     },
     "metadata": {},
     "output_type": "display_data"
    },
    {
     "data": {
      "text/html": [
       "<pre>| 656          | 6e+008  | 62.7053     | 1m 25s       |</pre>"
      ],
      "text/plain": [
       "| 656          | 6e+008  | 62.7053     | 1m 25s       |"
      ]
     },
     "metadata": {},
     "output_type": "display_data"
    },
    {
     "data": {
      "text/html": [
       "<pre>| 665          | 6e+008  | 63.5353     | 1m 26s       |</pre>"
      ],
      "text/plain": [
       "| 665          | 6e+008  | 63.5353     | 1m 26s       |"
      ]
     },
     "metadata": {},
     "output_type": "display_data"
    },
    {
     "data": {
      "text/html": [
       "<pre>| 674          | 6e+008  | 64.4238     | 1m 27s       |</pre>"
      ],
      "text/plain": [
       "| 674          | 6e+008  | 64.4238     | 1m 27s       |"
      ]
     },
     "metadata": {},
     "output_type": "display_data"
    },
    {
     "data": {
      "text/html": [
       "<pre>| 683          | 6e+008  | 65.2358     | 1m 28s       |</pre>"
      ],
      "text/plain": [
       "| 683          | 6e+008  | 65.2358     | 1m 28s       |"
      ]
     },
     "metadata": {},
     "output_type": "display_data"
    },
    {
     "data": {
      "text/html": [
       "<pre>| 692          | 6e+008  | 66.1215     | 1m 29s       |</pre>"
      ],
      "text/plain": [
       "| 692          | 6e+008  | 66.1215     | 1m 29s       |"
      ]
     },
     "metadata": {},
     "output_type": "display_data"
    },
    {
     "data": {
      "text/html": [
       "<pre>| 700          | 6e+008  | 66.9176     | 1m 30s       |</pre>"
      ],
      "text/plain": [
       "| 700          | 6e+008  | 66.9176     | 1m 30s       |"
      ]
     },
     "metadata": {},
     "output_type": "display_data"
    },
    {
     "data": {
      "text/html": [
       "<pre>| 707          | 6e+008  | 67.5779     | 1m 31s       |</pre>"
      ],
      "text/plain": [
       "| 707          | 6e+008  | 67.5779     | 1m 31s       |"
      ]
     },
     "metadata": {},
     "output_type": "display_data"
    },
    {
     "data": {
      "text/html": [
       "<pre>| 716          | 6e+008  | 68.4366     | 1m 32s       |</pre>"
      ],
      "text/plain": [
       "| 716          | 6e+008  | 68.4366     | 1m 32s       |"
      ]
     },
     "metadata": {},
     "output_type": "display_data"
    },
    {
     "data": {
      "text/html": [
       "<pre>| 725          | 6e+008  | 69.2863     | 1m 33s       |</pre>"
      ],
      "text/plain": [
       "| 725          | 6e+008  | 69.2863     | 1m 33s       |"
      ]
     },
     "metadata": {},
     "output_type": "display_data"
    },
    {
     "data": {
      "text/html": [
       "<pre>| 734          | 7e+008  | 70.142      | 1m 34s       |</pre>"
      ],
      "text/plain": [
       "| 734          | 7e+008  | 70.142      | 1m 34s       |"
      ]
     },
     "metadata": {},
     "output_type": "display_data"
    },
    {
     "data": {
      "text/html": [
       "<pre>| 743          | 7e+008  | 70.9751     | 1m 35s       |</pre>"
      ],
      "text/plain": [
       "| 743          | 7e+008  | 70.9751     | 1m 35s       |"
      ]
     },
     "metadata": {},
     "output_type": "display_data"
    },
    {
     "data": {
      "text/html": [
       "<pre>| 752          | 7e+008  | 71.8337     | 1m 36s       |</pre>"
      ],
      "text/plain": [
       "| 752          | 7e+008  | 71.8337     | 1m 36s       |"
      ]
     },
     "metadata": {},
     "output_type": "display_data"
    },
    {
     "data": {
      "text/html": [
       "<pre>| 760          | 7e+008  | 72.6763     | 1m 37s       |</pre>"
      ],
      "text/plain": [
       "| 760          | 7e+008  | 72.6763     | 1m 37s       |"
      ]
     },
     "metadata": {},
     "output_type": "display_data"
    },
    {
     "data": {
      "text/html": [
       "<pre>| 768          | 7e+008  | 73.4167     | 1m 38s       |</pre>"
      ],
      "text/plain": [
       "| 768          | 7e+008  | 73.4167     | 1m 38s       |"
      ]
     },
     "metadata": {},
     "output_type": "display_data"
    },
    {
     "data": {
      "text/html": [
       "<pre>| 777          | 7e+008  | 74.2662     | 1m 39s       |</pre>"
      ],
      "text/plain": [
       "| 777          | 7e+008  | 74.2662     | 1m 39s       |"
      ]
     },
     "metadata": {},
     "output_type": "display_data"
    },
    {
     "data": {
      "text/html": [
       "<pre>| 786          | 7e+008  | 75.1434     | 1m 40s       |</pre>"
      ],
      "text/plain": [
       "| 786          | 7e+008  | 75.1434     | 1m 40s       |"
      ]
     },
     "metadata": {},
     "output_type": "display_data"
    },
    {
     "data": {
      "text/html": [
       "<pre>| 794          | 7e+008  | 75.9263     | 1m 41s       |</pre>"
      ],
      "text/plain": [
       "| 794          | 7e+008  | 75.9263     | 1m 41s       |"
      ]
     },
     "metadata": {},
     "output_type": "display_data"
    },
    {
     "data": {
      "text/html": [
       "<pre>| 803          | 7e+008  | 76.7335     | 1m 42s       |</pre>"
      ],
      "text/plain": [
       "| 803          | 7e+008  | 76.7335     | 1m 42s       |"
      ]
     },
     "metadata": {},
     "output_type": "display_data"
    },
    {
     "data": {
      "text/html": [
       "<pre>| 812          | 7e+008  | 77.5553     | 1m 43s       |</pre>"
      ],
      "text/plain": [
       "| 812          | 7e+008  | 77.5553     | 1m 43s       |"
      ]
     },
     "metadata": {},
     "output_type": "display_data"
    },
    {
     "data": {
      "text/html": [
       "<pre>| 820          | 7e+008  | 78.3437     | 1m 44s       |</pre>"
      ],
      "text/plain": [
       "| 820          | 7e+008  | 78.3437     | 1m 44s       |"
      ]
     },
     "metadata": {},
     "output_type": "display_data"
    },
    {
     "data": {
      "text/html": [
       "<pre>| 829          | 7e+008  | 79.1988     | 1m 45s       |</pre>"
      ],
      "text/plain": [
       "| 829          | 7e+008  | 79.1988     | 1m 45s       |"
      ]
     },
     "metadata": {},
     "output_type": "display_data"
    },
    {
     "data": {
      "text/html": [
       "<pre>| 835          | 7e+008  | 79.7549     | 1m 46s       |</pre>"
      ],
      "text/plain": [
       "| 835          | 7e+008  | 79.7549     | 1m 46s       |"
      ]
     },
     "metadata": {},
     "output_type": "display_data"
    },
    {
     "data": {
      "text/html": [
       "<pre>| 842          | 8e+008  | 80.5003     | 1m 47s       |</pre>"
      ],
      "text/plain": [
       "| 842          | 8e+008  | 80.5003     | 1m 47s       |"
      ]
     },
     "metadata": {},
     "output_type": "display_data"
    },
    {
     "data": {
      "text/html": [
       "<pre>| 850          | 8e+008  | 81.2295     | 1m 48s       |</pre>"
      ],
      "text/plain": [
       "| 850          | 8e+008  | 81.2295     | 1m 48s       |"
      ]
     },
     "metadata": {},
     "output_type": "display_data"
    },
    {
     "data": {
      "text/html": [
       "<pre>| 856          | 8e+008  | 81.8364     | 1m 49s       |</pre>"
      ],
      "text/plain": [
       "| 856          | 8e+008  | 81.8364     | 1m 49s       |"
      ]
     },
     "metadata": {},
     "output_type": "display_data"
    },
    {
     "data": {
      "text/html": [
       "<pre>| 862          | 8e+008  | 82.4032     | 1m 50s       |</pre>"
      ],
      "text/plain": [
       "| 862          | 8e+008  | 82.4032     | 1m 50s       |"
      ]
     },
     "metadata": {},
     "output_type": "display_data"
    },
    {
     "data": {
      "text/html": [
       "<pre>| 871          | 8e+008  | 83.1927     | 1m 51s       |</pre>"
      ],
      "text/plain": [
       "| 871          | 8e+008  | 83.1927     | 1m 51s       |"
      ]
     },
     "metadata": {},
     "output_type": "display_data"
    },
    {
     "data": {
      "text/html": [
       "<pre>| 879          | 8e+008  | 83.9839     | 1m 52s       |</pre>"
      ],
      "text/plain": [
       "| 879          | 8e+008  | 83.9839     | 1m 52s       |"
      ]
     },
     "metadata": {},
     "output_type": "display_data"
    },
    {
     "data": {
      "text/html": [
       "<pre>| 887          | 8e+008  | 84.8062     | 1m 53s       |</pre>"
      ],
      "text/plain": [
       "| 887          | 8e+008  | 84.8062     | 1m 53s       |"
      ]
     },
     "metadata": {},
     "output_type": "display_data"
    },
    {
     "data": {
      "text/html": [
       "<pre>| 896          | 8e+008  | 85.6045     | 1m 54s       |</pre>"
      ],
      "text/plain": [
       "| 896          | 8e+008  | 85.6045     | 1m 54s       |"
      ]
     },
     "metadata": {},
     "output_type": "display_data"
    },
    {
     "data": {
      "text/html": [
       "<pre>| 902          | 8e+008  | 86.2321     | 1m 55s       |</pre>"
      ],
      "text/plain": [
       "| 902          | 8e+008  | 86.2321     | 1m 55s       |"
      ]
     },
     "metadata": {},
     "output_type": "display_data"
    },
    {
     "data": {
      "text/html": [
       "<pre>| 911          | 8e+008  | 87.022      | 1m 56s       |</pre>"
      ],
      "text/plain": [
       "| 911          | 8e+008  | 87.022      | 1m 56s       |"
      ]
     },
     "metadata": {},
     "output_type": "display_data"
    },
    {
     "data": {
      "text/html": [
       "<pre>| 919          | 8e+008  | 87.8411     | 1m 57s       |</pre>"
      ],
      "text/plain": [
       "| 919          | 8e+008  | 87.8411     | 1m 57s       |"
      ]
     },
     "metadata": {},
     "output_type": "display_data"
    },
    {
     "data": {
      "text/html": [
       "<pre>| 927          | 8e+008  | 88.5685     | 1m 58s       |</pre>"
      ],
      "text/plain": [
       "| 927          | 8e+008  | 88.5685     | 1m 58s       |"
      ]
     },
     "metadata": {},
     "output_type": "display_data"
    },
    {
     "data": {
      "text/html": [
       "<pre>| 932          | 8e+008  | 89.0999     | 1m 59s       |</pre>"
      ],
      "text/plain": [
       "| 932          | 8e+008  | 89.0999     | 1m 59s       |"
      ]
     },
     "metadata": {},
     "output_type": "display_data"
    },
    {
     "data": {
      "text/html": [
       "<pre>| 940          | 8e+008  | 89.8613     | 2m 0s        |</pre>"
      ],
      "text/plain": [
       "| 940          | 8e+008  | 89.8613     | 2m 0s        |"
      ]
     },
     "metadata": {},
     "output_type": "display_data"
    },
    {
     "data": {
      "text/html": [
       "<pre>| 949          | 8e+008  | 90.7088     | 2m 1s        |</pre>"
      ],
      "text/plain": [
       "| 949          | 8e+008  | 90.7088     | 2m 1s        |"
      ]
     },
     "metadata": {},
     "output_type": "display_data"
    },
    {
     "data": {
      "text/html": [
       "<pre>| 958          | 9e+008  | 91.5517     | 2m 2s        |</pre>"
      ],
      "text/plain": [
       "| 958          | 9e+008  | 91.5517     | 2m 2s        |"
      ]
     },
     "metadata": {},
     "output_type": "display_data"
    },
    {
     "data": {
      "text/html": [
       "<pre>| 967          | 9e+008  | 92.3988     | 2m 3s        |</pre>"
      ],
      "text/plain": [
       "| 967          | 9e+008  | 92.3988     | 2m 3s        |"
      ]
     },
     "metadata": {},
     "output_type": "display_data"
    },
    {
     "data": {
      "text/html": [
       "<pre>| 975          | 9e+008  | 93.1833     | 2m 4s        |</pre>"
      ],
      "text/plain": [
       "| 975          | 9e+008  | 93.1833     | 2m 4s        |"
      ]
     },
     "metadata": {},
     "output_type": "display_data"
    },
    {
     "data": {
      "text/html": [
       "<pre>| 982          | 9e+008  | 93.8051     | 2m 5s        |</pre>"
      ],
      "text/plain": [
       "| 982          | 9e+008  | 93.8051     | 2m 5s        |"
      ]
     },
     "metadata": {},
     "output_type": "display_data"
    },
    {
     "data": {
      "text/html": [
       "<pre>| 989          | 9e+008  | 94.5454     | 2m 6s        |</pre>"
      ],
      "text/plain": [
       "| 989          | 9e+008  | 94.5454     | 2m 6s        |"
      ]
     },
     "metadata": {},
     "output_type": "display_data"
    },
    {
     "data": {
      "text/html": [
       "<pre>| 997          | 9e+008  | 95.2879     | 2m 7s        |</pre>"
      ],
      "text/plain": [
       "| 997          | 9e+008  | 95.2879     | 2m 7s        |"
      ]
     },
     "metadata": {},
     "output_type": "display_data"
    },
    {
     "data": {
      "text/html": [
       "<pre>| 1005         | 9e+008  | 96.0839     | 2m 8s        |</pre>"
      ],
      "text/plain": [
       "| 1005         | 9e+008  | 96.0839     | 2m 8s        |"
      ]
     },
     "metadata": {},
     "output_type": "display_data"
    },
    {
     "data": {
      "text/html": [
       "<pre>| 1013         | 9e+008  | 96.7887     | 2m 9s        |</pre>"
      ],
      "text/plain": [
       "| 1013         | 9e+008  | 96.7887     | 2m 9s        |"
      ]
     },
     "metadata": {},
     "output_type": "display_data"
    },
    {
     "data": {
      "text/html": [
       "<pre>| 1020         | 9e+008  | 97.4749     | 2m 10s       |</pre>"
      ],
      "text/plain": [
       "| 1020         | 9e+008  | 97.4749     | 2m 10s       |"
      ]
     },
     "metadata": {},
     "output_type": "display_data"
    },
    {
     "data": {
      "text/html": [
       "<pre>| 1028         | 9e+008  | 98.1928     | 2m 11s       |</pre>"
      ],
      "text/plain": [
       "| 1028         | 9e+008  | 98.1928     | 2m 11s       |"
      ]
     },
     "metadata": {},
     "output_type": "display_data"
    },
    {
     "data": {
      "text/html": [
       "<pre>| 1035         | 9e+008  | 98.9138     | 2m 12s       |</pre>"
      ],
      "text/plain": [
       "| 1035         | 9e+008  | 98.9138     | 2m 12s       |"
      ]
     },
     "metadata": {},
     "output_type": "display_data"
    },
    {
     "data": {
      "text/html": [
       "<pre>| 1042         | 9e+008  | 99.5494     | 2m 13s       |</pre>"
      ],
      "text/plain": [
       "| 1042         | 9e+008  | 99.5494     | 2m 13s       |"
      ]
     },
     "metadata": {},
     "output_type": "display_data"
    },
    {
     "data": {
      "text/html": [
       "<pre>| Done         |         | 100         | 2m 13s       |</pre>"
      ],
      "text/plain": [
       "| Done         |         | 100         | 2m 13s       |"
      ]
     },
     "metadata": {},
     "output_type": "display_data"
    },
    {
     "data": {
      "text/html": [
       "<pre>+--------------+---------+-------------+--------------+</pre>"
      ],
      "text/plain": [
       "+--------------+---------+-------------+--------------+"
      ]
     },
     "metadata": {},
     "output_type": "display_data"
    },
    {
     "data": {
      "text/html": [
       "<div style=\"max-height:1000px;max-width:1500px;overflow:auto;\"><table frame=\"box\" rules=\"cols\">\n",
       "    <tr>\n",
       "        <th style=\"padding-left: 1em; padding-right: 1em; text-align: center\">query_label</th>\n",
       "        <th style=\"padding-left: 1em; padding-right: 1em; text-align: center\">reference_label</th>\n",
       "        <th style=\"padding-left: 1em; padding-right: 1em; text-align: center\">distance</th>\n",
       "        <th style=\"padding-left: 1em; padding-right: 1em; text-align: center\">rank</th>\n",
       "    </tr>\n",
       "    <tr>\n",
       "        <td style=\"padding-left: 1em; padding-right: 1em; text-align: center; vertical-align: top\">0</td>\n",
       "        <td style=\"padding-left: 1em; padding-right: 1em; text-align: center; vertical-align: top\">pomGBqfbxcqPv14c3XH-ZQ</td>\n",
       "        <td style=\"padding-left: 1em; padding-right: 1em; text-align: center; vertical-align: top\">-2.22044604925e-16</td>\n",
       "        <td style=\"padding-left: 1em; padding-right: 1em; text-align: center; vertical-align: top\">1</td>\n",
       "    </tr>\n",
       "    <tr>\n",
       "        <td style=\"padding-left: 1em; padding-right: 1em; text-align: center; vertical-align: top\">0</td>\n",
       "        <td style=\"padding-left: 1em; padding-right: 1em; text-align: center; vertical-align: top\">tH0wF3EPPgAY14lnmK1_Sg</td>\n",
       "        <td style=\"padding-left: 1em; padding-right: 1em; text-align: center; vertical-align: top\">0.537749836479</td>\n",
       "        <td style=\"padding-left: 1em; padding-right: 1em; text-align: center; vertical-align: top\">2</td>\n",
       "    </tr>\n",
       "    <tr>\n",
       "        <td style=\"padding-left: 1em; padding-right: 1em; text-align: center; vertical-align: top\">0</td>\n",
       "        <td style=\"padding-left: 1em; padding-right: 1em; text-align: center; vertical-align: top\">arkgHRBReRqIPUP1vuPz4g</td>\n",
       "        <td style=\"padding-left: 1em; padding-right: 1em; text-align: center; vertical-align: top\">0.550078729334</td>\n",
       "        <td style=\"padding-left: 1em; padding-right: 1em; text-align: center; vertical-align: top\">3</td>\n",
       "    </tr>\n",
       "    <tr>\n",
       "        <td style=\"padding-left: 1em; padding-right: 1em; text-align: center; vertical-align: top\">0</td>\n",
       "        <td style=\"padding-left: 1em; padding-right: 1em; text-align: center; vertical-align: top\">cbgIpJwmPVI6Zf7nUIXdFw</td>\n",
       "        <td style=\"padding-left: 1em; padding-right: 1em; text-align: center; vertical-align: top\">0.556515703008</td>\n",
       "        <td style=\"padding-left: 1em; padding-right: 1em; text-align: center; vertical-align: top\">4</td>\n",
       "    </tr>\n",
       "    <tr>\n",
       "        <td style=\"padding-left: 1em; padding-right: 1em; text-align: center; vertical-align: top\">0</td>\n",
       "        <td style=\"padding-left: 1em; padding-right: 1em; text-align: center; vertical-align: top\">nUpz0YiBsOK7ff9k3vUJ3A</td>\n",
       "        <td style=\"padding-left: 1em; padding-right: 1em; text-align: center; vertical-align: top\">0.559647577036</td>\n",
       "        <td style=\"padding-left: 1em; padding-right: 1em; text-align: center; vertical-align: top\">5</td>\n",
       "    </tr>\n",
       "    <tr>\n",
       "        <td style=\"padding-left: 1em; padding-right: 1em; text-align: center; vertical-align: top\">1</td>\n",
       "        <td style=\"padding-left: 1em; padding-right: 1em; text-align: center; vertical-align: top\">pomGBqfbxcqPv14c3XH-ZQ</td>\n",
       "        <td style=\"padding-left: 1em; padding-right: 1em; text-align: center; vertical-align: top\">1.11022302463e-16</td>\n",
       "        <td style=\"padding-left: 1em; padding-right: 1em; text-align: center; vertical-align: top\">1</td>\n",
       "    </tr>\n",
       "    <tr>\n",
       "        <td style=\"padding-left: 1em; padding-right: 1em; text-align: center; vertical-align: top\">1</td>\n",
       "        <td style=\"padding-left: 1em; padding-right: 1em; text-align: center; vertical-align: top\">kRgAf6j2y1eR0wOFdzFAuw</td>\n",
       "        <td style=\"padding-left: 1em; padding-right: 1em; text-align: center; vertical-align: top\">0.619602544241</td>\n",
       "        <td style=\"padding-left: 1em; padding-right: 1em; text-align: center; vertical-align: top\">2</td>\n",
       "    </tr>\n",
       "    <tr>\n",
       "        <td style=\"padding-left: 1em; padding-right: 1em; text-align: center; vertical-align: top\">1</td>\n",
       "        <td style=\"padding-left: 1em; padding-right: 1em; text-align: center; vertical-align: top\">lv5Bnqlt93NnvNJ2oNcQ8Q</td>\n",
       "        <td style=\"padding-left: 1em; padding-right: 1em; text-align: center; vertical-align: top\">0.65417002831</td>\n",
       "        <td style=\"padding-left: 1em; padding-right: 1em; text-align: center; vertical-align: top\">3</td>\n",
       "    </tr>\n",
       "    <tr>\n",
       "        <td style=\"padding-left: 1em; padding-right: 1em; text-align: center; vertical-align: top\">1</td>\n",
       "        <td style=\"padding-left: 1em; padding-right: 1em; text-align: center; vertical-align: top\">Trbt0Ex85yvwT8DHoEFCvg</td>\n",
       "        <td style=\"padding-left: 1em; padding-right: 1em; text-align: center; vertical-align: top\">0.654226905736</td>\n",
       "        <td style=\"padding-left: 1em; padding-right: 1em; text-align: center; vertical-align: top\">4</td>\n",
       "    </tr>\n",
       "    <tr>\n",
       "        <td style=\"padding-left: 1em; padding-right: 1em; text-align: center; vertical-align: top\">1</td>\n",
       "        <td style=\"padding-left: 1em; padding-right: 1em; text-align: center; vertical-align: top\">0rk2_lmbfpiYXGBFmyxx9Q</td>\n",
       "        <td style=\"padding-left: 1em; padding-right: 1em; text-align: center; vertical-align: top\">0.660614579616</td>\n",
       "        <td style=\"padding-left: 1em; padding-right: 1em; text-align: center; vertical-align: top\">5</td>\n",
       "    </tr>\n",
       "</table>\n",
       "[5235 rows x 4 columns]<br/>Note: Only the head of the SFrame is printed.<br/>You can use print_rows(num_rows=m, num_columns=n) to print more rows and columns.\n",
       "</div>"
      ],
      "text/plain": [
       "Columns:\n",
       "\tquery_label\tint\n",
       "\treference_label\tstr\n",
       "\tdistance\tfloat\n",
       "\trank\tint\n",
       "\n",
       "Rows: 5235\n",
       "\n",
       "Data:\n",
       "+-------------+------------------------+--------------------+------+\n",
       "| query_label |    reference_label     |      distance      | rank |\n",
       "+-------------+------------------------+--------------------+------+\n",
       "|      0      | pomGBqfbxcqPv14c3XH-ZQ | -2.22044604925e-16 |  1   |\n",
       "|      0      | tH0wF3EPPgAY14lnmK1_Sg |   0.537749836479   |  2   |\n",
       "|      0      | arkgHRBReRqIPUP1vuPz4g |   0.550078729334   |  3   |\n",
       "|      0      | cbgIpJwmPVI6Zf7nUIXdFw |   0.556515703008   |  4   |\n",
       "|      0      | nUpz0YiBsOK7ff9k3vUJ3A |   0.559647577036   |  5   |\n",
       "|      1      | pomGBqfbxcqPv14c3XH-ZQ | 1.11022302463e-16  |  1   |\n",
       "|      1      | kRgAf6j2y1eR0wOFdzFAuw |   0.619602544241   |  2   |\n",
       "|      1      | lv5Bnqlt93NnvNJ2oNcQ8Q |   0.65417002831    |  3   |\n",
       "|      1      | Trbt0Ex85yvwT8DHoEFCvg |   0.654226905736   |  4   |\n",
       "|      1      | 0rk2_lmbfpiYXGBFmyxx9Q |   0.660614579616   |  5   |\n",
       "+-------------+------------------------+--------------------+------+\n",
       "[5235 rows x 4 columns]\n",
       "Note: Only the head of the SFrame is printed.\n",
       "You can use print_rows(num_rows=m, num_columns=n) to print more rows and columns."
      ]
     },
     "execution_count": 16,
     "metadata": {},
     "output_type": "execute_result"
    }
   ],
   "source": [
    "#Restaurant data\n",
    "res = gl.SFrame('./Las_Vegas/restaurant')\n",
    "\n",
    "#결과값 보여주기 (Word Count)\n",
    "knn_model_wc.query(b1)"
   ]
  },
  {
   "cell_type": "code",
   "execution_count": 13,
   "metadata": {
    "collapsed": false
   },
   "outputs": [
    {
     "data": {
      "text/html": [
       "<pre>Starting pairwise querying.</pre>"
      ],
      "text/plain": [
       "Starting pairwise querying."
      ]
     },
     "metadata": {},
     "output_type": "display_data"
    },
    {
     "data": {
      "text/html": [
       "<pre>+--------------+---------+-------------+--------------+</pre>"
      ],
      "text/plain": [
       "+--------------+---------+-------------+--------------+"
      ]
     },
     "metadata": {},
     "output_type": "display_data"
    },
    {
     "data": {
      "text/html": [
       "<pre>| Query points | # Pairs | % Complete. | Elapsed Time |</pre>"
      ],
      "text/plain": [
       "| Query points | # Pairs | % Complete. | Elapsed Time |"
      ]
     },
     "metadata": {},
     "output_type": "display_data"
    },
    {
     "data": {
      "text/html": [
       "<pre>+--------------+---------+-------------+--------------+</pre>"
      ],
      "text/plain": [
       "+--------------+---------+-------------+--------------+"
      ]
     },
     "metadata": {},
     "output_type": "display_data"
    },
    {
     "data": {
      "text/html": [
       "<pre>| 0            | 1047    | 0.000112365 | 23.561ms     |</pre>"
      ],
      "text/plain": [
       "| 0            | 1047    | 0.000112365 | 23.561ms     |"
      ]
     },
     "metadata": {},
     "output_type": "display_data"
    },
    {
     "data": {
      "text/html": [
       "<pre>| 7            | 6605523 | 0.708911    | 1.02s        |</pre>"
      ],
      "text/plain": [
       "| 7            | 6605523 | 0.708911    | 1.02s        |"
      ]
     },
     "metadata": {},
     "output_type": "display_data"
    },
    {
     "data": {
      "text/html": [
       "<pre>| 15           | 1e+007  | 1.48232     | 2.02s        |</pre>"
      ],
      "text/plain": [
       "| 15           | 1e+007  | 1.48232     | 2.02s        |"
      ]
     },
     "metadata": {},
     "output_type": "display_data"
    },
    {
     "data": {
      "text/html": [
       "<pre>| 24           | 2e+007  | 2.34382     | 3.02s        |</pre>"
      ],
      "text/plain": [
       "| 24           | 2e+007  | 2.34382     | 3.02s        |"
      ]
     },
     "metadata": {},
     "output_type": "display_data"
    },
    {
     "data": {
      "text/html": [
       "<pre>| 33           | 3e+007  | 3.18824     | 4.02s        |</pre>"
      ],
      "text/plain": [
       "| 33           | 3e+007  | 3.18824     | 4.02s        |"
      ]
     },
     "metadata": {},
     "output_type": "display_data"
    },
    {
     "data": {
      "text/html": [
       "<pre>| 41           | 4e+007  | 3.92322     | 5.02s        |</pre>"
      ],
      "text/plain": [
       "| 41           | 4e+007  | 3.92322     | 5.02s        |"
      ]
     },
     "metadata": {},
     "output_type": "display_data"
    },
    {
     "data": {
      "text/html": [
       "<pre>| 49           | 4e+007  | 4.76854     | 6.02s        |</pre>"
      ],
      "text/plain": [
       "| 49           | 4e+007  | 4.76854     | 6.02s        |"
      ]
     },
     "metadata": {},
     "output_type": "display_data"
    },
    {
     "data": {
      "text/html": [
       "<pre>| 57           | 5e+007  | 5.44476     | 7.02s        |</pre>"
      ],
      "text/plain": [
       "| 57           | 5e+007  | 5.44476     | 7.02s        |"
      ]
     },
     "metadata": {},
     "output_type": "display_data"
    },
    {
     "data": {
      "text/html": [
       "<pre>| 65           | 6e+007  | 6.28547     | 8.02s        |</pre>"
      ],
      "text/plain": [
       "| 65           | 6e+007  | 6.28547     | 8.02s        |"
      ]
     },
     "metadata": {},
     "output_type": "display_data"
    },
    {
     "data": {
      "text/html": [
       "<pre>| 74           | 7e+007  | 7.12192     | 9.02s        |</pre>"
      ],
      "text/plain": [
       "| 74           | 7e+007  | 7.12192     | 9.02s        |"
      ]
     },
     "metadata": {},
     "output_type": "display_data"
    },
    {
     "data": {
      "text/html": [
       "<pre>| 83           | 7e+007  | 7.9505      | 10.02s       |</pre>"
      ],
      "text/plain": [
       "| 83           | 7e+007  | 7.9505      | 10.02s       |"
      ]
     },
     "metadata": {},
     "output_type": "display_data"
    },
    {
     "data": {
      "text/html": [
       "<pre>| 92           | 8e+007  | 8.82717     | 11.02s       |</pre>"
      ],
      "text/plain": [
       "| 92           | 8e+007  | 8.82717     | 11.02s       |"
      ]
     },
     "metadata": {},
     "output_type": "display_data"
    },
    {
     "data": {
      "text/html": [
       "<pre>| 101          | 9e+007  | 9.69305     | 12.02s       |</pre>"
      ],
      "text/plain": [
       "| 101          | 9e+007  | 9.69305     | 12.02s       |"
      ]
     },
     "metadata": {},
     "output_type": "display_data"
    },
    {
     "data": {
      "text/html": [
       "<pre>| 110          | 1e+008  | 10.5432     | 13.02s       |</pre>"
      ],
      "text/plain": [
       "| 110          | 1e+008  | 10.5432     | 13.02s       |"
      ]
     },
     "metadata": {},
     "output_type": "display_data"
    },
    {
     "data": {
      "text/html": [
       "<pre>| 119          | 1e+008  | 11.3684     | 14.02s       |</pre>"
      ],
      "text/plain": [
       "| 119          | 1e+008  | 11.3684     | 14.02s       |"
      ]
     },
     "metadata": {},
     "output_type": "display_data"
    },
    {
     "data": {
      "text/html": [
       "<pre>| 127          | 1e+008  | 12.1499     | 15.02s       |</pre>"
      ],
      "text/plain": [
       "| 127          | 1e+008  | 12.1499     | 15.02s       |"
      ]
     },
     "metadata": {},
     "output_type": "display_data"
    },
    {
     "data": {
      "text/html": [
       "<pre>| 136          | 1e+008  | 13.0053     | 16.02s       |</pre>"
      ],
      "text/plain": [
       "| 136          | 1e+008  | 13.0053     | 16.02s       |"
      ]
     },
     "metadata": {},
     "output_type": "display_data"
    },
    {
     "data": {
      "text/html": [
       "<pre>| 144          | 1e+008  | 13.831      | 17.02s       |</pre>"
      ],
      "text/plain": [
       "| 144          | 1e+008  | 13.831      | 17.02s       |"
      ]
     },
     "metadata": {},
     "output_type": "display_data"
    },
    {
     "data": {
      "text/html": [
       "<pre>| 152          | 1e+008  | 14.6049     | 18.02s       |</pre>"
      ],
      "text/plain": [
       "| 152          | 1e+008  | 14.6049     | 18.02s       |"
      ]
     },
     "metadata": {},
     "output_type": "display_data"
    },
    {
     "data": {
      "text/html": [
       "<pre>| 160          | 1e+008  | 15.3519     | 19.02s       |</pre>"
      ],
      "text/plain": [
       "| 160          | 1e+008  | 15.3519     | 19.02s       |"
      ]
     },
     "metadata": {},
     "output_type": "display_data"
    },
    {
     "data": {
      "text/html": [
       "<pre>| 169          | 2e+008  | 16.1488     | 20.02s       |</pre>"
      ],
      "text/plain": [
       "| 169          | 2e+008  | 16.1488     | 20.02s       |"
      ]
     },
     "metadata": {},
     "output_type": "display_data"
    },
    {
     "data": {
      "text/html": [
       "<pre>| 176          | 2e+008  | 16.8392     | 21.02s       |</pre>"
      ],
      "text/plain": [
       "| 176          | 2e+008  | 16.8392     | 21.02s       |"
      ]
     },
     "metadata": {},
     "output_type": "display_data"
    },
    {
     "data": {
      "text/html": [
       "<pre>| 183          | 2e+008  | 17.5196     | 22.02s       |</pre>"
      ],
      "text/plain": [
       "| 183          | 2e+008  | 17.5196     | 22.02s       |"
      ]
     },
     "metadata": {},
     "output_type": "display_data"
    },
    {
     "data": {
      "text/html": [
       "<pre>| 192          | 2e+008  | 18.3817     | 23.02s       |</pre>"
      ],
      "text/plain": [
       "| 192          | 2e+008  | 18.3817     | 23.02s       |"
      ]
     },
     "metadata": {},
     "output_type": "display_data"
    },
    {
     "data": {
      "text/html": [
       "<pre>| 200          | 2e+008  | 19.1651     | 24.02s       |</pre>"
      ],
      "text/plain": [
       "| 200          | 2e+008  | 19.1651     | 24.02s       |"
      ]
     },
     "metadata": {},
     "output_type": "display_data"
    },
    {
     "data": {
      "text/html": [
       "<pre>| 209          | 2e+008  | 20.0096     | 25.02s       |</pre>"
      ],
      "text/plain": [
       "| 209          | 2e+008  | 20.0096     | 25.02s       |"
      ]
     },
     "metadata": {},
     "output_type": "display_data"
    },
    {
     "data": {
      "text/html": [
       "<pre>| 218          | 2e+008  | 20.8234     | 26.02s       |</pre>"
      ],
      "text/plain": [
       "| 218          | 2e+008  | 20.8234     | 26.02s       |"
      ]
     },
     "metadata": {},
     "output_type": "display_data"
    },
    {
     "data": {
      "text/html": [
       "<pre>| 226          | 2e+008  | 21.6006     | 27.02s       |</pre>"
      ],
      "text/plain": [
       "| 226          | 2e+008  | 21.6006     | 27.02s       |"
      ]
     },
     "metadata": {},
     "output_type": "display_data"
    },
    {
     "data": {
      "text/html": [
       "<pre>| 232          | 2e+008  | 22.2279     | 28.02s       |</pre>"
      ],
      "text/plain": [
       "| 232          | 2e+008  | 22.2279     | 28.02s       |"
      ]
     },
     "metadata": {},
     "output_type": "display_data"
    },
    {
     "data": {
      "text/html": [
       "<pre>| 241          | 2e+008  | 23.042      | 29.02s       |</pre>"
      ],
      "text/plain": [
       "| 241          | 2e+008  | 23.042      | 29.02s       |"
      ]
     },
     "metadata": {},
     "output_type": "display_data"
    },
    {
     "data": {
      "text/html": [
       "<pre>| 249          | 2e+008  | 23.7941     | 30.02s       |</pre>"
      ],
      "text/plain": [
       "| 249          | 2e+008  | 23.7941     | 30.02s       |"
      ]
     },
     "metadata": {},
     "output_type": "display_data"
    },
    {
     "data": {
      "text/html": [
       "<pre>| 256          | 2e+008  | 24.4664     | 31.02s       |</pre>"
      ],
      "text/plain": [
       "| 256          | 2e+008  | 24.4664     | 31.02s       |"
      ]
     },
     "metadata": {},
     "output_type": "display_data"
    },
    {
     "data": {
      "text/html": [
       "<pre>| 260          | 2e+008  | 24.9251     | 32.02s       |</pre>"
      ],
      "text/plain": [
       "| 260          | 2e+008  | 24.9251     | 32.02s       |"
      ]
     },
     "metadata": {},
     "output_type": "display_data"
    },
    {
     "data": {
      "text/html": [
       "<pre>| 267          | 2e+008  | 25.5446     | 33.02s       |</pre>"
      ],
      "text/plain": [
       "| 267          | 2e+008  | 25.5446     | 33.02s       |"
      ]
     },
     "metadata": {},
     "output_type": "display_data"
    },
    {
     "data": {
      "text/html": [
       "<pre>| 273          | 2e+008  | 26.1326     | 34.02s       |</pre>"
      ],
      "text/plain": [
       "| 273          | 2e+008  | 26.1326     | 34.02s       |"
      ]
     },
     "metadata": {},
     "output_type": "display_data"
    },
    {
     "data": {
      "text/html": [
       "<pre>| 278          | 2e+008  | 26.6208     | 35.02s       |</pre>"
      ],
      "text/plain": [
       "| 278          | 2e+008  | 26.6208     | 35.02s       |"
      ]
     },
     "metadata": {},
     "output_type": "display_data"
    },
    {
     "data": {
      "text/html": [
       "<pre>| 284          | 3e+008  | 27.2106     | 36.02s       |</pre>"
      ],
      "text/plain": [
       "| 284          | 3e+008  | 27.2106     | 36.02s       |"
      ]
     },
     "metadata": {},
     "output_type": "display_data"
    },
    {
     "data": {
      "text/html": [
       "<pre>| 291          | 3e+008  | 27.842      | 37.02s       |</pre>"
      ],
      "text/plain": [
       "| 291          | 3e+008  | 27.842      | 37.02s       |"
      ]
     },
     "metadata": {},
     "output_type": "display_data"
    },
    {
     "data": {
      "text/html": [
       "<pre>| 298          | 3e+008  | 28.5223     | 38.02s       |</pre>"
      ],
      "text/plain": [
       "| 298          | 3e+008  | 28.5223     | 38.02s       |"
      ]
     },
     "metadata": {},
     "output_type": "display_data"
    },
    {
     "data": {
      "text/html": [
       "<pre>| 305          | 3e+008  | 29.1816     | 39.02s       |</pre>"
      ],
      "text/plain": [
       "| 305          | 3e+008  | 29.1816     | 39.02s       |"
      ]
     },
     "metadata": {},
     "output_type": "display_data"
    },
    {
     "data": {
      "text/html": [
       "<pre>| 311          | 3e+008  | 29.7586     | 40.02s       |</pre>"
      ],
      "text/plain": [
       "| 311          | 3e+008  | 29.7586     | 40.02s       |"
      ]
     },
     "metadata": {},
     "output_type": "display_data"
    },
    {
     "data": {
      "text/html": [
       "<pre>| 318          | 3e+008  | 30.4338     | 41.02s       |</pre>"
      ],
      "text/plain": [
       "| 318          | 3e+008  | 30.4338     | 41.02s       |"
      ]
     },
     "metadata": {},
     "output_type": "display_data"
    },
    {
     "data": {
      "text/html": [
       "<pre>| 325          | 3e+008  | 31.0769     | 42.02s       |</pre>"
      ],
      "text/plain": [
       "| 325          | 3e+008  | 31.0769     | 42.02s       |"
      ]
     },
     "metadata": {},
     "output_type": "display_data"
    },
    {
     "data": {
      "text/html": [
       "<pre>| 332          | 3e+008  | 31.7307     | 43.02s       |</pre>"
      ],
      "text/plain": [
       "| 332          | 3e+008  | 31.7307     | 43.02s       |"
      ]
     },
     "metadata": {},
     "output_type": "display_data"
    },
    {
     "data": {
      "text/html": [
       "<pre>| 339          | 3e+008  | 32.4466     | 44.02s       |</pre>"
      ],
      "text/plain": [
       "| 339          | 3e+008  | 32.4466     | 44.02s       |"
      ]
     },
     "metadata": {},
     "output_type": "display_data"
    },
    {
     "data": {
      "text/html": [
       "<pre>| 348          | 3e+008  | 33.2867     | 45.02s       |</pre>"
      ],
      "text/plain": [
       "| 348          | 3e+008  | 33.2867     | 45.02s       |"
      ]
     },
     "metadata": {},
     "output_type": "display_data"
    },
    {
     "data": {
      "text/html": [
       "<pre>| 356          | 3e+008  | 34.0319     | 46.02s       |</pre>"
      ],
      "text/plain": [
       "| 356          | 3e+008  | 34.0319     | 46.02s       |"
      ]
     },
     "metadata": {},
     "output_type": "display_data"
    },
    {
     "data": {
      "text/html": [
       "<pre>| 364          | 3e+008  | 34.8154     | 47.02s       |</pre>"
      ],
      "text/plain": [
       "| 364          | 3e+008  | 34.8154     | 47.02s       |"
      ]
     },
     "metadata": {},
     "output_type": "display_data"
    },
    {
     "data": {
      "text/html": [
       "<pre>| 373          | 3e+008  | 35.654      | 48.02s       |</pre>"
      ],
      "text/plain": [
       "| 373          | 3e+008  | 35.654      | 48.02s       |"
      ]
     },
     "metadata": {},
     "output_type": "display_data"
    },
    {
     "data": {
      "text/html": [
       "<pre>| 381          | 3e+008  | 36.4648     | 49.02s       |</pre>"
      ],
      "text/plain": [
       "| 381          | 3e+008  | 36.4648     | 49.02s       |"
      ]
     },
     "metadata": {},
     "output_type": "display_data"
    },
    {
     "data": {
      "text/html": [
       "<pre>| 390          | 3e+008  | 37.3262     | 50.02s       |</pre>"
      ],
      "text/plain": [
       "| 390          | 3e+008  | 37.3262     | 50.02s       |"
      ]
     },
     "metadata": {},
     "output_type": "display_data"
    },
    {
     "data": {
      "text/html": [
       "<pre>| 399          | 4e+008  | 38.1509     | 51.02s       |</pre>"
      ],
      "text/plain": [
       "| 399          | 4e+008  | 38.1509     | 51.02s       |"
      ]
     },
     "metadata": {},
     "output_type": "display_data"
    },
    {
     "data": {
      "text/html": [
       "<pre>| 407          | 4e+008  | 38.9517     | 52.02s       |</pre>"
      ],
      "text/plain": [
       "| 407          | 4e+008  | 38.9517     | 52.02s       |"
      ]
     },
     "metadata": {},
     "output_type": "display_data"
    },
    {
     "data": {
      "text/html": [
       "<pre>| 415          | 4e+008  | 39.6535     | 53.02s       |</pre>"
      ],
      "text/plain": [
       "| 415          | 4e+008  | 39.6535     | 53.02s       |"
      ]
     },
     "metadata": {},
     "output_type": "display_data"
    },
    {
     "data": {
      "text/html": [
       "<pre>| 423          | 4e+008  | 40.4659     | 54.02s       |</pre>"
      ],
      "text/plain": [
       "| 423          | 4e+008  | 40.4659     | 54.02s       |"
      ]
     },
     "metadata": {},
     "output_type": "display_data"
    },
    {
     "data": {
      "text/html": [
       "<pre>| 430          | 4e+008  | 41.1414     | 55.02s       |</pre>"
      ],
      "text/plain": [
       "| 430          | 4e+008  | 41.1414     | 55.02s       |"
      ]
     },
     "metadata": {},
     "output_type": "display_data"
    },
    {
     "data": {
      "text/html": [
       "<pre>| 437          | 4e+008  | 41.8207     | 56.02s       |</pre>"
      ],
      "text/plain": [
       "| 437          | 4e+008  | 41.8207     | 56.02s       |"
      ]
     },
     "metadata": {},
     "output_type": "display_data"
    },
    {
     "data": {
      "text/html": [
       "<pre>| 444          | 4e+008  | 42.4721     | 57.02s       |</pre>"
      ],
      "text/plain": [
       "| 444          | 4e+008  | 42.4721     | 57.02s       |"
      ]
     },
     "metadata": {},
     "output_type": "display_data"
    },
    {
     "data": {
      "text/html": [
       "<pre>| 451          | 4e+008  | 43.1422     | 58.02s       |</pre>"
      ],
      "text/plain": [
       "| 451          | 4e+008  | 43.1422     | 58.02s       |"
      ]
     },
     "metadata": {},
     "output_type": "display_data"
    },
    {
     "data": {
      "text/html": [
       "<pre>| 458          | 4e+008  | 43.8041     | 59.02s       |</pre>"
      ],
      "text/plain": [
       "| 458          | 4e+008  | 43.8041     | 59.02s       |"
      ]
     },
     "metadata": {},
     "output_type": "display_data"
    },
    {
     "data": {
      "text/html": [
       "<pre>| 467          | 4e+008  | 44.6727     | 1m 0s        |</pre>"
      ],
      "text/plain": [
       "| 467          | 4e+008  | 44.6727     | 1m 0s        |"
      ]
     },
     "metadata": {},
     "output_type": "display_data"
    },
    {
     "data": {
      "text/html": [
       "<pre>| 475          | 4e+008  | 45.4506     | 1m 1s        |</pre>"
      ],
      "text/plain": [
       "| 475          | 4e+008  | 45.4506     | 1m 1s        |"
      ]
     },
     "metadata": {},
     "output_type": "display_data"
    },
    {
     "data": {
      "text/html": [
       "<pre>| 484          | 4e+008  | 46.2597     | 1m 2s        |</pre>"
      ],
      "text/plain": [
       "| 484          | 4e+008  | 46.2597     | 1m 2s        |"
      ]
     },
     "metadata": {},
     "output_type": "display_data"
    },
    {
     "data": {
      "text/html": [
       "<pre>| 493          | 4e+008  | 47.099      | 1m 3s        |</pre>"
      ],
      "text/plain": [
       "| 493          | 4e+008  | 47.099      | 1m 3s        |"
      ]
     },
     "metadata": {},
     "output_type": "display_data"
    },
    {
     "data": {
      "text/html": [
       "<pre>| 501          | 4e+008  | 47.8593     | 1m 4s        |</pre>"
      ],
      "text/plain": [
       "| 501          | 4e+008  | 47.8593     | 1m 4s        |"
      ]
     },
     "metadata": {},
     "output_type": "display_data"
    },
    {
     "data": {
      "text/html": [
       "<pre>| 508          | 5e+008  | 48.5874     | 1m 5s        |</pre>"
      ],
      "text/plain": [
       "| 508          | 5e+008  | 48.5874     | 1m 5s        |"
      ]
     },
     "metadata": {},
     "output_type": "display_data"
    },
    {
     "data": {
      "text/html": [
       "<pre>| 514          | 5e+008  | 49.1846     | 1m 6s        |</pre>"
      ],
      "text/plain": [
       "| 514          | 5e+008  | 49.1846     | 1m 6s        |"
      ]
     },
     "metadata": {},
     "output_type": "display_data"
    },
    {
     "data": {
      "text/html": [
       "<pre>| 520          | 5e+008  | 49.7381     | 1m 7s        |</pre>"
      ],
      "text/plain": [
       "| 520          | 5e+008  | 49.7381     | 1m 7s        |"
      ]
     },
     "metadata": {},
     "output_type": "display_data"
    },
    {
     "data": {
      "text/html": [
       "<pre>| 529          | 5e+008  | 50.5455     | 1m 8s        |</pre>"
      ],
      "text/plain": [
       "| 529          | 5e+008  | 50.5455     | 1m 8s        |"
      ]
     },
     "metadata": {},
     "output_type": "display_data"
    },
    {
     "data": {
      "text/html": [
       "<pre>| 535          | 5e+008  | 51.1552     | 1m 9s        |</pre>"
      ],
      "text/plain": [
       "| 535          | 5e+008  | 51.1552     | 1m 9s        |"
      ]
     },
     "metadata": {},
     "output_type": "display_data"
    },
    {
     "data": {
      "text/html": [
       "<pre>| 542          | 5e+008  | 51.8043     | 1m 10s       |</pre>"
      ],
      "text/plain": [
       "| 542          | 5e+008  | 51.8043     | 1m 10s       |"
      ]
     },
     "metadata": {},
     "output_type": "display_data"
    },
    {
     "data": {
      "text/html": [
       "<pre>| 550          | 5e+008  | 52.5348     | 1m 11s       |</pre>"
      ],
      "text/plain": [
       "| 550          | 5e+008  | 52.5348     | 1m 11s       |"
      ]
     },
     "metadata": {},
     "output_type": "display_data"
    },
    {
     "data": {
      "text/html": [
       "<pre>| 558          | 5e+008  | 53.3555     | 1m 12s       |</pre>"
      ],
      "text/plain": [
       "| 558          | 5e+008  | 53.3555     | 1m 12s       |"
      ]
     },
     "metadata": {},
     "output_type": "display_data"
    },
    {
     "data": {
      "text/html": [
       "<pre>| 566          | 5e+008  | 54.1424     | 1m 13s       |</pre>"
      ],
      "text/plain": [
       "| 566          | 5e+008  | 54.1424     | 1m 13s       |"
      ]
     },
     "metadata": {},
     "output_type": "display_data"
    },
    {
     "data": {
      "text/html": [
       "<pre>| 575          | 5e+008  | 54.9981     | 1m 14s       |</pre>"
      ],
      "text/plain": [
       "| 575          | 5e+008  | 54.9981     | 1m 14s       |"
      ]
     },
     "metadata": {},
     "output_type": "display_data"
    },
    {
     "data": {
      "text/html": [
       "<pre>| 583          | 5e+008  | 55.6922     | 1m 15s       |</pre>"
      ],
      "text/plain": [
       "| 583          | 5e+008  | 55.6922     | 1m 15s       |"
      ]
     },
     "metadata": {},
     "output_type": "display_data"
    },
    {
     "data": {
      "text/html": [
       "<pre>| 590          | 5e+008  | 56.4189     | 1m 16s       |</pre>"
      ],
      "text/plain": [
       "| 590          | 5e+008  | 56.4189     | 1m 16s       |"
      ]
     },
     "metadata": {},
     "output_type": "display_data"
    },
    {
     "data": {
      "text/html": [
       "<pre>| 598          | 5e+008  | 57.1971     | 1m 17s       |</pre>"
      ],
      "text/plain": [
       "| 598          | 5e+008  | 57.1971     | 1m 17s       |"
      ]
     },
     "metadata": {},
     "output_type": "display_data"
    },
    {
     "data": {
      "text/html": [
       "<pre>| 606          | 5e+008  | 57.9748     | 1m 18s       |</pre>"
      ],
      "text/plain": [
       "| 606          | 5e+008  | 57.9748     | 1m 18s       |"
      ]
     },
     "metadata": {},
     "output_type": "display_data"
    },
    {
     "data": {
      "text/html": [
       "<pre>| 612          | 5e+008  | 58.5168     | 1m 19s       |</pre>"
      ],
      "text/plain": [
       "| 612          | 5e+008  | 58.5168     | 1m 19s       |"
      ]
     },
     "metadata": {},
     "output_type": "display_data"
    },
    {
     "data": {
      "text/html": [
       "<pre>| 619          | 6e+008  | 59.1771     | 1m 20s       |</pre>"
      ],
      "text/plain": [
       "| 619          | 6e+008  | 59.1771     | 1m 20s       |"
      ]
     },
     "metadata": {},
     "output_type": "display_data"
    },
    {
     "data": {
      "text/html": [
       "<pre>| 628          | 6e+008  | 59.9982     | 1m 21s       |</pre>"
      ],
      "text/plain": [
       "| 628          | 6e+008  | 59.9982     | 1m 21s       |"
      ]
     },
     "metadata": {},
     "output_type": "display_data"
    },
    {
     "data": {
      "text/html": [
       "<pre>| 637          | 6e+008  | 60.8495     | 1m 22s       |</pre>"
      ],
      "text/plain": [
       "| 637          | 6e+008  | 60.8495     | 1m 22s       |"
      ]
     },
     "metadata": {},
     "output_type": "display_data"
    },
    {
     "data": {
      "text/html": [
       "<pre>| 646          | 6e+008  | 61.7169     | 1m 23s       |</pre>"
      ],
      "text/plain": [
       "| 646          | 6e+008  | 61.7169     | 1m 23s       |"
      ]
     },
     "metadata": {},
     "output_type": "display_data"
    },
    {
     "data": {
      "text/html": [
       "<pre>| 655          | 6e+008  | 62.5767     | 1m 24s       |</pre>"
      ],
      "text/plain": [
       "| 655          | 6e+008  | 62.5767     | 1m 24s       |"
      ]
     },
     "metadata": {},
     "output_type": "display_data"
    },
    {
     "data": {
      "text/html": [
       "<pre>| 661          | 6e+008  | 63.1457     | 1m 25s       |</pre>"
      ],
      "text/plain": [
       "| 661          | 6e+008  | 63.1457     | 1m 25s       |"
      ]
     },
     "metadata": {},
     "output_type": "display_data"
    },
    {
     "data": {
      "text/html": [
       "<pre>| 670          | 6e+008  | 63.9939     | 1m 26s       |</pre>"
      ],
      "text/plain": [
       "| 670          | 6e+008  | 63.9939     | 1m 26s       |"
      ]
     },
     "metadata": {},
     "output_type": "display_data"
    },
    {
     "data": {
      "text/html": [
       "<pre>| 676          | 6e+008  | 64.6485     | 1m 27s       |</pre>"
      ],
      "text/plain": [
       "| 676          | 6e+008  | 64.6485     | 1m 27s       |"
      ]
     },
     "metadata": {},
     "output_type": "display_data"
    },
    {
     "data": {
      "text/html": [
       "<pre>| 681          | 6e+008  | 65.1366     | 1m 28s       |</pre>"
      ],
      "text/plain": [
       "| 681          | 6e+008  | 65.1366     | 1m 28s       |"
      ]
     },
     "metadata": {},
     "output_type": "display_data"
    },
    {
     "data": {
      "text/html": [
       "<pre>| 688          | 6e+008  | 65.718      | 1m 29s       |</pre>"
      ],
      "text/plain": [
       "| 688          | 6e+008  | 65.718      | 1m 29s       |"
      ]
     },
     "metadata": {},
     "output_type": "display_data"
    },
    {
     "data": {
      "text/html": [
       "<pre>| 695          | 6e+008  | 66.3802     | 1m 30s       |</pre>"
      ],
      "text/plain": [
       "| 695          | 6e+008  | 66.3802     | 1m 30s       |"
      ]
     },
     "metadata": {},
     "output_type": "display_data"
    },
    {
     "data": {
      "text/html": [
       "<pre>| 703          | 6e+008  | 67.1538     | 1m 31s       |</pre>"
      ],
      "text/plain": [
       "| 703          | 6e+008  | 67.1538     | 1m 31s       |"
      ]
     },
     "metadata": {},
     "output_type": "display_data"
    },
    {
     "data": {
      "text/html": [
       "<pre>| 711          | 6e+008  | 67.9518     | 1m 32s       |</pre>"
      ],
      "text/plain": [
       "| 711          | 6e+008  | 67.9518     | 1m 32s       |"
      ]
     },
     "metadata": {},
     "output_type": "display_data"
    },
    {
     "data": {
      "text/html": [
       "<pre>| 718          | 6e+008  | 68.6505     | 1m 33s       |</pre>"
      ],
      "text/plain": [
       "| 718          | 6e+008  | 68.6505     | 1m 33s       |"
      ]
     },
     "metadata": {},
     "output_type": "display_data"
    },
    {
     "data": {
      "text/html": [
       "<pre>| 725          | 6e+008  | 69.281      | 1m 34s       |</pre>"
      ],
      "text/plain": [
       "| 725          | 6e+008  | 69.281      | 1m 34s       |"
      ]
     },
     "metadata": {},
     "output_type": "display_data"
    },
    {
     "data": {
      "text/html": [
       "<pre>| 732          | 7e+008  | 69.9947     | 1m 35s       |</pre>"
      ],
      "text/plain": [
       "| 732          | 7e+008  | 69.9947     | 1m 35s       |"
      ]
     },
     "metadata": {},
     "output_type": "display_data"
    },
    {
     "data": {
      "text/html": [
       "<pre>| 740          | 7e+008  | 70.7659     | 1m 36s       |</pre>"
      ],
      "text/plain": [
       "| 740          | 7e+008  | 70.7659     | 1m 36s       |"
      ]
     },
     "metadata": {},
     "output_type": "display_data"
    },
    {
     "data": {
      "text/html": [
       "<pre>| 748          | 7e+008  | 71.4496     | 1m 37s       |</pre>"
      ],
      "text/plain": [
       "| 748          | 7e+008  | 71.4496     | 1m 37s       |"
      ]
     },
     "metadata": {},
     "output_type": "display_data"
    },
    {
     "data": {
      "text/html": [
       "<pre>| 756          | 7e+008  | 72.26       | 1m 38s       |</pre>"
      ],
      "text/plain": [
       "| 756          | 7e+008  | 72.26       | 1m 38s       |"
      ]
     },
     "metadata": {},
     "output_type": "display_data"
    },
    {
     "data": {
      "text/html": [
       "<pre>| 765          | 7e+008  | 73.0868     | 1m 39s       |</pre>"
      ],
      "text/plain": [
       "| 765          | 7e+008  | 73.0868     | 1m 39s       |"
      ]
     },
     "metadata": {},
     "output_type": "display_data"
    },
    {
     "data": {
      "text/html": [
       "<pre>| 774          | 7e+008  | 73.928      | 1m 40s       |</pre>"
      ],
      "text/plain": [
       "| 774          | 7e+008  | 73.928      | 1m 40s       |"
      ]
     },
     "metadata": {},
     "output_type": "display_data"
    },
    {
     "data": {
      "text/html": [
       "<pre>| 782          | 7e+008  | 74.7351     | 1m 41s       |</pre>"
      ],
      "text/plain": [
       "| 782          | 7e+008  | 74.7351     | 1m 41s       |"
      ]
     },
     "metadata": {},
     "output_type": "display_data"
    },
    {
     "data": {
      "text/html": [
       "<pre>| 791          | 7e+008  | 75.5499     | 1m 42s       |</pre>"
      ],
      "text/plain": [
       "| 791          | 7e+008  | 75.5499     | 1m 42s       |"
      ]
     },
     "metadata": {},
     "output_type": "display_data"
    },
    {
     "data": {
      "text/html": [
       "<pre>| 799          | 7e+008  | 76.3844     | 1m 43s       |</pre>"
      ],
      "text/plain": [
       "| 799          | 7e+008  | 76.3844     | 1m 43s       |"
      ]
     },
     "metadata": {},
     "output_type": "display_data"
    },
    {
     "data": {
      "text/html": [
       "<pre>| 808          | 7e+008  | 77.1818     | 1m 44s       |</pre>"
      ],
      "text/plain": [
       "| 808          | 7e+008  | 77.1818     | 1m 44s       |"
      ]
     },
     "metadata": {},
     "output_type": "display_data"
    },
    {
     "data": {
      "text/html": [
       "<pre>| 816          | 7e+008  | 77.9415     | 1m 45s       |</pre>"
      ],
      "text/plain": [
       "| 816          | 7e+008  | 77.9415     | 1m 45s       |"
      ]
     },
     "metadata": {},
     "output_type": "display_data"
    },
    {
     "data": {
      "text/html": [
       "<pre>| 823          | 7e+008  | 78.6825     | 1m 46s       |</pre>"
      ],
      "text/plain": [
       "| 823          | 7e+008  | 78.6825     | 1m 46s       |"
      ]
     },
     "metadata": {},
     "output_type": "display_data"
    },
    {
     "data": {
      "text/html": [
       "<pre>| 831          | 7e+008  | 79.4252     | 1m 47s       |</pre>"
      ],
      "text/plain": [
       "| 831          | 7e+008  | 79.4252     | 1m 47s       |"
      ]
     },
     "metadata": {},
     "output_type": "display_data"
    },
    {
     "data": {
      "text/html": [
       "<pre>| 838          | 7e+008  | 80.0522     | 1m 48s       |</pre>"
      ],
      "text/plain": [
       "| 838          | 7e+008  | 80.0522     | 1m 48s       |"
      ]
     },
     "metadata": {},
     "output_type": "display_data"
    },
    {
     "data": {
      "text/html": [
       "<pre>| 844          | 8e+008  | 80.6922     | 1m 49s       |</pre>"
      ],
      "text/plain": [
       "| 844          | 8e+008  | 80.6922     | 1m 49s       |"
      ]
     },
     "metadata": {},
     "output_type": "display_data"
    },
    {
     "data": {
      "text/html": [
       "<pre>| 853          | 8e+008  | 81.4971     | 1m 50s       |</pre>"
      ],
      "text/plain": [
       "| 853          | 8e+008  | 81.4971     | 1m 50s       |"
      ]
     },
     "metadata": {},
     "output_type": "display_data"
    },
    {
     "data": {
      "text/html": [
       "<pre>| 861          | 8e+008  | 82.3149     | 1m 51s       |</pre>"
      ],
      "text/plain": [
       "| 861          | 8e+008  | 82.3149     | 1m 51s       |"
      ]
     },
     "metadata": {},
     "output_type": "display_data"
    },
    {
     "data": {
      "text/html": [
       "<pre>| 868          | 8e+008  | 82.9802     | 1m 52s       |</pre>"
      ],
      "text/plain": [
       "| 868          | 8e+008  | 82.9802     | 1m 52s       |"
      ]
     },
     "metadata": {},
     "output_type": "display_data"
    },
    {
     "data": {
      "text/html": [
       "<pre>| 874          | 8e+008  | 83.4784     | 1m 53s       |</pre>"
      ],
      "text/plain": [
       "| 874          | 8e+008  | 83.4784     | 1m 53s       |"
      ]
     },
     "metadata": {},
     "output_type": "display_data"
    },
    {
     "data": {
      "text/html": [
       "<pre>| 881          | 8e+008  | 84.1838     | 1m 54s       |</pre>"
      ],
      "text/plain": [
       "| 881          | 8e+008  | 84.1838     | 1m 54s       |"
      ]
     },
     "metadata": {},
     "output_type": "display_data"
    },
    {
     "data": {
      "text/html": [
       "<pre>| 888          | 8e+008  | 84.8951     | 1m 55s       |</pre>"
      ],
      "text/plain": [
       "| 888          | 8e+008  | 84.8951     | 1m 55s       |"
      ]
     },
     "metadata": {},
     "output_type": "display_data"
    },
    {
     "data": {
      "text/html": [
       "<pre>| 895          | 8e+008  | 85.5023     | 1m 56s       |</pre>"
      ],
      "text/plain": [
       "| 895          | 8e+008  | 85.5023     | 1m 56s       |"
      ]
     },
     "metadata": {},
     "output_type": "display_data"
    },
    {
     "data": {
      "text/html": [
       "<pre>| 902          | 8e+008  | 86.225      | 1m 57s       |</pre>"
      ],
      "text/plain": [
       "| 902          | 8e+008  | 86.225      | 1m 57s       |"
      ]
     },
     "metadata": {},
     "output_type": "display_data"
    },
    {
     "data": {
      "text/html": [
       "<pre>| 910          | 8e+008  | 86.9567     | 1m 58s       |</pre>"
      ],
      "text/plain": [
       "| 910          | 8e+008  | 86.9567     | 1m 58s       |"
      ]
     },
     "metadata": {},
     "output_type": "display_data"
    },
    {
     "data": {
      "text/html": [
       "<pre>| 917          | 8e+008  | 87.6141     | 1m 59s       |</pre>"
      ],
      "text/plain": [
       "| 917          | 8e+008  | 87.6141     | 1m 59s       |"
      ]
     },
     "metadata": {},
     "output_type": "display_data"
    },
    {
     "data": {
      "text/html": [
       "<pre>| 924          | 8e+008  | 88.3124     | 2m 0s        |</pre>"
      ],
      "text/plain": [
       "| 924          | 8e+008  | 88.3124     | 2m 0s        |"
      ]
     },
     "metadata": {},
     "output_type": "display_data"
    },
    {
     "data": {
      "text/html": [
       "<pre>| 931          | 8e+008  | 88.9313     | 2m 1s        |</pre>"
      ],
      "text/plain": [
       "| 931          | 8e+008  | 88.9313     | 2m 1s        |"
      ]
     },
     "metadata": {},
     "output_type": "display_data"
    },
    {
     "data": {
      "text/html": [
       "<pre>| 936          | 8e+008  | 89.4801     | 2m 2s        |</pre>"
      ],
      "text/plain": [
       "| 936          | 8e+008  | 89.4801     | 2m 2s        |"
      ]
     },
     "metadata": {},
     "output_type": "display_data"
    },
    {
     "data": {
      "text/html": [
       "<pre>| 943          | 8e+008  | 90.1018     | 2m 3s        |</pre>"
      ],
      "text/plain": [
       "| 943          | 8e+008  | 90.1018     | 2m 3s        |"
      ]
     },
     "metadata": {},
     "output_type": "display_data"
    },
    {
     "data": {
      "text/html": [
       "<pre>| 951          | 8e+008  | 90.8653     | 2m 4s        |</pre>"
      ],
      "text/plain": [
       "| 951          | 8e+008  | 90.8653     | 2m 4s        |"
      ]
     },
     "metadata": {},
     "output_type": "display_data"
    },
    {
     "data": {
      "text/html": [
       "<pre>| 960          | 9e+008  | 91.7086     | 2m 5s        |</pre>"
      ],
      "text/plain": [
       "| 960          | 9e+008  | 91.7086     | 2m 5s        |"
      ]
     },
     "metadata": {},
     "output_type": "display_data"
    },
    {
     "data": {
      "text/html": [
       "<pre>| 966          | 9e+008  | 92.3278     | 2m 6s        |</pre>"
      ],
      "text/plain": [
       "| 966          | 9e+008  | 92.3278     | 2m 6s        |"
      ]
     },
     "metadata": {},
     "output_type": "display_data"
    },
    {
     "data": {
      "text/html": [
       "<pre>| 973          | 9e+008  | 93.0157     | 2m 7s        |</pre>"
      ],
      "text/plain": [
       "| 973          | 9e+008  | 93.0157     | 2m 7s        |"
      ]
     },
     "metadata": {},
     "output_type": "display_data"
    },
    {
     "data": {
      "text/html": [
       "<pre>| 980          | 9e+008  | 93.678      | 2m 8s        |</pre>"
      ],
      "text/plain": [
       "| 980          | 9e+008  | 93.678      | 2m 8s        |"
      ]
     },
     "metadata": {},
     "output_type": "display_data"
    },
    {
     "data": {
      "text/html": [
       "<pre>| 987          | 9e+008  | 94.3604     | 2m 9s        |</pre>"
      ],
      "text/plain": [
       "| 987          | 9e+008  | 94.3604     | 2m 9s        |"
      ]
     },
     "metadata": {},
     "output_type": "display_data"
    },
    {
     "data": {
      "text/html": [
       "<pre>| 994          | 9e+008  | 95.0004     | 2m 10s       |</pre>"
      ],
      "text/plain": [
       "| 994          | 9e+008  | 95.0004     | 2m 10s       |"
      ]
     },
     "metadata": {},
     "output_type": "display_data"
    },
    {
     "data": {
      "text/html": [
       "<pre>| 1001         | 9e+008  | 95.6554     | 2m 11s       |</pre>"
      ],
      "text/plain": [
       "| 1001         | 9e+008  | 95.6554     | 2m 11s       |"
      ]
     },
     "metadata": {},
     "output_type": "display_data"
    },
    {
     "data": {
      "text/html": [
       "<pre>| 1007         | 9e+008  | 96.2713     | 2m 12s       |</pre>"
      ],
      "text/plain": [
       "| 1007         | 9e+008  | 96.2713     | 2m 12s       |"
      ]
     },
     "metadata": {},
     "output_type": "display_data"
    },
    {
     "data": {
      "text/html": [
       "<pre>| 1013         | 9e+008  | 96.8472     | 2m 13s       |</pre>"
      ],
      "text/plain": [
       "| 1013         | 9e+008  | 96.8472     | 2m 13s       |"
      ]
     },
     "metadata": {},
     "output_type": "display_data"
    },
    {
     "data": {
      "text/html": [
       "<pre>| 1020         | 9e+008  | 97.487      | 2m 14s       |</pre>"
      ],
      "text/plain": [
       "| 1020         | 9e+008  | 97.487      | 2m 14s       |"
      ]
     },
     "metadata": {},
     "output_type": "display_data"
    },
    {
     "data": {
      "text/html": [
       "<pre>| 1027         | 9e+008  | 98.0966     | 2m 15s       |</pre>"
      ],
      "text/plain": [
       "| 1027         | 9e+008  | 98.0966     | 2m 15s       |"
      ]
     },
     "metadata": {},
     "output_type": "display_data"
    },
    {
     "data": {
      "text/html": [
       "<pre>| 1032         | 9e+008  | 98.6535     | 2m 16s       |</pre>"
      ],
      "text/plain": [
       "| 1032         | 9e+008  | 98.6535     | 2m 16s       |"
      ]
     },
     "metadata": {},
     "output_type": "display_data"
    },
    {
     "data": {
      "text/html": [
       "<pre>| 1039         | 9e+008  | 99.256      | 2m 17s       |</pre>"
      ],
      "text/plain": [
       "| 1039         | 9e+008  | 99.256      | 2m 17s       |"
      ]
     },
     "metadata": {},
     "output_type": "display_data"
    },
    {
     "data": {
      "text/html": [
       "<pre>| 1045         | 9e+008  | 99.8239     | 2m 18s       |</pre>"
      ],
      "text/plain": [
       "| 1045         | 9e+008  | 99.8239     | 2m 18s       |"
      ]
     },
     "metadata": {},
     "output_type": "display_data"
    },
    {
     "data": {
      "text/html": [
       "<pre>| Done         |         | 100         | 2m 18s       |</pre>"
      ],
      "text/plain": [
       "| Done         |         | 100         | 2m 18s       |"
      ]
     },
     "metadata": {},
     "output_type": "display_data"
    },
    {
     "data": {
      "text/html": [
       "<pre>+--------------+---------+-------------+--------------+</pre>"
      ],
      "text/plain": [
       "+--------------+---------+-------------+--------------+"
      ]
     },
     "metadata": {},
     "output_type": "display_data"
    },
    {
     "data": {
      "text/html": [
       "<div style=\"max-height:1000px;max-width:1500px;overflow:auto;\"><table frame=\"box\" rules=\"cols\">\n",
       "    <tr>\n",
       "        <th style=\"padding-left: 1em; padding-right: 1em; text-align: center\">query_label</th>\n",
       "        <th style=\"padding-left: 1em; padding-right: 1em; text-align: center\">reference_label</th>\n",
       "        <th style=\"padding-left: 1em; padding-right: 1em; text-align: center\">distance</th>\n",
       "        <th style=\"padding-left: 1em; padding-right: 1em; text-align: center\">rank</th>\n",
       "    </tr>\n",
       "    <tr>\n",
       "        <td style=\"padding-left: 1em; padding-right: 1em; text-align: center; vertical-align: top\">0</td>\n",
       "        <td style=\"padding-left: 1em; padding-right: 1em; text-align: center; vertical-align: top\">pomGBqfbxcqPv14c3XH-ZQ</td>\n",
       "        <td style=\"padding-left: 1em; padding-right: 1em; text-align: center; vertical-align: top\">0.0</td>\n",
       "        <td style=\"padding-left: 1em; padding-right: 1em; text-align: center; vertical-align: top\">1</td>\n",
       "    </tr>\n",
       "    <tr>\n",
       "        <td style=\"padding-left: 1em; padding-right: 1em; text-align: center; vertical-align: top\">0</td>\n",
       "        <td style=\"padding-left: 1em; padding-right: 1em; text-align: center; vertical-align: top\">ZAqgv1gply0m_4fHAIffWA</td>\n",
       "        <td style=\"padding-left: 1em; padding-right: 1em; text-align: center; vertical-align: top\">0.717255031051</td>\n",
       "        <td style=\"padding-left: 1em; padding-right: 1em; text-align: center; vertical-align: top\">2</td>\n",
       "    </tr>\n",
       "    <tr>\n",
       "        <td style=\"padding-left: 1em; padding-right: 1em; text-align: center; vertical-align: top\">0</td>\n",
       "        <td style=\"padding-left: 1em; padding-right: 1em; text-align: center; vertical-align: top\">NaZVUOzqk5b-l0mlki-9Og</td>\n",
       "        <td style=\"padding-left: 1em; padding-right: 1em; text-align: center; vertical-align: top\">0.720187334106</td>\n",
       "        <td style=\"padding-left: 1em; padding-right: 1em; text-align: center; vertical-align: top\">3</td>\n",
       "    </tr>\n",
       "    <tr>\n",
       "        <td style=\"padding-left: 1em; padding-right: 1em; text-align: center; vertical-align: top\">0</td>\n",
       "        <td style=\"padding-left: 1em; padding-right: 1em; text-align: center; vertical-align: top\">SVGApDPNdpFlEjwRQThCxA</td>\n",
       "        <td style=\"padding-left: 1em; padding-right: 1em; text-align: center; vertical-align: top\">0.72837888652</td>\n",
       "        <td style=\"padding-left: 1em; padding-right: 1em; text-align: center; vertical-align: top\">4</td>\n",
       "    </tr>\n",
       "    <tr>\n",
       "        <td style=\"padding-left: 1em; padding-right: 1em; text-align: center; vertical-align: top\">0</td>\n",
       "        <td style=\"padding-left: 1em; padding-right: 1em; text-align: center; vertical-align: top\">KoqiR3YN3mhbyuUWYIhuIw</td>\n",
       "        <td style=\"padding-left: 1em; padding-right: 1em; text-align: center; vertical-align: top\">0.747305689827</td>\n",
       "        <td style=\"padding-left: 1em; padding-right: 1em; text-align: center; vertical-align: top\">5</td>\n",
       "    </tr>\n",
       "    <tr>\n",
       "        <td style=\"padding-left: 1em; padding-right: 1em; text-align: center; vertical-align: top\">1</td>\n",
       "        <td style=\"padding-left: 1em; padding-right: 1em; text-align: center; vertical-align: top\">pomGBqfbxcqPv14c3XH-ZQ</td>\n",
       "        <td style=\"padding-left: 1em; padding-right: 1em; text-align: center; vertical-align: top\">0.0</td>\n",
       "        <td style=\"padding-left: 1em; padding-right: 1em; text-align: center; vertical-align: top\">1</td>\n",
       "    </tr>\n",
       "    <tr>\n",
       "        <td style=\"padding-left: 1em; padding-right: 1em; text-align: center; vertical-align: top\">1</td>\n",
       "        <td style=\"padding-left: 1em; padding-right: 1em; text-align: center; vertical-align: top\">kRgAf6j2y1eR0wOFdzFAuw</td>\n",
       "        <td style=\"padding-left: 1em; padding-right: 1em; text-align: center; vertical-align: top\">0.799593518973</td>\n",
       "        <td style=\"padding-left: 1em; padding-right: 1em; text-align: center; vertical-align: top\">2</td>\n",
       "    </tr>\n",
       "    <tr>\n",
       "        <td style=\"padding-left: 1em; padding-right: 1em; text-align: center; vertical-align: top\">1</td>\n",
       "        <td style=\"padding-left: 1em; padding-right: 1em; text-align: center; vertical-align: top\">fHM09_y3QX3n4a_bIFbk_w</td>\n",
       "        <td style=\"padding-left: 1em; padding-right: 1em; text-align: center; vertical-align: top\">0.807788795641</td>\n",
       "        <td style=\"padding-left: 1em; padding-right: 1em; text-align: center; vertical-align: top\">3</td>\n",
       "    </tr>\n",
       "    <tr>\n",
       "        <td style=\"padding-left: 1em; padding-right: 1em; text-align: center; vertical-align: top\">1</td>\n",
       "        <td style=\"padding-left: 1em; padding-right: 1em; text-align: center; vertical-align: top\">WkTjbYtLiZqK-jpce7Gtuw</td>\n",
       "        <td style=\"padding-left: 1em; padding-right: 1em; text-align: center; vertical-align: top\">0.814340517585</td>\n",
       "        <td style=\"padding-left: 1em; padding-right: 1em; text-align: center; vertical-align: top\">4</td>\n",
       "    </tr>\n",
       "    <tr>\n",
       "        <td style=\"padding-left: 1em; padding-right: 1em; text-align: center; vertical-align: top\">1</td>\n",
       "        <td style=\"padding-left: 1em; padding-right: 1em; text-align: center; vertical-align: top\">P7pxQFqr7yBKMMI2J51udw</td>\n",
       "        <td style=\"padding-left: 1em; padding-right: 1em; text-align: center; vertical-align: top\">0.814353220415</td>\n",
       "        <td style=\"padding-left: 1em; padding-right: 1em; text-align: center; vertical-align: top\">5</td>\n",
       "    </tr>\n",
       "</table>\n",
       "[5235 rows x 4 columns]<br/>Note: Only the head of the SFrame is printed.<br/>You can use print_rows(num_rows=m, num_columns=n) to print more rows and columns.\n",
       "</div>"
      ],
      "text/plain": [
       "Columns:\n",
       "\tquery_label\tint\n",
       "\treference_label\tstr\n",
       "\tdistance\tfloat\n",
       "\trank\tint\n",
       "\n",
       "Rows: 5235\n",
       "\n",
       "Data:\n",
       "+-------------+------------------------+----------------+------+\n",
       "| query_label |    reference_label     |    distance    | rank |\n",
       "+-------------+------------------------+----------------+------+\n",
       "|      0      | pomGBqfbxcqPv14c3XH-ZQ |      0.0       |  1   |\n",
       "|      0      | ZAqgv1gply0m_4fHAIffWA | 0.717255031051 |  2   |\n",
       "|      0      | NaZVUOzqk5b-l0mlki-9Og | 0.720187334106 |  3   |\n",
       "|      0      | SVGApDPNdpFlEjwRQThCxA | 0.72837888652  |  4   |\n",
       "|      0      | KoqiR3YN3mhbyuUWYIhuIw | 0.747305689827 |  5   |\n",
       "|      1      | pomGBqfbxcqPv14c3XH-ZQ |      0.0       |  1   |\n",
       "|      1      | kRgAf6j2y1eR0wOFdzFAuw | 0.799593518973 |  2   |\n",
       "|      1      | fHM09_y3QX3n4a_bIFbk_w | 0.807788795641 |  3   |\n",
       "|      1      | WkTjbYtLiZqK-jpce7Gtuw | 0.814340517585 |  4   |\n",
       "|      1      | P7pxQFqr7yBKMMI2J51udw | 0.814353220415 |  5   |\n",
       "+-------------+------------------------+----------------+------+\n",
       "[5235 rows x 4 columns]\n",
       "Note: Only the head of the SFrame is printed.\n",
       "You can use print_rows(num_rows=m, num_columns=n) to print more rows and columns."
      ]
     },
     "execution_count": 13,
     "metadata": {},
     "output_type": "execute_result"
    }
   ],
   "source": [
    "#결과값 보여주기 (tfidf)\n",
    "knn_model_ti.query(b1)"
   ]
  },
  {
   "cell_type": "code",
   "execution_count": 14,
   "metadata": {
    "collapsed": true
   },
   "outputs": [],
   "source": [
    "#Mexican 레스토랑 비슷한 종류를 추천함을 볼 수 있다"
   ]
  }
 ],
 "metadata": {
  "kernelspec": {
   "display_name": "Python 2",
   "language": "python",
   "name": "python2"
  },
  "language_info": {
   "codemirror_mode": {
    "name": "ipython",
    "version": 2
   },
   "file_extension": ".py",
   "mimetype": "text/x-python",
   "name": "python",
   "nbconvert_exporter": "python",
   "pygments_lexer": "ipython2",
   "version": "2.7.13"
  }
 },
 "nbformat": 4,
 "nbformat_minor": 0
}
