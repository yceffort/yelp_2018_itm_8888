{
 "cells": [
  {
   "cell_type": "code",
   "execution_count": 1,
   "metadata": {
    "collapsed": true
   },
   "outputs": [],
   "source": [
    "#그래프랩 불러오기\n",
    "import graphlab as gl"
   ]
  },
  {
   "cell_type": "code",
   "execution_count": 2,
   "metadata": {
    "collapsed": false
   },
   "outputs": [
    {
     "name": "stderr",
     "output_type": "stream",
     "text": [
      "[INFO] graphlab.cython.cy_server: GraphLab Create v2.1 started. Logging: C:\\Users\\USER\\AppData\\Local\\Temp\\graphlab_server_1543834663.log.0\n"
     ]
    },
    {
     "name": "stdout",
     "output_type": "stream",
     "text": [
      "This non-commercial license of GraphLab Create for academic use is assigned to lchlch88@kaist.ac.kr and will expire on September 07, 2019.\n"
     ]
    },
    {
     "data": {
      "text/html": [
       "<div style=\"max-height:1000px;max-width:1500px;overflow:auto;\"><table frame=\"box\" rules=\"cols\">\n",
       "    <tr>\n",
       "        <th style=\"padding-left: 1em; padding-right: 1em; text-align: center\">business_id</th>\n",
       "        <th style=\"padding-left: 1em; padding-right: 1em; text-align: center\">cool</th>\n",
       "        <th style=\"padding-left: 1em; padding-right: 1em; text-align: center\">date</th>\n",
       "        <th style=\"padding-left: 1em; padding-right: 1em; text-align: center\">funny</th>\n",
       "        <th style=\"padding-left: 1em; padding-right: 1em; text-align: center\">review_id</th>\n",
       "        <th style=\"padding-left: 1em; padding-right: 1em; text-align: center\">stars</th>\n",
       "        <th style=\"padding-left: 1em; padding-right: 1em; text-align: center\">text</th>\n",
       "        <th style=\"padding-left: 1em; padding-right: 1em; text-align: center\">useful</th>\n",
       "    </tr>\n",
       "    <tr>\n",
       "        <td style=\"padding-left: 1em; padding-right: 1em; text-align: center; vertical-align: top\">iCQpiavjjPzJ5_3gPD5Ebg</td>\n",
       "        <td style=\"padding-left: 1em; padding-right: 1em; text-align: center; vertical-align: top\">0</td>\n",
       "        <td style=\"padding-left: 1em; padding-right: 1em; text-align: center; vertical-align: top\">2011-02-25</td>\n",
       "        <td style=\"padding-left: 1em; padding-right: 1em; text-align: center; vertical-align: top\">0</td>\n",
       "        <td style=\"padding-left: 1em; padding-right: 1em; text-align: center; vertical-align: top\">x7mDIiDB3jEiPGPHOmDzyw</td>\n",
       "        <td style=\"padding-left: 1em; padding-right: 1em; text-align: center; vertical-align: top\">2</td>\n",
       "        <td style=\"padding-left: 1em; padding-right: 1em; text-align: center; vertical-align: top\">The pizza was okay. Not<br>the best I've had. I ...</td>\n",
       "        <td style=\"padding-left: 1em; padding-right: 1em; text-align: center; vertical-align: top\">0</td>\n",
       "    </tr>\n",
       "    <tr>\n",
       "        <td style=\"padding-left: 1em; padding-right: 1em; text-align: center; vertical-align: top\">pomGBqfbxcqPv14c3XH-ZQ</td>\n",
       "        <td style=\"padding-left: 1em; padding-right: 1em; text-align: center; vertical-align: top\">0</td>\n",
       "        <td style=\"padding-left: 1em; padding-right: 1em; text-align: center; vertical-align: top\">2012-11-13</td>\n",
       "        <td style=\"padding-left: 1em; padding-right: 1em; text-align: center; vertical-align: top\">0</td>\n",
       "        <td style=\"padding-left: 1em; padding-right: 1em; text-align: center; vertical-align: top\">dDl8zu1vWPdKGihJrwQbpw</td>\n",
       "        <td style=\"padding-left: 1em; padding-right: 1em; text-align: center; vertical-align: top\">5</td>\n",
       "        <td style=\"padding-left: 1em; padding-right: 1em; text-align: center; vertical-align: top\">I love this place! My<br>fiance And I go here ...</td>\n",
       "        <td style=\"padding-left: 1em; padding-right: 1em; text-align: center; vertical-align: top\">0</td>\n",
       "    </tr>\n",
       "    <tr>\n",
       "        <td style=\"padding-left: 1em; padding-right: 1em; text-align: center; vertical-align: top\">jtQARsP6P-LbkyjbO1qNGg</td>\n",
       "        <td style=\"padding-left: 1em; padding-right: 1em; text-align: center; vertical-align: top\">1</td>\n",
       "        <td style=\"padding-left: 1em; padding-right: 1em; text-align: center; vertical-align: top\">2014-10-23</td>\n",
       "        <td style=\"padding-left: 1em; padding-right: 1em; text-align: center; vertical-align: top\">1</td>\n",
       "        <td style=\"padding-left: 1em; padding-right: 1em; text-align: center; vertical-align: top\">LZp4UX5zK3e-c5ZGSeo3kA</td>\n",
       "        <td style=\"padding-left: 1em; padding-right: 1em; text-align: center; vertical-align: top\">1</td>\n",
       "        <td style=\"padding-left: 1em; padding-right: 1em; text-align: center; vertical-align: top\">Terrible. Dry corn bread.<br>Rib tips were all fat ...</td>\n",
       "        <td style=\"padding-left: 1em; padding-right: 1em; text-align: center; vertical-align: top\">3</td>\n",
       "    </tr>\n",
       "    <tr>\n",
       "        <td style=\"padding-left: 1em; padding-right: 1em; text-align: center; vertical-align: top\">elqbBhBfElMNSrjFqW3now</td>\n",
       "        <td style=\"padding-left: 1em; padding-right: 1em; text-align: center; vertical-align: top\">0</td>\n",
       "        <td style=\"padding-left: 1em; padding-right: 1em; text-align: center; vertical-align: top\">2011-02-25</td>\n",
       "        <td style=\"padding-left: 1em; padding-right: 1em; text-align: center; vertical-align: top\">0</td>\n",
       "        <td style=\"padding-left: 1em; padding-right: 1em; text-align: center; vertical-align: top\">Er4NBWCmCD4nM8_p1GRdow</td>\n",
       "        <td style=\"padding-left: 1em; padding-right: 1em; text-align: center; vertical-align: top\">2</td>\n",
       "        <td style=\"padding-left: 1em; padding-right: 1em; text-align: center; vertical-align: top\">Back in 2005-2007 this<br>place was my FAVORITE ...</td>\n",
       "        <td style=\"padding-left: 1em; padding-right: 1em; text-align: center; vertical-align: top\">2</td>\n",
       "    </tr>\n",
       "    <tr>\n",
       "        <td style=\"padding-left: 1em; padding-right: 1em; text-align: center; vertical-align: top\">zdE82PiD6wquvjYLyhOJNA</td>\n",
       "        <td style=\"padding-left: 1em; padding-right: 1em; text-align: center; vertical-align: top\">0</td>\n",
       "        <td style=\"padding-left: 1em; padding-right: 1em; text-align: center; vertical-align: top\">2012-04-18</td>\n",
       "        <td style=\"padding-left: 1em; padding-right: 1em; text-align: center; vertical-align: top\">1</td>\n",
       "        <td style=\"padding-left: 1em; padding-right: 1em; text-align: center; vertical-align: top\">kUZWBVZvhWuC8TWUg5AYyA</td>\n",
       "        <td style=\"padding-left: 1em; padding-right: 1em; text-align: center; vertical-align: top\">5</td>\n",
       "        <td style=\"padding-left: 1em; padding-right: 1em; text-align: center; vertical-align: top\">AMAZING!!!\\n\\n I was<br>referred here by a fr ...</td>\n",
       "        <td style=\"padding-left: 1em; padding-right: 1em; text-align: center; vertical-align: top\">0</td>\n",
       "    </tr>\n",
       "    <tr>\n",
       "        <td style=\"padding-left: 1em; padding-right: 1em; text-align: center; vertical-align: top\">EAwh1OmG6t6p3nRaZOW_AA</td>\n",
       "        <td style=\"padding-left: 1em; padding-right: 1em; text-align: center; vertical-align: top\">0</td>\n",
       "        <td style=\"padding-left: 1em; padding-right: 1em; text-align: center; vertical-align: top\">2011-02-25</td>\n",
       "        <td style=\"padding-left: 1em; padding-right: 1em; text-align: center; vertical-align: top\">0</td>\n",
       "        <td style=\"padding-left: 1em; padding-right: 1em; text-align: center; vertical-align: top\">wcqt0III88LEcm19IxFFyA</td>\n",
       "        <td style=\"padding-left: 1em; padding-right: 1em; text-align: center; vertical-align: top\">4</td>\n",
       "        <td style=\"padding-left: 1em; padding-right: 1em; text-align: center; vertical-align: top\">Ribs = amazing\\n2 hour<br>wait time= not so ...</td>\n",
       "        <td style=\"padding-left: 1em; padding-right: 1em; text-align: center; vertical-align: top\">0</td>\n",
       "    </tr>\n",
       "    <tr>\n",
       "        <td style=\"padding-left: 1em; padding-right: 1em; text-align: center; vertical-align: top\">atVh8viqTj-sqDJ35tAYVg</td>\n",
       "        <td style=\"padding-left: 1em; padding-right: 1em; text-align: center; vertical-align: top\">1</td>\n",
       "        <td style=\"padding-left: 1em; padding-right: 1em; text-align: center; vertical-align: top\">2012-11-09</td>\n",
       "        <td style=\"padding-left: 1em; padding-right: 1em; text-align: center; vertical-align: top\">2</td>\n",
       "        <td style=\"padding-left: 1em; padding-right: 1em; text-align: center; vertical-align: top\">LWUtqzNthMM3vpWZIFBlPw</td>\n",
       "        <td style=\"padding-left: 1em; padding-right: 1em; text-align: center; vertical-align: top\">2</td>\n",
       "        <td style=\"padding-left: 1em; padding-right: 1em; text-align: center; vertical-align: top\">Food is pretty good, not<br>gonna lie. BUT you have ...</td>\n",
       "        <td style=\"padding-left: 1em; padding-right: 1em; text-align: center; vertical-align: top\">1</td>\n",
       "    </tr>\n",
       "    <tr>\n",
       "        <td style=\"padding-left: 1em; padding-right: 1em; text-align: center; vertical-align: top\">3Mx4renubPRnjHUw1n2UkA</td>\n",
       "        <td style=\"padding-left: 1em; padding-right: 1em; text-align: center; vertical-align: top\">0</td>\n",
       "        <td style=\"padding-left: 1em; padding-right: 1em; text-align: center; vertical-align: top\">2015-09-30</td>\n",
       "        <td style=\"padding-left: 1em; padding-right: 1em; text-align: center; vertical-align: top\">1</td>\n",
       "        <td style=\"padding-left: 1em; padding-right: 1em; text-align: center; vertical-align: top\">MTrzrLQT_LK2VLK9xantHw</td>\n",
       "        <td style=\"padding-left: 1em; padding-right: 1em; text-align: center; vertical-align: top\">1</td>\n",
       "        <td style=\"padding-left: 1em; padding-right: 1em; text-align: center; vertical-align: top\">If I could leave zero<br>stars I would. This rude ...</td>\n",
       "        <td style=\"padding-left: 1em; padding-right: 1em; text-align: center; vertical-align: top\">4</td>\n",
       "    </tr>\n",
       "    <tr>\n",
       "        <td style=\"padding-left: 1em; padding-right: 1em; text-align: center; vertical-align: top\">uanCi4OGc1mHLGl_AT4JhQ</td>\n",
       "        <td style=\"padding-left: 1em; padding-right: 1em; text-align: center; vertical-align: top\">0</td>\n",
       "        <td style=\"padding-left: 1em; padding-right: 1em; text-align: center; vertical-align: top\">2016-04-04</td>\n",
       "        <td style=\"padding-left: 1em; padding-right: 1em; text-align: center; vertical-align: top\">1</td>\n",
       "        <td style=\"padding-left: 1em; padding-right: 1em; text-align: center; vertical-align: top\">Am8VMrPYMl9WGCpA4ji-gg</td>\n",
       "        <td style=\"padding-left: 1em; padding-right: 1em; text-align: center; vertical-align: top\">1</td>\n",
       "        <td style=\"padding-left: 1em; padding-right: 1em; text-align: center; vertical-align: top\">Probably the worst<br>experience at a hotel in ...</td>\n",
       "        <td style=\"padding-left: 1em; padding-right: 1em; text-align: center; vertical-align: top\">0</td>\n",
       "    </tr>\n",
       "    <tr>\n",
       "        <td style=\"padding-left: 1em; padding-right: 1em; text-align: center; vertical-align: top\">faPVqws-x-5k2CQKDNtHxw</td>\n",
       "        <td style=\"padding-left: 1em; padding-right: 1em; text-align: center; vertical-align: top\">0</td>\n",
       "        <td style=\"padding-left: 1em; padding-right: 1em; text-align: center; vertical-align: top\">2015-03-25</td>\n",
       "        <td style=\"padding-left: 1em; padding-right: 1em; text-align: center; vertical-align: top\">2</td>\n",
       "        <td style=\"padding-left: 1em; padding-right: 1em; text-align: center; vertical-align: top\">QHueaxKHuBpbDOkWb0Cyfw</td>\n",
       "        <td style=\"padding-left: 1em; padding-right: 1em; text-align: center; vertical-align: top\">1</td>\n",
       "        <td style=\"padding-left: 1em; padding-right: 1em; text-align: center; vertical-align: top\">People please...the only<br>good thing about this ...</td>\n",
       "        <td style=\"padding-left: 1em; padding-right: 1em; text-align: center; vertical-align: top\">2</td>\n",
       "    </tr>\n",
       "</table>\n",
       "<table frame=\"box\" rules=\"cols\">\n",
       "    <tr>\n",
       "        <th style=\"padding-left: 1em; padding-right: 1em; text-align: center\">user_id</th>\n",
       "    </tr>\n",
       "    <tr>\n",
       "        <td style=\"padding-left: 1em; padding-right: 1em; text-align: center; vertical-align: top\">msQe1u7Z_XuqjGoqhB0J5g</td>\n",
       "    </tr>\n",
       "    <tr>\n",
       "        <td style=\"padding-left: 1em; padding-right: 1em; text-align: center; vertical-align: top\">msQe1u7Z_XuqjGoqhB0J5g</td>\n",
       "    </tr>\n",
       "    <tr>\n",
       "        <td style=\"padding-left: 1em; padding-right: 1em; text-align: center; vertical-align: top\">msQe1u7Z_XuqjGoqhB0J5g</td>\n",
       "    </tr>\n",
       "    <tr>\n",
       "        <td style=\"padding-left: 1em; padding-right: 1em; text-align: center; vertical-align: top\">msQe1u7Z_XuqjGoqhB0J5g</td>\n",
       "    </tr>\n",
       "    <tr>\n",
       "        <td style=\"padding-left: 1em; padding-right: 1em; text-align: center; vertical-align: top\">msQe1u7Z_XuqjGoqhB0J5g</td>\n",
       "    </tr>\n",
       "    <tr>\n",
       "        <td style=\"padding-left: 1em; padding-right: 1em; text-align: center; vertical-align: top\">msQe1u7Z_XuqjGoqhB0J5g</td>\n",
       "    </tr>\n",
       "    <tr>\n",
       "        <td style=\"padding-left: 1em; padding-right: 1em; text-align: center; vertical-align: top\">msQe1u7Z_XuqjGoqhB0J5g</td>\n",
       "    </tr>\n",
       "    <tr>\n",
       "        <td style=\"padding-left: 1em; padding-right: 1em; text-align: center; vertical-align: top\">eAavwM32i2h7sNNer--kGw</td>\n",
       "    </tr>\n",
       "    <tr>\n",
       "        <td style=\"padding-left: 1em; padding-right: 1em; text-align: center; vertical-align: top\">ndEeYBva8wU1N_vzfvOhEQ</td>\n",
       "    </tr>\n",
       "    <tr>\n",
       "        <td style=\"padding-left: 1em; padding-right: 1em; text-align: center; vertical-align: top\">0AIj432MvowwghnpurtP-Q</td>\n",
       "    </tr>\n",
       "</table>\n",
       "[1018327 rows x 9 columns]<br/>Note: Only the head of the SFrame is printed.<br/>You can use print_rows(num_rows=m, num_columns=n) to print more rows and columns.\n",
       "</div>"
      ],
      "text/plain": [
       "Columns:\n",
       "\tbusiness_id\tstr\n",
       "\tcool\tint\n",
       "\tdate\tstr\n",
       "\tfunny\tint\n",
       "\treview_id\tstr\n",
       "\tstars\tint\n",
       "\ttext\tstr\n",
       "\tuseful\tint\n",
       "\tuser_id\tstr\n",
       "\n",
       "Rows: 1018327\n",
       "\n",
       "Data:\n",
       "+------------------------+------+------------+-------+------------------------+\n",
       "|      business_id       | cool |    date    | funny |       review_id        |\n",
       "+------------------------+------+------------+-------+------------------------+\n",
       "| iCQpiavjjPzJ5_3gPD5Ebg |  0   | 2011-02-25 |   0   | x7mDIiDB3jEiPGPHOmDzyw |\n",
       "| pomGBqfbxcqPv14c3XH-ZQ |  0   | 2012-11-13 |   0   | dDl8zu1vWPdKGihJrwQbpw |\n",
       "| jtQARsP6P-LbkyjbO1qNGg |  1   | 2014-10-23 |   1   | LZp4UX5zK3e-c5ZGSeo3kA |\n",
       "| elqbBhBfElMNSrjFqW3now |  0   | 2011-02-25 |   0   | Er4NBWCmCD4nM8_p1GRdow |\n",
       "| zdE82PiD6wquvjYLyhOJNA |  0   | 2012-04-18 |   1   | kUZWBVZvhWuC8TWUg5AYyA |\n",
       "| EAwh1OmG6t6p3nRaZOW_AA |  0   | 2011-02-25 |   0   | wcqt0III88LEcm19IxFFyA |\n",
       "| atVh8viqTj-sqDJ35tAYVg |  1   | 2012-11-09 |   2   | LWUtqzNthMM3vpWZIFBlPw |\n",
       "| 3Mx4renubPRnjHUw1n2UkA |  0   | 2015-09-30 |   1   | MTrzrLQT_LK2VLK9xantHw |\n",
       "| uanCi4OGc1mHLGl_AT4JhQ |  0   | 2016-04-04 |   1   | Am8VMrPYMl9WGCpA4ji-gg |\n",
       "| faPVqws-x-5k2CQKDNtHxw |  0   | 2015-03-25 |   2   | QHueaxKHuBpbDOkWb0Cyfw |\n",
       "+------------------------+------+------------+-------+------------------------+\n",
       "+-------+-------------------------------+--------+------------------------+\n",
       "| stars |              text             | useful |        user_id         |\n",
       "+-------+-------------------------------+--------+------------------------+\n",
       "|   2   | The pizza was okay. Not th... |   0    | msQe1u7Z_XuqjGoqhB0J5g |\n",
       "|   5   | I love this place! My fian... |   0    | msQe1u7Z_XuqjGoqhB0J5g |\n",
       "|   1   | Terrible. Dry corn bread. ... |   3    | msQe1u7Z_XuqjGoqhB0J5g |\n",
       "|   2   | Back in 2005-2007 this pla... |   2    | msQe1u7Z_XuqjGoqhB0J5g |\n",
       "|   5   | AMAZING!!!\\n\\n I was refer... |   0    | msQe1u7Z_XuqjGoqhB0J5g |\n",
       "|   4   | Ribs = amazing\\n2 hour wai... |   0    | msQe1u7Z_XuqjGoqhB0J5g |\n",
       "|   2   | Food is pretty good, not g... |   1    | msQe1u7Z_XuqjGoqhB0J5g |\n",
       "|   1   | If I could leave zero star... |   4    | eAavwM32i2h7sNNer--kGw |\n",
       "|   1   | Probably the worst experie... |   0    | ndEeYBva8wU1N_vzfvOhEQ |\n",
       "|   1   | People please...the only g... |   2    | 0AIj432MvowwghnpurtP-Q |\n",
       "+-------+-------------------------------+--------+------------------------+\n",
       "[1018327 rows x 9 columns]\n",
       "Note: Only the head of the SFrame is printed.\n",
       "You can use print_rows(num_rows=m, num_columns=n) to print more rows and columns."
      ]
     },
     "execution_count": 2,
     "metadata": {},
     "output_type": "execute_result"
    }
   ],
   "source": [
    "#리뷰 데이터 불러오기\n",
    "data = gl.SFrame('./Toronto/reviews')\n",
    "data"
   ]
  },
  {
   "cell_type": "code",
   "execution_count": 9,
   "metadata": {
    "collapsed": false
   },
   "outputs": [
    {
     "name": "stdout",
     "output_type": "stream",
     "text": [
      "PROGRESS: Creating a validation set from 5 percent of training data. This may take a while.\n",
      "          You can set ``validation_set=None`` to disable validation tracking.\n",
      "\n"
     ]
    },
    {
     "data": {
      "text/html": [
       "<pre>WARNING: The number of feature dimensions in this problem is very large in comparison with the number of examples. Unless an appropriate regularization value is set, this model may not provide accurate predictions for a validation/test set.</pre>"
      ],
      "text/plain": [
       "WARNING: The number of feature dimensions in this problem is very large in comparison with the number of examples. Unless an appropriate regularization value is set, this model may not provide accurate predictions for a validation/test set."
      ]
     },
     "metadata": {},
     "output_type": "display_data"
    },
    {
     "data": {
      "text/html": [
       "<pre>Logistic regression:</pre>"
      ],
      "text/plain": [
       "Logistic regression:"
      ]
     },
     "metadata": {},
     "output_type": "display_data"
    },
    {
     "data": {
      "text/html": [
       "<pre>--------------------------------------------------------</pre>"
      ],
      "text/plain": [
       "--------------------------------------------------------"
      ]
     },
     "metadata": {},
     "output_type": "display_data"
    },
    {
     "data": {
      "text/html": [
       "<pre>Number of examples          : 844341</pre>"
      ],
      "text/plain": [
       "Number of examples          : 844341"
      ]
     },
     "metadata": {},
     "output_type": "display_data"
    },
    {
     "data": {
      "text/html": [
       "<pre>Number of classes           : 2</pre>"
      ],
      "text/plain": [
       "Number of classes           : 2"
      ]
     },
     "metadata": {},
     "output_type": "display_data"
    },
    {
     "data": {
      "text/html": [
       "<pre>Number of feature columns   : 1</pre>"
      ],
      "text/plain": [
       "Number of feature columns   : 1"
      ]
     },
     "metadata": {},
     "output_type": "display_data"
    },
    {
     "data": {
      "text/html": [
       "<pre>Number of unpacked features : 880453</pre>"
      ],
      "text/plain": [
       "Number of unpacked features : 880453"
      ]
     },
     "metadata": {},
     "output_type": "display_data"
    },
    {
     "data": {
      "text/html": [
       "<pre>Number of coefficients    : 880454</pre>"
      ],
      "text/plain": [
       "Number of coefficients    : 880454"
      ]
     },
     "metadata": {},
     "output_type": "display_data"
    },
    {
     "data": {
      "text/html": [
       "<pre>Starting L-BFGS</pre>"
      ],
      "text/plain": [
       "Starting L-BFGS"
      ]
     },
     "metadata": {},
     "output_type": "display_data"
    },
    {
     "data": {
      "text/html": [
       "<pre>--------------------------------------------------------</pre>"
      ],
      "text/plain": [
       "--------------------------------------------------------"
      ]
     },
     "metadata": {},
     "output_type": "display_data"
    },
    {
     "data": {
      "text/html": [
       "<pre>+-----------+----------+-----------+--------------+-------------------+---------------------+</pre>"
      ],
      "text/plain": [
       "+-----------+----------+-----------+--------------+-------------------+---------------------+"
      ]
     },
     "metadata": {},
     "output_type": "display_data"
    },
    {
     "data": {
      "text/html": [
       "<pre>| Iteration | Passes   | Step size | Elapsed Time | Training-accuracy | Validation-accuracy |</pre>"
      ],
      "text/plain": [
       "| Iteration | Passes   | Step size | Elapsed Time | Training-accuracy | Validation-accuracy |"
      ]
     },
     "metadata": {},
     "output_type": "display_data"
    },
    {
     "data": {
      "text/html": [
       "<pre>+-----------+----------+-----------+--------------+-------------------+---------------------+</pre>"
      ],
      "text/plain": [
       "+-----------+----------+-----------+--------------+-------------------+---------------------+"
      ]
     },
     "metadata": {},
     "output_type": "display_data"
    },
    {
     "data": {
      "text/html": [
       "<pre>| 1         | 6        | 0.000000  | 12.384308    | 0.757850          | 0.756237            |</pre>"
      ],
      "text/plain": [
       "| 1         | 6        | 0.000000  | 12.384308    | 0.757850          | 0.756237            |"
      ]
     },
     "metadata": {},
     "output_type": "display_data"
    },
    {
     "data": {
      "text/html": [
       "<pre>| 2         | 9        | 5.000000  | 20.363258    | 0.943460          | 0.921612            |</pre>"
      ],
      "text/plain": [
       "| 2         | 9        | 5.000000  | 20.363258    | 0.943460          | 0.921612            |"
      ]
     },
     "metadata": {},
     "output_type": "display_data"
    },
    {
     "data": {
      "text/html": [
       "<pre>| 3         | 10       | 5.000000  | 24.018475    | 0.934362          | 0.905580            |</pre>"
      ],
      "text/plain": [
       "| 3         | 10       | 5.000000  | 24.018475    | 0.934362          | 0.905580            |"
      ]
     },
     "metadata": {},
     "output_type": "display_data"
    },
    {
     "data": {
      "text/html": [
       "<pre>| 4         | 11       | 5.000000  | 27.468472    | 0.923826          | 0.892040            |</pre>"
      ],
      "text/plain": [
       "| 4         | 11       | 5.000000  | 27.468472    | 0.923826          | 0.892040            |"
      ]
     },
     "metadata": {},
     "output_type": "display_data"
    },
    {
     "data": {
      "text/html": [
       "<pre>| 5         | 13       | 1.000000  | 33.425954    | 0.968059          | 0.940631            |</pre>"
      ],
      "text/plain": [
       "| 5         | 13       | 1.000000  | 33.425954    | 0.968059          | 0.940631            |"
      ]
     },
     "metadata": {},
     "output_type": "display_data"
    },
    {
     "data": {
      "text/html": [
       "<pre>| 6         | 14       | 1.000000  | 37.433148    | 0.976097          | 0.948557            |</pre>"
      ],
      "text/plain": [
       "| 6         | 14       | 1.000000  | 37.433148    | 0.976097          | 0.948557            |"
      ]
     },
     "metadata": {},
     "output_type": "display_data"
    },
    {
     "data": {
      "text/html": [
       "<pre>| 7         | 15       | 1.000000  | 41.378720    | 0.977478          | 0.949006            |</pre>"
      ],
      "text/plain": [
       "| 7         | 15       | 1.000000  | 41.378720    | 0.977478          | 0.949006            |"
      ]
     },
     "metadata": {},
     "output_type": "display_data"
    },
    {
     "data": {
      "text/html": [
       "<pre>| 8         | 16       | 1.000000  | 44.997717    | 0.979334          | 0.948804            |</pre>"
      ],
      "text/plain": [
       "| 8         | 16       | 1.000000  | 44.997717    | 0.979334          | 0.948804            |"
      ]
     },
     "metadata": {},
     "output_type": "display_data"
    },
    {
     "data": {
      "text/html": [
       "<pre>| 9         | 17       | 1.000000  | 48.543767    | 0.982415          | 0.949770            |</pre>"
      ],
      "text/plain": [
       "| 9         | 17       | 1.000000  | 48.543767    | 0.982415          | 0.949770            |"
      ]
     },
     "metadata": {},
     "output_type": "display_data"
    },
    {
     "data": {
      "text/html": [
       "<pre>| 10        | 18       | 1.000000  | 52.489508    | 0.987395          | 0.950466            |</pre>"
      ],
      "text/plain": [
       "| 10        | 18       | 1.000000  | 52.489508    | 0.987395          | 0.950466            |"
      ]
     },
     "metadata": {},
     "output_type": "display_data"
    },
    {
     "data": {
      "text/html": [
       "<pre>+-----------+----------+-----------+--------------+-------------------+---------------------+</pre>"
      ],
      "text/plain": [
       "+-----------+----------+-----------+--------------+-------------------+---------------------+"
      ]
     },
     "metadata": {},
     "output_type": "display_data"
    },
    {
     "data": {
      "text/html": [
       "<pre>TERMINATED: Iteration limit reached.</pre>"
      ],
      "text/plain": [
       "TERMINATED: Iteration limit reached."
      ]
     },
     "metadata": {},
     "output_type": "display_data"
    },
    {
     "data": {
      "text/html": [
       "<pre>This model may not be optimal. To improve it, consider increasing `max_iterations`.</pre>"
      ],
      "text/plain": [
       "This model may not be optimal. To improve it, consider increasing `max_iterations`."
      ]
     },
     "metadata": {},
     "output_type": "display_data"
    }
   ],
   "source": [
    "m = gl.sentiment_analysis.create(data, 'stars', features=['text'])"
   ]
  },
  {
   "cell_type": "code",
   "execution_count": 10,
   "metadata": {
    "collapsed": false
   },
   "outputs": [
    {
     "data": {
      "text/plain": [
       "dtype: float\n",
       "Rows: 888876\n",
       "[0.7001000465399475, 0.9999490156790415, 0.0647897628409357, 0.003462496431924502, 0.9999997188918442, 0.9985267717814013, 0.001828402549365451, 5.978853815688812e-06, 8.984655021862291e-05, 0.003512605536897861, 0.9815735704338728, 0.991595038010989, 0.9800321974838293, 0.9984528470974356, 0.9998943356149084, 0.9953752745198099, 0.9593677258126468, 0.9999524486636341, 0.9997976628968124, 0.9999999910846706, 0.9999681033450899, 0.9998910211425958, 0.9999371229636336, 0.9846215724982779, 0.027827652343507824, 0.0036960285544041646, 7.144116557009545e-06, 2.5078573458491407e-07, 0.959876815812105, 0.9998591717696105, 0.9999320279530257, 0.9968138828171176, 0.9991444752086955, 0.9838068103531932, 0.9935738991501271, 0.9512180816775943, 0.9940229721694934, 0.9996025209502395, 0.9997634787279107, 0.9842574379431536, 0.9797497009321408, 0.9174447514578473, 0.9778597965557428, 0.9999695297106885, 0.9990940680502673, 0.9973044921605879, 0.8770493593825432, 0.9998828736180562, 0.9999258207310348, 0.9980435382261168, 0.9999801283913546, 0.9999996831642276, 0.9085198637157411, 0.9498007945347111, 0.9991786374560621, 0.9981123633243655, 0.9999535767015977, 0.9667975359791309, 0.9999999255837192, 1.1084237719283243e-05, 0.9905735331191451, 0.07441405229036263, 0.986334803811252, 0.02552208894040424, 0.9921723235783947, 0.9928719147885192, 0.9862894537230709, 0.9870224303275369, 0.9921100943013125, 0.9999478934469482, 0.9999659778391151, 0.9971958331532543, 0.9990647221284669, 0.999812462414205, 0.996421609289821, 0.9999995539424995, 0.949760888454839, 0.9826352721849498, 0.868312115609104, 0.9999727189523936, 0.9995594665663984, 0.9878499607699197, 0.9999997622490598, 0.022843925048285425, 0.1162723163281822, 0.06865574920266174, 0.00042676837448294975, 0.0043020479505028126, 0.9712944528476798, 0.9905183246459159, 0.9194845826848087, 0.00026079856866825834, 0.9999876879648769, 0.9894324930180498, 0.9999999216737194, 0.999999829414288, 0.9999999992800035, 0.01147734523451601, 0.9999890029895084, 0.9999999997815605, ... ]"
      ]
     },
     "execution_count": 10,
     "metadata": {},
     "output_type": "execute_result"
    }
   ],
   "source": [
    "m.predict(data)"
   ]
  },
  {
   "cell_type": "code",
   "execution_count": 14,
   "metadata": {
    "collapsed": false
   },
   "outputs": [
    {
     "data": {
      "text/plain": [
       "{'accuracy': 0.9855446653976483,\n",
       " 'auc': 0.9976586175216016,\n",
       " 'confusion_matrix': Columns:\n",
       " \ttarget_label\tint\n",
       " \tpredicted_label\tint\n",
       " \tcount\tint\n",
       " \n",
       " Rows: 4\n",
       " \n",
       " Data:\n",
       " +--------------+-----------------+--------+\n",
       " | target_label | predicted_label | count  |\n",
       " +--------------+-----------------+--------+\n",
       " |      1       |        0        |  3812  |\n",
       " |      0       |        0        | 207166 |\n",
       " |      1       |        1        | 668861 |\n",
       " |      0       |        1        |  9037  |\n",
       " +--------------+-----------------+--------+\n",
       " [4 rows x 3 columns],\n",
       " 'f1_score': 0.9904862461877235,\n",
       " 'log_loss': 0.050133782548112606,\n",
       " 'precision': 0.9866690859096796,\n",
       " 'recall': 0.9943330563290038,\n",
       " 'roc_curve': Columns:\n",
       " \tthreshold\tfloat\n",
       " \tfpr\tfloat\n",
       " \ttpr\tfloat\n",
       " \tp\tint\n",
       " \tn\tint\n",
       " \n",
       " Rows: 100001\n",
       " \n",
       " Data:\n",
       " +-----------+----------------+----------------+--------+--------+\n",
       " | threshold |      fpr       |      tpr       |   p    |   n    |\n",
       " +-----------+----------------+----------------+--------+--------+\n",
       " |    0.0    |      1.0       |      1.0       | 672673 | 216203 |\n",
       " |   1e-05   | 0.852185214821 | 0.999989593755 | 672673 | 216203 |\n",
       " |   2e-05   | 0.831981979899 | 0.999986620542 | 672673 | 216203 |\n",
       " |   3e-05   | 0.818633413967 | 0.999982160723 | 672673 | 216203 |\n",
       " |   4e-05   | 0.808795437621 | 0.999980674117 | 672673 | 216203 |\n",
       " |   5e-05   | 0.801075840761 | 0.999976214297 | 672673 | 216203 |\n",
       " |   6e-05   | 0.794272049879 | 0.999976214297 | 672673 | 216203 |\n",
       " |   7e-05   | 0.788166676688 | 0.999974727691 | 672673 | 216203 |\n",
       " |   8e-05   | 0.782995610607 | 0.999974727691 | 672673 | 216203 |\n",
       " |   9e-05   | 0.778097436206 | 0.999973241084 | 672673 | 216203 |\n",
       " +-----------+----------------+----------------+--------+--------+\n",
       " [100001 rows x 5 columns]\n",
       " Note: Only the head of the SFrame is printed.\n",
       " You can use print_rows(num_rows=m, num_columns=n) to print more rows and columns.}"
      ]
     },
     "execution_count": 14,
     "metadata": {},
     "output_type": "execute_result"
    }
   ],
   "source": [
    "m.evaluate(data)"
   ]
  },
  {
   "cell_type": "code",
   "execution_count": 15,
   "metadata": {
    "collapsed": true
   },
   "outputs": [],
   "source": [
    "f = m['feature_extractor']"
   ]
  },
  {
   "cell_type": "code",
   "execution_count": 16,
   "metadata": {
    "collapsed": false
   },
   "outputs": [
    {
     "data": {
      "text/html": [
       "<div style=\"max-height:1000px;max-width:1500px;overflow:auto;\"><table frame=\"box\" rules=\"cols\">\n",
       "    <tr>\n",
       "        <th style=\"padding-left: 1em; padding-right: 1em; text-align: center\">business_id</th>\n",
       "        <th style=\"padding-left: 1em; padding-right: 1em; text-align: center\">cool</th>\n",
       "        <th style=\"padding-left: 1em; padding-right: 1em; text-align: center\">date</th>\n",
       "        <th style=\"padding-left: 1em; padding-right: 1em; text-align: center\">funny</th>\n",
       "        <th style=\"padding-left: 1em; padding-right: 1em; text-align: center\">review_id</th>\n",
       "        <th style=\"padding-left: 1em; padding-right: 1em; text-align: center\">stars</th>\n",
       "    </tr>\n",
       "    <tr>\n",
       "        <td style=\"padding-left: 1em; padding-right: 1em; text-align: center; vertical-align: top\">{'icqpiavjjpzj5_3gpd5ebg'<br>: 1L} ...</td>\n",
       "        <td style=\"padding-left: 1em; padding-right: 1em; text-align: center; vertical-align: top\">0</td>\n",
       "        <td style=\"padding-left: 1em; padding-right: 1em; text-align: center; vertical-align: top\">{'2011-02-25': 1L}</td>\n",
       "        <td style=\"padding-left: 1em; padding-right: 1em; text-align: center; vertical-align: top\">0</td>\n",
       "        <td style=\"padding-left: 1em; padding-right: 1em; text-align: center; vertical-align: top\">{'x7mdiidb3jeipgphomdzyw'<br>: 1L} ...</td>\n",
       "        <td style=\"padding-left: 1em; padding-right: 1em; text-align: center; vertical-align: top\">2</td>\n",
       "    </tr>\n",
       "    <tr>\n",
       "        <td style=\"padding-left: 1em; padding-right: 1em; text-align: center; vertical-align: top\">{'pomgbqfbxcqpv14c3xh-<br>zq': 1L} ...</td>\n",
       "        <td style=\"padding-left: 1em; padding-right: 1em; text-align: center; vertical-align: top\">0</td>\n",
       "        <td style=\"padding-left: 1em; padding-right: 1em; text-align: center; vertical-align: top\">{'2012-11-13': 1L}</td>\n",
       "        <td style=\"padding-left: 1em; padding-right: 1em; text-align: center; vertical-align: top\">0</td>\n",
       "        <td style=\"padding-left: 1em; padding-right: 1em; text-align: center; vertical-align: top\">{'ddl8zu1vwpdkgihjrwqbpw'<br>: 1L} ...</td>\n",
       "        <td style=\"padding-left: 1em; padding-right: 1em; text-align: center; vertical-align: top\">5</td>\n",
       "    </tr>\n",
       "    <tr>\n",
       "        <td style=\"padding-left: 1em; padding-right: 1em; text-align: center; vertical-align: top\">{'jtqarsp6p-<br>lbkyjbo1qngg': 1L} ...</td>\n",
       "        <td style=\"padding-left: 1em; padding-right: 1em; text-align: center; vertical-align: top\">1</td>\n",
       "        <td style=\"padding-left: 1em; padding-right: 1em; text-align: center; vertical-align: top\">{'2014-10-23': 1L}</td>\n",
       "        <td style=\"padding-left: 1em; padding-right: 1em; text-align: center; vertical-align: top\">1</td>\n",
       "        <td style=\"padding-left: 1em; padding-right: 1em; text-align: center; vertical-align: top\">{'lzp4ux5zk3e-<br>c5zgseo3ka': 1L} ...</td>\n",
       "        <td style=\"padding-left: 1em; padding-right: 1em; text-align: center; vertical-align: top\">1</td>\n",
       "    </tr>\n",
       "    <tr>\n",
       "        <td style=\"padding-left: 1em; padding-right: 1em; text-align: center; vertical-align: top\">{'elqbbhbfelmnsrjfqw3now'<br>: 1L} ...</td>\n",
       "        <td style=\"padding-left: 1em; padding-right: 1em; text-align: center; vertical-align: top\">0</td>\n",
       "        <td style=\"padding-left: 1em; padding-right: 1em; text-align: center; vertical-align: top\">{'2011-02-25': 1L}</td>\n",
       "        <td style=\"padding-left: 1em; padding-right: 1em; text-align: center; vertical-align: top\">0</td>\n",
       "        <td style=\"padding-left: 1em; padding-right: 1em; text-align: center; vertical-align: top\">{'er4nbwcmcd4nm8_p1grdow'<br>: 1L} ...</td>\n",
       "        <td style=\"padding-left: 1em; padding-right: 1em; text-align: center; vertical-align: top\">2</td>\n",
       "    </tr>\n",
       "    <tr>\n",
       "        <td style=\"padding-left: 1em; padding-right: 1em; text-align: center; vertical-align: top\">{'zde82pid6wquvjylyhojna'<br>: 1L} ...</td>\n",
       "        <td style=\"padding-left: 1em; padding-right: 1em; text-align: center; vertical-align: top\">0</td>\n",
       "        <td style=\"padding-left: 1em; padding-right: 1em; text-align: center; vertical-align: top\">{'2012-04-18': 1L}</td>\n",
       "        <td style=\"padding-left: 1em; padding-right: 1em; text-align: center; vertical-align: top\">1</td>\n",
       "        <td style=\"padding-left: 1em; padding-right: 1em; text-align: center; vertical-align: top\">{'kuzwbvzvhwuc8twug5ayya'<br>: 1L} ...</td>\n",
       "        <td style=\"padding-left: 1em; padding-right: 1em; text-align: center; vertical-align: top\">5</td>\n",
       "    </tr>\n",
       "    <tr>\n",
       "        <td style=\"padding-left: 1em; padding-right: 1em; text-align: center; vertical-align: top\">{'eawh1omg6t6p3nrazow_aa'<br>: 1L} ...</td>\n",
       "        <td style=\"padding-left: 1em; padding-right: 1em; text-align: center; vertical-align: top\">0</td>\n",
       "        <td style=\"padding-left: 1em; padding-right: 1em; text-align: center; vertical-align: top\">{'2011-02-25': 1L}</td>\n",
       "        <td style=\"padding-left: 1em; padding-right: 1em; text-align: center; vertical-align: top\">0</td>\n",
       "        <td style=\"padding-left: 1em; padding-right: 1em; text-align: center; vertical-align: top\">{'wcqt0iii88lecm19ixffya'<br>: 1L} ...</td>\n",
       "        <td style=\"padding-left: 1em; padding-right: 1em; text-align: center; vertical-align: top\">4</td>\n",
       "    </tr>\n",
       "    <tr>\n",
       "        <td style=\"padding-left: 1em; padding-right: 1em; text-align: center; vertical-align: top\">{'atvh8viqtj-<br>sqdj35tayvg': 1L} ...</td>\n",
       "        <td style=\"padding-left: 1em; padding-right: 1em; text-align: center; vertical-align: top\">1</td>\n",
       "        <td style=\"padding-left: 1em; padding-right: 1em; text-align: center; vertical-align: top\">{'2012-11-09': 1L}</td>\n",
       "        <td style=\"padding-left: 1em; padding-right: 1em; text-align: center; vertical-align: top\">2</td>\n",
       "        <td style=\"padding-left: 1em; padding-right: 1em; text-align: center; vertical-align: top\">{'lwutqznthmm3vpwzifblpw'<br>: 1L} ...</td>\n",
       "        <td style=\"padding-left: 1em; padding-right: 1em; text-align: center; vertical-align: top\">2</td>\n",
       "    </tr>\n",
       "    <tr>\n",
       "        <td style=\"padding-left: 1em; padding-right: 1em; text-align: center; vertical-align: top\">{'3mx4renubprnjhuw1n2uka'<br>: 1L} ...</td>\n",
       "        <td style=\"padding-left: 1em; padding-right: 1em; text-align: center; vertical-align: top\">0</td>\n",
       "        <td style=\"padding-left: 1em; padding-right: 1em; text-align: center; vertical-align: top\">{'2015-09-30': 1L}</td>\n",
       "        <td style=\"padding-left: 1em; padding-right: 1em; text-align: center; vertical-align: top\">1</td>\n",
       "        <td style=\"padding-left: 1em; padding-right: 1em; text-align: center; vertical-align: top\">{'mtrzrlqt_lk2vlk9xanthw'<br>: 1L} ...</td>\n",
       "        <td style=\"padding-left: 1em; padding-right: 1em; text-align: center; vertical-align: top\">1</td>\n",
       "    </tr>\n",
       "    <tr>\n",
       "        <td style=\"padding-left: 1em; padding-right: 1em; text-align: center; vertical-align: top\">{'uanci4ogc1mhlgl_at4jhq'<br>: 1L} ...</td>\n",
       "        <td style=\"padding-left: 1em; padding-right: 1em; text-align: center; vertical-align: top\">0</td>\n",
       "        <td style=\"padding-left: 1em; padding-right: 1em; text-align: center; vertical-align: top\">{'2016-04-04': 1L}</td>\n",
       "        <td style=\"padding-left: 1em; padding-right: 1em; text-align: center; vertical-align: top\">1</td>\n",
       "        <td style=\"padding-left: 1em; padding-right: 1em; text-align: center; vertical-align: top\">{'am8vmrpyml9wgcpa4ji-<br>gg': 1L} ...</td>\n",
       "        <td style=\"padding-left: 1em; padding-right: 1em; text-align: center; vertical-align: top\">1</td>\n",
       "    </tr>\n",
       "    <tr>\n",
       "        <td style=\"padding-left: 1em; padding-right: 1em; text-align: center; vertical-align: top\">{'fapvqws-x-5k2cqkdnthxw'<br>: 1L} ...</td>\n",
       "        <td style=\"padding-left: 1em; padding-right: 1em; text-align: center; vertical-align: top\">0</td>\n",
       "        <td style=\"padding-left: 1em; padding-right: 1em; text-align: center; vertical-align: top\">{'2015-03-25': 1L}</td>\n",
       "        <td style=\"padding-left: 1em; padding-right: 1em; text-align: center; vertical-align: top\">2</td>\n",
       "        <td style=\"padding-left: 1em; padding-right: 1em; text-align: center; vertical-align: top\">{'qhueaxkhubpbdokwb0cyfw'<br>: 1L} ...</td>\n",
       "        <td style=\"padding-left: 1em; padding-right: 1em; text-align: center; vertical-align: top\">1</td>\n",
       "    </tr>\n",
       "</table>\n",
       "<table frame=\"box\" rules=\"cols\">\n",
       "    <tr>\n",
       "        <th style=\"padding-left: 1em; padding-right: 1em; text-align: center\">text</th>\n",
       "        <th style=\"padding-left: 1em; padding-right: 1em; text-align: center\">useful</th>\n",
       "        <th style=\"padding-left: 1em; padding-right: 1em; text-align: center\">user_id</th>\n",
       "        <th style=\"padding-left: 1em; padding-right: 1em; text-align: center\">word_count</th>\n",
       "    </tr>\n",
       "    <tr>\n",
       "        <td style=\"padding-left: 1em; padding-right: 1em; text-align: center; vertical-align: top\">{'and': 1L, 'say...': 1L,<br>'dont': 2L, 'family': ...</td>\n",
       "        <td style=\"padding-left: 1em; padding-right: 1em; text-align: center; vertical-align: top\">0</td>\n",
       "        <td style=\"padding-left: 1em; padding-right: 1em; text-align: center; vertical-align: top\">{'msqe1u7z_xuqjgoqhb0j5g'<br>: 1L} ...</td>\n",
       "        <td style=\"padding-left: 1em; padding-right: 1em; text-align: center; vertical-align: top\">{'and': 1L, 'say...': 1L,<br>'dont': 2L, 'family': ...</td>\n",
       "    </tr>\n",
       "    <tr>\n",
       "        <td style=\"padding-left: 1em; padding-right: 1em; text-align: center; vertical-align: top\">{'and': 3L, 'cheese': 1L,<br>'love': 2L, 'what': 1L, ...</td>\n",
       "        <td style=\"padding-left: 1em; padding-right: 1em; text-align: center; vertical-align: top\">0</td>\n",
       "        <td style=\"padding-left: 1em; padding-right: 1em; text-align: center; vertical-align: top\">{'msqe1u7z_xuqjgoqhb0j5g'<br>: 1L} ...</td>\n",
       "        <td style=\"padding-left: 1em; padding-right: 1em; text-align: center; vertical-align: top\">{'and': 3L, 'cheese': 1L,<br>'love': 2L, 'what': 1L, ...</td>\n",
       "    </tr>\n",
       "    <tr>\n",
       "        <td style=\"padding-left: 1em; padding-right: 1em; text-align: center; vertical-align: top\">{'and': 2L, 'all': 1L,<br>'grill.': 1L, 'me.': 1L, ...</td>\n",
       "        <td style=\"padding-left: 1em; padding-right: 1em; text-align: center; vertical-align: top\">3</td>\n",
       "        <td style=\"padding-left: 1em; padding-right: 1em; text-align: center; vertical-align: top\">{'msqe1u7z_xuqjgoqhb0j5g'<br>: 1L} ...</td>\n",
       "        <td style=\"padding-left: 1em; padding-right: 1em; text-align: center; vertical-align: top\">{'and': 2L, 'all': 1L,<br>'grill.': 1L, 'me.': 1L, ...</td>\n",
       "    </tr>\n",
       "    <tr>\n",
       "        <td style=\"padding-left: 1em; padding-right: 1em; text-align: center; vertical-align: top\">{'ever.': 1L, 'less': 1L,<br>'over': 1L, 'known': 1L, ...</td>\n",
       "        <td style=\"padding-left: 1em; padding-right: 1em; text-align: center; vertical-align: top\">2</td>\n",
       "        <td style=\"padding-left: 1em; padding-right: 1em; text-align: center; vertical-align: top\">{'msqe1u7z_xuqjgoqhb0j5g'<br>: 1L} ...</td>\n",
       "        <td style=\"padding-left: 1em; padding-right: 1em; text-align: center; vertical-align: top\">{'ever.': 1L, 'less': 1L,<br>'over': 1L, 'known': 1L, ...</td>\n",
       "    </tr>\n",
       "    <tr>\n",
       "        <td style=\"padding-left: 1em; padding-right: 1em; text-align: center; vertical-align: top\">{'all': 1L, 'anyway': 1L,<br>'hell': 1L, 'chicken': ...</td>\n",
       "        <td style=\"padding-left: 1em; padding-right: 1em; text-align: center; vertical-align: top\">0</td>\n",
       "        <td style=\"padding-left: 1em; padding-right: 1em; text-align: center; vertical-align: top\">{'msqe1u7z_xuqjgoqhb0j5g'<br>: 1L} ...</td>\n",
       "        <td style=\"padding-left: 1em; padding-right: 1em; text-align: center; vertical-align: top\">{'all': 1L, 'anyway': 1L,<br>'hell': 1L, 'chicken': ...</td>\n",
       "    </tr>\n",
       "    <tr>\n",
       "        <td style=\"padding-left: 1em; padding-right: 1em; text-align: center; vertical-align: top\">{'and': 2L, 'because':<br>1L, 'sooo': 1L, 'it': ...</td>\n",
       "        <td style=\"padding-left: 1em; padding-right: 1em; text-align: center; vertical-align: top\">0</td>\n",
       "        <td style=\"padding-left: 1em; padding-right: 1em; text-align: center; vertical-align: top\">{'msqe1u7z_xuqjgoqhb0j5g'<br>: 1L} ...</td>\n",
       "        <td style=\"padding-left: 1em; padding-right: 1em; text-align: center; vertical-align: top\">{'and': 2L, 'because':<br>1L, 'sooo': 1L, 'it': ...</td>\n",
       "    </tr>\n",
       "    <tr>\n",
       "        <td style=\"padding-left: 1em; padding-right: 1em; text-align: center; vertical-align: top\">{'area.': 1L, 'forget':<br>1L, 'just': 2L, 'ps-': ...</td>\n",
       "        <td style=\"padding-left: 1em; padding-right: 1em; text-align: center; vertical-align: top\">1</td>\n",
       "        <td style=\"padding-left: 1em; padding-right: 1em; text-align: center; vertical-align: top\">{'msqe1u7z_xuqjgoqhb0j5g'<br>: 1L} ...</td>\n",
       "        <td style=\"padding-left: 1em; padding-right: 1em; text-align: center; vertical-align: top\">{'area.': 1L, 'forget':<br>1L, 'just': 2L, 'ps-': ...</td>\n",
       "    </tr>\n",
       "    <tr>\n",
       "        <td style=\"padding-left: 1em; padding-right: 1em; text-align: center; vertical-align: top\">{'would.': 1L, \"don't\":<br>1L, 'over': 1L, ...</td>\n",
       "        <td style=\"padding-left: 1em; padding-right: 1em; text-align: center; vertical-align: top\">4</td>\n",
       "        <td style=\"padding-left: 1em; padding-right: 1em; text-align: center; vertical-align: top\">{'eaavwm32i2h7snner--<br>kgw': 1L} ...</td>\n",
       "        <td style=\"padding-left: 1em; padding-right: 1em; text-align: center; vertical-align: top\">{'would.': 1L, \"don't\":<br>1L, 'over': 1L, ...</td>\n",
       "    </tr>\n",
       "    <tr>\n",
       "        <td style=\"padding-left: 1em; padding-right: 1em; text-align: center; vertical-align: top\">{'all': 2L, \"don't\": 1L,<br>'better.': 1L, 'years': ...</td>\n",
       "        <td style=\"padding-left: 1em; padding-right: 1em; text-align: center; vertical-align: top\">0</td>\n",
       "        <td style=\"padding-left: 1em; padding-right: 1em; text-align: center; vertical-align: top\">{'ndeeybva8wu1n_vzfvoheq'<br>: 1L} ...</td>\n",
       "        <td style=\"padding-left: 1em; padding-right: 1em; text-align: center; vertical-align: top\">{'all': 2L, \"don't\": 1L,<br>'better.': 1L, 'years': ...</td>\n",
       "    </tr>\n",
       "    <tr>\n",
       "        <td style=\"padding-left: 1em; padding-right: 1em; text-align: center; vertical-align: top\">{'all': 2L, 'shot': 1L,<br>'stock.': 1L, 'people': ...</td>\n",
       "        <td style=\"padding-left: 1em; padding-right: 1em; text-align: center; vertical-align: top\">2</td>\n",
       "        <td style=\"padding-left: 1em; padding-right: 1em; text-align: center; vertical-align: top\">{'0aij432mvowwghnpurtp-q'<br>: 1L} ...</td>\n",
       "        <td style=\"padding-left: 1em; padding-right: 1em; text-align: center; vertical-align: top\">{'all': 2L, 'shot': 1L,<br>'stock.': 1L, 'people': ...</td>\n",
       "    </tr>\n",
       "</table>\n",
       "<table frame=\"box\" rules=\"cols\">\n",
       "    <tr>\n",
       "        <th style=\"padding-left: 1em; padding-right: 1em; text-align: center\">trim_stop_WC</th>\n",
       "        <th style=\"padding-left: 1em; padding-right: 1em; text-align: center\">adv_trim</th>\n",
       "        <th style=\"padding-left: 1em; padding-right: 1em; text-align: center\">sentiment</th>\n",
       "    </tr>\n",
       "    <tr>\n",
       "        <td style=\"padding-left: 1em; padding-right: 1em; text-align: center; vertical-align: top\">{'say...': 1L, 'dont':<br>2L, 'family': 1L, ...</td>\n",
       "        <td style=\"padding-left: 1em; padding-right: 1em; text-align: center; vertical-align: top\">{'say...': 1L, 'dont':<br>2L, 'family': 1L, ...</td>\n",
       "        <td style=\"padding-left: 1em; padding-right: 1em; text-align: center; vertical-align: top\">0</td>\n",
       "    </tr>\n",
       "    <tr>\n",
       "        <td style=\"padding-left: 1em; padding-right: 1em; text-align: center; vertical-align: top\">{'cheese': 1L, 'love':<br>2L, 'huge!': 1L, 'car ...</td>\n",
       "        <td style=\"padding-left: 1em; padding-right: 1em; text-align: center; vertical-align: top\">{'cheese': 1L, 'love':<br>2L, 'huge!': 1L, 'car ...</td>\n",
       "        <td style=\"padding-left: 1em; padding-right: 1em; text-align: center; vertical-align: top\">1</td>\n",
       "    </tr>\n",
       "    <tr>\n",
       "        <td style=\"padding-left: 1em; padding-right: 1em; text-align: center; vertical-align: top\">{'dry': 1L, 'trust': 1L,<br>'grill.': 1L, 'bread.': ...</td>\n",
       "        <td style=\"padding-left: 1em; padding-right: 1em; text-align: center; vertical-align: top\">{'dry': 1L, 'trust': 1L,<br>'grill.': 1L, 'bread.': ...</td>\n",
       "        <td style=\"padding-left: 1em; padding-right: 1em; text-align: center; vertical-align: top\">0</td>\n",
       "    </tr>\n",
       "    <tr>\n",
       "        <td style=\"padding-left: 1em; padding-right: 1em; text-align: center; vertical-align: top\">{'pork': 1L, 'ew?\"': 1L,<br>'tasted': 1L, 'problem': ...</td>\n",
       "        <td style=\"padding-left: 1em; padding-right: 1em; text-align: center; vertical-align: top\">{'pork': 1L, 'ew?\"': 1L,<br>'tasted': 1L, 'problem': ...</td>\n",
       "        <td style=\"padding-left: 1em; padding-right: 1em; text-align: center; vertical-align: top\">0</td>\n",
       "    </tr>\n",
       "    <tr>\n",
       "        <td style=\"padding-left: 1em; padding-right: 1em; text-align: center; vertical-align: top\">{'fantastic': 1L,<br>'half?': 1L, 'dont': 1L, ...</td>\n",
       "        <td style=\"padding-left: 1em; padding-right: 1em; text-align: center; vertical-align: top\">{'fantastic': 1L,<br>'half?': 1L, 'dont': 1L, ...</td>\n",
       "        <td style=\"padding-left: 1em; padding-right: 1em; text-align: center; vertical-align: top\">1</td>\n",
       "    </tr>\n",
       "    <tr>\n",
       "        <td style=\"padding-left: 1em; padding-right: 1em; text-align: center; vertical-align: top\">{'sooo': 1L, 'isnt': 1L,<br>'time=': 1L, ...</td>\n",
       "        <td style=\"padding-left: 1em; padding-right: 1em; text-align: center; vertical-align: top\">{'sooo': 1L, 'isnt': 1L,<br>'time=': 1L, ...</td>\n",
       "        <td style=\"padding-left: 1em; padding-right: 1em; text-align: center; vertical-align: top\">1</td>\n",
       "    </tr>\n",
       "    <tr>\n",
       "        <td style=\"padding-left: 1em; padding-right: 1em; text-align: center; vertical-align: top\">{'area.': 1L, 'priced.':<br>1L, 'ordered': 1L, ...</td>\n",
       "        <td style=\"padding-left: 1em; padding-right: 1em; text-align: center; vertical-align: top\">{'area.': 1L, 'priced.':<br>1L, 'ordered': 1L, ...</td>\n",
       "        <td style=\"padding-left: 1em; padding-right: 1em; text-align: center; vertical-align: top\">0</td>\n",
       "    </tr>\n",
       "    <tr>\n",
       "        <td style=\"padding-left: 1em; padding-right: 1em; text-align: center; vertical-align: top\">{'would.': 1L, 'looked':<br>1L, 'lashes': 1L, ...</td>\n",
       "        <td style=\"padding-left: 1em; padding-right: 1em; text-align: center; vertical-align: top\">{'would.': 1L, 'looked':<br>1L, 'lashes': 1L, ...</td>\n",
       "        <td style=\"padding-left: 1em; padding-right: 1em; text-align: center; vertical-align: top\">0</td>\n",
       "    </tr>\n",
       "    <tr>\n",
       "        <td style=\"padding-left: 1em; padding-right: 1em; text-align: center; vertical-align: top\">{\"don't\": 1L, 'feel': 1L,<br>'me.': 1L, 'money.': 1L, ...</td>\n",
       "        <td style=\"padding-left: 1em; padding-right: 1em; text-align: center; vertical-align: top\">{'feel': 1L, 'me.': 1L,<br>'money.': 1L, ...</td>\n",
       "        <td style=\"padding-left: 1em; padding-right: 1em; text-align: center; vertical-align: top\">0</td>\n",
       "    </tr>\n",
       "    <tr>\n",
       "        <td style=\"padding-left: 1em; padding-right: 1em; text-align: center; vertical-align: top\">{'shot': 1L, 'stock.':<br>1L, 'people': 1L, ...</td>\n",
       "        <td style=\"padding-left: 1em; padding-right: 1em; text-align: center; vertical-align: top\">{'shot': 1L, 'stock.':<br>1L, 'people': 1L, 'put': ...</td>\n",
       "        <td style=\"padding-left: 1em; padding-right: 1em; text-align: center; vertical-align: top\">0</td>\n",
       "    </tr>\n",
       "</table>\n",
       "[888876 rows x 13 columns]<br/>Note: Only the head of the SFrame is printed.<br/>You can use print_rows(num_rows=m, num_columns=n) to print more rows and columns.\n",
       "</div>"
      ],
      "text/plain": [
       "Columns:\n",
       "\tbusiness_id\tdict\n",
       "\tcool\tint\n",
       "\tdate\tdict\n",
       "\tfunny\tint\n",
       "\treview_id\tdict\n",
       "\tstars\tint\n",
       "\ttext\tdict\n",
       "\tuseful\tint\n",
       "\tuser_id\tdict\n",
       "\tword_count\tdict\n",
       "\ttrim_stop_WC\tdict\n",
       "\tadv_trim\tdict\n",
       "\tsentiment\tint\n",
       "\n",
       "Rows: 888876\n",
       "\n",
       "Data:\n",
       "+--------------------------------+------+--------------------+-------+\n",
       "|          business_id           | cool |        date        | funny |\n",
       "+--------------------------------+------+--------------------+-------+\n",
       "| {'icqpiavjjpzj5_3gpd5ebg': 1L} |  0   | {'2011-02-25': 1L} |   0   |\n",
       "| {'pomgbqfbxcqpv14c3xh-zq': 1L} |  0   | {'2012-11-13': 1L} |   0   |\n",
       "| {'jtqarsp6p-lbkyjbo1qngg': 1L} |  1   | {'2014-10-23': 1L} |   1   |\n",
       "| {'elqbbhbfelmnsrjfqw3now': 1L} |  0   | {'2011-02-25': 1L} |   0   |\n",
       "| {'zde82pid6wquvjylyhojna': 1L} |  0   | {'2012-04-18': 1L} |   1   |\n",
       "| {'eawh1omg6t6p3nrazow_aa': 1L} |  0   | {'2011-02-25': 1L} |   0   |\n",
       "| {'atvh8viqtj-sqdj35tayvg': 1L} |  1   | {'2012-11-09': 1L} |   2   |\n",
       "| {'3mx4renubprnjhuw1n2uka': 1L} |  0   | {'2015-09-30': 1L} |   1   |\n",
       "| {'uanci4ogc1mhlgl_at4jhq': 1L} |  0   | {'2016-04-04': 1L} |   1   |\n",
       "| {'fapvqws-x-5k2cqkdnthxw': 1L} |  0   | {'2015-03-25': 1L} |   2   |\n",
       "+--------------------------------+------+--------------------+-------+\n",
       "+--------------------------------+-------+-------------------------------+--------+\n",
       "|           review_id            | stars |              text             | useful |\n",
       "+--------------------------------+-------+-------------------------------+--------+\n",
       "| {'x7mdiidb3jeipgphomdzyw': 1L} |   2   | {'and': 1L, 'say...': 1L, ... |   0    |\n",
       "| {'ddl8zu1vwpdkgihjrwqbpw': 1L} |   5   | {'and': 3L, 'cheese': 1L, ... |   0    |\n",
       "| {'lzp4ux5zk3e-c5zgseo3ka': 1L} |   1   | {'and': 2L, 'all': 1L, 'gr... |   3    |\n",
       "| {'er4nbwcmcd4nm8_p1grdow': 1L} |   2   | {'ever.': 1L, 'less': 1L, ... |   2    |\n",
       "| {'kuzwbvzvhwuc8twug5ayya': 1L} |   5   | {'all': 1L, 'anyway': 1L, ... |   0    |\n",
       "| {'wcqt0iii88lecm19ixffya': 1L} |   4   | {'and': 2L, 'because': 1L,... |   0    |\n",
       "| {'lwutqznthmm3vpwzifblpw': 1L} |   2   | {'area.': 1L, 'forget': 1L... |   1    |\n",
       "| {'mtrzrlqt_lk2vlk9xanthw': 1L} |   1   | {'would.': 1L, \"don't\": 1L... |   4    |\n",
       "| {'am8vmrpyml9wgcpa4ji-gg': 1L} |   1   | {'all': 2L, \"don't\": 1L, '... |   0    |\n",
       "| {'qhueaxkhubpbdokwb0cyfw': 1L} |   1   | {'all': 2L, 'shot': 1L, 's... |   2    |\n",
       "+--------------------------------+-------+-------------------------------+--------+\n",
       "+--------------------------------+-------------------------------+\n",
       "|            user_id             |           word_count          |\n",
       "+--------------------------------+-------------------------------+\n",
       "| {'msqe1u7z_xuqjgoqhb0j5g': 1L} | {'and': 1L, 'say...': 1L, ... |\n",
       "| {'msqe1u7z_xuqjgoqhb0j5g': 1L} | {'and': 3L, 'cheese': 1L, ... |\n",
       "| {'msqe1u7z_xuqjgoqhb0j5g': 1L} | {'and': 2L, 'all': 1L, 'gr... |\n",
       "| {'msqe1u7z_xuqjgoqhb0j5g': 1L} | {'ever.': 1L, 'less': 1L, ... |\n",
       "| {'msqe1u7z_xuqjgoqhb0j5g': 1L} | {'all': 1L, 'anyway': 1L, ... |\n",
       "| {'msqe1u7z_xuqjgoqhb0j5g': 1L} | {'and': 2L, 'because': 1L,... |\n",
       "| {'msqe1u7z_xuqjgoqhb0j5g': 1L} | {'area.': 1L, 'forget': 1L... |\n",
       "| {'eaavwm32i2h7snner--kgw': 1L} | {'would.': 1L, \"don't\": 1L... |\n",
       "| {'ndeeybva8wu1n_vzfvoheq': 1L} | {'all': 2L, \"don't\": 1L, '... |\n",
       "| {'0aij432mvowwghnpurtp-q': 1L} | {'all': 2L, 'shot': 1L, 's... |\n",
       "+--------------------------------+-------------------------------+\n",
       "+-------------------------------+-------------------------------+-----------+\n",
       "|          trim_stop_WC         |            adv_trim           | sentiment |\n",
       "+-------------------------------+-------------------------------+-----------+\n",
       "| {'say...': 1L, 'dont': 2L,... | {'say...': 1L, 'dont': 2L,... |     0     |\n",
       "| {'cheese': 1L, 'love': 2L,... | {'cheese': 1L, 'love': 2L,... |     1     |\n",
       "| {'dry': 1L, 'trust': 1L, '... | {'dry': 1L, 'trust': 1L, '... |     0     |\n",
       "| {'pork': 1L, 'ew?\"': 1L, '... | {'pork': 1L, 'ew?\"': 1L, '... |     0     |\n",
       "| {'fantastic': 1L, 'half?':... | {'fantastic': 1L, 'half?':... |     1     |\n",
       "| {'sooo': 1L, 'isnt': 1L, '... | {'sooo': 1L, 'isnt': 1L, '... |     1     |\n",
       "| {'area.': 1L, 'priced.': 1... | {'area.': 1L, 'priced.': 1... |     0     |\n",
       "| {'would.': 1L, 'looked': 1... | {'would.': 1L, 'looked': 1... |     0     |\n",
       "| {\"don't\": 1L, 'feel': 1L, ... | {'feel': 1L, 'me.': 1L, 'm... |     0     |\n",
       "| {'shot': 1L, 'stock.': 1L,... | {'shot': 1L, 'stock.': 1L,... |     0     |\n",
       "+-------------------------------+-------------------------------+-----------+\n",
       "[888876 rows x 13 columns]\n",
       "Note: Only the head of the SFrame is printed.\n",
       "You can use print_rows(num_rows=m, num_columns=n) to print more rows and columns."
      ]
     },
     "execution_count": 16,
     "metadata": {},
     "output_type": "execute_result"
    }
   ],
   "source": [
    "f(data)"
   ]
  },
  {
   "cell_type": "code",
   "execution_count": null,
   "metadata": {
    "collapsed": true
   },
   "outputs": [],
   "source": [
    "data"
   ]
  },
  {
   "cell_type": "code",
   "execution_count": 18,
   "metadata": {
    "collapsed": false
   },
   "outputs": [
    {
     "data": {
      "text/html": [
       "<pre>Tokenizing...</pre>"
      ],
      "text/plain": [
       "Tokenizing..."
      ]
     },
     "metadata": {},
     "output_type": "display_data"
    },
    {
     "data": {
      "text/html": [
       "<pre>TF-IDF transform...</pre>"
      ],
      "text/plain": [
       "TF-IDF transform..."
      ]
     },
     "metadata": {},
     "output_type": "display_data"
    },
    {
     "data": {
      "text/html": [
       "<pre>Creating inverted index...</pre>"
      ],
      "text/plain": [
       "Creating inverted index..."
      ]
     },
     "metadata": {},
     "output_type": "display_data"
    },
    {
     "data": {
      "text/html": [
       "<pre>+--------------------------+-------------------+</pre>"
      ],
      "text/plain": [
       "+--------------------------+-------------------+"
      ]
     },
     "metadata": {},
     "output_type": "display_data"
    },
    {
     "data": {
      "text/html": [
       "<pre>| Number of rows processed | Elapsed (seconds) |</pre>"
      ],
      "text/plain": [
       "| Number of rows processed | Elapsed (seconds) |"
      ]
     },
     "metadata": {},
     "output_type": "display_data"
    },
    {
     "data": {
      "text/html": [
       "<pre>+--------------------------+-------------------+</pre>"
      ],
      "text/plain": [
       "+--------------------------+-------------------+"
      ]
     },
     "metadata": {},
     "output_type": "display_data"
    },
    {
     "data": {
      "text/html": [
       "<pre>| 0                        | 6m 47s            |</pre>"
      ],
      "text/plain": [
       "| 0                        | 6m 47s            |"
      ]
     },
     "metadata": {},
     "output_type": "display_data"
    },
    {
     "data": {
      "text/html": [
       "<pre>| 100000                   | 7m 2s             |</pre>"
      ],
      "text/plain": [
       "| 100000                   | 7m 2s             |"
      ]
     },
     "metadata": {},
     "output_type": "display_data"
    },
    {
     "data": {
      "text/html": [
       "<pre>| 200000                   | 7m 17s            |</pre>"
      ],
      "text/plain": [
       "| 200000                   | 7m 17s            |"
      ]
     },
     "metadata": {},
     "output_type": "display_data"
    },
    {
     "data": {
      "text/html": [
       "<pre>| 300000                   | 7m 33s            |</pre>"
      ],
      "text/plain": [
       "| 300000                   | 7m 33s            |"
      ]
     },
     "metadata": {},
     "output_type": "display_data"
    },
    {
     "data": {
      "text/html": [
       "<pre>| 400000                   | 7m 50s            |</pre>"
      ],
      "text/plain": [
       "| 400000                   | 7m 50s            |"
      ]
     },
     "metadata": {},
     "output_type": "display_data"
    },
    {
     "data": {
      "text/html": [
       "<pre>| 500000                   | 8m 6s             |</pre>"
      ],
      "text/plain": [
       "| 500000                   | 8m 6s             |"
      ]
     },
     "metadata": {},
     "output_type": "display_data"
    },
    {
     "data": {
      "text/html": [
       "<pre>| 600000                   | 8m 23s            |</pre>"
      ],
      "text/plain": [
       "| 600000                   | 8m 23s            |"
      ]
     },
     "metadata": {},
     "output_type": "display_data"
    },
    {
     "data": {
      "text/html": [
       "<pre>| 700000                   | 8m 40s            |</pre>"
      ],
      "text/plain": [
       "| 700000                   | 8m 40s            |"
      ]
     },
     "metadata": {},
     "output_type": "display_data"
    },
    {
     "data": {
      "text/html": [
       "<pre>| 800000                   | 8m 58s            |</pre>"
      ],
      "text/plain": [
       "| 800000                   | 8m 58s            |"
      ]
     },
     "metadata": {},
     "output_type": "display_data"
    },
    {
     "data": {
      "text/html": [
       "<pre>Creating query expansion model...</pre>"
      ],
      "text/plain": [
       "Creating query expansion model..."
      ]
     },
     "metadata": {},
     "output_type": "display_data"
    },
    {
     "data": {
      "text/html": [
       "<pre>Saving data for querying...</pre>"
      ],
      "text/plain": [
       "Saving data for querying..."
      ]
     },
     "metadata": {},
     "output_type": "display_data"
    },
    {
     "data": {
      "text/html": [
       "<pre>+--------------------------+-------------------+</pre>"
      ],
      "text/plain": [
       "+--------------------------+-------------------+"
      ]
     },
     "metadata": {},
     "output_type": "display_data"
    }
   ],
   "source": [
    "m1 = gl.product_sentiment.create(data, features=['text'])"
   ]
  },
  {
   "cell_type": "code",
   "execution_count": 19,
   "metadata": {
    "collapsed": false
   },
   "outputs": [
    {
     "data": {
      "text/html": [
       "<div style=\"max-height:1000px;max-width:1500px;overflow:auto;\"><table frame=\"box\" rules=\"cols\">\n",
       "    <tr>\n",
       "        <th style=\"padding-left: 1em; padding-right: 1em; text-align: center\">keyword</th>\n",
       "        <th style=\"padding-left: 1em; padding-right: 1em; text-align: center\">sd_sentiment</th>\n",
       "        <th style=\"padding-left: 1em; padding-right: 1em; text-align: center\">mean_sentiment</th>\n",
       "        <th style=\"padding-left: 1em; padding-right: 1em; text-align: center\">review_count</th>\n",
       "    </tr>\n",
       "    <tr>\n",
       "        <td style=\"padding-left: 1em; padding-right: 1em; text-align: center; vertical-align: top\">trip</td>\n",
       "        <td style=\"padding-left: 1em; padding-right: 1em; text-align: center; vertical-align: top\">0.0296090503947</td>\n",
       "        <td style=\"padding-left: 1em; padding-right: 1em; text-align: center; vertical-align: top\">0.969782673749</td>\n",
       "        <td style=\"padding-left: 1em; padding-right: 1em; text-align: center; vertical-align: top\">10</td>\n",
       "    </tr>\n",
       "    <tr>\n",
       "        <td style=\"padding-left: 1em; padding-right: 1em; text-align: center; vertical-align: top\">family</td>\n",
       "        <td style=\"padding-left: 1em; padding-right: 1em; text-align: center; vertical-align: top\">0.177211217818</td>\n",
       "        <td style=\"padding-left: 1em; padding-right: 1em; text-align: center; vertical-align: top\">0.933271538861</td>\n",
       "        <td style=\"padding-left: 1em; padding-right: 1em; text-align: center; vertical-align: top\">10</td>\n",
       "    </tr>\n",
       "    <tr>\n",
       "        <td style=\"padding-left: 1em; padding-right: 1em; text-align: center; vertical-align: top\">amazing</td>\n",
       "        <td style=\"padding-left: 1em; padding-right: 1em; text-align: center; vertical-align: top\">0.229600546569</td>\n",
       "        <td style=\"padding-left: 1em; padding-right: 1em; text-align: center; vertical-align: top\">0.914851832508</td>\n",
       "        <td style=\"padding-left: 1em; padding-right: 1em; text-align: center; vertical-align: top\">10</td>\n",
       "    </tr>\n",
       "    <tr>\n",
       "        <td style=\"padding-left: 1em; padding-right: 1em; text-align: center; vertical-align: top\">good</td>\n",
       "        <td style=\"padding-left: 1em; padding-right: 1em; text-align: center; vertical-align: top\">0.361359738913</td>\n",
       "        <td style=\"padding-left: 1em; padding-right: 1em; text-align: center; vertical-align: top\">0.632864854647</td>\n",
       "        <td style=\"padding-left: 1em; padding-right: 1em; text-align: center; vertical-align: top\">10</td>\n",
       "    </tr>\n",
       "    <tr>\n",
       "        <td style=\"padding-left: 1em; padding-right: 1em; text-align: center; vertical-align: top\">great</td>\n",
       "        <td style=\"padding-left: 1em; padding-right: 1em; text-align: center; vertical-align: top\">0.431713546384</td>\n",
       "        <td style=\"padding-left: 1em; padding-right: 1em; text-align: center; vertical-align: top\">0.611643491619</td>\n",
       "        <td style=\"padding-left: 1em; padding-right: 1em; text-align: center; vertical-align: top\">10</td>\n",
       "    </tr>\n",
       "    <tr>\n",
       "        <td style=\"padding-left: 1em; padding-right: 1em; text-align: center; vertical-align: top\">awful</td>\n",
       "        <td style=\"padding-left: 1em; padding-right: 1em; text-align: center; vertical-align: top\">0.298053423301</td>\n",
       "        <td style=\"padding-left: 1em; padding-right: 1em; text-align: center; vertical-align: top\">0.101899060059</td>\n",
       "        <td style=\"padding-left: 1em; padding-right: 1em; text-align: center; vertical-align: top\">10</td>\n",
       "    </tr>\n",
       "    <tr>\n",
       "        <td style=\"padding-left: 1em; padding-right: 1em; text-align: center; vertical-align: top\">ok</td>\n",
       "        <td style=\"padding-left: 1em; padding-right: 1em; text-align: center; vertical-align: top\">0.0377421122139</td>\n",
       "        <td style=\"padding-left: 1em; padding-right: 1em; text-align: center; vertical-align: top\">0.0365146996828</td>\n",
       "        <td style=\"padding-left: 1em; padding-right: 1em; text-align: center; vertical-align: top\">10</td>\n",
       "    </tr>\n",
       "    <tr>\n",
       "        <td style=\"padding-left: 1em; padding-right: 1em; text-align: center; vertical-align: top\">bad</td>\n",
       "        <td style=\"padding-left: 1em; padding-right: 1em; text-align: center; vertical-align: top\">0.00708635176375</td>\n",
       "        <td style=\"padding-left: 1em; padding-right: 1em; text-align: center; vertical-align: top\">0.0051201431586</td>\n",
       "        <td style=\"padding-left: 1em; padding-right: 1em; text-align: center; vertical-align: top\">10</td>\n",
       "    </tr>\n",
       "</table>\n",
       "[8 rows x 4 columns]<br/>\n",
       "</div>"
      ],
      "text/plain": [
       "Columns:\n",
       "\tkeyword\tstr\n",
       "\tsd_sentiment\tfloat\n",
       "\tmean_sentiment\tfloat\n",
       "\treview_count\tint\n",
       "\n",
       "Rows: 8\n",
       "\n",
       "Data:\n",
       "+---------+------------------+-----------------+--------------+\n",
       "| keyword |   sd_sentiment   |  mean_sentiment | review_count |\n",
       "+---------+------------------+-----------------+--------------+\n",
       "|   trip  | 0.0296090503947  |  0.969782673749 |      10      |\n",
       "|  family |  0.177211217818  |  0.933271538861 |      10      |\n",
       "| amazing |  0.229600546569  |  0.914851832508 |      10      |\n",
       "|   good  |  0.361359738913  |  0.632864854647 |      10      |\n",
       "|  great  |  0.431713546384  |  0.611643491619 |      10      |\n",
       "|  awful  |  0.298053423301  |  0.101899060059 |      10      |\n",
       "|    ok   | 0.0377421122139  | 0.0365146996828 |      10      |\n",
       "|   bad   | 0.00708635176375 | 0.0051201431586 |      10      |\n",
       "+---------+------------------+-----------------+--------------+\n",
       "[8 rows x 4 columns]"
      ]
     },
     "execution_count": 19,
     "metadata": {},
     "output_type": "execute_result"
    }
   ],
   "source": [
    "m1.sentiment_summary(['good', 'great', 'bad', 'awful', 'amazing', 'ok', 'family', 'trip'])"
   ]
  }
 ],
 "metadata": {
  "kernelspec": {
   "display_name": "Python 2",
   "language": "python",
   "name": "python2"
  },
  "language_info": {
   "codemirror_mode": {
    "name": "ipython",
    "version": 2
   },
   "file_extension": ".py",
   "mimetype": "text/x-python",
   "name": "python",
   "nbconvert_exporter": "python",
   "pygments_lexer": "ipython2",
   "version": "2.7.13"
  }
 },
 "nbformat": 4,
 "nbformat_minor": 0
}
