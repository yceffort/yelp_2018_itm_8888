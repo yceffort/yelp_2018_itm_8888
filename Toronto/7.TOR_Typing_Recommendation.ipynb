{
 "cells": [
  {
   "cell_type": "code",
   "execution_count": 1,
   "metadata": {
    "collapsed": true
   },
   "outputs": [],
   "source": [
    "from sklearn.feature_extraction.text import TfidfVectorizer\n",
    "from sklearn.metrics.pairwise import cosine_similarity\n",
    "import pandas as pd\n",
    "import numpy as np\n",
    "\n",
    "data = pd.read_csv('./Toronto/reviews.csv')\n",
    "res = pd.read_csv('./Toronto/restaurant.csv')"
   ]
  },
  {
   "cell_type": "code",
   "execution_count": 2,
   "metadata": {
    "collapsed": false
   },
   "outputs": [
    {
     "name": "stdout",
     "output_type": "stream",
     "text": [
      "Please type your specified requirement: burger burger burger i need burger with cheese and family trip cheese burger burger good great\n",
      "Please input the sample size: 10000\n"
     ]
    },
    {
     "data": {
      "text/plain": [
       "'k6zmSLmYAquCpJGKNnTgSQ'"
      ]
     },
     "execution_count": 2,
     "metadata": {},
     "output_type": "execute_result"
    }
   ],
   "source": [
    "def recommend_restaurant():\n",
    "    input_data = raw_input('Please type your specified requirement: ')\n",
    "    sample = int(raw_input('Please input the sample size: '))\n",
    "    data_sample = data.sample(n = sample, random_state = 55)[['text']]\n",
    "    req_data = pd.concat([pd.DataFrame([input_data], columns = ['text']), data_sample], axis = 0)\n",
    "    ti_counter = TfidfVectorizer(max_df = 0.95, min_df = 10, stop_words = 'english')\n",
    "    ti_doc = ti_counter.fit_transform(req_data['text']).todense()\n",
    "    ti_doc_f = pd.DataFrame(ti_doc, columns = ti_counter.get_feature_names())\n",
    "    req_sim = pd.DataFrame(cosine_similarity(ti_doc_f), columns = np.arange(sample+1)).iloc[0,]\n",
    "    req_sim.iloc[0] = np.nan\n",
    "    sim_res_index = req_sim.idxmax() - 1\n",
    "    return data['business_id'].iloc[sim_res_index]\n",
    "    \n",
    "recommend_restaurant()"
   ]
  }
 ],
 "metadata": {
  "kernelspec": {
   "display_name": "Python 2",
   "language": "python",
   "name": "python2"
  },
  "language_info": {
   "codemirror_mode": {
    "name": "ipython",
    "version": 2
   },
   "file_extension": ".py",
   "mimetype": "text/x-python",
   "name": "python",
   "nbconvert_exporter": "python",
   "pygments_lexer": "ipython2",
   "version": "2.7.13"
  }
 },
 "nbformat": 4,
 "nbformat_minor": 0
}
